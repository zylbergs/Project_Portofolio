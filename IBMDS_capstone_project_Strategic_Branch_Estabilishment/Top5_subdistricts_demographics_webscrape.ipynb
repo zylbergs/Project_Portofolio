{
  "nbformat": 4,
  "nbformat_minor": 0,
  "metadata": {
    "colab": {
      "name": "Top5_subdistricts_demographics.ipynb",
      "provenance": [],
      "collapsed_sections": []
    },
    "kernelspec": {
      "name": "python3",
      "display_name": "Python 3"
    },
    "language_info": {
      "name": "python"
    }
  },
  "cells": [
    {
      "cell_type": "code",
      "metadata": {
        "id": "zSgM3sgMwKZ3"
      },
      "source": [
        "import pandas as pd\n",
        "import numpy as np \n",
        "from bs4 import BeautifulSoup\n",
        "import requests\n",
        "import json "
      ],
      "execution_count": 42,
      "outputs": []
    },
    {
      "cell_type": "code",
      "metadata": {
        "id": "QbtcCwBWxI0K"
      },
      "source": [
        "urls = ['https://kependudukan.jogjaprov.go.id/statistik/penduduk/golonganusia/15/produktif/3/71/34.ez',\n",
        "        'https://kependudukan.jogjaprov.go.id/statistik/penduduk/golonganusia/15/produktif/07/71/34.ez',\n",
        "        'https://kependudukan.jogjaprov.go.id/statistik/penduduk/golonganusia/15/produktif/8/04/34.ez',\n",
        "        'https://kependudukan.jogjaprov.go.id/statistik/penduduk/golonganusia/15/produktif/6/71/34.ez',\n",
        "        'https://kependudukan.jogjaprov.go.id/statistik/penduduk/golonganusia/15/produktif/01/71/34.ez']\n",
        "\n",
        "#urls[4] :tegalrejo\n",
        "#urls[3] :ngampilan\n",
        "#urls[2] :berbah\n",
        "#urls[1] :wirobrajan\n",
        "#urls[0] :gondokusuman"
      ],
      "execution_count": 43,
      "outputs": []
    },
    {
      "cell_type": "code",
      "metadata": {
        "id": "usIXvK8GyGuP"
      },
      "source": [
        "source = requests.get(urls[0]).text\n",
        "soup = BeautifulSoup(source,'lxml')"
      ],
      "execution_count": 44,
      "outputs": []
    },
    {
      "cell_type": "code",
      "metadata": {
        "id": "I801EpB8zDj4"
      },
      "source": [
        "df = pd.DataFrame()\n",
        "SD = ['Gondokusuman','Wirobrajan','Berbah','Ngampilan','Tegalrejo']\n",
        "for i,j in zip(urls,SD):\n",
        "    source = requests.get(i).text\n",
        "    soup = BeautifulSoup(source,'lxml')\n",
        "    row_name = soup.find_all('tr',class_='statistik')[0]\n",
        "    row_stat = soup.find_all('tr',class_='statistik')[3]\n",
        "    name = []\n",
        "    stat = []\n",
        "    n = row_name.find_all('th')\n",
        "    for i in n[1:-1]:\n",
        "        name.append(i.text)\n",
        "    v = row_stat.find_all('td',class_='statistik angka jumstat')\n",
        "\n",
        "    for i in v[:-3]:\n",
        "        stat.append(i.text)\n",
        "    \n",
        "    data = pd.DataFrame({'Sub_District':[j for i in range(len(name))],\n",
        "                         'Village':name,\n",
        "                         'Total_Population':stat})\n",
        "    df = df.append(data)\n"
      ],
      "execution_count": 45,
      "outputs": []
    },
    {
      "cell_type": "code",
      "metadata": {
        "id": "0yku1mkn7KTf"
      },
      "source": [
        "df = df.reset_index(drop=True)\n",
        "df['Village'] = df['Village'].apply(lambda x: x.title())\n",
        "df.to_csv('Productive_population_15to64_of_top5_subdistricts.csv',index=False,index_label=False)"
      ],
      "execution_count": 53,
      "outputs": []
    },
    {
      "cell_type": "code",
      "metadata": {
        "colab": {
          "base_uri": "https://localhost:8080/",
          "height": 601
        },
        "id": "goh-S0Tw__cQ",
        "outputId": "403e1626-1c26-4f6a-a6c7-638b29e2041e"
      },
      "source": [
        "df"
      ],
      "execution_count": 54,
      "outputs": [
        {
          "output_type": "execute_result",
          "data": {
            "text/html": [
              "<div>\n",
              "<style scoped>\n",
              "    .dataframe tbody tr th:only-of-type {\n",
              "        vertical-align: middle;\n",
              "    }\n",
              "\n",
              "    .dataframe tbody tr th {\n",
              "        vertical-align: top;\n",
              "    }\n",
              "\n",
              "    .dataframe thead th {\n",
              "        text-align: right;\n",
              "    }\n",
              "</style>\n",
              "<table border=\"1\" class=\"dataframe\">\n",
              "  <thead>\n",
              "    <tr style=\"text-align: right;\">\n",
              "      <th></th>\n",
              "      <th>Sub_District</th>\n",
              "      <th>Village</th>\n",
              "      <th>Total_Population</th>\n",
              "    </tr>\n",
              "  </thead>\n",
              "  <tbody>\n",
              "    <tr>\n",
              "      <th>0</th>\n",
              "      <td>Gondokusuman</td>\n",
              "      <td>Demangan</td>\n",
              "      <td>6.269</td>\n",
              "    </tr>\n",
              "    <tr>\n",
              "      <th>1</th>\n",
              "      <td>Gondokusuman</td>\n",
              "      <td>Kotabaru</td>\n",
              "      <td>2.088</td>\n",
              "    </tr>\n",
              "    <tr>\n",
              "      <th>2</th>\n",
              "      <td>Gondokusuman</td>\n",
              "      <td>Klitren</td>\n",
              "      <td>6.968</td>\n",
              "    </tr>\n",
              "    <tr>\n",
              "      <th>3</th>\n",
              "      <td>Gondokusuman</td>\n",
              "      <td>Baciro</td>\n",
              "      <td>8.927</td>\n",
              "    </tr>\n",
              "    <tr>\n",
              "      <th>4</th>\n",
              "      <td>Gondokusuman</td>\n",
              "      <td>Terban</td>\n",
              "      <td>6.647</td>\n",
              "    </tr>\n",
              "    <tr>\n",
              "      <th>5</th>\n",
              "      <td>Wirobrajan</td>\n",
              "      <td>Pakuncen</td>\n",
              "      <td>7.712</td>\n",
              "    </tr>\n",
              "    <tr>\n",
              "      <th>6</th>\n",
              "      <td>Wirobrajan</td>\n",
              "      <td>Wirobrajan</td>\n",
              "      <td>6.749</td>\n",
              "    </tr>\n",
              "    <tr>\n",
              "      <th>7</th>\n",
              "      <td>Wirobrajan</td>\n",
              "      <td>Patangpuluhan</td>\n",
              "      <td>5.393</td>\n",
              "    </tr>\n",
              "    <tr>\n",
              "      <th>8</th>\n",
              "      <td>Berbah</td>\n",
              "      <td>Sendangtirto</td>\n",
              "      <td>12.590</td>\n",
              "    </tr>\n",
              "    <tr>\n",
              "      <th>9</th>\n",
              "      <td>Berbah</td>\n",
              "      <td>Tegaltirto</td>\n",
              "      <td>8.833</td>\n",
              "    </tr>\n",
              "    <tr>\n",
              "      <th>10</th>\n",
              "      <td>Berbah</td>\n",
              "      <td>Kalitirto</td>\n",
              "      <td>9.692</td>\n",
              "    </tr>\n",
              "    <tr>\n",
              "      <th>11</th>\n",
              "      <td>Berbah</td>\n",
              "      <td>Jogotirto</td>\n",
              "      <td>7.800</td>\n",
              "    </tr>\n",
              "    <tr>\n",
              "      <th>12</th>\n",
              "      <td>Ngampilan</td>\n",
              "      <td>Ngampilan</td>\n",
              "      <td>7.367</td>\n",
              "    </tr>\n",
              "    <tr>\n",
              "      <th>13</th>\n",
              "      <td>Ngampilan</td>\n",
              "      <td>Notoprajan</td>\n",
              "      <td>5.798</td>\n",
              "    </tr>\n",
              "    <tr>\n",
              "      <th>14</th>\n",
              "      <td>Tegalrejo</td>\n",
              "      <td>Kricak</td>\n",
              "      <td>9.443</td>\n",
              "    </tr>\n",
              "    <tr>\n",
              "      <th>15</th>\n",
              "      <td>Tegalrejo</td>\n",
              "      <td>Karangawaru</td>\n",
              "      <td>6.883</td>\n",
              "    </tr>\n",
              "    <tr>\n",
              "      <th>16</th>\n",
              "      <td>Tegalrejo</td>\n",
              "      <td>Tegalrejo</td>\n",
              "      <td>6.540</td>\n",
              "    </tr>\n",
              "    <tr>\n",
              "      <th>17</th>\n",
              "      <td>Tegalrejo</td>\n",
              "      <td>Bener</td>\n",
              "      <td>3.529</td>\n",
              "    </tr>\n",
              "  </tbody>\n",
              "</table>\n",
              "</div>"
            ],
            "text/plain": [
              "    Sub_District        Village Total_Population\n",
              "0   Gondokusuman       Demangan            6.269\n",
              "1   Gondokusuman       Kotabaru            2.088\n",
              "2   Gondokusuman        Klitren            6.968\n",
              "3   Gondokusuman         Baciro            8.927\n",
              "4   Gondokusuman         Terban            6.647\n",
              "5     Wirobrajan       Pakuncen            7.712\n",
              "6     Wirobrajan     Wirobrajan            6.749\n",
              "7     Wirobrajan  Patangpuluhan            5.393\n",
              "8         Berbah   Sendangtirto           12.590\n",
              "9         Berbah     Tegaltirto            8.833\n",
              "10        Berbah      Kalitirto            9.692\n",
              "11        Berbah      Jogotirto            7.800\n",
              "12     Ngampilan      Ngampilan            7.367\n",
              "13     Ngampilan     Notoprajan            5.798\n",
              "14     Tegalrejo         Kricak            9.443\n",
              "15     Tegalrejo    Karangawaru            6.883\n",
              "16     Tegalrejo      Tegalrejo            6.540\n",
              "17     Tegalrejo          Bener            3.529"
            ]
          },
          "metadata": {
            "tags": []
          },
          "execution_count": 54
        }
      ]
    }
  ]
}