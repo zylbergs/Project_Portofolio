{
  "nbformat": 4,
  "nbformat_minor": 0,
  "metadata": {
    "colab": {
      "name": "Data Science Capstone IBM",
      "provenance": [],
      "collapsed_sections": []
    },
    "kernelspec": {
      "name": "python3",
      "display_name": "Python 3"
    },
    "language_info": {
      "name": "python"
    }
  },
  "cells": [
    {
      "cell_type": "markdown",
      "metadata": {
        "id": "aU7trwH2mgu4"
      },
      "source": [
        "#Data Science Capstone\n",
        "***\n",
        "\n",
        "```\n",
        "this notebook is used for data science capstone project. highly recommeded to use highpowered computational power\n",
        "```\n",
        "\n",
        "    author: kevin elfri\n",
        "github: [kevin's repo](https://github.com/zylbergs/zylpy)"
      ]
    },
    {
      "cell_type": "code",
      "metadata": {
        "id": "J4XrZahpmRjp"
      },
      "source": [
        "import pandas as pd\n",
        "import numpy as np"
      ],
      "execution_count": null,
      "outputs": []
    },
    {
      "cell_type": "code",
      "metadata": {
        "colab": {
          "base_uri": "https://localhost:8080/"
        },
        "id": "erTgeMiLojTh",
        "outputId": "cd6b8385-e813-49fb-c20d-b48b04778b1b"
      },
      "source": [
        "print('Hello Capstone Project Course!')"
      ],
      "execution_count": null,
      "outputs": [
        {
          "output_type": "stream",
          "text": [
            "Hello Capstone Project Course!\n"
          ],
          "name": "stdout"
        }
      ]
    }
  ]
}