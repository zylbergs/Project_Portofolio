{
  "nbformat": 4,
  "nbformat_minor": 5,
  "metadata": {
    "colab": {
      "name": "telcochurn_prediction_from_watson.ipynb",
      "provenance": [],
      "collapsed_sections": [
        "t4gb87UUyO2Q",
        "dLEvH7TcyTyG",
        "F2kaqfgdzFEC",
        "sMSYLKe5zYvt",
        "TyHlkGiTzb2w",
        "Gv4m8dJszfgG",
        "tY0MlMT4ziGa",
        "2DImj2b3zkAT",
        "-jqPV7kczomv",
        "PiD67p_m0QLm",
        "dNQGxJ9aJbWy",
        "gaNx79zQJgBz",
        "7BDcNTd5PdVe",
        "OyK87TKZ9GK7",
        "tG8UAHZF6Fmj",
        "1UzNhUeiGR5-",
        "rTAH1KQmxBrE",
        "qu8NQKkw1lOd"
      ]
    },
    "kernelspec": {
      "display_name": "Python 3.7",
      "language": "python",
      "name": "python3"
    },
    "language_info": {
      "codemirror_mode": {
        "name": "ipython",
        "version": 3
      },
      "file_extension": ".py",
      "mimetype": "text/x-python",
      "name": "python",
      "nbconvert_exporter": "python",
      "pygments_lexer": "ipython3",
      "version": "3.7.10"
    }
  },
  "cells": [
    {
      "cell_type": "code",
      "metadata": {
        "id": "fifth-heritage"
      },
      "source": [
        "# @hidden_cell\n",
        "# The project token is an authorization token that is used to access project resources like data sources, connections, and used by platform APIs.\n",
        "from project_lib import Project\n",
        "project = Project(project_id='f7324497-c88c-4a70-9cc8-c7131d1e3a43', project_access_token='p-62cd455dfa72dca94d48b0ec16ad7b3b68590005')\n",
        "pc = project.project_context\n"
      ],
      "id": "fifth-heritage",
      "execution_count": null,
      "outputs": []
    },
    {
      "cell_type": "code",
      "metadata": {
        "id": "advised-faculty"
      },
      "source": [
        "%config Completer.use_jedi = False"
      ],
      "id": "advised-faculty",
      "execution_count": null,
      "outputs": []
    },
    {
      "cell_type": "markdown",
      "metadata": {
        "id": "t4gb87UUyO2Q"
      },
      "source": [
        "# Business Understanding\n",
        "\n",
        " - Attemp to predict customer whether the customer will leave the company (churned) or not using classification techniques with the focus on prediction task. In this report, the main goal is breakdown analysis of classification task of telco company’s customer churn problem.\n",
        "\n",
        "- avoid severe false positive/negative on the result\n",
        "- with prediction power task, attemp model with high score metrics\n",
        "- consider AI ethics principal while feature selection\n",
        "\n"
      ],
      "id": "t4gb87UUyO2Q"
    },
    {
      "cell_type": "markdown",
      "metadata": {
        "id": "dLEvH7TcyTyG"
      },
      "source": [
        "# Analytics Approach\n",
        "\n",
        "- Exploratory data analysis\n",
        "- descriptive statistic to get know of the data\n",
        "- main objective: predictive statistics using supervised model to classify churned customer"
      ],
      "id": "dLEvH7TcyTyG"
    },
    {
      "cell_type": "markdown",
      "metadata": {
        "id": "F2kaqfgdzFEC"
      },
      "source": [
        "# Data Requirements\n",
        "\n",
        "- age information\n",
        "- marital status\n",
        "- customer's dependent\n",
        "- number of referral made by cust\n",
        "- offer category offered to customer\n",
        "- Services\n",
        "    - Multiple Lines\n",
        "    - Internet Service\n",
        "    - Internet Type\n",
        "    - Online Security\n",
        "    - Online Backup\n",
        "    - Device Protection Plan\n",
        "    - Premium Tech Support\n",
        "    - Streaming TV\n",
        "    - Streaming Movies\n",
        "    - Streaming Music\n",
        "    - Unlimited Data\n",
        "    - Contract\n",
        "\n",
        "- other behaviors\n",
        "    - Paperless Billing\n",
        "    - Payment Method\n",
        "- Total Charges\n",
        "- Total Revenue\n",
        "- Satisfaction Score"
      ],
      "id": "F2kaqfgdzFEC"
    },
    {
      "cell_type": "markdown",
      "metadata": {
        "id": "sMSYLKe5zYvt"
      },
      "source": [
        "# Data Collection\n",
        "\n",
        "- company's data warehouse"
      ],
      "id": "sMSYLKe5zYvt"
    },
    {
      "cell_type": "markdown",
      "metadata": {
        "id": "TyHlkGiTzb2w"
      },
      "source": [
        "# Data Understanding\n",
        "\n",
        "- age, under 30, and senior variables are referring to the same information.\n",
        "to avoid multicollinearity we will use only under 30\n",
        "\n",
        "- gender data is not used, possible discrimination\n",
        "\n",
        "- location or coodinate information is not related to solve problem\n",
        "\n",
        "- customer's services data need to be explored for feature selection\n",
        "\n",
        "- class label is imbalanced 76 : 24 ratio\n"
      ],
      "id": "TyHlkGiTzb2w"
    },
    {
      "cell_type": "markdown",
      "metadata": {
        "id": "Gv4m8dJszfgG"
      },
      "source": [
        "# Data Preparation\n",
        "\n",
        "- duplicated entry inspection\n",
        "    - no duplicate allowed\n",
        "\n",
        "- missing value inspection\n",
        "    - no severe null value allowed\n",
        "- feature selection \n",
        "    - using chisquare hypothesis testing\n",
        "    - pearson correlation\n",
        "    - anova\n",
        "    - kruskal wallis\n",
        "    - point biserial correlation\n",
        "\n",
        "- outliers inspection\n",
        "    - grubbs hypothesis testing\n",
        "\n",
        "- Auto imputer pipeline\n",
        "    - numerical: mean\n",
        "    - categorical/ordinal: most_frequent\n",
        "\n",
        "- Feature scaling\n",
        "    - standard scaler on continuous variable\n",
        "\n",
        "- One hot encoder: categorical variables\n",
        "- Ordinal encoder: ordinal variables\n"
      ],
      "id": "Gv4m8dJszfgG"
    },
    {
      "cell_type": "markdown",
      "metadata": {
        "id": "tY0MlMT4ziGa"
      },
      "source": [
        "# Modeling\n",
        "\n",
        "Supervised classification task\n",
        "\n",
        "model used: Support Vector Machine\n",
        "details:\n",
        "- Radial basis function kernel\n",
        "- degree 3\n",
        "- alpha 100\n",
        "- gamma 0.01\n",
        "- class_weight balanced (class rebalancing)\n",
        "\n",
        "\n",
        "pipeline:  \n",
        "simple imputer >>> standard scaler_____>  \n",
        "simple imputer >>> one hot encoder_____> Column transformer > model  \n",
        "simple imputer >>> ordinal encoder_____>\n",
        "\n",
        "train-validation split : 90% samples  \n",
        "holdout test: 10%  \n",
        "cross validation K: 5\n"
      ],
      "id": "tY0MlMT4ziGa"
    },
    {
      "cell_type": "markdown",
      "metadata": {
        "id": "2DImj2b3zkAT"
      },
      "source": [
        "\n",
        "# Evaluation\n",
        "\n",
        "class 0 (No)  \n",
        "- recall : 94\n",
        "- precision : 98\n",
        "- f1 score : 96\n",
        "\n",
        "class 1 (yes)  \n",
        "- recall : 95\n",
        "- precision : 85\n",
        "- f1 score : 90\n",
        "\n",
        "accuracy: 94.79  \n",
        "Area under the curve : 99\n"
      ],
      "id": "2DImj2b3zkAT"
    },
    {
      "cell_type": "markdown",
      "metadata": {
        "id": "-jqPV7kczomv"
      },
      "source": [
        "# Deployment\n",
        "\n",
        "1. offline deployment\n",
        "- model saved and stored to joblib object\n",
        "- filename: telco_svm_95.joblib\n",
        "2. online deployment \n",
        "- model deployed to watson machine learning as RESTapi endpoint\n",
        "- endpoint: https://us-south.ml.cloud.ibm.com/ml/v4/deployments/ead8f77a-e1bc-438e-a650-0f973c3c88db/predictions?version=2021-08-04\n",
        "\n",
        "- further authentication steps needed\n"
      ],
      "id": "-jqPV7kczomv"
    },
    {
      "cell_type": "markdown",
      "metadata": {
        "id": "PiD67p_m0QLm"
      },
      "source": [
        "# Feedback"
      ],
      "id": "PiD67p_m0QLm"
    },
    {
      "cell_type": "markdown",
      "metadata": {
        "id": "dNQGxJ9aJbWy"
      },
      "source": [
        "# import required library"
      ],
      "id": "dNQGxJ9aJbWy"
    },
    {
      "cell_type": "code",
      "metadata": {
        "id": "recreational-orientation",
        "outputId": "3ce98625-e9b1-4f14-9c2a-5fb916d0208c"
      },
      "source": [
        "!pip list"
      ],
      "id": "recreational-orientation",
      "execution_count": null,
      "outputs": [
        {
          "output_type": "stream",
          "text": [
            "/opt/conda/envs/Python-3.7-OpenCE/lib/python3.7/site-packages/secretstorage/dhcrypto.py:16: CryptographyDeprecationWarning: int_from_bytes is deprecated, use int.from_bytes instead\n",
            "  from cryptography.utils import int_from_bytes\n",
            "/opt/conda/envs/Python-3.7-OpenCE/lib/python3.7/site-packages/secretstorage/util.py:25: CryptographyDeprecationWarning: int_from_bytes is deprecated, use int.from_bytes instead\n",
            "  from cryptography.utils import int_from_bytes\n",
            "Package                           Version\n",
            "--------------------------------- -------------------\n",
            "absl-py                           0.10.0\n",
            "aiohttp                           3.6.2\n",
            "appdirs                           1.4.4\n",
            "arcgis                            1.6.0\n",
            "astropy                           4.0.1.post1\n",
            "astunparse                        1.6.3\n",
            "async-timeout                     3.0.1\n",
            "attrs                             19.3.0\n",
            "autoai-libs                       1.12.9\n",
            "av                                8.0.2\n",
            "azure-core                        1.8.0\n",
            "azure-cosmos                      4.1.0\n",
            "backcall                          0.2.0\n",
            "beautifulsoup4                    4.9.1\n",
            "biopython                         1.77\n",
            "black                             19.10b0\n",
            "bleach                            3.1.5\n",
            "blinker                           1.4\n",
            "bokeh                             2.1.1\n",
            "boto3                             1.13.11\n",
            "botocore                          1.16.11\n",
            "brotlipy                          0.7.0\n",
            "ca-data-connector                 11.2.0\n",
            "cachetools                        4.1.1\n",
            "cassandra-driver                  3.24.0\n",
            "certifi                           2021.5.30\n",
            "cffi                              1.14.0\n",
            "chardet                           3.0.4\n",
            "Click                             7.0\n",
            "cloudpickle                       1.5.0\n",
            "coverage                          5.5\n",
            "cplex                             20.1.0.1\n",
            "cryptography                      3.4.7\n",
            "cx-Oracle                         7.2.3\n",
            "cycler                            0.10.0\n",
            "Cython                            0.29.24\n",
            "cytoolz                           0.10.1\n",
            "dask                              2.20.0\n",
            "decision-optimization-client      1.0.0\n",
            "decorator                         4.4.2\n",
            "defusedxml                        0.6.0\n",
            "delayed                           0.11.0b1\n",
            "docplex                           2.20.204\n",
            "docutils                          0.15.2\n",
            "entrypoints                       0.3\n",
            "fastcache                         1.1.0\n",
            "flatbuffers                       20210226132247\n",
            "future                            0.18.2\n",
            "gast                              0.3.3\n",
            "gensim                            3.8.3\n",
            "geographiclib                     1.50\n",
            "geomet                            0.2.1.post1\n",
            "geopy                             2.0.0\n",
            "gmpy2                             2.0.8\n",
            "google-auth                       1.23.0\n",
            "google-auth-oauthlib              0.4.1\n",
            "google-pasta                      0.2.0\n",
            "graphviz                          0.16\n",
            "greenery                          3.3.1\n",
            "grpcio                            1.35.0\n",
            "h5py                              2.10.0\n",
            "hiredis                           2.0.0\n",
            "html5lib                          1.1\n",
            "hyperopt                          0.2.5\n",
            "ibm-cloud-sdk-core                3.5.2\n",
            "ibm-cos-sdk                       2.7.0\n",
            "ibm-cos-sdk-core                  2.7.0\n",
            "ibm-cos-sdk-s3transfer            2.7.0\n",
            "ibm-db                            3.0.2\n",
            "ibm-db-sa                         0.3.5\n",
            "ibm-watson-machine-learning       1.0.116\n",
            "ibm-watson-openscale              3.0.7\n",
            "ibm-watson-studio-lib             3.0.5\n",
            "ibmdbpy                           0.1.6\n",
            "idna                              2.8\n",
            "imageio                           2.9.0\n",
            "imbalanced-learn                  0.8.0\n",
            "imblearn                          0.0\n",
            "importlib-metadata                1.6.1\n",
            "ipykernel                         5.3.0\n",
            "ipython                           7.15.0\n",
            "ipython-genutils                  0.2.0\n",
            "ipywidgets                        7.5.1\n",
            "itc-utils                         0.1.7\n",
            "JayDeBeApi                        1.2.3\n",
            "jedi                              0.17.1\n",
            "jeepney                           0.4\n",
            "Jinja2                            2.11.3\n",
            "jmespath                          0.9.4\n",
            "joblib                            0.17.0\n",
            "JPype1                            0.6.3\n",
            "json5                             0.9.5\n",
            "jsonref                           0.2\n",
            "jsonschema                        3.2.0\n",
            "jsonsubschema                     0.0.2\n",
            "jupyter-client                    6.1.3\n",
            "jupyter-core                      4.6.3\n",
            "jupyterlab                        2.2.6\n",
            "jupyterlab-server                 1.1.0\n",
            "Keras-Applications                1.0.8\n",
            "Keras-Preprocessing               1.1.0\n",
            "keyring                           18.0.0\n",
            "kiwisolver                        1.2.0\n",
            "lale                              0.5.5\n",
            "lazy                              1.4\n",
            "lightgbm                          3.1.1\n",
            "lomond                            0.3.3\n",
            "lxml                              4.6.3\n",
            "Markdown                          3.1.1\n",
            "MarkupSafe                        1.1.1\n",
            "matplotlib                        3.2.2\n",
            "mistune                           0.8.4\n",
            "mock                              4.0.2\n",
            "more-itertools                    8.4.0\n",
            "mpmath                            1.1.0\n",
            "multidict                         4.7.6\n",
            "mypy-extensions                   0.4.3\n",
            "mysql-connector-python            8.0.21\n",
            "nbconvert                         5.6.1\n",
            "nbformat                          5.0.7\n",
            "networkx                          2.3\n",
            "nltk                              3.5\n",
            "notebook                          6.0.3\n",
            "numexpr                           2.7.1\n",
            "numpy                             1.19.2\n",
            "oauthlib                          3.1.0\n",
            "olefile                           0.46\n",
            "onnx                              1.6.0\n",
            "opt-einsum                        3.1.0\n",
            "outlier-utils                     0.0.3\n",
            "packaging                         20.4\n",
            "pandas                            1.0.5\n",
            "pandocfilters                     1.4.2\n",
            "parso                             0.7.0\n",
            "pathspec                          0.7.0\n",
            "patsy                             0.5.1\n",
            "pexpect                           4.8.0\n",
            "pickleshare                       0.7.5\n",
            "Pillow                            8.2.0\n",
            "pip                               20.1.1\n",
            "plotly                            4.8.2\n",
            "pluggy                            0.13.1\n",
            "portion                           2.1.6\n",
            "project-lib                       2.0.4\n",
            "prometheus-client                 0.8.0\n",
            "prompt-toolkit                    3.0.5\n",
            "protobuf                          3.11.2\n",
            "psycopg2                          2.8.5\n",
            "ptyprocess                        0.6.0\n",
            "py                                1.8.2\n",
            "pyarrow                           3.0.0\n",
            "pyasn1                            0.4.8\n",
            "pyasn1-modules                    0.2.8\n",
            "pycparser                         2.20\n",
            "Pygments                          2.6.1\n",
            "PyJWT                             2.0.1\n",
            "pymssql                           2.1.5\n",
            "pyodbc                            4.0.0-unsupported\n",
            "pyOpenSSL                         19.1.0\n",
            "pyparsing                         2.4.7\n",
            "pypyodbc                          1.3.4\n",
            "pyrsistent                        0.16.0\n",
            "pyshp                             2.1.0\n",
            "PySocks                           1.7.1\n",
            "pytest                            5.4.3\n",
            "python-dateutil                   2.8.1\n",
            "pytz                              2020.1\n",
            "PyWavelets                        1.1.1\n",
            "PyYAML                            5.4.1\n",
            "pyzmq                             19.0.1\n",
            "redis                             3.5.3\n",
            "regex                             2020.6.8\n",
            "requests                          2.22.0\n",
            "requests-oauthlib                 1.3.0\n",
            "retrying                          1.3.3\n",
            "rsa                               4.6\n",
            "s3transfer                        0.3.3\n",
            "scikit-image                      0.16.2\n",
            "scikit-learn                      0.23.0\n",
            "scipy                             1.4.1\n",
            "seaborn                           0.10.1\n",
            "SecretStorage                     3.1.0\n",
            "Send2Trash                        1.5.0\n",
            "sentencepiece                     0.1.91\n",
            "setuptools                        47.3.1.post20200622\n",
            "six                               1.15.0\n",
            "smart-open                        5.0.0\n",
            "snowballstemmer                   2.0.0\n",
            "sortedcontainers                  2.3.0\n",
            "soupsieve                         2.0.1\n",
            "SQLAlchemy                        1.3.17\n",
            "statsmodels                       0.11.1\n",
            "sympy                             1.6.2\n",
            "tables                            3.6.1\n",
            "tabulate                          0.8.3\n",
            "tensorboard                       2.4.1\n",
            "tensorboard-plugin-wit            1.6.0\n",
            "tensorflow                        2.4.2\n",
            "tensorflow-estimator              2.4.0\n",
            "termcolor                         1.1.0\n",
            "terminado                         0.8.3\n",
            "testpath                          0.4.4\n",
            "threadpoolctl                     2.1.0\n",
            "toml                              0.10.2\n",
            "toolz                             0.10.0\n",
            "torch                             1.7.1\n",
            "torchtext                         0.8.0a0+0f911ec\n",
            "torchvision                       0.8.2\n",
            "tornado                           6.0.4\n",
            "tqdm                              4.47.0\n",
            "traitlets                         4.3.3\n",
            "typed-ast                         1.4.2\n",
            "typing-extensions                 3.7.4.2\n",
            "urllib3                           1.25.9\n",
            "watson-machine-learning-client-V4 1.0.135\n",
            "wcwidth                           0.2.4\n",
            "webencodings                      0.5.1\n",
            "Werkzeug                          1.0.1\n",
            "wheel                             0.35.1\n",
            "widgetsnbextension                3.5.1\n",
            "wrapt                             1.12.1\n",
            "xgboost                           1.3.3\n",
            "xlrd                              1.2.0\n",
            "XlsxWriter                        1.2.9\n",
            "yarl                              1.5.1\n",
            "zipp                              3.1.0\n"
          ],
          "name": "stdout"
        }
      ]
    },
    {
      "cell_type": "code",
      "metadata": {
        "id": "compound-testament"
      },
      "source": [
        "import pandas as pd\n",
        "import numpy as np \n",
        "import matplotlib.pyplot as plt\n",
        "import seaborn as sns\n",
        "import os "
      ],
      "id": "compound-testament",
      "execution_count": null,
      "outputs": []
    },
    {
      "cell_type": "code",
      "metadata": {
        "colab": {
          "base_uri": "https://localhost:8080/"
        },
        "id": "UwWtj7sNGar8",
        "outputId": "90722776-9f4b-4b80-cb49-7aa61e2bee5a"
      },
      "source": [
        "!pip install outlier_utils"
      ],
      "id": "UwWtj7sNGar8",
      "execution_count": null,
      "outputs": [
        {
          "output_type": "stream",
          "text": [
            "/opt/conda/envs/Python-3.7-OpenCE/lib/python3.7/site-packages/secretstorage/dhcrypto.py:16: CryptographyDeprecationWarning: int_from_bytes is deprecated, use int.from_bytes instead\n",
            "  from cryptography.utils import int_from_bytes\n",
            "/opt/conda/envs/Python-3.7-OpenCE/lib/python3.7/site-packages/secretstorage/util.py:25: CryptographyDeprecationWarning: int_from_bytes is deprecated, use int.from_bytes instead\n",
            "  from cryptography.utils import int_from_bytes\n",
            "Collecting outlier_utils\n",
            "  Downloading outlier_utils-0.0.3-py3-none-any.whl (6.0 kB)\n",
            "Installing collected packages: outlier-utils\n",
            "Successfully installed outlier-utils-0.0.3\n"
          ],
          "name": "stdout"
        }
      ]
    },
    {
      "cell_type": "code",
      "metadata": {
        "scrolled": true,
        "id": "documentary-river",
        "outputId": "f6345943-11a3-4c58-cdb8-848969056dd5"
      },
      "source": [
        "!pip install -U imbalanced-learn"
      ],
      "id": "documentary-river",
      "execution_count": null,
      "outputs": [
        {
          "output_type": "stream",
          "text": [
            "/opt/conda/envs/Python-3.7-OpenCE/lib/python3.7/site-packages/secretstorage/dhcrypto.py:16: CryptographyDeprecationWarning: int_from_bytes is deprecated, use int.from_bytes instead\n",
            "  from cryptography.utils import int_from_bytes\n",
            "/opt/conda/envs/Python-3.7-OpenCE/lib/python3.7/site-packages/secretstorage/util.py:25: CryptographyDeprecationWarning: int_from_bytes is deprecated, use int.from_bytes instead\n",
            "  from cryptography.utils import int_from_bytes\n",
            "Requirement already up-to-date: imbalanced-learn in /opt/conda/envs/Python-3.7-OpenCE/lib/python3.7/site-packages (0.8.0)\n",
            "Requirement already satisfied, skipping upgrade: numpy>=1.13.3 in /opt/conda/envs/Python-3.7-OpenCE/lib/python3.7/site-packages (from imbalanced-learn) (1.19.2)\n",
            "Requirement already satisfied, skipping upgrade: scikit-learn>=0.24 in /opt/conda/envs/Python-3.7-OpenCE/lib/python3.7/site-packages (from imbalanced-learn) (0.24.2)\n",
            "Requirement already satisfied, skipping upgrade: scipy>=0.19.1 in /opt/conda/envs/Python-3.7-OpenCE/lib/python3.7/site-packages (from imbalanced-learn) (1.4.1)\n",
            "Requirement already satisfied, skipping upgrade: joblib>=0.11 in /opt/conda/envs/Python-3.7-OpenCE/lib/python3.7/site-packages (from imbalanced-learn) (0.17.0)\n",
            "Requirement already satisfied, skipping upgrade: threadpoolctl>=2.0.0 in /opt/conda/envs/Python-3.7-OpenCE/lib/python3.7/site-packages (from scikit-learn>=0.24->imbalanced-learn) (2.1.0)\n"
          ],
          "name": "stdout"
        }
      ]
    },
    {
      "cell_type": "code",
      "metadata": {
        "id": "diagnostic-skiing",
        "outputId": "9dd11ab3-4fd7-48c6-cf61-c99fb2854887"
      },
      "source": [
        "!pip install delayed"
      ],
      "id": "diagnostic-skiing",
      "execution_count": null,
      "outputs": [
        {
          "output_type": "stream",
          "text": [
            "/opt/conda/envs/Python-3.7-OpenCE/lib/python3.7/site-packages/secretstorage/dhcrypto.py:16: CryptographyDeprecationWarning: int_from_bytes is deprecated, use int.from_bytes instead\n",
            "  from cryptography.utils import int_from_bytes\n",
            "/opt/conda/envs/Python-3.7-OpenCE/lib/python3.7/site-packages/secretstorage/util.py:25: CryptographyDeprecationWarning: int_from_bytes is deprecated, use int.from_bytes instead\n",
            "  from cryptography.utils import int_from_bytes\n",
            "Collecting delayed\n",
            "  Downloading delayed-0.11.0b1-py2.py3-none-any.whl (19 kB)\n",
            "Collecting hiredis\n",
            "  Downloading hiredis-2.0.0-cp37-cp37m-manylinux2010_x86_64.whl (85 kB)\n",
            "\u001b[K     |████████████████████████████████| 85 kB 8.7 MB/s  eta 0:00:01\n",
            "\u001b[?25hCollecting redis\n",
            "  Downloading redis-3.5.3-py2.py3-none-any.whl (72 kB)\n",
            "\u001b[K     |████████████████████████████████| 72 kB 2.2 MB/s  eta 0:00:01\n",
            "\u001b[?25hInstalling collected packages: hiredis, redis, delayed\n",
            "Successfully installed delayed-0.11.0b1 hiredis-2.0.0 redis-3.5.3\n"
          ],
          "name": "stdout"
        }
      ]
    },
    {
      "cell_type": "code",
      "metadata": {
        "id": "promising-battlefield",
        "outputId": "60ba4332-b7c7-4223-b184-8a4c0b4e3b71"
      },
      "source": [
        "!pip install --upgrade scikit-learn==0.23"
      ],
      "id": "promising-battlefield",
      "execution_count": null,
      "outputs": [
        {
          "output_type": "stream",
          "text": [
            "/opt/conda/envs/Python-3.7-OpenCE/lib/python3.7/site-packages/secretstorage/dhcrypto.py:16: CryptographyDeprecationWarning: int_from_bytes is deprecated, use int.from_bytes instead\n",
            "  from cryptography.utils import int_from_bytes\n",
            "/opt/conda/envs/Python-3.7-OpenCE/lib/python3.7/site-packages/secretstorage/util.py:25: CryptographyDeprecationWarning: int_from_bytes is deprecated, use int.from_bytes instead\n",
            "  from cryptography.utils import int_from_bytes\n",
            "Collecting scikit-learn==0.23\n",
            "  Downloading scikit_learn-0.23.0-cp37-cp37m-manylinux1_x86_64.whl (7.3 MB)\n",
            "\u001b[K     |████████████████████████████████| 7.3 MB 15.6 MB/s eta 0:00:01\n",
            "\u001b[?25hRequirement already satisfied, skipping upgrade: scipy>=0.19.1 in /opt/conda/envs/Python-3.7-OpenCE/lib/python3.7/site-packages (from scikit-learn==0.23) (1.4.1)\n",
            "Requirement already satisfied, skipping upgrade: joblib>=0.11 in /opt/conda/envs/Python-3.7-OpenCE/lib/python3.7/site-packages (from scikit-learn==0.23) (0.17.0)\n",
            "Requirement already satisfied, skipping upgrade: numpy>=1.13.3 in /opt/conda/envs/Python-3.7-OpenCE/lib/python3.7/site-packages (from scikit-learn==0.23) (1.19.2)\n",
            "Requirement already satisfied, skipping upgrade: threadpoolctl>=2.0.0 in /opt/conda/envs/Python-3.7-OpenCE/lib/python3.7/site-packages (from scikit-learn==0.23) (2.1.0)\n",
            "\u001b[31mERROR: imbalanced-learn 0.8.0 has requirement scikit-learn>=0.24, but you'll have scikit-learn 0.23.0 which is incompatible.\u001b[0m\n",
            "Installing collected packages: scikit-learn\n",
            "  Attempting uninstall: scikit-learn\n",
            "    Found existing installation: scikit-learn 0.24.2\n",
            "    Uninstalling scikit-learn-0.24.2:\n",
            "      Successfully uninstalled scikit-learn-0.24.2\n",
            "Successfully installed scikit-learn-0.23.0\n"
          ],
          "name": "stdout"
        }
      ]
    },
    {
      "cell_type": "code",
      "metadata": {
        "id": "recovered-appearance"
      },
      "source": [
        "from sklearn.preprocessing import StandardScaler,OneHotEncoder,OrdinalEncoder\n",
        "from sklearn.model_selection import train_test_split,GridSearchCV\n",
        "import imblearn\n",
        "from imblearn.over_sampling import ADASYN,SMOTE\n",
        "from imblearn.under_sampling import EditedNearestNeighbours,RandomUnderSampler\n",
        "from sklearn.kernel_approximation import Nystroem\n",
        "from sklearn.compose import ColumnTransformer\n",
        "from sklearn.pipeline import Pipeline,make_pipeline\n",
        "#watson ML cannot accept imblearn\n",
        "#from imblearn.pipeline import Pipeline\n",
        "from sklearn.impute import SimpleImputer\n",
        "#model\n",
        "from sklearn.svm import SVC\n",
        "from sklearn.linear_model import LogisticRegression\n",
        "from sklearn.ensemble import AdaBoostClassifier,RandomForestClassifier\n",
        "from sklearn.tree import DecisionTreeClassifier\n",
        "#statistical \n",
        "from scipy.stats import chi2_contingency,f_oneway,kruskal,pearsonr,normaltest\n",
        "from outliers import smirnov_grubbs"
      ],
      "id": "recovered-appearance",
      "execution_count": null,
      "outputs": []
    },
    {
      "cell_type": "code",
      "metadata": {
        "id": "UH9ZpZyvc-BM"
      },
      "source": [
        "from sklearn.metrics import classification_report, plot_confusion_matrix,plot_roc_curve,plot_precision_recall_curve"
      ],
      "id": "UH9ZpZyvc-BM",
      "execution_count": null,
      "outputs": []
    },
    {
      "cell_type": "markdown",
      "metadata": {
        "id": "gaNx79zQJgBz"
      },
      "source": [
        "# inspecting raw data"
      ],
      "id": "gaNx79zQJgBz"
    },
    {
      "cell_type": "code",
      "metadata": {
        "id": "challenging-devon"
      },
      "source": [
        "\n",
        "import os, types\n",
        "import pandas as pd\n",
        "from botocore.client import Config\n",
        "import ibm_boto3\n",
        "\n",
        "def __iter__(self): return 0\n",
        "\n",
        "# @hidden_cell\n",
        "# The following code accesses a file in your IBM Cloud Object Storage. It includes your credentials.\n",
        "# You might want to remove those credentials before you share the notebook.\n",
        "\n",
        "if os.environ.get('RUNTIME_ENV_LOCATION_TYPE') == 'external':\n",
        "    endpoint_547e2e471367434c9459f69f91f6aa92 = 'https://s3.us.cloud-object-storage.appdomain.cloud'\n",
        "else:\n",
        "    endpoint_547e2e471367434c9459f69f91f6aa92 = 'https://s3.private.us.cloud-object-storage.appdomain.cloud'\n",
        "\n",
        "client_547e2e471367434c9459f69f91f6aa92 = ibm_boto3.client(service_name='s3',\n",
        "    ibm_api_key_id='jW6BhhdTNkDn5zeEv94r_efxkTgG6oaKQxzPK5x-NoLa',\n",
        "    ibm_auth_endpoint=\"https://iam.cloud.ibm.com/oidc/token\",\n",
        "    config=Config(signature_version='oauth'),\n",
        "    endpoint_url=endpoint_547e2e471367434c9459f69f91f6aa92)\n",
        "\n",
        "# Your data file was loaded into a botocore.response.StreamingBody object.\n",
        "# Please read the documentation of ibm_boto3 and pandas to learn more about the possibilities to load the data.\n",
        "# ibm_boto3 documentation: https://ibm.github.io/ibm-cos-sdk-python/\n",
        "# pandas documentation: http://pandas.pydata.org/\n",
        "streaming_body_1 = client_547e2e471367434c9459f69f91f6aa92.get_object(Bucket='kevindsoncloud-donotdelete-pr-9ks0ppvkgsay2l', Key='fulldata.pkl')['Body']\n",
        "# add missing __iter__ method, so pandas accepts body as file-like object\n",
        "if not hasattr(streaming_body_1, \"__iter__\"): streaming_body_1.__iter__ = types.MethodType( __iter__, streaming_body_1 ) \n"
      ],
      "id": "challenging-devon",
      "execution_count": null,
      "outputs": []
    },
    {
      "cell_type": "code",
      "metadata": {
        "id": "finished-wheat"
      },
      "source": [
        "raw_stream = streaming_body_1.read()"
      ],
      "id": "finished-wheat",
      "execution_count": null,
      "outputs": []
    },
    {
      "cell_type": "code",
      "metadata": {
        "id": "announced-specification"
      },
      "source": [
        "from io import BytesIO\n",
        "from pickle import load as pkl_load\n",
        "rawpickle = pkl_load(BytesIO(raw_stream))"
      ],
      "id": "announced-specification",
      "execution_count": null,
      "outputs": []
    },
    {
      "cell_type": "code",
      "metadata": {
        "colab": {
          "base_uri": "https://localhost:8080/"
        },
        "id": "-qSOBjNRw5FN",
        "scrolled": true,
        "outputId": "e271a9f2-221d-4156-a73f-1ea635bb1258"
      },
      "source": [
        "#for non watson studio\n",
        "#df = pd.read_pickle('path')\n",
        "\n",
        "df = rawpickle\n",
        "df.head()"
      ],
      "id": "-qSOBjNRw5FN",
      "execution_count": null,
      "outputs": [
        {
          "output_type": "execute_result",
          "data": {
            "text/html": [
              "<div>\n",
              "<style scoped>\n",
              "    .dataframe tbody tr th:only-of-type {\n",
              "        vertical-align: middle;\n",
              "    }\n",
              "\n",
              "    .dataframe tbody tr th {\n",
              "        vertical-align: top;\n",
              "    }\n",
              "\n",
              "    .dataframe thead th {\n",
              "        text-align: right;\n",
              "    }\n",
              "</style>\n",
              "<table border=\"1\" class=\"dataframe\">\n",
              "  <thead>\n",
              "    <tr style=\"text-align: right;\">\n",
              "      <th></th>\n",
              "      <th>Customer ID</th>\n",
              "      <th>Count</th>\n",
              "      <th>Gender</th>\n",
              "      <th>Age</th>\n",
              "      <th>Under 30</th>\n",
              "      <th>Senior Citizen</th>\n",
              "      <th>Married</th>\n",
              "      <th>Dependents</th>\n",
              "      <th>Number of Dependents</th>\n",
              "      <th>Country</th>\n",
              "      <th>...</th>\n",
              "      <th>Total Long Distance Charges</th>\n",
              "      <th>Total Revenue</th>\n",
              "      <th>Satisfaction Score</th>\n",
              "      <th>Customer Status</th>\n",
              "      <th>Churn Label</th>\n",
              "      <th>Churn Value</th>\n",
              "      <th>Churn Score</th>\n",
              "      <th>CLTV</th>\n",
              "      <th>Churn Category</th>\n",
              "      <th>Churn Reason</th>\n",
              "    </tr>\n",
              "  </thead>\n",
              "  <tbody>\n",
              "    <tr>\n",
              "      <th>0</th>\n",
              "      <td>8779-QRDMV</td>\n",
              "      <td>1</td>\n",
              "      <td>Male</td>\n",
              "      <td>78</td>\n",
              "      <td>No</td>\n",
              "      <td>Yes</td>\n",
              "      <td>No</td>\n",
              "      <td>No</td>\n",
              "      <td>0</td>\n",
              "      <td>United States</td>\n",
              "      <td>...</td>\n",
              "      <td>0.00</td>\n",
              "      <td>59.65</td>\n",
              "      <td>3</td>\n",
              "      <td>Churned</td>\n",
              "      <td>Yes</td>\n",
              "      <td>1</td>\n",
              "      <td>91</td>\n",
              "      <td>5433</td>\n",
              "      <td>Competitor</td>\n",
              "      <td>Competitor offered more data</td>\n",
              "    </tr>\n",
              "    <tr>\n",
              "      <th>1</th>\n",
              "      <td>7495-OOKFY</td>\n",
              "      <td>1</td>\n",
              "      <td>Female</td>\n",
              "      <td>74</td>\n",
              "      <td>No</td>\n",
              "      <td>Yes</td>\n",
              "      <td>Yes</td>\n",
              "      <td>Yes</td>\n",
              "      <td>1</td>\n",
              "      <td>United States</td>\n",
              "      <td>...</td>\n",
              "      <td>390.80</td>\n",
              "      <td>1024.10</td>\n",
              "      <td>3</td>\n",
              "      <td>Churned</td>\n",
              "      <td>Yes</td>\n",
              "      <td>1</td>\n",
              "      <td>69</td>\n",
              "      <td>5302</td>\n",
              "      <td>Competitor</td>\n",
              "      <td>Competitor made better offer</td>\n",
              "    </tr>\n",
              "    <tr>\n",
              "      <th>2</th>\n",
              "      <td>1658-BYGOY</td>\n",
              "      <td>1</td>\n",
              "      <td>Male</td>\n",
              "      <td>71</td>\n",
              "      <td>No</td>\n",
              "      <td>Yes</td>\n",
              "      <td>No</td>\n",
              "      <td>Yes</td>\n",
              "      <td>3</td>\n",
              "      <td>United States</td>\n",
              "      <td>...</td>\n",
              "      <td>203.94</td>\n",
              "      <td>1910.88</td>\n",
              "      <td>2</td>\n",
              "      <td>Churned</td>\n",
              "      <td>Yes</td>\n",
              "      <td>1</td>\n",
              "      <td>81</td>\n",
              "      <td>3179</td>\n",
              "      <td>Competitor</td>\n",
              "      <td>Competitor made better offer</td>\n",
              "    </tr>\n",
              "    <tr>\n",
              "      <th>3</th>\n",
              "      <td>4598-XLKNJ</td>\n",
              "      <td>1</td>\n",
              "      <td>Female</td>\n",
              "      <td>78</td>\n",
              "      <td>No</td>\n",
              "      <td>Yes</td>\n",
              "      <td>Yes</td>\n",
              "      <td>Yes</td>\n",
              "      <td>1</td>\n",
              "      <td>United States</td>\n",
              "      <td>...</td>\n",
              "      <td>494.00</td>\n",
              "      <td>2995.07</td>\n",
              "      <td>2</td>\n",
              "      <td>Churned</td>\n",
              "      <td>Yes</td>\n",
              "      <td>1</td>\n",
              "      <td>88</td>\n",
              "      <td>5337</td>\n",
              "      <td>Dissatisfaction</td>\n",
              "      <td>Limited range of services</td>\n",
              "    </tr>\n",
              "    <tr>\n",
              "      <th>4</th>\n",
              "      <td>4846-WHAFZ</td>\n",
              "      <td>1</td>\n",
              "      <td>Female</td>\n",
              "      <td>80</td>\n",
              "      <td>No</td>\n",
              "      <td>Yes</td>\n",
              "      <td>Yes</td>\n",
              "      <td>Yes</td>\n",
              "      <td>1</td>\n",
              "      <td>United States</td>\n",
              "      <td>...</td>\n",
              "      <td>234.21</td>\n",
              "      <td>3102.36</td>\n",
              "      <td>2</td>\n",
              "      <td>Churned</td>\n",
              "      <td>Yes</td>\n",
              "      <td>1</td>\n",
              "      <td>67</td>\n",
              "      <td>2793</td>\n",
              "      <td>Price</td>\n",
              "      <td>Extra data charges</td>\n",
              "    </tr>\n",
              "  </tbody>\n",
              "</table>\n",
              "<p>5 rows × 54 columns</p>\n",
              "</div>"
            ],
            "text/plain": [
              "  Customer ID  Count  Gender  Age Under 30 Senior Citizen Married Dependents  \\\n",
              "0  8779-QRDMV      1    Male   78       No            Yes      No         No   \n",
              "1  7495-OOKFY      1  Female   74       No            Yes     Yes        Yes   \n",
              "2  1658-BYGOY      1    Male   71       No            Yes      No        Yes   \n",
              "3  4598-XLKNJ      1  Female   78       No            Yes     Yes        Yes   \n",
              "4  4846-WHAFZ      1  Female   80       No            Yes     Yes        Yes   \n",
              "\n",
              "   Number of Dependents        Country  ... Total Long Distance Charges  \\\n",
              "0                     0  United States  ...                        0.00   \n",
              "1                     1  United States  ...                      390.80   \n",
              "2                     3  United States  ...                      203.94   \n",
              "3                     1  United States  ...                      494.00   \n",
              "4                     1  United States  ...                      234.21   \n",
              "\n",
              "  Total Revenue  Satisfaction Score Customer Status  Churn Label  Churn Value  \\\n",
              "0         59.65                   3         Churned          Yes            1   \n",
              "1       1024.10                   3         Churned          Yes            1   \n",
              "2       1910.88                   2         Churned          Yes            1   \n",
              "3       2995.07                   2         Churned          Yes            1   \n",
              "4       3102.36                   2         Churned          Yes            1   \n",
              "\n",
              "   Churn Score  CLTV   Churn Category                  Churn Reason  \n",
              "0           91  5433       Competitor  Competitor offered more data  \n",
              "1           69  5302       Competitor  Competitor made better offer  \n",
              "2           81  3179       Competitor  Competitor made better offer  \n",
              "3           88  5337  Dissatisfaction     Limited range of services  \n",
              "4           67  2793            Price            Extra data charges  \n",
              "\n",
              "[5 rows x 54 columns]"
            ]
          },
          "metadata": {
            "tags": []
          },
          "execution_count": 27
        }
      ]
    },
    {
      "cell_type": "code",
      "metadata": {
        "colab": {
          "base_uri": "https://localhost:8080/"
        },
        "id": "early-atlas",
        "outputId": "43c23bf2-460f-413b-fe8d-bb12313ff65a"
      },
      "source": [
        "df.info()"
      ],
      "id": "early-atlas",
      "execution_count": null,
      "outputs": [
        {
          "output_type": "stream",
          "text": [
            "<class 'pandas.core.frame.DataFrame'>\n",
            "Int64Index: 7043 entries, 0 to 7042\n",
            "Data columns (total 54 columns):\n",
            " #   Column                             Non-Null Count  Dtype  \n",
            "---  ------                             --------------  -----  \n",
            " 0   Customer ID                        7043 non-null   object \n",
            " 1   Count                              7043 non-null   int64  \n",
            " 2   Gender                             7043 non-null   object \n",
            " 3   Age                                7043 non-null   int64  \n",
            " 4   Under 30                           7043 non-null   object \n",
            " 5   Senior Citizen                     7043 non-null   object \n",
            " 6   Married                            7043 non-null   object \n",
            " 7   Dependents                         7043 non-null   object \n",
            " 8   Number of Dependents               7043 non-null   int64  \n",
            " 9   Country                            7043 non-null   object \n",
            " 10  State                              7043 non-null   object \n",
            " 11  City                               7043 non-null   object \n",
            " 12  Zip Code                           7043 non-null   int64  \n",
            " 13  Lat Long                           7043 non-null   object \n",
            " 14  Latitude                           7043 non-null   float64\n",
            " 15  Longitude                          7043 non-null   float64\n",
            " 16  ID                                 7043 non-null   int64  \n",
            " 17  Population                         7043 non-null   int64  \n",
            " 18  Quarter                            7043 non-null   object \n",
            " 19  Referred a Friend                  7043 non-null   object \n",
            " 20  Number of Referrals                7043 non-null   int64  \n",
            " 21  Tenure in Months                   7043 non-null   int64  \n",
            " 22  Offer                              7043 non-null   object \n",
            " 23  Phone Service                      7043 non-null   object \n",
            " 24  Avg Monthly Long Distance Charges  7043 non-null   float64\n",
            " 25  Multiple Lines                     7043 non-null   object \n",
            " 26  Internet Service                   7043 non-null   object \n",
            " 27  Internet Type                      7043 non-null   object \n",
            " 28  Avg Monthly GB Download            7043 non-null   int64  \n",
            " 29  Online Security                    7043 non-null   object \n",
            " 30  Online Backup                      7043 non-null   object \n",
            " 31  Device Protection Plan             7043 non-null   object \n",
            " 32  Premium Tech Support               7043 non-null   object \n",
            " 33  Streaming TV                       7043 non-null   object \n",
            " 34  Streaming Movies                   7043 non-null   object \n",
            " 35  Streaming Music                    7043 non-null   object \n",
            " 36  Unlimited Data                     7043 non-null   object \n",
            " 37  Contract                           7043 non-null   object \n",
            " 38  Paperless Billing                  7043 non-null   object \n",
            " 39  Payment Method                     7043 non-null   object \n",
            " 40  Monthly Charge                     7043 non-null   float64\n",
            " 41  Total Charges                      7043 non-null   float64\n",
            " 42  Total Refunds                      7043 non-null   float64\n",
            " 43  Total Extra Data Charges           7043 non-null   int64  \n",
            " 44  Total Long Distance Charges        7043 non-null   float64\n",
            " 45  Total Revenue                      7043 non-null   float64\n",
            " 46  Satisfaction Score                 7043 non-null   int64  \n",
            " 47  Customer Status                    7043 non-null   object \n",
            " 48  Churn Label                        7043 non-null   object \n",
            " 49  Churn Value                        7043 non-null   int64  \n",
            " 50  Churn Score                        7043 non-null   int64  \n",
            " 51  CLTV                               7043 non-null   int64  \n",
            " 52  Churn Category                     1869 non-null   object \n",
            " 53  Churn Reason                       1869 non-null   object \n",
            "dtypes: float64(8), int64(14), object(32)\n",
            "memory usage: 3.0+ MB\n"
          ],
          "name": "stdout"
        }
      ]
    },
    {
      "cell_type": "code",
      "metadata": {
        "colab": {
          "base_uri": "https://localhost:8080/"
        },
        "id": "mysterious-suicide",
        "outputId": "64d31c35-f662-4ad0-971f-7a5cb251baf1"
      },
      "source": [
        "df['encoded_label'] = df['Churn Label'].apply(lambda x: 1 if x=='Yes' else 0 )\n",
        "df['encoded_label'].head()"
      ],
      "id": "mysterious-suicide",
      "execution_count": null,
      "outputs": [
        {
          "output_type": "execute_result",
          "data": {
            "text/plain": [
              "0    1\n",
              "1    1\n",
              "2    1\n",
              "3    1\n",
              "4    1\n",
              "Name: encoded_label, dtype: int64"
            ]
          },
          "metadata": {
            "tags": []
          },
          "execution_count": 29
        }
      ]
    },
    {
      "cell_type": "code",
      "metadata": {
        "colab": {
          "base_uri": "https://localhost:8080/"
        },
        "id": "nutcxNQsO0a_",
        "outputId": "a584e168-4942-4083-9a30-188fe2f3968b"
      },
      "source": [
        "df[df.duplicated()]\n",
        "#no duplicate"
      ],
      "id": "nutcxNQsO0a_",
      "execution_count": null,
      "outputs": [
        {
          "output_type": "execute_result",
          "data": {
            "text/html": [
              "<div>\n",
              "<style scoped>\n",
              "    .dataframe tbody tr th:only-of-type {\n",
              "        vertical-align: middle;\n",
              "    }\n",
              "\n",
              "    .dataframe tbody tr th {\n",
              "        vertical-align: top;\n",
              "    }\n",
              "\n",
              "    .dataframe thead th {\n",
              "        text-align: right;\n",
              "    }\n",
              "</style>\n",
              "<table border=\"1\" class=\"dataframe\">\n",
              "  <thead>\n",
              "    <tr style=\"text-align: right;\">\n",
              "      <th></th>\n",
              "      <th>Customer ID</th>\n",
              "      <th>Count</th>\n",
              "      <th>Gender</th>\n",
              "      <th>Age</th>\n",
              "      <th>Under 30</th>\n",
              "      <th>Senior Citizen</th>\n",
              "      <th>Married</th>\n",
              "      <th>Dependents</th>\n",
              "      <th>Number of Dependents</th>\n",
              "      <th>Country</th>\n",
              "      <th>...</th>\n",
              "      <th>Total Revenue</th>\n",
              "      <th>Satisfaction Score</th>\n",
              "      <th>Customer Status</th>\n",
              "      <th>Churn Label</th>\n",
              "      <th>Churn Value</th>\n",
              "      <th>Churn Score</th>\n",
              "      <th>CLTV</th>\n",
              "      <th>Churn Category</th>\n",
              "      <th>Churn Reason</th>\n",
              "      <th>encoded_label</th>\n",
              "    </tr>\n",
              "  </thead>\n",
              "  <tbody>\n",
              "  </tbody>\n",
              "</table>\n",
              "<p>0 rows × 55 columns</p>\n",
              "</div>"
            ],
            "text/plain": [
              "Empty DataFrame\n",
              "Columns: [Customer ID, Count, Gender, Age, Under 30, Senior Citizen, Married, Dependents, Number of Dependents, Country, State, City, Zip Code, Lat Long, Latitude, Longitude, ID, Population, Quarter, Referred a Friend, Number of Referrals, Tenure in Months, Offer, Phone Service, Avg Monthly Long Distance Charges, Multiple Lines, Internet Service, Internet Type, Avg Monthly GB Download, Online Security, Online Backup, Device Protection Plan, Premium Tech Support, Streaming TV, Streaming Movies, Streaming Music, Unlimited Data, Contract, Paperless Billing, Payment Method, Monthly Charge, Total Charges, Total Refunds, Total Extra Data Charges, Total Long Distance Charges, Total Revenue, Satisfaction Score, Customer Status, Churn Label, Churn Value, Churn Score, CLTV, Churn Category, Churn Reason, encoded_label]\n",
              "Index: []\n",
              "\n",
              "[0 rows x 55 columns]"
            ]
          },
          "metadata": {
            "tags": []
          },
          "execution_count": 30
        }
      ]
    },
    {
      "cell_type": "markdown",
      "metadata": {
        "id": "7BDcNTd5PdVe"
      },
      "source": [
        "# inspect missing value"
      ],
      "id": "7BDcNTd5PdVe"
    },
    {
      "cell_type": "code",
      "metadata": {
        "id": "iYFES128PCTz"
      },
      "source": [
        "def missing_percentage():\n",
        "    na_val = df.isnull().sum() * 100 / len(df)\n",
        "    na_val = na_val[na_val.values > 0]\n",
        "    na_val.sort_values(ascending=False)\n",
        "    return na_val"
      ],
      "id": "iYFES128PCTz",
      "execution_count": null,
      "outputs": []
    },
    {
      "cell_type": "code",
      "metadata": {
        "colab": {
          "base_uri": "https://localhost:8080/"
        },
        "id": "oLY4EMQvPZa3",
        "outputId": "11b63c46-f549-44f2-f783-b93af46c6967"
      },
      "source": [
        "missing_percentage()"
      ],
      "id": "oLY4EMQvPZa3",
      "execution_count": null,
      "outputs": [
        {
          "output_type": "execute_result",
          "data": {
            "text/plain": [
              "Churn Category    73.463013\n",
              "Churn Reason      73.463013\n",
              "dtype: float64"
            ]
          },
          "metadata": {
            "tags": []
          },
          "execution_count": 32
        }
      ]
    },
    {
      "cell_type": "markdown",
      "metadata": {
        "id": "OyK87TKZ9GK7"
      },
      "source": [
        "# Feature Selection\n",
        "\n",
        "## Used Feature\n",
        "- Under 30\n",
        "- Married\n",
        "- Number of Dependents\n",
        "- Number of Referrals\n",
        "- Tenure in Months\n",
        "- Offer\n",
        "- Multiple Lines\n",
        "- Internet Service\n",
        "- Internet Type\n",
        "- Online Security\n",
        "- Online Backup\n",
        "- Device Protection Plan\n",
        "- Premium Tech Support\n",
        "- Streaming TV\n",
        "- Streaming Movies\n",
        "- Streaming Music\n",
        "- Unlimited Data\n",
        "- Contract\n",
        "- Paperless Billing\n",
        "- Payment Method\n",
        "- Total Charges\n",
        "- Total Revenue\n",
        "- Satisfaction Score"
      ],
      "id": "OyK87TKZ9GK7"
    },
    {
      "cell_type": "markdown",
      "metadata": {
        "id": "tG8UAHZF6Fmj"
      },
      "source": [
        "# correlation test for feature selection\n",
        "\n",
        "correlation interpretation guide based on:  \n",
        "Statistic without math for psychology by Dancey and Reidy"
      ],
      "id": "tG8UAHZF6Fmj"
    },
    {
      "cell_type": "code",
      "metadata": {
        "colab": {
          "base_uri": "https://localhost:8080/"
        },
        "id": "kQFMbh3U53F3",
        "outputId": "189e9213-3cf9-4dd6-ab93-59ee5e58abe4"
      },
      "source": [
        "#point biserial correlation, Pearson corr\n",
        "df['Age'].corr(df['encoded_label'])"
      ],
      "id": "kQFMbh3U53F3",
      "execution_count": null,
      "outputs": [
        {
          "output_type": "execute_result",
          "data": {
            "text/plain": [
              "0.11575973716171706"
            ]
          },
          "metadata": {
            "tags": []
          },
          "execution_count": 33
        }
      ]
    },
    {
      "cell_type": "code",
      "metadata": {
        "colab": {
          "base_uri": "https://localhost:8080/"
        },
        "id": "micro-shade",
        "outputId": "dcd57e2c-fdea-492c-e8d9-1c8ef1db8bb4"
      },
      "source": [
        "#chi square contingency\n",
        "obs = pd.crosstab(df['Under 30'],df['Churn Label'],margins=True)\n",
        "chi2_contingency(obs)\n",
        "#result is reject H0 variable is independent, means tbere is a correlation (dependent)"
      ],
      "id": "micro-shade",
      "execution_count": null,
      "outputs": [
        {
          "output_type": "execute_result",
          "data": {
            "text/plain": [
              "(20.999556202841383,\n",
              " 0.00031673333210227925,\n",
              " 4,\n",
              " array([[4144.78318898, 1497.21681102, 5642.        ],\n",
              "        [1029.21681102,  371.78318898, 1401.        ],\n",
              "        [5174.        , 1869.        , 7043.        ]]))"
            ]
          },
          "metadata": {
            "tags": []
          },
          "execution_count": 34
        }
      ]
    },
    {
      "cell_type": "code",
      "metadata": {
        "colab": {
          "base_uri": "https://localhost:8080/"
        },
        "id": "CiQgLnaUzAoq",
        "outputId": "360dcc91-f7ab-468b-9be9-395dfd73813e"
      },
      "source": [
        "#chi square contingency\n",
        "married_obs = pd.crosstab(df['Married'],df['Churn Label'],margins=True)\n",
        "chi2_contingency(married_obs)\n",
        "\n",
        "#result is reject H0 variable is independent, means tbere is a correlation (dependent)"
      ],
      "id": "CiQgLnaUzAoq",
      "execution_count": null,
      "outputs": [
        {
          "output_type": "execute_result",
          "data": {
            "text/plain": [
              "(159.41452843242658,\n",
              " 1.952035040461347e-33,\n",
              " 4,\n",
              " array([[2674.78830044,  966.21169956, 3641.        ],\n",
              "        [2499.21169956,  902.78830044, 3402.        ],\n",
              "        [5174.        , 1869.        , 7043.        ]]))"
            ]
          },
          "metadata": {
            "tags": []
          },
          "execution_count": 35
        }
      ]
    },
    {
      "cell_type": "code",
      "metadata": {
        "colab": {
          "base_uri": "https://localhost:8080/"
        },
        "id": "OnArZRES6DSO",
        "outputId": "dc8ad890-c286-4d85-e113-3b16f2fa4c2e"
      },
      "source": [
        "#point biserial correlation, Pearson corr\n",
        "df['Number of Dependents'].corr(df['encoded_label'])"
      ],
      "id": "OnArZRES6DSO",
      "execution_count": null,
      "outputs": [
        {
          "output_type": "execute_result",
          "data": {
            "text/plain": [
              "-0.21878018695662757"
            ]
          },
          "metadata": {
            "tags": []
          },
          "execution_count": 36
        }
      ]
    },
    {
      "cell_type": "code",
      "metadata": {
        "colab": {
          "base_uri": "https://localhost:8080/"
        },
        "id": "Dq7oVlK67Y2-",
        "outputId": "1fea4b77-6869-4896-aba2-3f65bfcb29b7"
      },
      "source": [
        "#point biserial correlation, Pearson corr\n",
        "df['Tenure in Months'].corr(df['encoded_label'])"
      ],
      "id": "Dq7oVlK67Y2-",
      "execution_count": null,
      "outputs": [
        {
          "output_type": "execute_result",
          "data": {
            "text/plain": [
              "-0.3528611958713403"
            ]
          },
          "metadata": {
            "tags": []
          },
          "execution_count": 37
        }
      ]
    },
    {
      "cell_type": "code",
      "metadata": {
        "colab": {
          "base_uri": "https://localhost:8080/"
        },
        "id": "jNWqaWXO7daN",
        "outputId": "a67edde8-c050-4798-8f62-a779d3fafc35"
      },
      "source": [
        "#point biserial correlation, Pearson corr\n",
        "df['Number of Referrals'].corr(df['encoded_label'])"
      ],
      "id": "jNWqaWXO7daN",
      "execution_count": null,
      "outputs": [
        {
          "output_type": "execute_result",
          "data": {
            "text/plain": [
              "-0.2865404715037923"
            ]
          },
          "metadata": {
            "tags": []
          },
          "execution_count": 38
        }
      ]
    },
    {
      "cell_type": "code",
      "metadata": {
        "colab": {
          "base_uri": "https://localhost:8080/"
        },
        "id": "IeRlzJXxDoau",
        "outputId": "4bf06446-fe68-44a3-ae87-757d4dc24174"
      },
      "source": [
        "#chi square contingency\n",
        "ofr_obs = pd.crosstab(df['Offer'],df['Churn Label'],margins=True)\n",
        "chi2_contingency(ofr_obs)\n",
        "#result is reject H0 variable is independent, means tbere is a correlation (dependent)"
      ],
      "id": "IeRlzJXxDoau",
      "execution_count": null,
      "outputs": [
        {
          "output_type": "execute_result",
          "data": {
            "text/plain": [
              "(481.7254889632278,\n",
              " 1.711503009952356e-95,\n",
              " 12,\n",
              " array([[2848.16101093, 1028.83898907, 3877.        ],\n",
              "        [ 382.00766719,  137.99233281,  520.        ],\n",
              "        [ 605.33522647,  218.66477353,  824.        ],\n",
              "        [ 304.87150362,  110.12849638,  415.        ],\n",
              "        [ 442.24733778,  159.75266222,  602.        ],\n",
              "        [ 591.37725401,  213.62274599,  805.        ],\n",
              "        [5174.        , 1869.        , 7043.        ]]))"
            ]
          },
          "metadata": {
            "tags": []
          },
          "execution_count": 39
        }
      ]
    },
    {
      "cell_type": "code",
      "metadata": {
        "colab": {
          "base_uri": "https://localhost:8080/"
        },
        "id": "QO2YMGN2EuSB",
        "outputId": "3db5cd96-5d53-440d-fd87-ceee71d12e3f"
      },
      "source": [
        "#chi square contingency\n",
        "pho_obs = pd.crosstab(df['Phone Service'],df['Churn Label'],margins=True)\n",
        "chi2_contingency(pho_obs)\n",
        "#result is keep H0 variable is independent, means tbere is a no correlation/difference"
      ],
      "id": "QO2YMGN2EuSB",
      "execution_count": null,
      "outputs": [
        {
          "output_type": "execute_result",
          "data": {
            "text/plain": [
              "(1.0044084772333213,\n",
              " 0.9091267853074723,\n",
              " 4,\n",
              " array([[ 501.01774812,  180.98225188,  682.        ],\n",
              "        [4672.98225188, 1688.01774812, 6361.        ],\n",
              "        [5174.        , 1869.        , 7043.        ]]))"
            ]
          },
          "metadata": {
            "tags": []
          },
          "execution_count": 40
        }
      ]
    },
    {
      "cell_type": "code",
      "metadata": {
        "colab": {
          "base_uri": "https://localhost:8080/"
        },
        "id": "vnx89XdSEldp",
        "outputId": "93082491-1e22-4d0d-eeba-9a844898dbf1"
      },
      "source": [
        "#point biserial correlation, Pearson corr\n",
        "df['Avg Monthly Long Distance Charges'].corr(df['encoded_label'])"
      ],
      "id": "vnx89XdSEldp",
      "execution_count": null,
      "outputs": [
        {
          "output_type": "execute_result",
          "data": {
            "text/plain": [
              "0.008119528923840769"
            ]
          },
          "metadata": {
            "tags": []
          },
          "execution_count": 41
        }
      ]
    },
    {
      "cell_type": "code",
      "metadata": {
        "colab": {
          "base_uri": "https://localhost:8080/"
        },
        "id": "t4wBKTz-GoZK",
        "outputId": "6ae6c7d0-58a8-4042-f9f9-45392ac83ef6"
      },
      "source": [
        "#chi square contingency\n",
        "mli_obs = pd.crosstab(df['Multiple Lines'],df['Churn Label'],margins=True)\n",
        "chi2_contingency(mli_obs)\n",
        "#result is reject H0 variable is independent, means tbere is a correlation (dependent)\n"
      ],
      "id": "t4wBKTz-GoZK",
      "execution_count": null,
      "outputs": [
        {
          "output_type": "execute_result",
          "data": {
            "text/plain": [
              "(11.326416290152446,\n",
              " 0.023130410091547645,\n",
              " 4,\n",
              " array([[2991.41388613, 1080.58611387, 4072.        ],\n",
              "        [2182.58611387,  788.41388613, 2971.        ],\n",
              "        [5174.        , 1869.        , 7043.        ]]))"
            ]
          },
          "metadata": {
            "tags": []
          },
          "execution_count": 42
        }
      ]
    },
    {
      "cell_type": "code",
      "metadata": {
        "colab": {
          "base_uri": "https://localhost:8080/"
        },
        "id": "dlWrEhUyHrp2",
        "outputId": "86f86c3b-538f-4228-f289-776f62474aa6"
      },
      "source": [
        "#chi square contingency\n",
        "ise_obs = pd.crosstab(df['Internet Service'],df['Churn Label'],margins=True)\n",
        "chi2_contingency(ise_obs)\n",
        "#result is reject H0 variable is independent, means tbere is a correlation (dependent)"
      ],
      "id": "dlWrEhUyHrp2",
      "execution_count": null,
      "outputs": [
        {
          "output_type": "execute_result",
          "data": {
            "text/plain": [
              "(365.7715640851134,\n",
              " 6.890681737550473e-78,\n",
              " 4,\n",
              " array([[1121.04557717,  404.95442283, 1526.        ],\n",
              "        [4052.95442283, 1464.04557717, 5517.        ],\n",
              "        [5174.        , 1869.        , 7043.        ]]))"
            ]
          },
          "metadata": {
            "tags": []
          },
          "execution_count": 43
        }
      ]
    },
    {
      "cell_type": "code",
      "metadata": {
        "colab": {
          "base_uri": "https://localhost:8080/"
        },
        "id": "MC7e4EFaHt_E",
        "outputId": "e83f5e78-3c62-487e-8116-a5098d931447"
      },
      "source": [
        "#chi square contingency\n",
        "ity_obs = pd.crosstab(df['Internet Type'],df['Churn Label'],margins=True)\n",
        "chi2_contingency(ity_obs)\n",
        "#result is reject H0 variable is independent, means tbere is a correlation (dependent)"
      ],
      "id": "MC7e4EFaHt_E",
      "execution_count": null,
      "outputs": [
        {
          "output_type": "execute_result",
          "data": {
            "text/plain": [
              "(653.8320544960782,\n",
              " 6.1847499036772994e-136,\n",
              " 8,\n",
              " array([[ 609.74300724,  220.25699276,  830.        ],\n",
              "        [1213.60897345,  438.39102655, 1652.        ],\n",
              "        [2229.60244214,  805.39755786, 3035.        ],\n",
              "        [1121.04557717,  404.95442283, 1526.        ],\n",
              "        [5174.        , 1869.        , 7043.        ]]))"
            ]
          },
          "metadata": {
            "tags": []
          },
          "execution_count": 44
        }
      ]
    },
    {
      "cell_type": "code",
      "metadata": {
        "colab": {
          "base_uri": "https://localhost:8080/"
        },
        "id": "Rbi1A7nSIf0B",
        "outputId": "c1d3a269-60b8-43bd-c16b-36f92e3da2de"
      },
      "source": [
        "#point biserial correlation, Pearson corr\n",
        "df['Avg Monthly GB Download'].corr(df['encoded_label'])"
      ],
      "id": "Rbi1A7nSIf0B",
      "execution_count": null,
      "outputs": [
        {
          "output_type": "execute_result",
          "data": {
            "text/plain": [
              "0.048867552338053295"
            ]
          },
          "metadata": {
            "tags": []
          },
          "execution_count": 45
        }
      ]
    },
    {
      "cell_type": "code",
      "metadata": {
        "colab": {
          "base_uri": "https://localhost:8080/"
        },
        "id": "DGDDLjZrIu3A",
        "outputId": "e06a32a8-39cc-406d-a2b4-2af9f01751fe"
      },
      "source": [
        "#chi square contingency\n",
        "ons_obs = pd.crosstab(df['Online Security'],df['Churn Label'],margins=True)\n",
        "chi2_contingency(ons_obs)\n",
        "#result is reject H0 variable is independent, means tbere is a correlation (dependent)"
      ],
      "id": "DGDDLjZrIu3A",
      "execution_count": null,
      "outputs": [
        {
          "output_type": "execute_result",
          "data": {
            "text/plain": [
              "(206.4897944324984,\n",
              " 1.5113521208234787e-43,\n",
              " 4,\n",
              " array([[3690.78176913, 1333.21823087, 5024.        ],\n",
              "        [1483.21823087,  535.78176913, 2019.        ],\n",
              "        [5174.        , 1869.        , 7043.        ]]))"
            ]
          },
          "metadata": {
            "tags": []
          },
          "execution_count": 46
        }
      ]
    },
    {
      "cell_type": "code",
      "metadata": {
        "colab": {
          "base_uri": "https://localhost:8080/"
        },
        "id": "U8sz0Bo9JGoX",
        "outputId": "4e4f53e2-db63-4a84-9092-fbe85109aa12"
      },
      "source": [
        "#chi square contingency\n",
        "onb_obs = pd.crosstab(df['Online Backup'],df['Churn Label'],margins=True)\n",
        "chi2_contingency(onb_obs)\n",
        "#result is reject H0 variable is independent, means tbere is a correlation (dependent)"
      ],
      "id": "U8sz0Bo9JGoX",
      "execution_count": null,
      "outputs": [
        {
          "output_type": "execute_result",
          "data": {
            "text/plain": [
              "(47.651976377170385,\n",
              " 1.1153504535976225e-09,\n",
              " 4,\n",
              " array([[3389.58341616, 1224.41658384, 4614.        ],\n",
              "        [1784.41658384,  644.58341616, 2429.        ],\n",
              "        [5174.        , 1869.        , 7043.        ]]))"
            ]
          },
          "metadata": {
            "tags": []
          },
          "execution_count": 47
        }
      ]
    },
    {
      "cell_type": "code",
      "metadata": {
        "colab": {
          "base_uri": "https://localhost:8080/"
        },
        "id": "X-DAx5OgJfiM",
        "outputId": "2e93b1f5-3473-4d4c-c799-6861be3fca27"
      },
      "source": [
        "#chi square contingency\n",
        "dpp_obs = pd.crosstab(df['Device Protection Plan'],df['Churn Label'],margins=True)\n",
        "chi2_contingency(dpp_obs)\n",
        "#result is reject H0 variable is independent, means tbere is a correlation (dependent)"
      ],
      "id": "X-DAx5OgJfiM",
      "execution_count": null,
      "outputs": [
        {
          "output_type": "execute_result",
          "data": {
            "text/plain": [
              "(30.828041948997473,\n",
              " 3.3188737402615326e-06,\n",
              " 4,\n",
              " array([[3394.72582706, 1226.27417294, 4621.        ],\n",
              "        [1779.27417294,  642.72582706, 2422.        ],\n",
              "        [5174.        , 1869.        , 7043.        ]]))"
            ]
          },
          "metadata": {
            "tags": []
          },
          "execution_count": 48
        }
      ]
    },
    {
      "cell_type": "code",
      "metadata": {
        "colab": {
          "base_uri": "https://localhost:8080/"
        },
        "id": "aNzCtSoeJ4U-",
        "outputId": "70f9e8ab-0888-4425-dc5f-f7b190220157"
      },
      "source": [
        "#chi square contingency\n",
        "pts_obs = pd.crosstab(df['Premium Tech Support'],df['Churn Label'],margins=True)\n",
        "chi2_contingency(pts_obs)\n",
        "#result is reject H0 variable is independent, means tbere is a correlation (dependent)"
      ],
      "id": "aNzCtSoeJ4U-",
      "execution_count": null,
      "outputs": [
        {
          "output_type": "execute_result",
          "data": {
            "text/plain": [
              "(190.9877074334982,\n",
              " 3.251216770750026e-40,\n",
              " 4,\n",
              " array([[3672.4160159, 1326.5839841, 4999.       ],\n",
              "        [1501.5839841,  542.4160159, 2044.       ],\n",
              "        [5174.       , 1869.       , 7043.       ]]))"
            ]
          },
          "metadata": {
            "tags": []
          },
          "execution_count": 49
        }
      ]
    },
    {
      "cell_type": "code",
      "metadata": {
        "colab": {
          "base_uri": "https://localhost:8080/"
        },
        "id": "cKTs3TnHKIt7",
        "outputId": "1bafd006-941d-4e49-d416-6061d5068f30"
      },
      "source": [
        "#chi square contingency\n",
        "stv_obs = pd.crosstab(df['Streaming TV'],df['Churn Label'],margins=True)\n",
        "chi2_contingency(stv_obs)\n",
        "#result is reject H0 variable is independent, means tbere is a correlation (dependent)"
      ],
      "id": "cKTs3TnHKIt7",
      "execution_count": null,
      "outputs": [
        {
          "output_type": "execute_result",
          "data": {
            "text/plain": [
              "(28.15613831361442,\n",
              " 1.1596260964887932e-05,\n",
              " 4,\n",
              " array([[3185.35624024, 1150.64375976, 4336.        ],\n",
              "        [1988.64375976,  718.35624024, 2707.        ],\n",
              "        [5174.        , 1869.        , 7043.        ]]))"
            ]
          },
          "metadata": {
            "tags": []
          },
          "execution_count": 50
        }
      ]
    },
    {
      "cell_type": "code",
      "metadata": {
        "colab": {
          "base_uri": "https://localhost:8080/"
        },
        "id": "pTY5So4iKni0",
        "outputId": "ca819a0d-b734-4b2a-d71e-ec81a8742990"
      },
      "source": [
        "#chi square contingency\n",
        "stm_obs = pd.crosstab(df['Streaming Movies'],df['Churn Label'],margins=True)\n",
        "chi2_contingency(stm_obs)\n",
        "#result is reject H0 variable is independent, means tbere is a correlation (dependent)"
      ],
      "id": "pTY5So4iKni0",
      "execution_count": null,
      "outputs": [
        {
          "output_type": "execute_result",
          "data": {
            "text/plain": [
              "(26.535871917964826,\n",
              " 2.4670035709610893e-05,\n",
              " 4,\n",
              " array([[3166.99048701, 1144.00951299, 4311.        ],\n",
              "        [2007.00951299,  724.99048701, 2732.        ],\n",
              "        [5174.        , 1869.        , 7043.        ]]))"
            ]
          },
          "metadata": {
            "tags": []
          },
          "execution_count": 51
        }
      ]
    },
    {
      "cell_type": "code",
      "metadata": {
        "colab": {
          "base_uri": "https://localhost:8080/"
        },
        "id": "HUrRDdwHIqN7",
        "outputId": "569f9a86-3c3d-46ee-d4fd-dab08433bfec"
      },
      "source": [
        "#chi square contingency\n",
        "stu_obs = pd.crosstab(df['Streaming Music'],df['Churn Label'],margins=True)\n",
        "chi2_contingency(stu_obs)\n",
        "#result is reject H0 variable is independent, means tbere is a correlation (dependent)\n",
        "#weak results"
      ],
      "id": "HUrRDdwHIqN7",
      "execution_count": null,
      "outputs": [
        {
          "output_type": "execute_result",
          "data": {
            "text/plain": [
              "(14.636671272464014,\n",
              " 0.00551726261301943,\n",
              " 4,\n",
              " array([[3346.24023853, 1208.75976147, 4555.        ],\n",
              "        [1827.75976147,  660.24023853, 2488.        ],\n",
              "        [5174.        , 1869.        , 7043.        ]]))"
            ]
          },
          "metadata": {
            "tags": []
          },
          "execution_count": 52
        }
      ]
    },
    {
      "cell_type": "code",
      "metadata": {
        "colab": {
          "base_uri": "https://localhost:8080/"
        },
        "id": "UWi_6cKPHkwv",
        "outputId": "afde3ae8-43ee-4c9b-ed6a-e791b8db0e77"
      },
      "source": [
        "#chi square contingency\n",
        "uda_obs = pd.crosstab(df['Unlimited Data'],df['Churn Label'],margins=True)\n",
        "chi2_contingency(uda_obs)\n",
        "#result is reject H0 variable is independent, means tbere is a correlation (dependent)"
      ],
      "id": "UWi_6cKPHkwv",
      "execution_count": null,
      "outputs": [
        {
          "output_type": "execute_result",
          "data": {
            "text/plain": [
              "(195.35290590193162,\n",
              " 3.748599141190459e-41,\n",
              " 4,\n",
              " array([[1688.18003692,  609.81996308, 2298.        ],\n",
              "        [3485.81996308, 1259.18003692, 4745.        ],\n",
              "        [5174.        , 1869.        , 7043.        ]]))"
            ]
          },
          "metadata": {
            "tags": []
          },
          "execution_count": 53
        }
      ]
    },
    {
      "cell_type": "code",
      "metadata": {
        "colab": {
          "base_uri": "https://localhost:8080/"
        },
        "id": "M1d7MKYuMFVO",
        "outputId": "ec8b2f4d-8a66-488a-fdfe-719586c901fc"
      },
      "source": [
        "#chi square contingency\n",
        "ctr_obs = pd.crosstab(df['Contract'],df['Churn Label'],margins=True)\n",
        "chi2_contingency(ctr_obs)\n",
        "#result is reject H0 variable is independent, means tbere is a correlation (dependent)"
      ],
      "id": "M1d7MKYuMFVO",
      "execution_count": null,
      "outputs": [
        {
          "output_type": "execute_result",
          "data": {
            "text/plain": [
              "(1445.2932428377585,\n",
              " 3.77210578006437e-309,\n",
              " 6,\n",
              " array([[2652.01476643,  957.98523357, 3610.        ],\n",
              "        [1138.67670027,  411.32329973, 1550.        ],\n",
              "        [1383.3085333 ,  499.6914667 , 1883.        ],\n",
              "        [5174.        , 1869.        , 7043.        ]]))"
            ]
          },
          "metadata": {
            "tags": []
          },
          "execution_count": 54
        }
      ]
    },
    {
      "cell_type": "code",
      "metadata": {
        "colab": {
          "base_uri": "https://localhost:8080/"
        },
        "id": "d9viewxAHhNo",
        "outputId": "fa2ffe35-0b79-4e4f-d3db-6e76f3de310a"
      },
      "source": [
        "#chi square contingency\n",
        "plb_obs = pd.crosstab(df['Paperless Billing'],df['Churn Label'],margins=True)\n",
        "chi2_contingency(plb_obs)\n",
        "#result is reject H0 variable is independent, means tbere is a correlation (dependent)"
      ],
      "id": "d9viewxAHhNo",
      "execution_count": null,
      "outputs": [
        {
          "output_type": "execute_result",
          "data": {
            "text/plain": [
              "(259.1609742710177,\n",
              " 6.914929538933956e-55,\n",
              " 4,\n",
              " array([[2109.85773108,  762.14226892, 2872.        ],\n",
              "        [3064.14226892, 1106.85773108, 4171.        ],\n",
              "        [5174.        , 1869.        , 7043.        ]]))"
            ]
          },
          "metadata": {
            "tags": []
          },
          "execution_count": 55
        }
      ]
    },
    {
      "cell_type": "code",
      "metadata": {
        "colab": {
          "base_uri": "https://localhost:8080/"
        },
        "id": "s09Zgq0ONXR2",
        "outputId": "9f0bebb6-8134-4b6e-d6a1-bf458512ae07"
      },
      "source": [
        "#chi square contingency\n",
        "pmm_obs = pd.crosstab(df['Payment Method'],df['Churn Label'],margins=True)\n",
        "chi2_contingency(pmm_obs)\n",
        "#result is reject H0 variable is independent, means tbere is a correlation (dependent)"
      ],
      "id": "s09Zgq0ONXR2",
      "execution_count": null,
      "outputs": [
        {
          "output_type": "execute_result",
          "data": {
            "text/plain": [
              "(337.83116120290356,\n",
              " 6.314615211394561e-70,\n",
              " 6,\n",
              " array([[2871.66917507, 1037.33082493, 3909.        ],\n",
              "        [2019.49822519,  729.50177481, 2749.        ],\n",
              "        [ 282.83259974,  102.16740026,  385.        ],\n",
              "        [5174.        , 1869.        , 7043.        ]]))"
            ]
          },
          "metadata": {
            "tags": []
          },
          "execution_count": 56
        }
      ]
    },
    {
      "cell_type": "code",
      "metadata": {
        "colab": {
          "base_uri": "https://localhost:8080/"
        },
        "id": "xnap3QOmOEds",
        "outputId": "139c3e59-3be8-4e49-b2f9-2241bb37cb90"
      },
      "source": [
        "#point biserial correlation, Pearson corr\n",
        "df['Monthly Charge'].corr(df['encoded_label'])\n",
        "#multicollinearity with total charges"
      ],
      "id": "xnap3QOmOEds",
      "execution_count": null,
      "outputs": [
        {
          "output_type": "execute_result",
          "data": {
            "text/plain": [
              "0.19335642223784683"
            ]
          },
          "metadata": {
            "tags": []
          },
          "execution_count": 57
        }
      ]
    },
    {
      "cell_type": "code",
      "metadata": {
        "colab": {
          "base_uri": "https://localhost:8080/"
        },
        "id": "UUB_8MvpHhJu",
        "outputId": "935acf05-c36a-4878-f692-3b84d04ad3d5"
      },
      "source": [
        "#point biserial correlation, Pearson corr\n",
        "df['Total Charges'].corr(df['encoded_label'])"
      ],
      "id": "UUB_8MvpHhJu",
      "execution_count": null,
      "outputs": [
        {
          "output_type": "execute_result",
          "data": {
            "text/plain": [
              "-0.19854608810394525"
            ]
          },
          "metadata": {
            "tags": []
          },
          "execution_count": 58
        }
      ]
    },
    {
      "cell_type": "code",
      "metadata": {
        "colab": {
          "base_uri": "https://localhost:8080/"
        },
        "id": "c3YDgcesHhFG",
        "outputId": "767b3db1-2c50-449e-e271-b0787ecf1c44"
      },
      "source": [
        "#point biserial correlation, Pearson corr\n",
        "df['Total Refunds'].corr(df['encoded_label'])"
      ],
      "id": "c3YDgcesHhFG",
      "execution_count": null,
      "outputs": [
        {
          "output_type": "execute_result",
          "data": {
            "text/plain": [
              "-0.03370933233112317"
            ]
          },
          "metadata": {
            "tags": []
          },
          "execution_count": 59
        }
      ]
    },
    {
      "cell_type": "code",
      "metadata": {
        "colab": {
          "base_uri": "https://localhost:8080/"
        },
        "id": "K0oOLuHOHhBg",
        "outputId": "de9e2b5d-dbdc-46ba-abd7-3da3f6783a0f"
      },
      "source": [
        "#point biserial correlation, Pearson corr\n",
        "df['Total Revenue'].corr(df['encoded_label'])"
      ],
      "id": "K0oOLuHOHhBg",
      "execution_count": null,
      "outputs": [
        {
          "output_type": "execute_result",
          "data": {
            "text/plain": [
              "-0.22300280138238684"
            ]
          },
          "metadata": {
            "tags": []
          },
          "execution_count": 60
        }
      ]
    },
    {
      "cell_type": "code",
      "metadata": {
        "colab": {
          "base_uri": "https://localhost:8080/"
        },
        "id": "wwtG2C3AHg9N",
        "outputId": "c8535e57-db3f-4413-85be-e0574b3d9406"
      },
      "source": [
        "#point biserial correlation, Pearson corr\n",
        "df['Satisfaction Score'].corr(df['encoded_label'])"
      ],
      "id": "wwtG2C3AHg9N",
      "execution_count": null,
      "outputs": [
        {
          "output_type": "execute_result",
          "data": {
            "text/plain": [
              "-0.7546490292381518"
            ]
          },
          "metadata": {
            "tags": []
          },
          "execution_count": 61
        }
      ]
    },
    {
      "cell_type": "markdown",
      "metadata": {
        "id": "1UzNhUeiGR5-"
      },
      "source": [
        "# Selected Data"
      ],
      "id": "1UzNhUeiGR5-"
    },
    {
      "cell_type": "code",
      "metadata": {
        "colab": {
          "base_uri": "https://localhost:8080/"
        },
        "id": "_uhOCl03HgwZ",
        "outputId": "f5fea687-9849-4406-a27a-4a783c6cf592"
      },
      "source": [
        "df = df[['Under 30','Married',\n",
        "         'Number of Dependents','Number of Referrals',\n",
        "         'Tenure in Months',\n",
        "         'Offer','Multiple Lines',\n",
        "         'Internet Service','Internet Type',\n",
        "         'Online Security','Online Backup',\n",
        "         'Device Protection Plan','Premium Tech Support',\n",
        "         'Streaming TV','Streaming Movies',\n",
        "         'Streaming Music','Unlimited Data',\n",
        "         'Contract','Paperless Billing',\n",
        "         'Payment Method','Total Charges',\n",
        "         'Total Revenue','Satisfaction Score',\n",
        "         'Churn Label']].copy()\n",
        "df.head()"
      ],
      "id": "_uhOCl03HgwZ",
      "execution_count": null,
      "outputs": [
        {
          "output_type": "execute_result",
          "data": {
            "text/html": [
              "<div>\n",
              "<style scoped>\n",
              "    .dataframe tbody tr th:only-of-type {\n",
              "        vertical-align: middle;\n",
              "    }\n",
              "\n",
              "    .dataframe tbody tr th {\n",
              "        vertical-align: top;\n",
              "    }\n",
              "\n",
              "    .dataframe thead th {\n",
              "        text-align: right;\n",
              "    }\n",
              "</style>\n",
              "<table border=\"1\" class=\"dataframe\">\n",
              "  <thead>\n",
              "    <tr style=\"text-align: right;\">\n",
              "      <th></th>\n",
              "      <th>Under 30</th>\n",
              "      <th>Married</th>\n",
              "      <th>Number of Dependents</th>\n",
              "      <th>Number of Referrals</th>\n",
              "      <th>Tenure in Months</th>\n",
              "      <th>Offer</th>\n",
              "      <th>Multiple Lines</th>\n",
              "      <th>Internet Service</th>\n",
              "      <th>Internet Type</th>\n",
              "      <th>Online Security</th>\n",
              "      <th>...</th>\n",
              "      <th>Streaming Movies</th>\n",
              "      <th>Streaming Music</th>\n",
              "      <th>Unlimited Data</th>\n",
              "      <th>Contract</th>\n",
              "      <th>Paperless Billing</th>\n",
              "      <th>Payment Method</th>\n",
              "      <th>Total Charges</th>\n",
              "      <th>Total Revenue</th>\n",
              "      <th>Satisfaction Score</th>\n",
              "      <th>Churn Label</th>\n",
              "    </tr>\n",
              "  </thead>\n",
              "  <tbody>\n",
              "    <tr>\n",
              "      <th>0</th>\n",
              "      <td>No</td>\n",
              "      <td>No</td>\n",
              "      <td>0</td>\n",
              "      <td>0</td>\n",
              "      <td>1</td>\n",
              "      <td>None</td>\n",
              "      <td>No</td>\n",
              "      <td>Yes</td>\n",
              "      <td>DSL</td>\n",
              "      <td>No</td>\n",
              "      <td>...</td>\n",
              "      <td>Yes</td>\n",
              "      <td>No</td>\n",
              "      <td>No</td>\n",
              "      <td>Month-to-Month</td>\n",
              "      <td>Yes</td>\n",
              "      <td>Bank Withdrawal</td>\n",
              "      <td>39.65</td>\n",
              "      <td>59.65</td>\n",
              "      <td>3</td>\n",
              "      <td>Yes</td>\n",
              "    </tr>\n",
              "    <tr>\n",
              "      <th>1</th>\n",
              "      <td>No</td>\n",
              "      <td>Yes</td>\n",
              "      <td>1</td>\n",
              "      <td>1</td>\n",
              "      <td>8</td>\n",
              "      <td>Offer E</td>\n",
              "      <td>Yes</td>\n",
              "      <td>Yes</td>\n",
              "      <td>Fiber Optic</td>\n",
              "      <td>No</td>\n",
              "      <td>...</td>\n",
              "      <td>No</td>\n",
              "      <td>No</td>\n",
              "      <td>Yes</td>\n",
              "      <td>Month-to-Month</td>\n",
              "      <td>Yes</td>\n",
              "      <td>Credit Card</td>\n",
              "      <td>633.30</td>\n",
              "      <td>1024.10</td>\n",
              "      <td>3</td>\n",
              "      <td>Yes</td>\n",
              "    </tr>\n",
              "    <tr>\n",
              "      <th>2</th>\n",
              "      <td>No</td>\n",
              "      <td>No</td>\n",
              "      <td>3</td>\n",
              "      <td>0</td>\n",
              "      <td>18</td>\n",
              "      <td>Offer D</td>\n",
              "      <td>Yes</td>\n",
              "      <td>Yes</td>\n",
              "      <td>Fiber Optic</td>\n",
              "      <td>No</td>\n",
              "      <td>...</td>\n",
              "      <td>Yes</td>\n",
              "      <td>Yes</td>\n",
              "      <td>Yes</td>\n",
              "      <td>Month-to-Month</td>\n",
              "      <td>Yes</td>\n",
              "      <td>Bank Withdrawal</td>\n",
              "      <td>1752.55</td>\n",
              "      <td>1910.88</td>\n",
              "      <td>2</td>\n",
              "      <td>Yes</td>\n",
              "    </tr>\n",
              "    <tr>\n",
              "      <th>3</th>\n",
              "      <td>No</td>\n",
              "      <td>Yes</td>\n",
              "      <td>1</td>\n",
              "      <td>1</td>\n",
              "      <td>25</td>\n",
              "      <td>Offer C</td>\n",
              "      <td>No</td>\n",
              "      <td>Yes</td>\n",
              "      <td>Fiber Optic</td>\n",
              "      <td>No</td>\n",
              "      <td>...</td>\n",
              "      <td>Yes</td>\n",
              "      <td>No</td>\n",
              "      <td>Yes</td>\n",
              "      <td>Month-to-Month</td>\n",
              "      <td>Yes</td>\n",
              "      <td>Bank Withdrawal</td>\n",
              "      <td>2514.50</td>\n",
              "      <td>2995.07</td>\n",
              "      <td>2</td>\n",
              "      <td>Yes</td>\n",
              "    </tr>\n",
              "    <tr>\n",
              "      <th>4</th>\n",
              "      <td>No</td>\n",
              "      <td>Yes</td>\n",
              "      <td>1</td>\n",
              "      <td>1</td>\n",
              "      <td>37</td>\n",
              "      <td>Offer C</td>\n",
              "      <td>Yes</td>\n",
              "      <td>Yes</td>\n",
              "      <td>Fiber Optic</td>\n",
              "      <td>No</td>\n",
              "      <td>...</td>\n",
              "      <td>No</td>\n",
              "      <td>No</td>\n",
              "      <td>Yes</td>\n",
              "      <td>Month-to-Month</td>\n",
              "      <td>Yes</td>\n",
              "      <td>Bank Withdrawal</td>\n",
              "      <td>2868.15</td>\n",
              "      <td>3102.36</td>\n",
              "      <td>2</td>\n",
              "      <td>Yes</td>\n",
              "    </tr>\n",
              "  </tbody>\n",
              "</table>\n",
              "<p>5 rows × 24 columns</p>\n",
              "</div>"
            ],
            "text/plain": [
              "  Under 30 Married  Number of Dependents  Number of Referrals  \\\n",
              "0       No      No                     0                    0   \n",
              "1       No     Yes                     1                    1   \n",
              "2       No      No                     3                    0   \n",
              "3       No     Yes                     1                    1   \n",
              "4       No     Yes                     1                    1   \n",
              "\n",
              "   Tenure in Months    Offer Multiple Lines Internet Service Internet Type  \\\n",
              "0                 1     None             No              Yes           DSL   \n",
              "1                 8  Offer E            Yes              Yes   Fiber Optic   \n",
              "2                18  Offer D            Yes              Yes   Fiber Optic   \n",
              "3                25  Offer C             No              Yes   Fiber Optic   \n",
              "4                37  Offer C            Yes              Yes   Fiber Optic   \n",
              "\n",
              "  Online Security  ... Streaming Movies Streaming Music Unlimited Data  \\\n",
              "0              No  ...              Yes              No             No   \n",
              "1              No  ...               No              No            Yes   \n",
              "2              No  ...              Yes             Yes            Yes   \n",
              "3              No  ...              Yes              No            Yes   \n",
              "4              No  ...               No              No            Yes   \n",
              "\n",
              "         Contract Paperless Billing   Payment Method Total Charges  \\\n",
              "0  Month-to-Month               Yes  Bank Withdrawal         39.65   \n",
              "1  Month-to-Month               Yes      Credit Card        633.30   \n",
              "2  Month-to-Month               Yes  Bank Withdrawal       1752.55   \n",
              "3  Month-to-Month               Yes  Bank Withdrawal       2514.50   \n",
              "4  Month-to-Month               Yes  Bank Withdrawal       2868.15   \n",
              "\n",
              "  Total Revenue Satisfaction Score Churn Label  \n",
              "0         59.65                  3         Yes  \n",
              "1       1024.10                  3         Yes  \n",
              "2       1910.88                  2         Yes  \n",
              "3       2995.07                  2         Yes  \n",
              "4       3102.36                  2         Yes  \n",
              "\n",
              "[5 rows x 24 columns]"
            ]
          },
          "metadata": {
            "tags": []
          },
          "execution_count": 62
        }
      ]
    },
    {
      "cell_type": "code",
      "metadata": {
        "colab": {
          "base_uri": "https://localhost:8080/"
        },
        "id": "qpI6fkqQHgsv",
        "outputId": "c6cbb1e5-e2a8-40e7-ad00-454ebd76f6ba"
      },
      "source": [
        "df.info()"
      ],
      "id": "qpI6fkqQHgsv",
      "execution_count": null,
      "outputs": [
        {
          "output_type": "stream",
          "text": [
            "<class 'pandas.core.frame.DataFrame'>\n",
            "Int64Index: 7043 entries, 0 to 7042\n",
            "Data columns (total 24 columns):\n",
            " #   Column                  Non-Null Count  Dtype  \n",
            "---  ------                  --------------  -----  \n",
            " 0   Under 30                7043 non-null   object \n",
            " 1   Married                 7043 non-null   object \n",
            " 2   Number of Dependents    7043 non-null   int64  \n",
            " 3   Number of Referrals     7043 non-null   int64  \n",
            " 4   Tenure in Months        7043 non-null   int64  \n",
            " 5   Offer                   7043 non-null   object \n",
            " 6   Multiple Lines          7043 non-null   object \n",
            " 7   Internet Service        7043 non-null   object \n",
            " 8   Internet Type           7043 non-null   object \n",
            " 9   Online Security         7043 non-null   object \n",
            " 10  Online Backup           7043 non-null   object \n",
            " 11  Device Protection Plan  7043 non-null   object \n",
            " 12  Premium Tech Support    7043 non-null   object \n",
            " 13  Streaming TV            7043 non-null   object \n",
            " 14  Streaming Movies        7043 non-null   object \n",
            " 15  Streaming Music         7043 non-null   object \n",
            " 16  Unlimited Data          7043 non-null   object \n",
            " 17  Contract                7043 non-null   object \n",
            " 18  Paperless Billing       7043 non-null   object \n",
            " 19  Payment Method          7043 non-null   object \n",
            " 20  Total Charges           7043 non-null   float64\n",
            " 21  Total Revenue           7043 non-null   float64\n",
            " 22  Satisfaction Score      7043 non-null   int64  \n",
            " 23  Churn Label             7043 non-null   object \n",
            "dtypes: float64(2), int64(4), object(18)\n",
            "memory usage: 1.3+ MB\n"
          ],
          "name": "stdout"
        }
      ]
    },
    {
      "cell_type": "code",
      "metadata": {
        "colab": {
          "base_uri": "https://localhost:8080/"
        },
        "id": "gjyVJS_PHgoC",
        "outputId": "c500c518-50a5-4520-c8b5-705dc14cc0e7"
      },
      "source": [
        "round(df.describe(),2)"
      ],
      "id": "gjyVJS_PHgoC",
      "execution_count": null,
      "outputs": [
        {
          "output_type": "execute_result",
          "data": {
            "text/html": [
              "<div>\n",
              "<style scoped>\n",
              "    .dataframe tbody tr th:only-of-type {\n",
              "        vertical-align: middle;\n",
              "    }\n",
              "\n",
              "    .dataframe tbody tr th {\n",
              "        vertical-align: top;\n",
              "    }\n",
              "\n",
              "    .dataframe thead th {\n",
              "        text-align: right;\n",
              "    }\n",
              "</style>\n",
              "<table border=\"1\" class=\"dataframe\">\n",
              "  <thead>\n",
              "    <tr style=\"text-align: right;\">\n",
              "      <th></th>\n",
              "      <th>Number of Dependents</th>\n",
              "      <th>Number of Referrals</th>\n",
              "      <th>Tenure in Months</th>\n",
              "      <th>Total Charges</th>\n",
              "      <th>Total Revenue</th>\n",
              "      <th>Satisfaction Score</th>\n",
              "    </tr>\n",
              "  </thead>\n",
              "  <tbody>\n",
              "    <tr>\n",
              "      <th>count</th>\n",
              "      <td>7043.00</td>\n",
              "      <td>7043.00</td>\n",
              "      <td>7043.00</td>\n",
              "      <td>7043.00</td>\n",
              "      <td>7043.00</td>\n",
              "      <td>7043.00</td>\n",
              "    </tr>\n",
              "    <tr>\n",
              "      <th>mean</th>\n",
              "      <td>0.47</td>\n",
              "      <td>1.95</td>\n",
              "      <td>32.39</td>\n",
              "      <td>2280.38</td>\n",
              "      <td>3034.38</td>\n",
              "      <td>3.24</td>\n",
              "    </tr>\n",
              "    <tr>\n",
              "      <th>std</th>\n",
              "      <td>0.96</td>\n",
              "      <td>3.00</td>\n",
              "      <td>24.54</td>\n",
              "      <td>2266.22</td>\n",
              "      <td>2865.20</td>\n",
              "      <td>1.20</td>\n",
              "    </tr>\n",
              "    <tr>\n",
              "      <th>min</th>\n",
              "      <td>0.00</td>\n",
              "      <td>0.00</td>\n",
              "      <td>1.00</td>\n",
              "      <td>18.80</td>\n",
              "      <td>21.36</td>\n",
              "      <td>1.00</td>\n",
              "    </tr>\n",
              "    <tr>\n",
              "      <th>25%</th>\n",
              "      <td>0.00</td>\n",
              "      <td>0.00</td>\n",
              "      <td>9.00</td>\n",
              "      <td>400.15</td>\n",
              "      <td>605.61</td>\n",
              "      <td>3.00</td>\n",
              "    </tr>\n",
              "    <tr>\n",
              "      <th>50%</th>\n",
              "      <td>0.00</td>\n",
              "      <td>0.00</td>\n",
              "      <td>29.00</td>\n",
              "      <td>1394.55</td>\n",
              "      <td>2108.64</td>\n",
              "      <td>3.00</td>\n",
              "    </tr>\n",
              "    <tr>\n",
              "      <th>75%</th>\n",
              "      <td>0.00</td>\n",
              "      <td>3.00</td>\n",
              "      <td>55.00</td>\n",
              "      <td>3786.60</td>\n",
              "      <td>4801.15</td>\n",
              "      <td>4.00</td>\n",
              "    </tr>\n",
              "    <tr>\n",
              "      <th>max</th>\n",
              "      <td>9.00</td>\n",
              "      <td>11.00</td>\n",
              "      <td>72.00</td>\n",
              "      <td>8684.80</td>\n",
              "      <td>11979.34</td>\n",
              "      <td>5.00</td>\n",
              "    </tr>\n",
              "  </tbody>\n",
              "</table>\n",
              "</div>"
            ],
            "text/plain": [
              "       Number of Dependents  Number of Referrals  Tenure in Months  \\\n",
              "count               7043.00              7043.00           7043.00   \n",
              "mean                   0.47                 1.95             32.39   \n",
              "std                    0.96                 3.00             24.54   \n",
              "min                    0.00                 0.00              1.00   \n",
              "25%                    0.00                 0.00              9.00   \n",
              "50%                    0.00                 0.00             29.00   \n",
              "75%                    0.00                 3.00             55.00   \n",
              "max                    9.00                11.00             72.00   \n",
              "\n",
              "       Total Charges  Total Revenue  Satisfaction Score  \n",
              "count        7043.00        7043.00             7043.00  \n",
              "mean         2280.38        3034.38                3.24  \n",
              "std          2266.22        2865.20                1.20  \n",
              "min            18.80          21.36                1.00  \n",
              "25%           400.15         605.61                3.00  \n",
              "50%          1394.55        2108.64                3.00  \n",
              "75%          3786.60        4801.15                4.00  \n",
              "max          8684.80       11979.34                5.00  "
            ]
          },
          "metadata": {
            "tags": []
          },
          "execution_count": 64
        }
      ]
    },
    {
      "cell_type": "code",
      "metadata": {
        "colab": {
          "base_uri": "https://localhost:8080/"
        },
        "id": "DyIbA4x8HgjQ",
        "outputId": "c81b5a3b-7407-4b50-eaaa-8f1d677f0fea"
      },
      "source": [
        "df.describe(include='object').T"
      ],
      "id": "DyIbA4x8HgjQ",
      "execution_count": null,
      "outputs": [
        {
          "output_type": "execute_result",
          "data": {
            "text/html": [
              "<div>\n",
              "<style scoped>\n",
              "    .dataframe tbody tr th:only-of-type {\n",
              "        vertical-align: middle;\n",
              "    }\n",
              "\n",
              "    .dataframe tbody tr th {\n",
              "        vertical-align: top;\n",
              "    }\n",
              "\n",
              "    .dataframe thead th {\n",
              "        text-align: right;\n",
              "    }\n",
              "</style>\n",
              "<table border=\"1\" class=\"dataframe\">\n",
              "  <thead>\n",
              "    <tr style=\"text-align: right;\">\n",
              "      <th></th>\n",
              "      <th>count</th>\n",
              "      <th>unique</th>\n",
              "      <th>top</th>\n",
              "      <th>freq</th>\n",
              "    </tr>\n",
              "  </thead>\n",
              "  <tbody>\n",
              "    <tr>\n",
              "      <th>Under 30</th>\n",
              "      <td>7043</td>\n",
              "      <td>2</td>\n",
              "      <td>No</td>\n",
              "      <td>5642</td>\n",
              "    </tr>\n",
              "    <tr>\n",
              "      <th>Married</th>\n",
              "      <td>7043</td>\n",
              "      <td>2</td>\n",
              "      <td>No</td>\n",
              "      <td>3641</td>\n",
              "    </tr>\n",
              "    <tr>\n",
              "      <th>Offer</th>\n",
              "      <td>7043</td>\n",
              "      <td>6</td>\n",
              "      <td>None</td>\n",
              "      <td>3877</td>\n",
              "    </tr>\n",
              "    <tr>\n",
              "      <th>Multiple Lines</th>\n",
              "      <td>7043</td>\n",
              "      <td>2</td>\n",
              "      <td>No</td>\n",
              "      <td>4072</td>\n",
              "    </tr>\n",
              "    <tr>\n",
              "      <th>Internet Service</th>\n",
              "      <td>7043</td>\n",
              "      <td>2</td>\n",
              "      <td>Yes</td>\n",
              "      <td>5517</td>\n",
              "    </tr>\n",
              "    <tr>\n",
              "      <th>Internet Type</th>\n",
              "      <td>7043</td>\n",
              "      <td>4</td>\n",
              "      <td>Fiber Optic</td>\n",
              "      <td>3035</td>\n",
              "    </tr>\n",
              "    <tr>\n",
              "      <th>Online Security</th>\n",
              "      <td>7043</td>\n",
              "      <td>2</td>\n",
              "      <td>No</td>\n",
              "      <td>5024</td>\n",
              "    </tr>\n",
              "    <tr>\n",
              "      <th>Online Backup</th>\n",
              "      <td>7043</td>\n",
              "      <td>2</td>\n",
              "      <td>No</td>\n",
              "      <td>4614</td>\n",
              "    </tr>\n",
              "    <tr>\n",
              "      <th>Device Protection Plan</th>\n",
              "      <td>7043</td>\n",
              "      <td>2</td>\n",
              "      <td>No</td>\n",
              "      <td>4621</td>\n",
              "    </tr>\n",
              "    <tr>\n",
              "      <th>Premium Tech Support</th>\n",
              "      <td>7043</td>\n",
              "      <td>2</td>\n",
              "      <td>No</td>\n",
              "      <td>4999</td>\n",
              "    </tr>\n",
              "    <tr>\n",
              "      <th>Streaming TV</th>\n",
              "      <td>7043</td>\n",
              "      <td>2</td>\n",
              "      <td>No</td>\n",
              "      <td>4336</td>\n",
              "    </tr>\n",
              "    <tr>\n",
              "      <th>Streaming Movies</th>\n",
              "      <td>7043</td>\n",
              "      <td>2</td>\n",
              "      <td>No</td>\n",
              "      <td>4311</td>\n",
              "    </tr>\n",
              "    <tr>\n",
              "      <th>Streaming Music</th>\n",
              "      <td>7043</td>\n",
              "      <td>2</td>\n",
              "      <td>No</td>\n",
              "      <td>4555</td>\n",
              "    </tr>\n",
              "    <tr>\n",
              "      <th>Unlimited Data</th>\n",
              "      <td>7043</td>\n",
              "      <td>2</td>\n",
              "      <td>Yes</td>\n",
              "      <td>4745</td>\n",
              "    </tr>\n",
              "    <tr>\n",
              "      <th>Contract</th>\n",
              "      <td>7043</td>\n",
              "      <td>3</td>\n",
              "      <td>Month-to-Month</td>\n",
              "      <td>3610</td>\n",
              "    </tr>\n",
              "    <tr>\n",
              "      <th>Paperless Billing</th>\n",
              "      <td>7043</td>\n",
              "      <td>2</td>\n",
              "      <td>Yes</td>\n",
              "      <td>4171</td>\n",
              "    </tr>\n",
              "    <tr>\n",
              "      <th>Payment Method</th>\n",
              "      <td>7043</td>\n",
              "      <td>3</td>\n",
              "      <td>Bank Withdrawal</td>\n",
              "      <td>3909</td>\n",
              "    </tr>\n",
              "    <tr>\n",
              "      <th>Churn Label</th>\n",
              "      <td>7043</td>\n",
              "      <td>2</td>\n",
              "      <td>No</td>\n",
              "      <td>5174</td>\n",
              "    </tr>\n",
              "  </tbody>\n",
              "</table>\n",
              "</div>"
            ],
            "text/plain": [
              "                       count unique              top  freq\n",
              "Under 30                7043      2               No  5642\n",
              "Married                 7043      2               No  3641\n",
              "Offer                   7043      6             None  3877\n",
              "Multiple Lines          7043      2               No  4072\n",
              "Internet Service        7043      2              Yes  5517\n",
              "Internet Type           7043      4      Fiber Optic  3035\n",
              "Online Security         7043      2               No  5024\n",
              "Online Backup           7043      2               No  4614\n",
              "Device Protection Plan  7043      2               No  4621\n",
              "Premium Tech Support    7043      2               No  4999\n",
              "Streaming TV            7043      2               No  4336\n",
              "Streaming Movies        7043      2               No  4311\n",
              "Streaming Music         7043      2               No  4555\n",
              "Unlimited Data          7043      2              Yes  4745\n",
              "Contract                7043      3   Month-to-Month  3610\n",
              "Paperless Billing       7043      2              Yes  4171\n",
              "Payment Method          7043      3  Bank Withdrawal  3909\n",
              "Churn Label             7043      2               No  5174"
            ]
          },
          "metadata": {
            "tags": []
          },
          "execution_count": 65
        }
      ]
    },
    {
      "cell_type": "code",
      "metadata": {
        "id": "8dDCGwM-HgeD"
      },
      "source": [
        "numerical_features = ['Number of Dependents','Number of Referrals','Tenure in Months','Total Charges','Total Revenue']\n",
        "ordinal_features = ['Satisfaction Score','Contract']\n",
        "categorical_features = ['Under 30','Married','Offer','Multiple Lines','Internet Service','Internet Type',\n",
        "                        'Online Security','Online Backup','Device Protection Plan','Premium Tech Support',\n",
        "                        'Streaming TV','Streaming Movies','Streaming Music','Unlimited Data','Paperless Billing',\n",
        "                        'Payment Method']\n",
        "\n",
        "sat_score = [1,2,3,4,5]\n",
        "contract = ['Month-to-Month','One Year','Two Year']"
      ],
      "id": "8dDCGwM-HgeD",
      "execution_count": null,
      "outputs": []
    },
    {
      "cell_type": "code",
      "metadata": {
        "colab": {
          "base_uri": "https://localhost:8080/"
        },
        "id": "GQPHxojP12dz",
        "outputId": "23f47d71-8685-487b-e8c6-3b082770ef74"
      },
      "source": [
        "df['Churn Label'].value_counts()"
      ],
      "id": "GQPHxojP12dz",
      "execution_count": null,
      "outputs": [
        {
          "output_type": "execute_result",
          "data": {
            "text/plain": [
              "No     5174\n",
              "Yes    1869\n",
              "Name: Churn Label, dtype: int64"
            ]
          },
          "metadata": {
            "tags": []
          },
          "execution_count": 67
        }
      ]
    },
    {
      "cell_type": "code",
      "metadata": {
        "colab": {
          "base_uri": "https://localhost:8080/"
        },
        "id": "fJAJ63z41-dK",
        "outputId": "b2dd00ea-8212-40e3-f1cd-6d3e05a7aefa"
      },
      "source": [
        "round(df['Churn Label'].value_counts() * 100 / df['Churn Label'].value_counts().sum(),2)"
      ],
      "id": "fJAJ63z41-dK",
      "execution_count": null,
      "outputs": [
        {
          "output_type": "execute_result",
          "data": {
            "text/plain": [
              "No     73.46\n",
              "Yes    26.54\n",
              "Name: Churn Label, dtype: float64"
            ]
          },
          "metadata": {
            "tags": []
          },
          "execution_count": 68
        }
      ]
    },
    {
      "cell_type": "markdown",
      "metadata": {
        "id": "LBag261m2Q02"
      },
      "source": [
        "the class is imbalance need further re balance technique"
      ],
      "id": "LBag261m2Q02"
    },
    {
      "cell_type": "markdown",
      "metadata": {
        "id": "rTAH1KQmxBrE"
      },
      "source": [
        "# outliers inspection"
      ],
      "id": "rTAH1KQmxBrE"
    },
    {
      "cell_type": "code",
      "metadata": {
        "id": "WfCiiXS1HgX1"
      },
      "source": [
        "from outliers import smirnov_grubbs as grubbs"
      ],
      "id": "WfCiiXS1HgX1",
      "execution_count": null,
      "outputs": []
    },
    {
      "cell_type": "code",
      "metadata": {
        "colab": {
          "base_uri": "https://localhost:8080/"
        },
        "id": "JsAi4AwzHgSg",
        "outputId": "2b9b3971-6818-4146-c89d-c3abb66ddb5f"
      },
      "source": [
        "for i in numerical_features:\n",
        "    results = f'Feature {i} outliers: {grubbs.two_sided_test_outliers(df[i])}'\n",
        "    print(results)\n",
        "\n",
        "# number of dependents outlier is not considered as outliers"
      ],
      "id": "JsAi4AwzHgSg",
      "execution_count": null,
      "outputs": [
        {
          "output_type": "stream",
          "text": [
            "Feature Number of Dependents outliers: [9, 8, 7]\n",
            "Feature Number of Referrals outliers: []\n",
            "Feature Tenure in Months outliers: []\n",
            "Feature Total Charges outliers: []\n",
            "Feature Total Revenue outliers: []\n"
          ],
          "name": "stdout"
        }
      ]
    },
    {
      "cell_type": "markdown",
      "metadata": {
        "id": "qu8NQKkw1lOd"
      },
      "source": [
        "# pipelining"
      ],
      "id": "qu8NQKkw1lOd"
    },
    {
      "cell_type": "code",
      "metadata": {
        "id": "cPxf4MUg1o06"
      },
      "source": [
        "numerical_transform = Pipeline(steps=[\n",
        "                                      ('num_imputer',SimpleImputer(strategy='mean')),\n",
        "                                      ('scaler',StandardScaler())\n",
        "])\n",
        "\n",
        "categorical_transform = Pipeline(steps=[\n",
        "                                        ('cat_imputer',SimpleImputer(strategy='most_frequent')),\n",
        "                                        ('cat_encoder',OneHotEncoder(drop='first'))\n",
        "])\n",
        "\n",
        "ordinal_transform = Pipeline(steps=[\n",
        "                                    ('ord_imputer',SimpleImputer(strategy='most_frequent')),\n",
        "                                    ('ord_encoder',OrdinalEncoder(categories=[sat_score,contract]))\n",
        "])\n",
        "\n",
        "preprocess = ColumnTransformer(transformers=[\n",
        "                                      ('numerical',numerical_transform,numerical_features),\n",
        "                                      ('categorical',categorical_transform,categorical_features),\n",
        "                                      ('ordinal', ordinal_transform,ordinal_features)\n",
        "])\n",
        "\n",
        "model_pipeline = Pipeline(steps=[('preprocess',preprocess),\n",
        "                                 ('svm',SVC())])"
      ],
      "id": "cPxf4MUg1o06",
      "execution_count": null,
      "outputs": []
    },
    {
      "cell_type": "code",
      "metadata": {
        "id": "k4_j3x9RbZBO"
      },
      "source": [
        "X = df.drop('Churn Label',axis=1)\n",
        "y = df['Churn Label']\n",
        "X_train, X_test, y_train, y_test = train_test_split(X, y, test_size=0.10, random_state=42)"
      ],
      "id": "k4_j3x9RbZBO",
      "execution_count": null,
      "outputs": []
    },
    {
      "cell_type": "code",
      "metadata": {
        "colab": {
          "base_uri": "https://localhost:8080/"
        },
        "id": "KmKieJGsaY2P",
        "outputId": "cea596ce-9008-42e0-b7b8-bf417ddedb78"
      },
      "source": [
        "param_grid = {'svm__degree':[3,4],\n",
        "              'svm__C':[50,100,250],\n",
        "              'svm__class_weight':['balanced'],\n",
        "              'svm__gamma':[0.01]}\n",
        "\n",
        "model_search = GridSearchCV(model_pipeline,param_grid=param_grid,verbose=2)\n",
        "model_search.fit(X_train,y_train)"
      ],
      "id": "KmKieJGsaY2P",
      "execution_count": null,
      "outputs": [
        {
          "output_type": "stream",
          "text": [
            "Fitting 5 folds for each of 6 candidates, totalling 30 fits\n",
            "[CV] END svm__C=50, svm__class_weight=balanced, svm__degree=3, svm__gamma=0.01; total time=   0.4s\n",
            "[CV] END svm__C=50, svm__class_weight=balanced, svm__degree=3, svm__gamma=0.01; total time=   0.3s\n",
            "[CV] END svm__C=50, svm__class_weight=balanced, svm__degree=3, svm__gamma=0.01; total time=   0.4s\n",
            "[CV] END svm__C=50, svm__class_weight=balanced, svm__degree=3, svm__gamma=0.01; total time=   0.4s\n",
            "[CV] END svm__C=50, svm__class_weight=balanced, svm__degree=3, svm__gamma=0.01; total time=   0.4s\n",
            "[CV] END svm__C=50, svm__class_weight=balanced, svm__degree=4, svm__gamma=0.01; total time=   0.3s\n",
            "[CV] END svm__C=50, svm__class_weight=balanced, svm__degree=4, svm__gamma=0.01; total time=   0.4s\n",
            "[CV] END svm__C=50, svm__class_weight=balanced, svm__degree=4, svm__gamma=0.01; total time=   0.4s\n",
            "[CV] END svm__C=50, svm__class_weight=balanced, svm__degree=4, svm__gamma=0.01; total time=   0.4s\n",
            "[CV] END svm__C=50, svm__class_weight=balanced, svm__degree=4, svm__gamma=0.01; total time=   0.4s\n",
            "[CV] END svm__C=100, svm__class_weight=balanced, svm__degree=3, svm__gamma=0.01; total time=   0.3s\n",
            "[CV] END svm__C=100, svm__class_weight=balanced, svm__degree=3, svm__gamma=0.01; total time=   0.4s\n",
            "[CV] END svm__C=100, svm__class_weight=balanced, svm__degree=3, svm__gamma=0.01; total time=   0.4s\n",
            "[CV] END svm__C=100, svm__class_weight=balanced, svm__degree=3, svm__gamma=0.01; total time=   0.4s\n",
            "[CV] END svm__C=100, svm__class_weight=balanced, svm__degree=3, svm__gamma=0.01; total time=   0.4s\n",
            "[CV] END svm__C=100, svm__class_weight=balanced, svm__degree=4, svm__gamma=0.01; total time=   0.3s\n",
            "[CV] END svm__C=100, svm__class_weight=balanced, svm__degree=4, svm__gamma=0.01; total time=   0.4s\n",
            "[CV] END svm__C=100, svm__class_weight=balanced, svm__degree=4, svm__gamma=0.01; total time=   0.4s\n",
            "[CV] END svm__C=100, svm__class_weight=balanced, svm__degree=4, svm__gamma=0.01; total time=   0.4s\n",
            "[CV] END svm__C=100, svm__class_weight=balanced, svm__degree=4, svm__gamma=0.01; total time=   0.4s\n",
            "[CV] END svm__C=250, svm__class_weight=balanced, svm__degree=3, svm__gamma=0.01; total time=   0.4s\n",
            "[CV] END svm__C=250, svm__class_weight=balanced, svm__degree=3, svm__gamma=0.01; total time=   0.4s\n",
            "[CV] END svm__C=250, svm__class_weight=balanced, svm__degree=3, svm__gamma=0.01; total time=   0.4s\n",
            "[CV] END svm__C=250, svm__class_weight=balanced, svm__degree=3, svm__gamma=0.01; total time=   0.4s\n",
            "[CV] END svm__C=250, svm__class_weight=balanced, svm__degree=3, svm__gamma=0.01; total time=   0.4s\n",
            "[CV] END svm__C=250, svm__class_weight=balanced, svm__degree=4, svm__gamma=0.01; total time=   0.4s\n",
            "[CV] END svm__C=250, svm__class_weight=balanced, svm__degree=4, svm__gamma=0.01; total time=   0.4s\n",
            "[CV] END svm__C=250, svm__class_weight=balanced, svm__degree=4, svm__gamma=0.01; total time=   0.4s\n",
            "[CV] END svm__C=250, svm__class_weight=balanced, svm__degree=4, svm__gamma=0.01; total time=   0.5s\n",
            "[CV] END svm__C=250, svm__class_weight=balanced, svm__degree=4, svm__gamma=0.01; total time=   0.4s\n"
          ],
          "name": "stdout"
        },
        {
          "output_type": "execute_result",
          "data": {
            "text/plain": [
              "GridSearchCV(estimator=Pipeline(steps=[('preprocess',\n",
              "                                        ColumnTransformer(transformers=[('numerical',\n",
              "                                                                         Pipeline(steps=[('num_imputer',\n",
              "                                                                                          SimpleImputer()),\n",
              "                                                                                         ('scaler',\n",
              "                                                                                          StandardScaler())]),\n",
              "                                                                         ['Number '\n",
              "                                                                          'of '\n",
              "                                                                          'Dependents',\n",
              "                                                                          'Number '\n",
              "                                                                          'of '\n",
              "                                                                          'Referrals',\n",
              "                                                                          'Tenure '\n",
              "                                                                          'in '\n",
              "                                                                          'Months',\n",
              "                                                                          'Total '\n",
              "                                                                          'Charges',\n",
              "                                                                          'Total '\n",
              "                                                                          'Revenue']),\n",
              "                                                                        ('categorical',\n",
              "                                                                         Pipeline(steps=[('cat_imputer',\n",
              "                                                                                          SimpleImputer(strateg...\n",
              "                                                                        ('ordinal',\n",
              "                                                                         Pipeline(steps=[('ord_imputer',\n",
              "                                                                                          SimpleImputer(strategy='most_frequent')),\n",
              "                                                                                         ('ord_encoder',\n",
              "                                                                                          OrdinalEncoder(categories=[[1,\n",
              "                                                                                                                      2,\n",
              "                                                                                                                      3,\n",
              "                                                                                                                      4,\n",
              "                                                                                                                      5],\n",
              "                                                                                                                     ['Month-to-Month',\n",
              "                                                                                                                      'One '\n",
              "                                                                                                                      'Year',\n",
              "                                                                                                                      'Two '\n",
              "                                                                                                                      'Year']]))]),\n",
              "                                                                         ['Satisfaction '\n",
              "                                                                          'Score',\n",
              "                                                                          'Contract'])])),\n",
              "                                       ('svm', SVC())]),\n",
              "             param_grid={'svm__C': [50, 100, 250],\n",
              "                         'svm__class_weight': ['balanced'],\n",
              "                         'svm__degree': [3, 4], 'svm__gamma': [0.01]},\n",
              "             verbose=2)"
            ]
          },
          "metadata": {
            "tags": []
          },
          "execution_count": 200
        }
      ]
    },
    {
      "cell_type": "code",
      "metadata": {
        "colab": {
          "base_uri": "https://localhost:8080/"
        },
        "id": "qlTfqmSzaZpd",
        "outputId": "9af68582-59ba-4945-f2ef-1fde5b83dd29"
      },
      "source": [
        "model_search.best_estimator_"
      ],
      "id": "qlTfqmSzaZpd",
      "execution_count": null,
      "outputs": [
        {
          "output_type": "execute_result",
          "data": {
            "text/plain": [
              "Pipeline(steps=[('preprocess',\n",
              "                 ColumnTransformer(transformers=[('numerical',\n",
              "                                                  Pipeline(steps=[('num_imputer',\n",
              "                                                                   SimpleImputer()),\n",
              "                                                                  ('scaler',\n",
              "                                                                   StandardScaler())]),\n",
              "                                                  ['Number of Dependents',\n",
              "                                                   'Number of Referrals',\n",
              "                                                   'Tenure in Months',\n",
              "                                                   'Total Charges',\n",
              "                                                   'Total Revenue']),\n",
              "                                                 ('categorical',\n",
              "                                                  Pipeline(steps=[('cat_imputer',\n",
              "                                                                   SimpleImputer(strategy='most_frequent')),\n",
              "                                                                  ('cat_encoder',\n",
              "                                                                   OneH...\n",
              "                                                   'Streaming Movies',\n",
              "                                                   'Streaming Music',\n",
              "                                                   'Unlimited Data',\n",
              "                                                   'Paperless Billing',\n",
              "                                                   'Payment Method']),\n",
              "                                                 ('ordinal',\n",
              "                                                  Pipeline(steps=[('ord_imputer',\n",
              "                                                                   SimpleImputer(strategy='most_frequent')),\n",
              "                                                                  ('ord_encoder',\n",
              "                                                                   OrdinalEncoder(categories=[[1,\n",
              "                                                                                               2,\n",
              "                                                                                               3,\n",
              "                                                                                               4,\n",
              "                                                                                               5],\n",
              "                                                                                              ['Month-to-Month',\n",
              "                                                                                               'One '\n",
              "                                                                                               'Year',\n",
              "                                                                                               'Two '\n",
              "                                                                                               'Year']]))]),\n",
              "                                                  ['Satisfaction Score',\n",
              "                                                   'Contract'])])),\n",
              "                ('svm', SVC(C=100, class_weight='balanced', gamma=0.01))])"
            ]
          },
          "metadata": {
            "tags": []
          },
          "execution_count": 201
        }
      ]
    },
    {
      "cell_type": "code",
      "metadata": {
        "colab": {
          "base_uri": "https://localhost:8080/"
        },
        "id": "I-Gwxgo5b-tO",
        "outputId": "996e61a0-6dfc-4d04-82f7-a05a0a71c7b5"
      },
      "source": [
        "model_search.best_score_"
      ],
      "id": "I-Gwxgo5b-tO",
      "execution_count": null,
      "outputs": [
        {
          "output_type": "execute_result",
          "data": {
            "text/plain": [
              "0.9479337165962468"
            ]
          },
          "metadata": {
            "tags": []
          },
          "execution_count": 202
        }
      ]
    },
    {
      "cell_type": "code",
      "metadata": {
        "id": "Z6HW-exJcugF"
      },
      "source": [
        "y_pred = model_search.predict(X_test)"
      ],
      "id": "Z6HW-exJcugF",
      "execution_count": null,
      "outputs": []
    },
    {
      "cell_type": "code",
      "metadata": {
        "colab": {
          "base_uri": "https://localhost:8080/"
        },
        "id": "H3rC43D3c1r8",
        "outputId": "aeba08bb-c00d-4270-98df-3f6ef02d6b41"
      },
      "source": [
        "print(classification_report(y_test,y_pred))"
      ],
      "id": "H3rC43D3c1r8",
      "execution_count": null,
      "outputs": [
        {
          "output_type": "stream",
          "text": [
            "              precision    recall  f1-score   support\n",
            "\n",
            "          No       0.98      0.94      0.96       521\n",
            "         Yes       0.85      0.95      0.90       184\n",
            "\n",
            "    accuracy                           0.94       705\n",
            "   macro avg       0.92      0.95      0.93       705\n",
            "weighted avg       0.95      0.94      0.95       705\n",
            "\n"
          ],
          "name": "stdout"
        }
      ]
    },
    {
      "cell_type": "code",
      "metadata": {
        "colab": {
          "base_uri": "https://localhost:8080/",
          "height": 296
        },
        "id": "ppW4YEfCdcUW",
        "outputId": "a871e396-df15-4b37-d5d6-995dc3a64b1b"
      },
      "source": [
        "plot_confusion_matrix(model_search,X_test,y_test)"
      ],
      "id": "ppW4YEfCdcUW",
      "execution_count": null,
      "outputs": [
        {
          "output_type": "execute_result",
          "data": {
            "text/plain": [
              "<sklearn.metrics._plot.confusion_matrix.ConfusionMatrixDisplay at 0x7f5e5c0b3790>"
            ]
          },
          "metadata": {
            "tags": []
          },
          "execution_count": 205
        },
        {
          "output_type": "display_data",
          "data": {
            "image/png": "[encoded data removed]",
            "text/plain": [
              "<Figure size 432x288 with 2 Axes>"
            ]
          },
          "metadata": {
            "tags": [],
            "needs_background": "light"
          }
        }
      ]
    },
    {
      "cell_type": "code",
      "metadata": {
        "colab": {
          "base_uri": "https://localhost:8080/",
          "height": 296
        },
        "id": "ehIx2f2PeGsG",
        "outputId": "9b090bd4-91cb-43f6-8a17-c4a2ac0fc791"
      },
      "source": [
        "plot_roc_curve(model_search,X_test,y_test)"
      ],
      "id": "ehIx2f2PeGsG",
      "execution_count": null,
      "outputs": [
        {
          "output_type": "execute_result",
          "data": {
            "text/plain": [
              "<sklearn.metrics._plot.roc_curve.RocCurveDisplay at 0x7f5e5c0be890>"
            ]
          },
          "metadata": {
            "tags": []
          },
          "execution_count": 206
        },
        {
          "output_type": "display_data",
          "data": {
            "image/png": "[encoded data removed]",
            "text/plain": [
              "<Figure size 432x288 with 1 Axes>"
            ]
          },
          "metadata": {
            "tags": [],
            "needs_background": "light"
          }
        }
      ]
    },
    {
      "cell_type": "markdown",
      "metadata": {
        "id": "jm4ZzVogmMa3"
      },
      "source": [
        "# export and deploy"
      ],
      "id": "jm4ZzVogmMa3"
    },
    {
      "cell_type": "code",
      "metadata": {
        "id": "-k52kbU2l9GO"
      },
      "source": [
        "df.to_csv('feature_selected_telco.csv',index=False,index_label=False)"
      ],
      "id": "-k52kbU2l9GO",
      "execution_count": null,
      "outputs": []
    },
    {
      "cell_type": "code",
      "metadata": {
        "colab": {
          "base_uri": "https://localhost:8080/"
        },
        "id": "OAkwSAu8mhCv",
        "outputId": "a7465f5b-d9cb-463b-a78b-a294e3a12372"
      },
      "source": [
        "from joblib import dump\n",
        "\n",
        "dump(model_search,'telco_svm_95.joblib')"
      ],
      "id": "OAkwSAu8mhCv",
      "execution_count": null,
      "outputs": [
        {
          "output_type": "execute_result",
          "data": {
            "text/plain": [
              "['telco_svm_95.joblib']"
            ]
          },
          "metadata": {
            "tags": []
          },
          "execution_count": 81
        }
      ]
    },
    {
      "cell_type": "markdown",
      "metadata": {
        "id": "neural-collector"
      },
      "source": [
        "## import and install required dependencies"
      ],
      "id": "neural-collector"
    },
    {
      "cell_type": "code",
      "metadata": {
        "scrolled": true,
        "id": "dynamic-teacher",
        "outputId": "f4163dfa-5659-4294-b006-5a4568d71a9d"
      },
      "source": [
        "!pip install --upgrade watson-machine-learning-client-V4"
      ],
      "id": "dynamic-teacher",
      "execution_count": null,
      "outputs": [
        {
          "output_type": "stream",
          "text": [
            "/opt/conda/envs/Python-3.7-OpenCE/lib/python3.7/site-packages/secretstorage/dhcrypto.py:16: CryptographyDeprecationWarning: int_from_bytes is deprecated, use int.from_bytes instead\n",
            "  from cryptography.utils import int_from_bytes\n",
            "/opt/conda/envs/Python-3.7-OpenCE/lib/python3.7/site-packages/secretstorage/util.py:25: CryptographyDeprecationWarning: int_from_bytes is deprecated, use int.from_bytes instead\n",
            "  from cryptography.utils import int_from_bytes\n",
            "Collecting watson-machine-learning-client-V4\n",
            "  Downloading watson_machine_learning_client_V4-1.0.135-py3-none-any.whl (1.3 MB)\n",
            "\u001b[K     |████████████████████████████████| 1.3 MB 18.8 MB/s eta 0:00:01\n",
            "\u001b[?25hRequirement already satisfied, skipping upgrade: requests in /opt/conda/envs/Python-3.7-OpenCE/lib/python3.7/site-packages (from watson-machine-learning-client-V4) (2.22.0)\n",
            "Requirement already satisfied, skipping upgrade: lomond in /opt/conda/envs/Python-3.7-OpenCE/lib/python3.7/site-packages (from watson-machine-learning-client-V4) (0.3.3)\n",
            "Requirement already satisfied, skipping upgrade: certifi in /opt/conda/envs/Python-3.7-OpenCE/lib/python3.7/site-packages (from watson-machine-learning-client-V4) (2021.5.30)\n",
            "Requirement already satisfied, skipping upgrade: tabulate in /opt/conda/envs/Python-3.7-OpenCE/lib/python3.7/site-packages (from watson-machine-learning-client-V4) (0.8.3)\n",
            "Requirement already satisfied, skipping upgrade: ibm-cos-sdk==2.7.* in /opt/conda/envs/Python-3.7-OpenCE/lib/python3.7/site-packages (from watson-machine-learning-client-V4) (2.7.0)\n",
            "Requirement already satisfied, skipping upgrade: pandas<=1.0.5 in /opt/conda/envs/Python-3.7-OpenCE/lib/python3.7/site-packages (from watson-machine-learning-client-V4) (1.0.5)\n",
            "Requirement already satisfied, skipping upgrade: urllib3 in /opt/conda/envs/Python-3.7-OpenCE/lib/python3.7/site-packages (from watson-machine-learning-client-V4) (1.25.9)\n",
            "Requirement already satisfied, skipping upgrade: idna<2.9,>=2.5 in /opt/conda/envs/Python-3.7-OpenCE/lib/python3.7/site-packages (from requests->watson-machine-learning-client-V4) (2.8)\n",
            "Requirement already satisfied, skipping upgrade: chardet<3.1.0,>=3.0.2 in /opt/conda/envs/Python-3.7-OpenCE/lib/python3.7/site-packages (from requests->watson-machine-learning-client-V4) (3.0.4)\n",
            "Requirement already satisfied, skipping upgrade: six>=1.10.0 in /opt/conda/envs/Python-3.7-OpenCE/lib/python3.7/site-packages (from lomond->watson-machine-learning-client-V4) (1.15.0)\n",
            "Requirement already satisfied, skipping upgrade: jmespath<1.0.0,>=0.7.1 in /opt/conda/envs/Python-3.7-OpenCE/lib/python3.7/site-packages (from ibm-cos-sdk==2.7.*->watson-machine-learning-client-V4) (0.9.4)\n",
            "Requirement already satisfied, skipping upgrade: ibm-cos-sdk-core==2.7.0 in /opt/conda/envs/Python-3.7-OpenCE/lib/python3.7/site-packages (from ibm-cos-sdk==2.7.*->watson-machine-learning-client-V4) (2.7.0)\n",
            "Requirement already satisfied, skipping upgrade: ibm-cos-sdk-s3transfer==2.7.0 in /opt/conda/envs/Python-3.7-OpenCE/lib/python3.7/site-packages (from ibm-cos-sdk==2.7.*->watson-machine-learning-client-V4) (2.7.0)\n",
            "Requirement already satisfied, skipping upgrade: python-dateutil>=2.6.1 in /opt/conda/envs/Python-3.7-OpenCE/lib/python3.7/site-packages (from pandas<=1.0.5->watson-machine-learning-client-V4) (2.8.1)\n",
            "Requirement already satisfied, skipping upgrade: numpy>=1.13.3 in /opt/conda/envs/Python-3.7-OpenCE/lib/python3.7/site-packages (from pandas<=1.0.5->watson-machine-learning-client-V4) (1.19.2)\n",
            "Requirement already satisfied, skipping upgrade: pytz>=2017.2 in /opt/conda/envs/Python-3.7-OpenCE/lib/python3.7/site-packages (from pandas<=1.0.5->watson-machine-learning-client-V4) (2020.1)\n",
            "Requirement already satisfied, skipping upgrade: docutils<0.16,>=0.10 in /opt/conda/envs/Python-3.7-OpenCE/lib/python3.7/site-packages (from ibm-cos-sdk-core==2.7.0->ibm-cos-sdk==2.7.*->watson-machine-learning-client-V4) (0.15.2)\n",
            "Installing collected packages: watson-machine-learning-client-V4\n",
            "Successfully installed watson-machine-learning-client-V4-1.0.135\n"
          ],
          "name": "stdout"
        }
      ]
    },
    {
      "cell_type": "code",
      "metadata": {
        "id": "nuclear-manchester"
      },
      "source": [
        "from ibm_watson_machine_learning import APIClient\n",
        "import json"
      ],
      "id": "nuclear-manchester",
      "execution_count": null,
      "outputs": []
    },
    {
      "cell_type": "markdown",
      "metadata": {
        "id": "indonesian-girlfriend"
      },
      "source": [
        "## setup credential and authentication"
      ],
      "id": "indonesian-girlfriend"
    },
    {
      "cell_type": "code",
      "metadata": {
        "scrolled": true,
        "id": "electronic-story",
        "outputId": "ef5db879-434d-429e-f5fd-90dcc3b4fa02"
      },
      "source": [
        "wml_credentials = {'url':'https://us-south.ml.cloud.ibm.com',\n",
        "                   'apikey':'uXMdnshrf9yr3JzSFUJj62mUSn5CusDQuGYPKdkH8Jg9'}\n",
        "project_client = APIClient(wml_credentials)\n",
        "project_client.spaces.list()\n",
        "SPACE_ID = '8d7a3de9-5607-48b5-8ad6-0eed0263ea38'\n",
        "project_client.set.default_space(SPACE_ID)"
      ],
      "id": "electronic-story",
      "execution_count": null,
      "outputs": [
        {
          "output_type": "stream",
          "text": [
            "Note: 'limit' is not provided. Only first 50 records will be displayed if the number of records exceed 50\n",
            "------------------------------------  -----------------------------------------------------------  ------------------------\n",
            "ID                                    NAME                                                         CREATED\n",
            "088e8207-5409-44e3-9e74-bb40dd1fc3cb  openscale-express-path-29b4037c-8782-4487-a68f-31138ee36300  2021-05-17T16:22:12.655Z\n",
            "8d7a3de9-5607-48b5-8ad6-0eed0263ea38  Free_tier_deployment                                         2021-05-17T02:23:19.122Z\n",
            "------------------------------------  -----------------------------------------------------------  ------------------------\n"
          ],
          "name": "stdout"
        },
        {
          "output_type": "execute_result",
          "data": {
            "text/plain": [
              "'SUCCESS'"
            ]
          },
          "metadata": {
            "tags": []
          },
          "execution_count": 129
        }
      ]
    },
    {
      "cell_type": "markdown",
      "metadata": {
        "id": "surprising-entry"
      },
      "source": [
        "## save model and deploy"
      ],
      "id": "surprising-entry"
    },
    {
      "cell_type": "code",
      "metadata": {
        "scrolled": true,
        "id": "frank-webmaster",
        "outputId": "43beaa91-4383-42ed-b18e-41cd43045361"
      },
      "source": [
        "MODEL_NAME = 'SVM_CLASSFICATION_TELCO_95'\n",
        "DEPLOYMENT_NAME ='telcochurn_online_deployment'\n",
        "BEST_MODEL = model_search\n",
        "#recommended using same python version that model being created (default python 3.7)\n",
        "#can grab list of software and the id by : project_client.software_specifications.list(limit=100)\n",
        "software_spec_id = project_client.software_specifications.get_id_by_name('default_py3.7_opence')\n",
        "\n",
        "#docs for software spec and model type map (must be in pair): \n",
        "#https://www.ibm.com/support/producthub/icpdata/docs/content/SSQNUZ_latest/wsj/wmls/wmls-deploy-python-types.html\n",
        "# detailed docs: https://wml-api-pyclient.mybluemix.net/\n",
        "\n",
        "#model metadata setup\n",
        "model_props = {project_client.repository.ModelMetaNames.NAME:MODEL_NAME,\n",
        "              project_client.repository.ModelMetaNames.TYPE:'scikit-learn_0.23',\n",
        "              project_client.repository.ModelMetaNames.SOFTWARE_SPEC_UID:software_spec_id}\n",
        "\n",
        "#saving model to WML cloud repo\n",
        "model_details = project_client.repository.store_model(BEST_MODEL,\n",
        "                                                     meta_props=model_props,\n",
        "                                                     training_data=X_train,\n",
        "                                                     training_target=y_train,\n",
        "                                                     pipeline=model_pipeline)\n",
        "model_details"
      ],
      "id": "frank-webmaster",
      "execution_count": null,
      "outputs": [
        {
          "output_type": "execute_result",
          "data": {
            "text/plain": [
              "{'entity': {'label_column': 'Churn Label',\n",
              "  'software_spec': {'id': 'c2057dd4-f42c-5f77-a02f-72bdbd3282c9',\n",
              "   'name': 'default_py3.7_opence'},\n",
              "  'training_data_references': [{'connection': {'access_key_id': 'not_applicable',\n",
              "     'endpoint_url': 'not_applicable',\n",
              "     'secret_access_key': 'not_applicable'},\n",
              "    'id': '1',\n",
              "    'location': {},\n",
              "    'schema': {'fields': [{'name': 'Under 30', 'type': 'object'},\n",
              "      {'name': 'Married', 'type': 'object'},\n",
              "      {'name': 'Number of Dependents', 'type': 'int64'},\n",
              "      {'name': 'Number of Referrals', 'type': 'int64'},\n",
              "      {'name': 'Tenure in Months', 'type': 'int64'},\n",
              "      {'name': 'Offer', 'type': 'object'},\n",
              "      {'name': 'Multiple Lines', 'type': 'object'},\n",
              "      {'name': 'Internet Service', 'type': 'object'},\n",
              "      {'name': 'Internet Type', 'type': 'object'},\n",
              "      {'name': 'Online Security', 'type': 'object'},\n",
              "      {'name': 'Online Backup', 'type': 'object'},\n",
              "      {'name': 'Device Protection Plan', 'type': 'object'},\n",
              "      {'name': 'Premium Tech Support', 'type': 'object'},\n",
              "      {'name': 'Streaming TV', 'type': 'object'},\n",
              "      {'name': 'Streaming Movies', 'type': 'object'},\n",
              "      {'name': 'Streaming Music', 'type': 'object'},\n",
              "      {'name': 'Unlimited Data', 'type': 'object'},\n",
              "      {'name': 'Contract', 'type': 'object'},\n",
              "      {'name': 'Paperless Billing', 'type': 'object'},\n",
              "      {'name': 'Payment Method', 'type': 'object'},\n",
              "      {'name': 'Total Charges', 'type': 'float64'},\n",
              "      {'name': 'Total Revenue', 'type': 'float64'},\n",
              "      {'name': 'Satisfaction Score', 'type': 'int64'}],\n",
              "     'id': '1',\n",
              "     'type': 'DataFrame'},\n",
              "    'type': 's3'}],\n",
              "  'type': 'scikit-learn_0.23'},\n",
              " 'metadata': {'created_at': '2021-08-04T15:54:14.300Z',\n",
              "  'id': 'b264ee64-8732-433e-92e6-37f14ea29fc4',\n",
              "  'modified_at': '2021-08-04T15:54:16.157Z',\n",
              "  'name': 'SVM_CLASSFICATION_TELCO_95',\n",
              "  'owner': 'IBMid-55000AM5BB',\n",
              "  'space_id': '8d7a3de9-5607-48b5-8ad6-0eed0263ea38'},\n",
              " 'system': {'warnings': []}}"
            ]
          },
          "metadata": {
            "tags": []
          },
          "execution_count": 207
        }
      ]
    },
    {
      "cell_type": "code",
      "metadata": {
        "id": "precise-default",
        "outputId": "03a88fc0-2c24-4d80-964a-a90d2f186498"
      },
      "source": [
        "#grab the model ID for online deployment\n",
        "# grab model id via dict parsing or WML console \n",
        "model_id = project_client.repository.get_model_details()['resources'][0]['metadata']['id']\n",
        "model_id"
      ],
      "id": "precise-default",
      "execution_count": null,
      "outputs": [
        {
          "output_type": "execute_result",
          "data": {
            "text/plain": [
              "'b264ee64-8732-433e-92e6-37f14ea29fc4'"
            ]
          },
          "metadata": {
            "tags": []
          },
          "execution_count": 208
        }
      ]
    },
    {
      "cell_type": "code",
      "metadata": {
        "scrolled": true,
        "id": "established-paste",
        "outputId": "d3298184-7e5d-4386-cc9b-1b39faf5e659"
      },
      "source": [
        "#deployment\n",
        "\n",
        "deploy_props = {project_client.deployments.ConfigurationMetaNames.NAME:DEPLOYMENT_NAME,\n",
        "               project_client.deployments.ConfigurationMetaNames.DESCRIPTION:'SVM classification model with fully pipelined 95 score',\n",
        "               project_client.deployments.ConfigurationMetaNames.ONLINE: {}}\n",
        "\n",
        "deployment = project_client.deployments.create(artifact_uid=model_id,meta_props=deploy_props)\n",
        "deployment"
      ],
      "id": "established-paste",
      "execution_count": null,
      "outputs": [
        {
          "output_type": "stream",
          "text": [
            "\n",
            "\n",
            "#######################################################################################\n",
            "\n",
            "Synchronous deployment creation for uid: 'b264ee64-8732-433e-92e6-37f14ea29fc4' started\n",
            "\n",
            "#######################################################################################\n",
            "\n",
            "\n",
            "initializing\n",
            "Note: Scikit-learn 0.23 framework with default_py3.7 software specification for Watson Machine Learning is deprecated. Use scikit-learn with  default_py3.7_opence software specification instead. FOr details, see https://dataplatform.cloud.ibm.com/docs/content/wsj/wmls/wmls-deploy-python-types.html.\n",
            "\n",
            "ready\n",
            "\n",
            "\n",
            "------------------------------------------------------------------------------------------------\n",
            "Successfully finished deployment creation, deployment_uid='ead8f77a-e1bc-438e-a650-0f973c3c88db'\n",
            "------------------------------------------------------------------------------------------------\n",
            "\n",
            "\n"
          ],
          "name": "stdout"
        },
        {
          "output_type": "execute_result",
          "data": {
            "text/plain": [
              "{'entity': {'asset': {'id': 'b264ee64-8732-433e-92e6-37f14ea29fc4'},\n",
              "  'custom': {},\n",
              "  'deployed_asset_type': 'model',\n",
              "  'description': 'SVM classification model with fully pipelined 95 score',\n",
              "  'hardware_spec': {'id': 'Not_Applicable', 'name': 'S', 'num_nodes': 1},\n",
              "  'name': 'telcochurn_online_deployment',\n",
              "  'online': {},\n",
              "  'space_id': '8d7a3de9-5607-48b5-8ad6-0eed0263ea38',\n",
              "  'status': {'online_url': {'url': 'https://us-south.ml.cloud.ibm.com/ml/v4/deployments/ead8f77a-e1bc-438e-a650-0f973c3c88db/predictions'},\n",
              "   'serving_urls': ['https://us-south.ml.cloud.ibm.com/ml/v4/deployments/ead8f77a-e1bc-438e-a650-0f973c3c88db/predictions'],\n",
              "   'state': 'ready'}},\n",
              " 'metadata': {'created_at': '2021-08-04T15:54:48.274Z',\n",
              "  'description': 'SVM classification model with fully pipelined 95 score',\n",
              "  'id': 'ead8f77a-e1bc-438e-a650-0f973c3c88db',\n",
              "  'modified_at': '2021-08-04T15:54:48.274Z',\n",
              "  'name': 'telcochurn_online_deployment',\n",
              "  'owner': 'IBMid-55000AM5BB',\n",
              "  'space_id': '8d7a3de9-5607-48b5-8ad6-0eed0263ea38'},\n",
              " 'system': {'warnings': [{'id': 'Deprecated',\n",
              "    'message': 'Scikit-learn 0.23 framework with default_py3.7 software specification for Watson Machine Learning is deprecated. Use scikit-learn with  default_py3.7_opence software specification instead. FOr details, see https://dataplatform.cloud.ibm.com/docs/content/wsj/wmls/wmls-deploy-python-types.html.'},\n",
              "   {'id': 'Deprecated',\n",
              "    'message': 'online_url is deprecated and will be removed in a future release. Use serving_urls instead.'}]}}"
            ]
          },
          "metadata": {
            "tags": []
          },
          "execution_count": 209
        }
      ]
    },
    {
      "cell_type": "markdown",
      "metadata": {
        "id": "boring-lawyer"
      },
      "source": [
        "## Deployment test"
      ],
      "id": "boring-lawyer"
    },
    {
      "cell_type": "code",
      "metadata": {
        "id": "documentary-cricket"
      },
      "source": [
        "dummy_data = df.sample(100,random_state=1).copy()\n",
        "\n",
        "dummy_data.drop('Churn Label',axis=1,inplace=True)\n",
        "\n",
        "input_fields = dummy_data.columns.values.tolist()\n",
        "input_values = dummy_data.values.tolist()"
      ],
      "id": "documentary-cricket",
      "execution_count": null,
      "outputs": []
    },
    {
      "cell_type": "code",
      "metadata": {
        "id": "vulnerable-plaza",
        "outputId": "df7ebd5c-afa5-4560-fa0f-3ac960cf54ef"
      },
      "source": [
        "\n",
        "import requests\n",
        "API_KEY = \"uXMdnshrf9yr3JzSFUJj62mUSn5CusDQuGYPKdkH8Jg9\"\n",
        "token_response = requests.post('https://iam.cloud.ibm.com/identity/token', data={\"apikey\": API_KEY, \"grant_type\": 'urn:ibm:params:oauth:grant-type:apikey'})\n",
        "mltoken = token_response.json()[\"access_token\"]\n",
        "\n",
        "header = {'Content-Type': 'application/json', 'Authorization': 'Bearer ' + mltoken}\n",
        "\n",
        "payload_scoring = {\"input_data\": [{\"fields\": input_fields, \"values\": input_values}]}\n",
        "\n",
        "response_scoring = requests.post('https://us-south.ml.cloud.ibm.com/ml/v4/deployments/ead8f77a-e1bc-438e-a650-0f973c3c88db/predictions?version=2021-08-04', json=payload_scoring, headers={'Authorization': 'Bearer ' + mltoken})\n",
        "print(\"Scoring response\")\n",
        "print(response_scoring.json())"
      ],
      "id": "vulnerable-plaza",
      "execution_count": null,
      "outputs": [
        {
          "output_type": "stream",
          "text": [
            "Scoring response\n",
            "{'predictions': [{'fields': ['prediction'], 'values': [['No'], ['No'], ['No'], ['No'], ['No'], ['No'], ['No'], ['No'], ['No'], ['No'], ['Yes'], ['No'], ['No'], ['Yes'], ['Yes'], ['Yes'], ['No'], ['No'], ['Yes'], ['Yes'], ['No'], ['No'], ['Yes'], ['No'], ['Yes'], ['No'], ['No'], ['No'], ['Yes'], ['No'], ['No'], ['No'], ['No'], ['Yes'], ['No'], ['No'], ['Yes'], ['Yes'], ['No'], ['No'], ['No'], ['No'], ['Yes'], ['No'], ['No'], ['Yes'], ['No'], ['Yes'], ['Yes'], ['No'], ['No'], ['No'], ['Yes'], ['No'], ['Yes'], ['No'], ['Yes'], ['No'], ['Yes'], ['No'], ['No'], ['Yes'], ['No'], ['No'], ['Yes'], ['No'], ['No'], ['No'], ['No'], ['No'], ['No'], ['Yes'], ['No'], ['No'], ['No'], ['Yes'], ['Yes'], ['Yes'], ['No'], ['Yes'], ['No'], ['No'], ['No'], ['Yes'], ['No'], ['No'], ['No'], ['No'], ['Yes'], ['No'], ['No'], ['No'], ['Yes'], ['No'], ['No'], ['Yes'], ['No'], ['No'], ['No'], ['Yes']]}]}\n"
          ],
          "name": "stdout"
        }
      ]
    }
  ]
}