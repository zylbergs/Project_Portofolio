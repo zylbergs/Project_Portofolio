{
  "nbformat": 4,
  "nbformat_minor": 5,
  "metadata": {
    "kernelspec": {
      "display_name": "Python 3",
      "language": "python",
      "name": "python3"
    },
    "language_info": {
      "codemirror_mode": {
        "name": "ipython",
        "version": 3
      },
      "file_extension": ".py",
      "mimetype": "text/x-python",
      "name": "python",
      "nbconvert_exporter": "python",
      "pygments_lexer": "ipython3",
      "version": "3.8.5"
    },
    "colab": {
      "name": "Copy of churn prediction.ipynb",
      "provenance": [],
      "collapsed_sections": [
        "t4gb87UUyO2Q",
        "dLEvH7TcyTyG",
        "F2kaqfgdzFEC",
        "sMSYLKe5zYvt",
        "TyHlkGiTzb2w",
        "Gv4m8dJszfgG",
        "tY0MlMT4ziGa",
        "2DImj2b3zkAT",
        "-jqPV7kczomv",
        "PiD67p_m0QLm",
        "dNQGxJ9aJbWy",
        "gaNx79zQJgBz",
        "7BDcNTd5PdVe",
        "OyK87TKZ9GK7",
        "tG8UAHZF6Fmj"
      ]
    }
  },
  "cells": [
    {
      "cell_type": "code",
      "metadata": {
        "id": "advised-faculty",
        "colab": {
          "base_uri": "https://localhost:8080/"
        },
        "outputId": "478ec9e0-2baf-42b7-bebc-a6316a39db83"
      },
      "source": [
        "%config Completer.use_jedi = False"
      ],
      "id": "advised-faculty",
      "execution_count": null,
      "outputs": [
        {
          "output_type": "stream",
          "text": [
            "/usr/local/lib/python3.7/dist-packages/ipykernel_launcher.py:1: UserWarning: Config option `use_jedi` not recognized by `IPCompleter`.\n",
            "  \"\"\"Entry point for launching an IPython kernel.\n"
          ],
          "name": "stderr"
        }
      ]
    },
    {
      "cell_type": "markdown",
      "metadata": {
        "id": "t4gb87UUyO2Q"
      },
      "source": [
        "# Business Understanding\n",
        "\n",
        " - Attemp to predict customer whether the customer will leave the company (churned) or not using classification techniques with the focus on prediction task. In this report, the main goal is breakdown analysis of classification task of telco company’s customer churn problem.\n",
        "\n",
        "- avoid severe false positive/negative on the result\n",
        "- with prediction power task, attemp model with high score metrics\n",
        "- consider AI ethics principal while feature selection\n",
        "\n"
      ],
      "id": "t4gb87UUyO2Q"
    },
    {
      "cell_type": "markdown",
      "metadata": {
        "id": "dLEvH7TcyTyG"
      },
      "source": [
        "# Analytics Approach\n",
        "\n",
        "- Exploratory data analysis\n",
        "- descriptive statistic to get know of the data\n",
        "- main objective: predictive statistics using supervised model to classify churned customer"
      ],
      "id": "dLEvH7TcyTyG"
    },
    {
      "cell_type": "markdown",
      "metadata": {
        "id": "F2kaqfgdzFEC"
      },
      "source": [
        "# Data Requirements\n",
        "\n",
        "- age information"
      ],
      "id": "F2kaqfgdzFEC"
    },
    {
      "cell_type": "markdown",
      "metadata": {
        "id": "sMSYLKe5zYvt"
      },
      "source": [
        "# Data Collection\n",
        "\n",
        "- company's data warehouse"
      ],
      "id": "sMSYLKe5zYvt"
    },
    {
      "cell_type": "markdown",
      "metadata": {
        "id": "TyHlkGiTzb2w"
      },
      "source": [
        "# Data Understanding\n",
        "\n",
        "- age, under 30, and senior variables are referring to the same information.\n",
        "to avoid multicollinearity we will use only Age\n"
      ],
      "id": "TyHlkGiTzb2w"
    },
    {
      "cell_type": "markdown",
      "metadata": {
        "id": "Gv4m8dJszfgG"
      },
      "source": [
        "# Data Preparation"
      ],
      "id": "Gv4m8dJszfgG"
    },
    {
      "cell_type": "markdown",
      "metadata": {
        "id": "tY0MlMT4ziGa"
      },
      "source": [
        "# Modeling"
      ],
      "id": "tY0MlMT4ziGa"
    },
    {
      "cell_type": "markdown",
      "metadata": {
        "id": "2DImj2b3zkAT"
      },
      "source": [
        "# Evaluation"
      ],
      "id": "2DImj2b3zkAT"
    },
    {
      "cell_type": "markdown",
      "metadata": {
        "id": "-jqPV7kczomv"
      },
      "source": [
        "# Deployment"
      ],
      "id": "-jqPV7kczomv"
    },
    {
      "cell_type": "markdown",
      "metadata": {
        "id": "PiD67p_m0QLm"
      },
      "source": [
        "# Feedback"
      ],
      "id": "PiD67p_m0QLm"
    },
    {
      "cell_type": "markdown",
      "metadata": {
        "id": "dNQGxJ9aJbWy"
      },
      "source": [
        "# import required library"
      ],
      "id": "dNQGxJ9aJbWy"
    },
    {
      "cell_type": "code",
      "metadata": {
        "id": "compound-testament"
      },
      "source": [
        "import pandas as pd\n",
        "import numpy as np \n",
        "import matplotlib.pyplot as plt\n",
        "import seaborn as sns\n",
        "import os "
      ],
      "id": "compound-testament",
      "execution_count": null,
      "outputs": []
    },
    {
      "cell_type": "code",
      "metadata": {
        "colab": {
          "base_uri": "https://localhost:8080/"
        },
        "id": "UwWtj7sNGar8",
        "outputId": "0f13efba-b571-4384-cac2-e09962cda3d9"
      },
      "source": [
        "!pip install outlier_utils"
      ],
      "id": "UwWtj7sNGar8",
      "execution_count": null,
      "outputs": [
        {
          "output_type": "stream",
          "text": [
            "Collecting outlier_utils\n",
            "  Downloading outlier_utils-0.0.3-py3-none-any.whl (6.0 kB)\n",
            "Installing collected packages: outlier-utils\n",
            "Successfully installed outlier-utils-0.0.3\n"
          ],
          "name": "stdout"
        }
      ]
    },
    {
      "cell_type": "code",
      "metadata": {
        "id": "recovered-appearance",
        "colab": {
          "base_uri": "https://localhost:8080/"
        },
        "outputId": "517e09e0-3128-4b00-e909-0b833ff2d835"
      },
      "source": [
        "from sklearn.preprocessing import StandardScaler,OneHotEncoder,OrdinalEncoder\n",
        "from sklearn.model_selection import train_test_split,GridSearchCV\n",
        "from imblearn.over_sampling import ADASYN,SMOTE\n",
        "from imblearn.under_sampling import EditedNearestNeighbours,RandomUnderSampler\n",
        "from sklearn.kernel_approximation import Nystroem\n",
        "from sklearn.compose import ColumnTransformer\n",
        "#from sklearn.pipeline import Pipeline,make_pipeline\n",
        "from imblearn.pipeline import Pipeline\n",
        "from sklearn.impute import SimpleImputer\n",
        "#model\n",
        "from sklearn.svm import SVC\n",
        "from sklearn.linear_model import LogisticRegression\n",
        "from sklearn.ensemble import AdaBoostClassifier,RandomForestClassifier\n",
        "from sklearn.tree import DecisionTreeClassifier\n",
        "#statistical \n",
        "from scipy.stats import chi2_contingency,f_oneway,kruskal,pearsonr,normaltest\n",
        "from outliers import smirnov_grubbs"
      ],
      "id": "recovered-appearance",
      "execution_count": null,
      "outputs": [
        {
          "output_type": "stream",
          "text": [
            "/usr/local/lib/python3.7/dist-packages/sklearn/externals/six.py:31: FutureWarning: The module is deprecated in version 0.21 and will be removed in version 0.23 since we've dropped support for Python 2.7. Please rely on the official version of six (https://pypi.org/project/six/).\n",
            "  \"(https://pypi.org/project/six/).\", FutureWarning)\n",
            "/usr/local/lib/python3.7/dist-packages/sklearn/utils/deprecation.py:144: FutureWarning: The sklearn.neighbors.base module is  deprecated in version 0.22 and will be removed in version 0.24. The corresponding classes / functions should instead be imported from sklearn.neighbors. Anything that cannot be imported from sklearn.neighbors is now part of the private API.\n",
            "  warnings.warn(message, FutureWarning)\n"
          ],
          "name": "stderr"
        }
      ]
    },
    {
      "cell_type": "code",
      "metadata": {
        "id": "UH9ZpZyvc-BM"
      },
      "source": [
        "from sklearn.metrics import classification_report, plot_confusion_matrix,plot_roc_curve,plot_precision_recall_curve"
      ],
      "id": "UH9ZpZyvc-BM",
      "execution_count": null,
      "outputs": []
    },
    {
      "cell_type": "markdown",
      "metadata": {
        "id": "gaNx79zQJgBz"
      },
      "source": [
        "# inspecting raw data"
      ],
      "id": "gaNx79zQJgBz"
    },
    {
      "cell_type": "code",
      "metadata": {
        "colab": {
          "base_uri": "https://localhost:8080/",
          "height": 445
        },
        "id": "-qSOBjNRw5FN",
        "outputId": "cf18a335-c6c3-4a3b-dec1-4249ad8d673f"
      },
      "source": [
        "df = pd.read_pickle('/content/fulldata.pkl')\n",
        "df.head()"
      ],
      "id": "-qSOBjNRw5FN",
      "execution_count": null,
      "outputs": [
        {
          "output_type": "execute_result",
          "data": {
            "text/html": [
              "<div>\n",
              "<style scoped>\n",
              "    .dataframe tbody tr th:only-of-type {\n",
              "        vertical-align: middle;\n",
              "    }\n",
              "\n",
              "    .dataframe tbody tr th {\n",
              "        vertical-align: top;\n",
              "    }\n",
              "\n",
              "    .dataframe thead th {\n",
              "        text-align: right;\n",
              "    }\n",
              "</style>\n",
              "<table border=\"1\" class=\"dataframe\">\n",
              "  <thead>\n",
              "    <tr style=\"text-align: right;\">\n",
              "      <th></th>\n",
              "      <th>Customer ID</th>\n",
              "      <th>Count</th>\n",
              "      <th>Gender</th>\n",
              "      <th>Age</th>\n",
              "      <th>Under 30</th>\n",
              "      <th>Senior Citizen</th>\n",
              "      <th>Married</th>\n",
              "      <th>Dependents</th>\n",
              "      <th>Number of Dependents</th>\n",
              "      <th>Country</th>\n",
              "      <th>State</th>\n",
              "      <th>City</th>\n",
              "      <th>Zip Code</th>\n",
              "      <th>Lat Long</th>\n",
              "      <th>Latitude</th>\n",
              "      <th>Longitude</th>\n",
              "      <th>ID</th>\n",
              "      <th>Population</th>\n",
              "      <th>Quarter</th>\n",
              "      <th>Referred a Friend</th>\n",
              "      <th>Number of Referrals</th>\n",
              "      <th>Tenure in Months</th>\n",
              "      <th>Offer</th>\n",
              "      <th>Phone Service</th>\n",
              "      <th>Avg Monthly Long Distance Charges</th>\n",
              "      <th>Multiple Lines</th>\n",
              "      <th>Internet Service</th>\n",
              "      <th>Internet Type</th>\n",
              "      <th>Avg Monthly GB Download</th>\n",
              "      <th>Online Security</th>\n",
              "      <th>Online Backup</th>\n",
              "      <th>Device Protection Plan</th>\n",
              "      <th>Premium Tech Support</th>\n",
              "      <th>Streaming TV</th>\n",
              "      <th>Streaming Movies</th>\n",
              "      <th>Streaming Music</th>\n",
              "      <th>Unlimited Data</th>\n",
              "      <th>Contract</th>\n",
              "      <th>Paperless Billing</th>\n",
              "      <th>Payment Method</th>\n",
              "      <th>Monthly Charge</th>\n",
              "      <th>Total Charges</th>\n",
              "      <th>Total Refunds</th>\n",
              "      <th>Total Extra Data Charges</th>\n",
              "      <th>Total Long Distance Charges</th>\n",
              "      <th>Total Revenue</th>\n",
              "      <th>Satisfaction Score</th>\n",
              "      <th>Customer Status</th>\n",
              "      <th>Churn Label</th>\n",
              "      <th>Churn Value</th>\n",
              "      <th>Churn Score</th>\n",
              "      <th>CLTV</th>\n",
              "      <th>Churn Category</th>\n",
              "      <th>Churn Reason</th>\n",
              "    </tr>\n",
              "  </thead>\n",
              "  <tbody>\n",
              "    <tr>\n",
              "      <th>0</th>\n",
              "      <td>8779-QRDMV</td>\n",
              "      <td>1</td>\n",
              "      <td>Male</td>\n",
              "      <td>78</td>\n",
              "      <td>No</td>\n",
              "      <td>Yes</td>\n",
              "      <td>No</td>\n",
              "      <td>No</td>\n",
              "      <td>0</td>\n",
              "      <td>United States</td>\n",
              "      <td>California</td>\n",
              "      <td>Los Angeles</td>\n",
              "      <td>90022</td>\n",
              "      <td>34.02381, -118.156582</td>\n",
              "      <td>34.023810</td>\n",
              "      <td>-118.156582</td>\n",
              "      <td>21</td>\n",
              "      <td>68701</td>\n",
              "      <td>Q3</td>\n",
              "      <td>No</td>\n",
              "      <td>0</td>\n",
              "      <td>1</td>\n",
              "      <td>None</td>\n",
              "      <td>No</td>\n",
              "      <td>0.00</td>\n",
              "      <td>No</td>\n",
              "      <td>Yes</td>\n",
              "      <td>DSL</td>\n",
              "      <td>8</td>\n",
              "      <td>No</td>\n",
              "      <td>No</td>\n",
              "      <td>Yes</td>\n",
              "      <td>No</td>\n",
              "      <td>No</td>\n",
              "      <td>Yes</td>\n",
              "      <td>No</td>\n",
              "      <td>No</td>\n",
              "      <td>Month-to-Month</td>\n",
              "      <td>Yes</td>\n",
              "      <td>Bank Withdrawal</td>\n",
              "      <td>39.65</td>\n",
              "      <td>39.65</td>\n",
              "      <td>0.00</td>\n",
              "      <td>20</td>\n",
              "      <td>0.00</td>\n",
              "      <td>59.65</td>\n",
              "      <td>3</td>\n",
              "      <td>Churned</td>\n",
              "      <td>Yes</td>\n",
              "      <td>1</td>\n",
              "      <td>91</td>\n",
              "      <td>5433</td>\n",
              "      <td>Competitor</td>\n",
              "      <td>Competitor offered more data</td>\n",
              "    </tr>\n",
              "    <tr>\n",
              "      <th>1</th>\n",
              "      <td>7495-OOKFY</td>\n",
              "      <td>1</td>\n",
              "      <td>Female</td>\n",
              "      <td>74</td>\n",
              "      <td>No</td>\n",
              "      <td>Yes</td>\n",
              "      <td>Yes</td>\n",
              "      <td>Yes</td>\n",
              "      <td>1</td>\n",
              "      <td>United States</td>\n",
              "      <td>California</td>\n",
              "      <td>Los Angeles</td>\n",
              "      <td>90063</td>\n",
              "      <td>34.044271, -118.185237</td>\n",
              "      <td>34.044271</td>\n",
              "      <td>-118.185237</td>\n",
              "      <td>54</td>\n",
              "      <td>55668</td>\n",
              "      <td>Q3</td>\n",
              "      <td>Yes</td>\n",
              "      <td>1</td>\n",
              "      <td>8</td>\n",
              "      <td>Offer E</td>\n",
              "      <td>Yes</td>\n",
              "      <td>48.85</td>\n",
              "      <td>Yes</td>\n",
              "      <td>Yes</td>\n",
              "      <td>Fiber Optic</td>\n",
              "      <td>17</td>\n",
              "      <td>No</td>\n",
              "      <td>Yes</td>\n",
              "      <td>No</td>\n",
              "      <td>No</td>\n",
              "      <td>No</td>\n",
              "      <td>No</td>\n",
              "      <td>No</td>\n",
              "      <td>Yes</td>\n",
              "      <td>Month-to-Month</td>\n",
              "      <td>Yes</td>\n",
              "      <td>Credit Card</td>\n",
              "      <td>80.65</td>\n",
              "      <td>633.30</td>\n",
              "      <td>0.00</td>\n",
              "      <td>0</td>\n",
              "      <td>390.80</td>\n",
              "      <td>1024.10</td>\n",
              "      <td>3</td>\n",
              "      <td>Churned</td>\n",
              "      <td>Yes</td>\n",
              "      <td>1</td>\n",
              "      <td>69</td>\n",
              "      <td>5302</td>\n",
              "      <td>Competitor</td>\n",
              "      <td>Competitor made better offer</td>\n",
              "    </tr>\n",
              "    <tr>\n",
              "      <th>2</th>\n",
              "      <td>1658-BYGOY</td>\n",
              "      <td>1</td>\n",
              "      <td>Male</td>\n",
              "      <td>71</td>\n",
              "      <td>No</td>\n",
              "      <td>Yes</td>\n",
              "      <td>No</td>\n",
              "      <td>Yes</td>\n",
              "      <td>3</td>\n",
              "      <td>United States</td>\n",
              "      <td>California</td>\n",
              "      <td>Los Angeles</td>\n",
              "      <td>90065</td>\n",
              "      <td>34.108833, -118.229715</td>\n",
              "      <td>34.108833</td>\n",
              "      <td>-118.229715</td>\n",
              "      <td>56</td>\n",
              "      <td>47534</td>\n",
              "      <td>Q3</td>\n",
              "      <td>No</td>\n",
              "      <td>0</td>\n",
              "      <td>18</td>\n",
              "      <td>Offer D</td>\n",
              "      <td>Yes</td>\n",
              "      <td>11.33</td>\n",
              "      <td>Yes</td>\n",
              "      <td>Yes</td>\n",
              "      <td>Fiber Optic</td>\n",
              "      <td>52</td>\n",
              "      <td>No</td>\n",
              "      <td>No</td>\n",
              "      <td>No</td>\n",
              "      <td>No</td>\n",
              "      <td>Yes</td>\n",
              "      <td>Yes</td>\n",
              "      <td>Yes</td>\n",
              "      <td>Yes</td>\n",
              "      <td>Month-to-Month</td>\n",
              "      <td>Yes</td>\n",
              "      <td>Bank Withdrawal</td>\n",
              "      <td>95.45</td>\n",
              "      <td>1752.55</td>\n",
              "      <td>45.61</td>\n",
              "      <td>0</td>\n",
              "      <td>203.94</td>\n",
              "      <td>1910.88</td>\n",
              "      <td>2</td>\n",
              "      <td>Churned</td>\n",
              "      <td>Yes</td>\n",
              "      <td>1</td>\n",
              "      <td>81</td>\n",
              "      <td>3179</td>\n",
              "      <td>Competitor</td>\n",
              "      <td>Competitor made better offer</td>\n",
              "    </tr>\n",
              "    <tr>\n",
              "      <th>3</th>\n",
              "      <td>4598-XLKNJ</td>\n",
              "      <td>1</td>\n",
              "      <td>Female</td>\n",
              "      <td>78</td>\n",
              "      <td>No</td>\n",
              "      <td>Yes</td>\n",
              "      <td>Yes</td>\n",
              "      <td>Yes</td>\n",
              "      <td>1</td>\n",
              "      <td>United States</td>\n",
              "      <td>California</td>\n",
              "      <td>Inglewood</td>\n",
              "      <td>90303</td>\n",
              "      <td>33.936291, -118.332639</td>\n",
              "      <td>33.936291</td>\n",
              "      <td>-118.332639</td>\n",
              "      <td>100</td>\n",
              "      <td>27778</td>\n",
              "      <td>Q3</td>\n",
              "      <td>Yes</td>\n",
              "      <td>1</td>\n",
              "      <td>25</td>\n",
              "      <td>Offer C</td>\n",
              "      <td>Yes</td>\n",
              "      <td>19.76</td>\n",
              "      <td>No</td>\n",
              "      <td>Yes</td>\n",
              "      <td>Fiber Optic</td>\n",
              "      <td>12</td>\n",
              "      <td>No</td>\n",
              "      <td>Yes</td>\n",
              "      <td>Yes</td>\n",
              "      <td>No</td>\n",
              "      <td>Yes</td>\n",
              "      <td>Yes</td>\n",
              "      <td>No</td>\n",
              "      <td>Yes</td>\n",
              "      <td>Month-to-Month</td>\n",
              "      <td>Yes</td>\n",
              "      <td>Bank Withdrawal</td>\n",
              "      <td>98.50</td>\n",
              "      <td>2514.50</td>\n",
              "      <td>13.43</td>\n",
              "      <td>0</td>\n",
              "      <td>494.00</td>\n",
              "      <td>2995.07</td>\n",
              "      <td>2</td>\n",
              "      <td>Churned</td>\n",
              "      <td>Yes</td>\n",
              "      <td>1</td>\n",
              "      <td>88</td>\n",
              "      <td>5337</td>\n",
              "      <td>Dissatisfaction</td>\n",
              "      <td>Limited range of services</td>\n",
              "    </tr>\n",
              "    <tr>\n",
              "      <th>4</th>\n",
              "      <td>4846-WHAFZ</td>\n",
              "      <td>1</td>\n",
              "      <td>Female</td>\n",
              "      <td>80</td>\n",
              "      <td>No</td>\n",
              "      <td>Yes</td>\n",
              "      <td>Yes</td>\n",
              "      <td>Yes</td>\n",
              "      <td>1</td>\n",
              "      <td>United States</td>\n",
              "      <td>California</td>\n",
              "      <td>Whittier</td>\n",
              "      <td>90602</td>\n",
              "      <td>33.972119, -118.020188</td>\n",
              "      <td>33.972119</td>\n",
              "      <td>-118.020188</td>\n",
              "      <td>114</td>\n",
              "      <td>26265</td>\n",
              "      <td>Q3</td>\n",
              "      <td>Yes</td>\n",
              "      <td>1</td>\n",
              "      <td>37</td>\n",
              "      <td>Offer C</td>\n",
              "      <td>Yes</td>\n",
              "      <td>6.33</td>\n",
              "      <td>Yes</td>\n",
              "      <td>Yes</td>\n",
              "      <td>Fiber Optic</td>\n",
              "      <td>14</td>\n",
              "      <td>No</td>\n",
              "      <td>No</td>\n",
              "      <td>No</td>\n",
              "      <td>No</td>\n",
              "      <td>No</td>\n",
              "      <td>No</td>\n",
              "      <td>No</td>\n",
              "      <td>Yes</td>\n",
              "      <td>Month-to-Month</td>\n",
              "      <td>Yes</td>\n",
              "      <td>Bank Withdrawal</td>\n",
              "      <td>76.50</td>\n",
              "      <td>2868.15</td>\n",
              "      <td>0.00</td>\n",
              "      <td>0</td>\n",
              "      <td>234.21</td>\n",
              "      <td>3102.36</td>\n",
              "      <td>2</td>\n",
              "      <td>Churned</td>\n",
              "      <td>Yes</td>\n",
              "      <td>1</td>\n",
              "      <td>67</td>\n",
              "      <td>2793</td>\n",
              "      <td>Price</td>\n",
              "      <td>Extra data charges</td>\n",
              "    </tr>\n",
              "  </tbody>\n",
              "</table>\n",
              "</div>"
            ],
            "text/plain": [
              "  Customer ID  Count  ...   Churn Category                  Churn Reason\n",
              "0  8779-QRDMV      1  ...       Competitor  Competitor offered more data\n",
              "1  7495-OOKFY      1  ...       Competitor  Competitor made better offer\n",
              "2  1658-BYGOY      1  ...       Competitor  Competitor made better offer\n",
              "3  4598-XLKNJ      1  ...  Dissatisfaction     Limited range of services\n",
              "4  4846-WHAFZ      1  ...            Price            Extra data charges\n",
              "\n",
              "[5 rows x 54 columns]"
            ]
          },
          "metadata": {
            "tags": []
          },
          "execution_count": 6
        }
      ]
    },
    {
      "cell_type": "code",
      "metadata": {
        "id": "early-atlas",
        "colab": {
          "base_uri": "https://localhost:8080/"
        },
        "outputId": "8020b644-90ff-4a49-f936-903072d86fba"
      },
      "source": [
        "df.info()"
      ],
      "id": "early-atlas",
      "execution_count": null,
      "outputs": [
        {
          "output_type": "stream",
          "text": [
            "<class 'pandas.core.frame.DataFrame'>\n",
            "Int64Index: 7043 entries, 0 to 7042\n",
            "Data columns (total 54 columns):\n",
            " #   Column                             Non-Null Count  Dtype  \n",
            "---  ------                             --------------  -----  \n",
            " 0   Customer ID                        7043 non-null   object \n",
            " 1   Count                              7043 non-null   int64  \n",
            " 2   Gender                             7043 non-null   object \n",
            " 3   Age                                7043 non-null   int64  \n",
            " 4   Under 30                           7043 non-null   object \n",
            " 5   Senior Citizen                     7043 non-null   object \n",
            " 6   Married                            7043 non-null   object \n",
            " 7   Dependents                         7043 non-null   object \n",
            " 8   Number of Dependents               7043 non-null   int64  \n",
            " 9   Country                            7043 non-null   object \n",
            " 10  State                              7043 non-null   object \n",
            " 11  City                               7043 non-null   object \n",
            " 12  Zip Code                           7043 non-null   int64  \n",
            " 13  Lat Long                           7043 non-null   object \n",
            " 14  Latitude                           7043 non-null   float64\n",
            " 15  Longitude                          7043 non-null   float64\n",
            " 16  ID                                 7043 non-null   int64  \n",
            " 17  Population                         7043 non-null   int64  \n",
            " 18  Quarter                            7043 non-null   object \n",
            " 19  Referred a Friend                  7043 non-null   object \n",
            " 20  Number of Referrals                7043 non-null   int64  \n",
            " 21  Tenure in Months                   7043 non-null   int64  \n",
            " 22  Offer                              7043 non-null   object \n",
            " 23  Phone Service                      7043 non-null   object \n",
            " 24  Avg Monthly Long Distance Charges  7043 non-null   float64\n",
            " 25  Multiple Lines                     7043 non-null   object \n",
            " 26  Internet Service                   7043 non-null   object \n",
            " 27  Internet Type                      7043 non-null   object \n",
            " 28  Avg Monthly GB Download            7043 non-null   int64  \n",
            " 29  Online Security                    7043 non-null   object \n",
            " 30  Online Backup                      7043 non-null   object \n",
            " 31  Device Protection Plan             7043 non-null   object \n",
            " 32  Premium Tech Support               7043 non-null   object \n",
            " 33  Streaming TV                       7043 non-null   object \n",
            " 34  Streaming Movies                   7043 non-null   object \n",
            " 35  Streaming Music                    7043 non-null   object \n",
            " 36  Unlimited Data                     7043 non-null   object \n",
            " 37  Contract                           7043 non-null   object \n",
            " 38  Paperless Billing                  7043 non-null   object \n",
            " 39  Payment Method                     7043 non-null   object \n",
            " 40  Monthly Charge                     7043 non-null   float64\n",
            " 41  Total Charges                      7043 non-null   float64\n",
            " 42  Total Refunds                      7043 non-null   float64\n",
            " 43  Total Extra Data Charges           7043 non-null   int64  \n",
            " 44  Total Long Distance Charges        7043 non-null   float64\n",
            " 45  Total Revenue                      7043 non-null   float64\n",
            " 46  Satisfaction Score                 7043 non-null   int64  \n",
            " 47  Customer Status                    7043 non-null   object \n",
            " 48  Churn Label                        7043 non-null   object \n",
            " 49  Churn Value                        7043 non-null   int64  \n",
            " 50  Churn Score                        7043 non-null   int64  \n",
            " 51  CLTV                               7043 non-null   int64  \n",
            " 52  Churn Category                     1869 non-null   object \n",
            " 53  Churn Reason                       1869 non-null   object \n",
            "dtypes: float64(8), int64(14), object(32)\n",
            "memory usage: 3.0+ MB\n"
          ],
          "name": "stdout"
        }
      ]
    },
    {
      "cell_type": "code",
      "metadata": {
        "id": "mysterious-suicide",
        "colab": {
          "base_uri": "https://localhost:8080/"
        },
        "outputId": "e8702a47-3e24-4e84-dc72-636f7cbd4dfb"
      },
      "source": [
        "df['encoded_label'] = df['Churn Label'].apply(lambda x: 1 if x=='Yes' else 0 )\n",
        "df['encoded_label'].head()"
      ],
      "id": "mysterious-suicide",
      "execution_count": null,
      "outputs": [
        {
          "output_type": "execute_result",
          "data": {
            "text/plain": [
              "0    1\n",
              "1    1\n",
              "2    1\n",
              "3    1\n",
              "4    1\n",
              "Name: encoded_label, dtype: int64"
            ]
          },
          "metadata": {
            "tags": []
          },
          "execution_count": 8
        }
      ]
    },
    {
      "cell_type": "code",
      "metadata": {
        "colab": {
          "base_uri": "https://localhost:8080/",
          "height": 137
        },
        "id": "nutcxNQsO0a_",
        "outputId": "d08edd30-d07b-44ba-9b9e-f3cbd2412052"
      },
      "source": [
        "df[df.duplicated()]\n",
        "#no duplicate"
      ],
      "id": "nutcxNQsO0a_",
      "execution_count": null,
      "outputs": [
        {
          "output_type": "execute_result",
          "data": {
            "text/html": [
              "<div>\n",
              "<style scoped>\n",
              "    .dataframe tbody tr th:only-of-type {\n",
              "        vertical-align: middle;\n",
              "    }\n",
              "\n",
              "    .dataframe tbody tr th {\n",
              "        vertical-align: top;\n",
              "    }\n",
              "\n",
              "    .dataframe thead th {\n",
              "        text-align: right;\n",
              "    }\n",
              "</style>\n",
              "<table border=\"1\" class=\"dataframe\">\n",
              "  <thead>\n",
              "    <tr style=\"text-align: right;\">\n",
              "      <th></th>\n",
              "      <th>Customer ID</th>\n",
              "      <th>Count</th>\n",
              "      <th>Gender</th>\n",
              "      <th>Age</th>\n",
              "      <th>Under 30</th>\n",
              "      <th>Senior Citizen</th>\n",
              "      <th>Married</th>\n",
              "      <th>Dependents</th>\n",
              "      <th>Number of Dependents</th>\n",
              "      <th>Country</th>\n",
              "      <th>State</th>\n",
              "      <th>City</th>\n",
              "      <th>Zip Code</th>\n",
              "      <th>Lat Long</th>\n",
              "      <th>Latitude</th>\n",
              "      <th>Longitude</th>\n",
              "      <th>ID</th>\n",
              "      <th>Population</th>\n",
              "      <th>Quarter</th>\n",
              "      <th>Referred a Friend</th>\n",
              "      <th>Number of Referrals</th>\n",
              "      <th>Tenure in Months</th>\n",
              "      <th>Offer</th>\n",
              "      <th>Phone Service</th>\n",
              "      <th>Avg Monthly Long Distance Charges</th>\n",
              "      <th>Multiple Lines</th>\n",
              "      <th>Internet Service</th>\n",
              "      <th>Internet Type</th>\n",
              "      <th>Avg Monthly GB Download</th>\n",
              "      <th>Online Security</th>\n",
              "      <th>Online Backup</th>\n",
              "      <th>Device Protection Plan</th>\n",
              "      <th>Premium Tech Support</th>\n",
              "      <th>Streaming TV</th>\n",
              "      <th>Streaming Movies</th>\n",
              "      <th>Streaming Music</th>\n",
              "      <th>Unlimited Data</th>\n",
              "      <th>Contract</th>\n",
              "      <th>Paperless Billing</th>\n",
              "      <th>Payment Method</th>\n",
              "      <th>Monthly Charge</th>\n",
              "      <th>Total Charges</th>\n",
              "      <th>Total Refunds</th>\n",
              "      <th>Total Extra Data Charges</th>\n",
              "      <th>Total Long Distance Charges</th>\n",
              "      <th>Total Revenue</th>\n",
              "      <th>Satisfaction Score</th>\n",
              "      <th>Customer Status</th>\n",
              "      <th>Churn Label</th>\n",
              "      <th>Churn Value</th>\n",
              "      <th>Churn Score</th>\n",
              "      <th>CLTV</th>\n",
              "      <th>Churn Category</th>\n",
              "      <th>Churn Reason</th>\n",
              "      <th>encoded_label</th>\n",
              "    </tr>\n",
              "  </thead>\n",
              "  <tbody>\n",
              "  </tbody>\n",
              "</table>\n",
              "</div>"
            ],
            "text/plain": [
              "Empty DataFrame\n",
              "Columns: [Customer ID, Count, Gender, Age, Under 30, Senior Citizen, Married, Dependents, Number of Dependents, Country, State, City, Zip Code, Lat Long, Latitude, Longitude, ID, Population, Quarter, Referred a Friend, Number of Referrals, Tenure in Months, Offer, Phone Service, Avg Monthly Long Distance Charges, Multiple Lines, Internet Service, Internet Type, Avg Monthly GB Download, Online Security, Online Backup, Device Protection Plan, Premium Tech Support, Streaming TV, Streaming Movies, Streaming Music, Unlimited Data, Contract, Paperless Billing, Payment Method, Monthly Charge, Total Charges, Total Refunds, Total Extra Data Charges, Total Long Distance Charges, Total Revenue, Satisfaction Score, Customer Status, Churn Label, Churn Value, Churn Score, CLTV, Churn Category, Churn Reason, encoded_label]\n",
              "Index: []"
            ]
          },
          "metadata": {
            "tags": []
          },
          "execution_count": 9
        }
      ]
    },
    {
      "cell_type": "markdown",
      "metadata": {
        "id": "7BDcNTd5PdVe"
      },
      "source": [
        "# inspect missing value"
      ],
      "id": "7BDcNTd5PdVe"
    },
    {
      "cell_type": "code",
      "metadata": {
        "id": "iYFES128PCTz"
      },
      "source": [
        "def missing_percentage():\n",
        "    na_val = df.isnull().sum() * 100 / len(df)\n",
        "    na_val = na_val[na_val.values > 0]\n",
        "    na_val.sort_values(ascending=False)\n",
        "    return na_val"
      ],
      "id": "iYFES128PCTz",
      "execution_count": null,
      "outputs": []
    },
    {
      "cell_type": "code",
      "metadata": {
        "colab": {
          "base_uri": "https://localhost:8080/"
        },
        "id": "oLY4EMQvPZa3",
        "outputId": "a7532f07-dba2-48e4-d6de-51d587344a9e"
      },
      "source": [
        "missing_percentage()"
      ],
      "id": "oLY4EMQvPZa3",
      "execution_count": null,
      "outputs": [
        {
          "output_type": "execute_result",
          "data": {
            "text/plain": [
              "Churn Category    73.463013\n",
              "Churn Reason      73.463013\n",
              "dtype: float64"
            ]
          },
          "metadata": {
            "tags": []
          },
          "execution_count": 11
        }
      ]
    },
    {
      "cell_type": "markdown",
      "metadata": {
        "id": "OyK87TKZ9GK7"
      },
      "source": [
        "# Feature Selection\n",
        "\n",
        "## Used Feature\n",
        "- Under 30\n",
        "- Married\n",
        "- Number of Dependents\n",
        "- Number of Referrals\n",
        "- Tenure in Months\n",
        "- Offer\n",
        "- Multiple Lines\n",
        "- Internet Service\n",
        "- Internet Type\n",
        "- Online Security\n",
        "- Online Backup\n",
        "- Device Protection Plan\n",
        "- Premium Tech Support\n",
        "- Streaming TV\n",
        "- Streaming Movies\n",
        "- Streaming Music\n",
        "- Unlimited Data\n",
        "- Contract\n",
        "- Paperless Billing\n",
        "- Payment Method\n",
        "- Total Charges\n",
        "- Total Revenue\n",
        "- Satisfaction Score"
      ],
      "id": "OyK87TKZ9GK7"
    },
    {
      "cell_type": "markdown",
      "metadata": {
        "id": "tG8UAHZF6Fmj"
      },
      "source": [
        "# correlation test for feature selection\n",
        "\n",
        "correlation interpretation guide based on:  \n",
        "Statistic without math for psychology by Dancey and Reidy"
      ],
      "id": "tG8UAHZF6Fmj"
    },
    {
      "cell_type": "code",
      "metadata": {
        "colab": {
          "base_uri": "https://localhost:8080/"
        },
        "id": "kQFMbh3U53F3",
        "outputId": "ebdb96be-b337-4e72-a0b4-faf9aee37b5f"
      },
      "source": [
        "#point biserial correlation, Pearson corr\n",
        "df['Age'].corr(df['encoded_label'])"
      ],
      "id": "kQFMbh3U53F3",
      "execution_count": null,
      "outputs": [
        {
          "output_type": "execute_result",
          "data": {
            "text/plain": [
              "0.11575973716171706"
            ]
          },
          "metadata": {
            "tags": []
          },
          "execution_count": 12
        }
      ]
    },
    {
      "cell_type": "code",
      "metadata": {
        "id": "micro-shade",
        "colab": {
          "base_uri": "https://localhost:8080/",
          "height": 275
        },
        "outputId": "2a9f31db-76a0-41b6-a03c-ac38c385939b"
      },
      "source": [
        "#chi square contingency\n",
        "obs = pd.crosstab(df['Under 30'],df['Churn Label'],margins=True)\n",
        "display(obs)\n",
        "chi2_contingency(obs)\n",
        "#result is reject H0 variable is independent, means tbere is a correlation (dependent)\n"
      ],
      "id": "micro-shade",
      "execution_count": null,
      "outputs": [
        {
          "output_type": "display_data",
          "data": {
            "text/html": [
              "<div>\n",
              "<style scoped>\n",
              "    .dataframe tbody tr th:only-of-type {\n",
              "        vertical-align: middle;\n",
              "    }\n",
              "\n",
              "    .dataframe tbody tr th {\n",
              "        vertical-align: top;\n",
              "    }\n",
              "\n",
              "    .dataframe thead th {\n",
              "        text-align: right;\n",
              "    }\n",
              "</style>\n",
              "<table border=\"1\" class=\"dataframe\">\n",
              "  <thead>\n",
              "    <tr style=\"text-align: right;\">\n",
              "      <th>Churn Label</th>\n",
              "      <th>No</th>\n",
              "      <th>Yes</th>\n",
              "      <th>All</th>\n",
              "    </tr>\n",
              "    <tr>\n",
              "      <th>Under 30</th>\n",
              "      <th></th>\n",
              "      <th></th>\n",
              "      <th></th>\n",
              "    </tr>\n",
              "  </thead>\n",
              "  <tbody>\n",
              "    <tr>\n",
              "      <th>No</th>\n",
              "      <td>4077</td>\n",
              "      <td>1565</td>\n",
              "      <td>5642</td>\n",
              "    </tr>\n",
              "    <tr>\n",
              "      <th>Yes</th>\n",
              "      <td>1097</td>\n",
              "      <td>304</td>\n",
              "      <td>1401</td>\n",
              "    </tr>\n",
              "    <tr>\n",
              "      <th>All</th>\n",
              "      <td>5174</td>\n",
              "      <td>1869</td>\n",
              "      <td>7043</td>\n",
              "    </tr>\n",
              "  </tbody>\n",
              "</table>\n",
              "</div>"
            ],
            "text/plain": [
              "Churn Label    No   Yes   All\n",
              "Under 30                     \n",
              "No           4077  1565  5642\n",
              "Yes          1097   304  1401\n",
              "All          5174  1869  7043"
            ]
          },
          "metadata": {
            "tags": []
          }
        },
        {
          "output_type": "execute_result",
          "data": {
            "text/plain": [
              "(20.999556202841383,\n",
              " 0.00031673333210227925,\n",
              " 4,\n",
              " array([[4144.78318898, 1497.21681102, 5642.        ],\n",
              "        [1029.21681102,  371.78318898, 1401.        ],\n",
              "        [5174.        , 1869.        , 7043.        ]]))"
            ]
          },
          "metadata": {
            "tags": []
          },
          "execution_count": 42
        }
      ]
    },
    {
      "cell_type": "code",
      "metadata": {
        "colab": {
          "base_uri": "https://localhost:8080/",
          "height": 275
        },
        "id": "CiQgLnaUzAoq",
        "outputId": "8428c7d2-2dda-4aca-d7ca-bc31156d76e4"
      },
      "source": [
        "#chi square contingency\n",
        "married_obs = pd.crosstab(df['Married'],df['Churn Label'],margins=True)\n",
        "display(married_obs)\n",
        "chi2_contingency(married_obs)\n",
        "\n",
        "#result is reject H0 variable is independent, means tbere is a correlation (dependent)"
      ],
      "id": "CiQgLnaUzAoq",
      "execution_count": null,
      "outputs": [
        {
          "output_type": "display_data",
          "data": {
            "text/html": [
              "<div>\n",
              "<style scoped>\n",
              "    .dataframe tbody tr th:only-of-type {\n",
              "        vertical-align: middle;\n",
              "    }\n",
              "\n",
              "    .dataframe tbody tr th {\n",
              "        vertical-align: top;\n",
              "    }\n",
              "\n",
              "    .dataframe thead th {\n",
              "        text-align: right;\n",
              "    }\n",
              "</style>\n",
              "<table border=\"1\" class=\"dataframe\">\n",
              "  <thead>\n",
              "    <tr style=\"text-align: right;\">\n",
              "      <th>Churn Label</th>\n",
              "      <th>No</th>\n",
              "      <th>Yes</th>\n",
              "      <th>All</th>\n",
              "    </tr>\n",
              "    <tr>\n",
              "      <th>Married</th>\n",
              "      <th></th>\n",
              "      <th></th>\n",
              "      <th></th>\n",
              "    </tr>\n",
              "  </thead>\n",
              "  <tbody>\n",
              "    <tr>\n",
              "      <th>No</th>\n",
              "      <td>2441</td>\n",
              "      <td>1200</td>\n",
              "      <td>3641</td>\n",
              "    </tr>\n",
              "    <tr>\n",
              "      <th>Yes</th>\n",
              "      <td>2733</td>\n",
              "      <td>669</td>\n",
              "      <td>3402</td>\n",
              "    </tr>\n",
              "    <tr>\n",
              "      <th>All</th>\n",
              "      <td>5174</td>\n",
              "      <td>1869</td>\n",
              "      <td>7043</td>\n",
              "    </tr>\n",
              "  </tbody>\n",
              "</table>\n",
              "</div>"
            ],
            "text/plain": [
              "Churn Label    No   Yes   All\n",
              "Married                      \n",
              "No           2441  1200  3641\n",
              "Yes          2733   669  3402\n",
              "All          5174  1869  7043"
            ]
          },
          "metadata": {
            "tags": []
          }
        },
        {
          "output_type": "execute_result",
          "data": {
            "text/plain": [
              "(159.41452843242658,\n",
              " 1.952035040461347e-33,\n",
              " 4,\n",
              " array([[2674.78830044,  966.21169956, 3641.        ],\n",
              "        [2499.21169956,  902.78830044, 3402.        ],\n",
              "        [5174.        , 1869.        , 7043.        ]]))"
            ]
          },
          "metadata": {
            "tags": []
          },
          "execution_count": 43
        }
      ]
    },
    {
      "cell_type": "code",
      "metadata": {
        "colab": {
          "base_uri": "https://localhost:8080/"
        },
        "id": "OnArZRES6DSO",
        "outputId": "70269ab6-03fb-4696-dfcc-dda7ec0e9b97"
      },
      "source": [
        "#point biserial correlation, Pearson corr\n",
        "df['Number of Dependents'].corr(df['encoded_label'])"
      ],
      "id": "OnArZRES6DSO",
      "execution_count": null,
      "outputs": [
        {
          "output_type": "execute_result",
          "data": {
            "text/plain": [
              "-0.21878018695662757"
            ]
          },
          "metadata": {
            "tags": []
          },
          "execution_count": 15
        }
      ]
    },
    {
      "cell_type": "code",
      "metadata": {
        "colab": {
          "base_uri": "https://localhost:8080/"
        },
        "id": "Dq7oVlK67Y2-",
        "outputId": "b2284225-98bf-474a-998a-c7d471ef27ee"
      },
      "source": [
        "#point biserial correlation, Pearson corr\n",
        "df['Tenure in Months'].corr(df['encoded_label'])"
      ],
      "id": "Dq7oVlK67Y2-",
      "execution_count": null,
      "outputs": [
        {
          "output_type": "execute_result",
          "data": {
            "text/plain": [
              "-0.3528611958713403"
            ]
          },
          "metadata": {
            "tags": []
          },
          "execution_count": 16
        }
      ]
    },
    {
      "cell_type": "code",
      "metadata": {
        "colab": {
          "base_uri": "https://localhost:8080/"
        },
        "id": "jNWqaWXO7daN",
        "outputId": "7c047a61-4c0b-42d0-d5a5-3f4e6b87666d"
      },
      "source": [
        "#point biserial correlation, Pearson corr\n",
        "df['Number of Referrals'].corr(df['encoded_label'])"
      ],
      "id": "jNWqaWXO7daN",
      "execution_count": null,
      "outputs": [
        {
          "output_type": "execute_result",
          "data": {
            "text/plain": [
              "-0.2865404715037923"
            ]
          },
          "metadata": {
            "tags": []
          },
          "execution_count": 17
        }
      ]
    },
    {
      "cell_type": "code",
      "metadata": {
        "colab": {
          "base_uri": "https://localhost:8080/",
          "height": 467
        },
        "id": "IeRlzJXxDoau",
        "outputId": "df46630c-2b2a-4eb5-b299-1bc7ccb76380"
      },
      "source": [
        "#chi square contingency\n",
        "ofr_obs = pd.crosstab(df['Offer'],df['Churn Label'],margins=True)\n",
        "display(ofr_obs)\n",
        "chi2_contingency(ofr_obs)\n",
        "#result is reject H0 variable is independent, means tbere is a correlation (dependent)"
      ],
      "id": "IeRlzJXxDoau",
      "execution_count": null,
      "outputs": [
        {
          "output_type": "display_data",
          "data": {
            "text/html": [
              "<div>\n",
              "<style scoped>\n",
              "    .dataframe tbody tr th:only-of-type {\n",
              "        vertical-align: middle;\n",
              "    }\n",
              "\n",
              "    .dataframe tbody tr th {\n",
              "        vertical-align: top;\n",
              "    }\n",
              "\n",
              "    .dataframe thead th {\n",
              "        text-align: right;\n",
              "    }\n",
              "</style>\n",
              "<table border=\"1\" class=\"dataframe\">\n",
              "  <thead>\n",
              "    <tr style=\"text-align: right;\">\n",
              "      <th>Churn Label</th>\n",
              "      <th>No</th>\n",
              "      <th>Yes</th>\n",
              "      <th>All</th>\n",
              "    </tr>\n",
              "    <tr>\n",
              "      <th>Offer</th>\n",
              "      <th></th>\n",
              "      <th></th>\n",
              "      <th></th>\n",
              "    </tr>\n",
              "  </thead>\n",
              "  <tbody>\n",
              "    <tr>\n",
              "      <th>None</th>\n",
              "      <td>2826</td>\n",
              "      <td>1051</td>\n",
              "      <td>3877</td>\n",
              "    </tr>\n",
              "    <tr>\n",
              "      <th>Offer A</th>\n",
              "      <td>485</td>\n",
              "      <td>35</td>\n",
              "      <td>520</td>\n",
              "    </tr>\n",
              "    <tr>\n",
              "      <th>Offer B</th>\n",
              "      <td>723</td>\n",
              "      <td>101</td>\n",
              "      <td>824</td>\n",
              "    </tr>\n",
              "    <tr>\n",
              "      <th>Offer C</th>\n",
              "      <td>320</td>\n",
              "      <td>95</td>\n",
              "      <td>415</td>\n",
              "    </tr>\n",
              "    <tr>\n",
              "      <th>Offer D</th>\n",
              "      <td>441</td>\n",
              "      <td>161</td>\n",
              "      <td>602</td>\n",
              "    </tr>\n",
              "    <tr>\n",
              "      <th>Offer E</th>\n",
              "      <td>379</td>\n",
              "      <td>426</td>\n",
              "      <td>805</td>\n",
              "    </tr>\n",
              "    <tr>\n",
              "      <th>All</th>\n",
              "      <td>5174</td>\n",
              "      <td>1869</td>\n",
              "      <td>7043</td>\n",
              "    </tr>\n",
              "  </tbody>\n",
              "</table>\n",
              "</div>"
            ],
            "text/plain": [
              "Churn Label    No   Yes   All\n",
              "Offer                        \n",
              "None         2826  1051  3877\n",
              "Offer A       485    35   520\n",
              "Offer B       723   101   824\n",
              "Offer C       320    95   415\n",
              "Offer D       441   161   602\n",
              "Offer E       379   426   805\n",
              "All          5174  1869  7043"
            ]
          },
          "metadata": {
            "tags": []
          }
        },
        {
          "output_type": "execute_result",
          "data": {
            "text/plain": [
              "(481.7254889632278,\n",
              " 1.711503009952356e-95,\n",
              " 12,\n",
              " array([[2848.16101093, 1028.83898907, 3877.        ],\n",
              "        [ 382.00766719,  137.99233281,  520.        ],\n",
              "        [ 605.33522647,  218.66477353,  824.        ],\n",
              "        [ 304.87150362,  110.12849638,  415.        ],\n",
              "        [ 442.24733778,  159.75266222,  602.        ],\n",
              "        [ 591.37725401,  213.62274599,  805.        ],\n",
              "        [5174.        , 1869.        , 7043.        ]]))"
            ]
          },
          "metadata": {
            "tags": []
          },
          "execution_count": 44
        }
      ]
    },
    {
      "cell_type": "code",
      "metadata": {
        "colab": {
          "base_uri": "https://localhost:8080/",
          "height": 275
        },
        "id": "QO2YMGN2EuSB",
        "outputId": "c71d8e7e-60f6-443d-8d0a-5da56f32ef59"
      },
      "source": [
        "#chi square contingency\n",
        "pho_obs = pd.crosstab(df['Phone Service'],df['Churn Label'],margins=True)\n",
        "display(pho_obs)\n",
        "chi2_contingency(pho_obs)\n",
        "#result is keep H0 variable is independent, means tbere is a no correlation/difference"
      ],
      "id": "QO2YMGN2EuSB",
      "execution_count": null,
      "outputs": [
        {
          "output_type": "display_data",
          "data": {
            "text/html": [
              "<div>\n",
              "<style scoped>\n",
              "    .dataframe tbody tr th:only-of-type {\n",
              "        vertical-align: middle;\n",
              "    }\n",
              "\n",
              "    .dataframe tbody tr th {\n",
              "        vertical-align: top;\n",
              "    }\n",
              "\n",
              "    .dataframe thead th {\n",
              "        text-align: right;\n",
              "    }\n",
              "</style>\n",
              "<table border=\"1\" class=\"dataframe\">\n",
              "  <thead>\n",
              "    <tr style=\"text-align: right;\">\n",
              "      <th>Churn Label</th>\n",
              "      <th>No</th>\n",
              "      <th>Yes</th>\n",
              "      <th>All</th>\n",
              "    </tr>\n",
              "    <tr>\n",
              "      <th>Phone Service</th>\n",
              "      <th></th>\n",
              "      <th></th>\n",
              "      <th></th>\n",
              "    </tr>\n",
              "  </thead>\n",
              "  <tbody>\n",
              "    <tr>\n",
              "      <th>No</th>\n",
              "      <td>512</td>\n",
              "      <td>170</td>\n",
              "      <td>682</td>\n",
              "    </tr>\n",
              "    <tr>\n",
              "      <th>Yes</th>\n",
              "      <td>4662</td>\n",
              "      <td>1699</td>\n",
              "      <td>6361</td>\n",
              "    </tr>\n",
              "    <tr>\n",
              "      <th>All</th>\n",
              "      <td>5174</td>\n",
              "      <td>1869</td>\n",
              "      <td>7043</td>\n",
              "    </tr>\n",
              "  </tbody>\n",
              "</table>\n",
              "</div>"
            ],
            "text/plain": [
              "Churn Label      No   Yes   All\n",
              "Phone Service                  \n",
              "No              512   170   682\n",
              "Yes            4662  1699  6361\n",
              "All            5174  1869  7043"
            ]
          },
          "metadata": {
            "tags": []
          }
        },
        {
          "output_type": "execute_result",
          "data": {
            "text/plain": [
              "(1.0044084772333213,\n",
              " 0.9091267853074723,\n",
              " 4,\n",
              " array([[ 501.01774812,  180.98225188,  682.        ],\n",
              "        [4672.98225188, 1688.01774812, 6361.        ],\n",
              "        [5174.        , 1869.        , 7043.        ]]))"
            ]
          },
          "metadata": {
            "tags": []
          },
          "execution_count": 45
        }
      ]
    },
    {
      "cell_type": "code",
      "metadata": {
        "colab": {
          "base_uri": "https://localhost:8080/"
        },
        "id": "vnx89XdSEldp",
        "outputId": "9d8d1ee5-b930-4764-d9c7-12e0b6ef5760"
      },
      "source": [
        "#point biserial correlation, Pearson corr\n",
        "df['Avg Monthly Long Distance Charges'].corr(df['encoded_label'])"
      ],
      "id": "vnx89XdSEldp",
      "execution_count": null,
      "outputs": [
        {
          "output_type": "execute_result",
          "data": {
            "text/plain": [
              "0.008119528923840769"
            ]
          },
          "metadata": {
            "tags": []
          },
          "execution_count": 20
        }
      ]
    },
    {
      "cell_type": "code",
      "metadata": {
        "colab": {
          "base_uri": "https://localhost:8080/",
          "height": 275
        },
        "id": "t4wBKTz-GoZK",
        "outputId": "e9357416-612d-4549-df62-1dfe104b709d"
      },
      "source": [
        "#chi square contingency\n",
        "mli_obs = pd.crosstab(df['Multiple Lines'],df['Churn Label'],margins=True)\n",
        "display(mli_obs)\n",
        "chi2_contingency(mli_obs)\n",
        "#result is reject H0 variable is independent, means tbere is a correlation (dependent)\n"
      ],
      "id": "t4wBKTz-GoZK",
      "execution_count": null,
      "outputs": [
        {
          "output_type": "display_data",
          "data": {
            "text/html": [
              "<div>\n",
              "<style scoped>\n",
              "    .dataframe tbody tr th:only-of-type {\n",
              "        vertical-align: middle;\n",
              "    }\n",
              "\n",
              "    .dataframe tbody tr th {\n",
              "        vertical-align: top;\n",
              "    }\n",
              "\n",
              "    .dataframe thead th {\n",
              "        text-align: right;\n",
              "    }\n",
              "</style>\n",
              "<table border=\"1\" class=\"dataframe\">\n",
              "  <thead>\n",
              "    <tr style=\"text-align: right;\">\n",
              "      <th>Churn Label</th>\n",
              "      <th>No</th>\n",
              "      <th>Yes</th>\n",
              "      <th>All</th>\n",
              "    </tr>\n",
              "    <tr>\n",
              "      <th>Multiple Lines</th>\n",
              "      <th></th>\n",
              "      <th></th>\n",
              "      <th></th>\n",
              "    </tr>\n",
              "  </thead>\n",
              "  <tbody>\n",
              "    <tr>\n",
              "      <th>No</th>\n",
              "      <td>3053</td>\n",
              "      <td>1019</td>\n",
              "      <td>4072</td>\n",
              "    </tr>\n",
              "    <tr>\n",
              "      <th>Yes</th>\n",
              "      <td>2121</td>\n",
              "      <td>850</td>\n",
              "      <td>2971</td>\n",
              "    </tr>\n",
              "    <tr>\n",
              "      <th>All</th>\n",
              "      <td>5174</td>\n",
              "      <td>1869</td>\n",
              "      <td>7043</td>\n",
              "    </tr>\n",
              "  </tbody>\n",
              "</table>\n",
              "</div>"
            ],
            "text/plain": [
              "Churn Label       No   Yes   All\n",
              "Multiple Lines                  \n",
              "No              3053  1019  4072\n",
              "Yes             2121   850  2971\n",
              "All             5174  1869  7043"
            ]
          },
          "metadata": {
            "tags": []
          }
        },
        {
          "output_type": "execute_result",
          "data": {
            "text/plain": [
              "(11.326416290152446,\n",
              " 0.023130410091547645,\n",
              " 4,\n",
              " array([[2991.41388613, 1080.58611387, 4072.        ],\n",
              "        [2182.58611387,  788.41388613, 2971.        ],\n",
              "        [5174.        , 1869.        , 7043.        ]]))"
            ]
          },
          "metadata": {
            "tags": []
          },
          "execution_count": 46
        }
      ]
    },
    {
      "cell_type": "code",
      "metadata": {
        "colab": {
          "base_uri": "https://localhost:8080/",
          "height": 275
        },
        "id": "dlWrEhUyHrp2",
        "outputId": "2e8ef01b-5fc2-4641-b1b6-2bd4a4448de3"
      },
      "source": [
        "#chi square contingency\n",
        "ise_obs = pd.crosstab(df['Internet Service'],df['Churn Label'],margins=True)\n",
        "display(ise_obs)\n",
        "chi2_contingency(ise_obs)\n",
        "#result is reject H0 variable is independent, means tbere is a correlation (dependent)"
      ],
      "id": "dlWrEhUyHrp2",
      "execution_count": null,
      "outputs": [
        {
          "output_type": "display_data",
          "data": {
            "text/html": [
              "<div>\n",
              "<style scoped>\n",
              "    .dataframe tbody tr th:only-of-type {\n",
              "        vertical-align: middle;\n",
              "    }\n",
              "\n",
              "    .dataframe tbody tr th {\n",
              "        vertical-align: top;\n",
              "    }\n",
              "\n",
              "    .dataframe thead th {\n",
              "        text-align: right;\n",
              "    }\n",
              "</style>\n",
              "<table border=\"1\" class=\"dataframe\">\n",
              "  <thead>\n",
              "    <tr style=\"text-align: right;\">\n",
              "      <th>Churn Label</th>\n",
              "      <th>No</th>\n",
              "      <th>Yes</th>\n",
              "      <th>All</th>\n",
              "    </tr>\n",
              "    <tr>\n",
              "      <th>Internet Service</th>\n",
              "      <th></th>\n",
              "      <th></th>\n",
              "      <th></th>\n",
              "    </tr>\n",
              "  </thead>\n",
              "  <tbody>\n",
              "    <tr>\n",
              "      <th>No</th>\n",
              "      <td>1413</td>\n",
              "      <td>113</td>\n",
              "      <td>1526</td>\n",
              "    </tr>\n",
              "    <tr>\n",
              "      <th>Yes</th>\n",
              "      <td>3761</td>\n",
              "      <td>1756</td>\n",
              "      <td>5517</td>\n",
              "    </tr>\n",
              "    <tr>\n",
              "      <th>All</th>\n",
              "      <td>5174</td>\n",
              "      <td>1869</td>\n",
              "      <td>7043</td>\n",
              "    </tr>\n",
              "  </tbody>\n",
              "</table>\n",
              "</div>"
            ],
            "text/plain": [
              "Churn Label         No   Yes   All\n",
              "Internet Service                  \n",
              "No                1413   113  1526\n",
              "Yes               3761  1756  5517\n",
              "All               5174  1869  7043"
            ]
          },
          "metadata": {
            "tags": []
          }
        },
        {
          "output_type": "execute_result",
          "data": {
            "text/plain": [
              "(365.7715640851134,\n",
              " 6.890681737550473e-78,\n",
              " 4,\n",
              " array([[1121.04557717,  404.95442283, 1526.        ],\n",
              "        [4052.95442283, 1464.04557717, 5517.        ],\n",
              "        [5174.        , 1869.        , 7043.        ]]))"
            ]
          },
          "metadata": {
            "tags": []
          },
          "execution_count": 47
        }
      ]
    },
    {
      "cell_type": "code",
      "metadata": {
        "colab": {
          "base_uri": "https://localhost:8080/",
          "height": 371
        },
        "id": "MC7e4EFaHt_E",
        "outputId": "ece09746-ed52-463c-ff81-3261a23dc3d2"
      },
      "source": [
        "#chi square contingency\n",
        "ity_obs = pd.crosstab(df['Internet Type'],df['Churn Label'],margins=True)\n",
        "display(ity_obs)\n",
        "chi2_contingency(ity_obs)\n",
        "#result is reject H0 variable is independent, means tbere is a correlation (dependent)"
      ],
      "id": "MC7e4EFaHt_E",
      "execution_count": null,
      "outputs": [
        {
          "output_type": "display_data",
          "data": {
            "text/html": [
              "<div>\n",
              "<style scoped>\n",
              "    .dataframe tbody tr th:only-of-type {\n",
              "        vertical-align: middle;\n",
              "    }\n",
              "\n",
              "    .dataframe tbody tr th {\n",
              "        vertical-align: top;\n",
              "    }\n",
              "\n",
              "    .dataframe thead th {\n",
              "        text-align: right;\n",
              "    }\n",
              "</style>\n",
              "<table border=\"1\" class=\"dataframe\">\n",
              "  <thead>\n",
              "    <tr style=\"text-align: right;\">\n",
              "      <th>Churn Label</th>\n",
              "      <th>No</th>\n",
              "      <th>Yes</th>\n",
              "      <th>All</th>\n",
              "    </tr>\n",
              "    <tr>\n",
              "      <th>Internet Type</th>\n",
              "      <th></th>\n",
              "      <th></th>\n",
              "      <th></th>\n",
              "    </tr>\n",
              "  </thead>\n",
              "  <tbody>\n",
              "    <tr>\n",
              "      <th>Cable</th>\n",
              "      <td>617</td>\n",
              "      <td>213</td>\n",
              "      <td>830</td>\n",
              "    </tr>\n",
              "    <tr>\n",
              "      <th>DSL</th>\n",
              "      <td>1345</td>\n",
              "      <td>307</td>\n",
              "      <td>1652</td>\n",
              "    </tr>\n",
              "    <tr>\n",
              "      <th>Fiber Optic</th>\n",
              "      <td>1799</td>\n",
              "      <td>1236</td>\n",
              "      <td>3035</td>\n",
              "    </tr>\n",
              "    <tr>\n",
              "      <th>None</th>\n",
              "      <td>1413</td>\n",
              "      <td>113</td>\n",
              "      <td>1526</td>\n",
              "    </tr>\n",
              "    <tr>\n",
              "      <th>All</th>\n",
              "      <td>5174</td>\n",
              "      <td>1869</td>\n",
              "      <td>7043</td>\n",
              "    </tr>\n",
              "  </tbody>\n",
              "</table>\n",
              "</div>"
            ],
            "text/plain": [
              "Churn Label      No   Yes   All\n",
              "Internet Type                  \n",
              "Cable           617   213   830\n",
              "DSL            1345   307  1652\n",
              "Fiber Optic    1799  1236  3035\n",
              "None           1413   113  1526\n",
              "All            5174  1869  7043"
            ]
          },
          "metadata": {
            "tags": []
          }
        },
        {
          "output_type": "execute_result",
          "data": {
            "text/plain": [
              "(653.8320544960782,\n",
              " 6.1847499036772994e-136,\n",
              " 8,\n",
              " array([[ 609.74300724,  220.25699276,  830.        ],\n",
              "        [1213.60897345,  438.39102655, 1652.        ],\n",
              "        [2229.60244214,  805.39755786, 3035.        ],\n",
              "        [1121.04557717,  404.95442283, 1526.        ],\n",
              "        [5174.        , 1869.        , 7043.        ]]))"
            ]
          },
          "metadata": {
            "tags": []
          },
          "execution_count": 48
        }
      ]
    },
    {
      "cell_type": "code",
      "metadata": {
        "colab": {
          "base_uri": "https://localhost:8080/"
        },
        "id": "Rbi1A7nSIf0B",
        "outputId": "4040b777-d919-4c13-93a7-5c4a3b4af5df"
      },
      "source": [
        "#point biserial correlation, Pearson corr\n",
        "df['Avg Monthly GB Download'].corr(df['encoded_label'])"
      ],
      "id": "Rbi1A7nSIf0B",
      "execution_count": null,
      "outputs": [
        {
          "output_type": "execute_result",
          "data": {
            "text/plain": [
              "0.048867552338053295"
            ]
          },
          "metadata": {
            "tags": []
          },
          "execution_count": 24
        }
      ]
    },
    {
      "cell_type": "code",
      "metadata": {
        "colab": {
          "base_uri": "https://localhost:8080/",
          "height": 275
        },
        "id": "DGDDLjZrIu3A",
        "outputId": "d1d38860-05bc-4dd8-dac1-1861afb24035"
      },
      "source": [
        "#chi square contingency\n",
        "ons_obs = pd.crosstab(df['Online Security'],df['Churn Label'],margins=True)\n",
        "display(ons_obs)\n",
        "chi2_contingency(ons_obs)\n",
        "#result is reject H0 variable is independent, means tbere is a correlation (dependent)"
      ],
      "id": "DGDDLjZrIu3A",
      "execution_count": null,
      "outputs": [
        {
          "output_type": "display_data",
          "data": {
            "text/html": [
              "<div>\n",
              "<style scoped>\n",
              "    .dataframe tbody tr th:only-of-type {\n",
              "        vertical-align: middle;\n",
              "    }\n",
              "\n",
              "    .dataframe tbody tr th {\n",
              "        vertical-align: top;\n",
              "    }\n",
              "\n",
              "    .dataframe thead th {\n",
              "        text-align: right;\n",
              "    }\n",
              "</style>\n",
              "<table border=\"1\" class=\"dataframe\">\n",
              "  <thead>\n",
              "    <tr style=\"text-align: right;\">\n",
              "      <th>Churn Label</th>\n",
              "      <th>No</th>\n",
              "      <th>Yes</th>\n",
              "      <th>All</th>\n",
              "    </tr>\n",
              "    <tr>\n",
              "      <th>Online Security</th>\n",
              "      <th></th>\n",
              "      <th></th>\n",
              "      <th></th>\n",
              "    </tr>\n",
              "  </thead>\n",
              "  <tbody>\n",
              "    <tr>\n",
              "      <th>No</th>\n",
              "      <td>3450</td>\n",
              "      <td>1574</td>\n",
              "      <td>5024</td>\n",
              "    </tr>\n",
              "    <tr>\n",
              "      <th>Yes</th>\n",
              "      <td>1724</td>\n",
              "      <td>295</td>\n",
              "      <td>2019</td>\n",
              "    </tr>\n",
              "    <tr>\n",
              "      <th>All</th>\n",
              "      <td>5174</td>\n",
              "      <td>1869</td>\n",
              "      <td>7043</td>\n",
              "    </tr>\n",
              "  </tbody>\n",
              "</table>\n",
              "</div>"
            ],
            "text/plain": [
              "Churn Label        No   Yes   All\n",
              "Online Security                  \n",
              "No               3450  1574  5024\n",
              "Yes              1724   295  2019\n",
              "All              5174  1869  7043"
            ]
          },
          "metadata": {
            "tags": []
          }
        },
        {
          "output_type": "execute_result",
          "data": {
            "text/plain": [
              "(206.4897944324984,\n",
              " 1.5113521208234787e-43,\n",
              " 4,\n",
              " array([[3690.78176913, 1333.21823087, 5024.        ],\n",
              "        [1483.21823087,  535.78176913, 2019.        ],\n",
              "        [5174.        , 1869.        , 7043.        ]]))"
            ]
          },
          "metadata": {
            "tags": []
          },
          "execution_count": 49
        }
      ]
    },
    {
      "cell_type": "code",
      "metadata": {
        "colab": {
          "base_uri": "https://localhost:8080/",
          "height": 275
        },
        "id": "U8sz0Bo9JGoX",
        "outputId": "dea46d38-f8d7-4ce3-e861-079ce93bbead"
      },
      "source": [
        "#chi square contingency\n",
        "onb_obs = pd.crosstab(df['Online Backup'],df['Churn Label'],margins=True)\n",
        "display(onb_obs)\n",
        "chi2_contingency(onb_obs)\n",
        "#result is reject H0 variable is independent, means tbere is a correlation (dependent)"
      ],
      "id": "U8sz0Bo9JGoX",
      "execution_count": null,
      "outputs": [
        {
          "output_type": "display_data",
          "data": {
            "text/html": [
              "<div>\n",
              "<style scoped>\n",
              "    .dataframe tbody tr th:only-of-type {\n",
              "        vertical-align: middle;\n",
              "    }\n",
              "\n",
              "    .dataframe tbody tr th {\n",
              "        vertical-align: top;\n",
              "    }\n",
              "\n",
              "    .dataframe thead th {\n",
              "        text-align: right;\n",
              "    }\n",
              "</style>\n",
              "<table border=\"1\" class=\"dataframe\">\n",
              "  <thead>\n",
              "    <tr style=\"text-align: right;\">\n",
              "      <th>Churn Label</th>\n",
              "      <th>No</th>\n",
              "      <th>Yes</th>\n",
              "      <th>All</th>\n",
              "    </tr>\n",
              "    <tr>\n",
              "      <th>Online Backup</th>\n",
              "      <th></th>\n",
              "      <th></th>\n",
              "      <th></th>\n",
              "    </tr>\n",
              "  </thead>\n",
              "  <tbody>\n",
              "    <tr>\n",
              "      <th>No</th>\n",
              "      <td>3268</td>\n",
              "      <td>1346</td>\n",
              "      <td>4614</td>\n",
              "    </tr>\n",
              "    <tr>\n",
              "      <th>Yes</th>\n",
              "      <td>1906</td>\n",
              "      <td>523</td>\n",
              "      <td>2429</td>\n",
              "    </tr>\n",
              "    <tr>\n",
              "      <th>All</th>\n",
              "      <td>5174</td>\n",
              "      <td>1869</td>\n",
              "      <td>7043</td>\n",
              "    </tr>\n",
              "  </tbody>\n",
              "</table>\n",
              "</div>"
            ],
            "text/plain": [
              "Churn Label      No   Yes   All\n",
              "Online Backup                  \n",
              "No             3268  1346  4614\n",
              "Yes            1906   523  2429\n",
              "All            5174  1869  7043"
            ]
          },
          "metadata": {
            "tags": []
          }
        },
        {
          "output_type": "execute_result",
          "data": {
            "text/plain": [
              "(47.651976377170385,\n",
              " 1.1153504535976225e-09,\n",
              " 4,\n",
              " array([[3389.58341616, 1224.41658384, 4614.        ],\n",
              "        [1784.41658384,  644.58341616, 2429.        ],\n",
              "        [5174.        , 1869.        , 7043.        ]]))"
            ]
          },
          "metadata": {
            "tags": []
          },
          "execution_count": 50
        }
      ]
    },
    {
      "cell_type": "code",
      "metadata": {
        "colab": {
          "base_uri": "https://localhost:8080/",
          "height": 275
        },
        "id": "X-DAx5OgJfiM",
        "outputId": "1e5b8b8a-77d0-4437-aeed-bb6b56a6dddb"
      },
      "source": [
        "#chi square contingency\n",
        "dpp_obs = pd.crosstab(df['Device Protection Plan'],df['Churn Label'],margins=True)\n",
        "display(dpp_obs)\n",
        "chi2_contingency(dpp_obs)\n",
        "#result is reject H0 variable is independent, means tbere is a correlation (dependent)"
      ],
      "id": "X-DAx5OgJfiM",
      "execution_count": null,
      "outputs": [
        {
          "output_type": "display_data",
          "data": {
            "text/html": [
              "<div>\n",
              "<style scoped>\n",
              "    .dataframe tbody tr th:only-of-type {\n",
              "        vertical-align: middle;\n",
              "    }\n",
              "\n",
              "    .dataframe tbody tr th {\n",
              "        vertical-align: top;\n",
              "    }\n",
              "\n",
              "    .dataframe thead th {\n",
              "        text-align: right;\n",
              "    }\n",
              "</style>\n",
              "<table border=\"1\" class=\"dataframe\">\n",
              "  <thead>\n",
              "    <tr style=\"text-align: right;\">\n",
              "      <th>Churn Label</th>\n",
              "      <th>No</th>\n",
              "      <th>Yes</th>\n",
              "      <th>All</th>\n",
              "    </tr>\n",
              "    <tr>\n",
              "      <th>Device Protection Plan</th>\n",
              "      <th></th>\n",
              "      <th></th>\n",
              "      <th></th>\n",
              "    </tr>\n",
              "  </thead>\n",
              "  <tbody>\n",
              "    <tr>\n",
              "      <th>No</th>\n",
              "      <td>3297</td>\n",
              "      <td>1324</td>\n",
              "      <td>4621</td>\n",
              "    </tr>\n",
              "    <tr>\n",
              "      <th>Yes</th>\n",
              "      <td>1877</td>\n",
              "      <td>545</td>\n",
              "      <td>2422</td>\n",
              "    </tr>\n",
              "    <tr>\n",
              "      <th>All</th>\n",
              "      <td>5174</td>\n",
              "      <td>1869</td>\n",
              "      <td>7043</td>\n",
              "    </tr>\n",
              "  </tbody>\n",
              "</table>\n",
              "</div>"
            ],
            "text/plain": [
              "Churn Label               No   Yes   All\n",
              "Device Protection Plan                  \n",
              "No                      3297  1324  4621\n",
              "Yes                     1877   545  2422\n",
              "All                     5174  1869  7043"
            ]
          },
          "metadata": {
            "tags": []
          }
        },
        {
          "output_type": "execute_result",
          "data": {
            "text/plain": [
              "(30.828041948997473,\n",
              " 3.3188737402615326e-06,\n",
              " 4,\n",
              " array([[3394.72582706, 1226.27417294, 4621.        ],\n",
              "        [1779.27417294,  642.72582706, 2422.        ],\n",
              "        [5174.        , 1869.        , 7043.        ]]))"
            ]
          },
          "metadata": {
            "tags": []
          },
          "execution_count": 51
        }
      ]
    },
    {
      "cell_type": "code",
      "metadata": {
        "colab": {
          "base_uri": "https://localhost:8080/",
          "height": 275
        },
        "id": "aNzCtSoeJ4U-",
        "outputId": "74f7d206-bcab-4cf0-83eb-594b4d981d4f"
      },
      "source": [
        "#chi square contingency\n",
        "pts_obs = pd.crosstab(df['Premium Tech Support'],df['Churn Label'],margins=True)\n",
        "display(pts_obs)\n",
        "chi2_contingency(pts_obs)\n",
        "#result is reject H0 variable is independent, means tbere is a correlation (dependent)"
      ],
      "id": "aNzCtSoeJ4U-",
      "execution_count": null,
      "outputs": [
        {
          "output_type": "display_data",
          "data": {
            "text/html": [
              "<div>\n",
              "<style scoped>\n",
              "    .dataframe tbody tr th:only-of-type {\n",
              "        vertical-align: middle;\n",
              "    }\n",
              "\n",
              "    .dataframe tbody tr th {\n",
              "        vertical-align: top;\n",
              "    }\n",
              "\n",
              "    .dataframe thead th {\n",
              "        text-align: right;\n",
              "    }\n",
              "</style>\n",
              "<table border=\"1\" class=\"dataframe\">\n",
              "  <thead>\n",
              "    <tr style=\"text-align: right;\">\n",
              "      <th>Churn Label</th>\n",
              "      <th>No</th>\n",
              "      <th>Yes</th>\n",
              "      <th>All</th>\n",
              "    </tr>\n",
              "    <tr>\n",
              "      <th>Premium Tech Support</th>\n",
              "      <th></th>\n",
              "      <th></th>\n",
              "      <th></th>\n",
              "    </tr>\n",
              "  </thead>\n",
              "  <tbody>\n",
              "    <tr>\n",
              "      <th>No</th>\n",
              "      <td>3440</td>\n",
              "      <td>1559</td>\n",
              "      <td>4999</td>\n",
              "    </tr>\n",
              "    <tr>\n",
              "      <th>Yes</th>\n",
              "      <td>1734</td>\n",
              "      <td>310</td>\n",
              "      <td>2044</td>\n",
              "    </tr>\n",
              "    <tr>\n",
              "      <th>All</th>\n",
              "      <td>5174</td>\n",
              "      <td>1869</td>\n",
              "      <td>7043</td>\n",
              "    </tr>\n",
              "  </tbody>\n",
              "</table>\n",
              "</div>"
            ],
            "text/plain": [
              "Churn Label             No   Yes   All\n",
              "Premium Tech Support                  \n",
              "No                    3440  1559  4999\n",
              "Yes                   1734   310  2044\n",
              "All                   5174  1869  7043"
            ]
          },
          "metadata": {
            "tags": []
          }
        },
        {
          "output_type": "execute_result",
          "data": {
            "text/plain": [
              "(190.9877074334982,\n",
              " 3.251216770750026e-40,\n",
              " 4,\n",
              " array([[3672.4160159, 1326.5839841, 4999.       ],\n",
              "        [1501.5839841,  542.4160159, 2044.       ],\n",
              "        [5174.       , 1869.       , 7043.       ]]))"
            ]
          },
          "metadata": {
            "tags": []
          },
          "execution_count": 52
        }
      ]
    },
    {
      "cell_type": "code",
      "metadata": {
        "colab": {
          "base_uri": "https://localhost:8080/",
          "height": 275
        },
        "id": "cKTs3TnHKIt7",
        "outputId": "fc340b80-a144-41ff-d1c9-c05134bb943f"
      },
      "source": [
        "#chi square contingency\n",
        "stv_obs = pd.crosstab(df['Streaming TV'],df['Churn Label'],margins=True)\n",
        "display(stv_obs)\n",
        "chi2_contingency(stv_obs)\n",
        "#result is reject H0 variable is independent, means tbere is a correlation (dependent)"
      ],
      "id": "cKTs3TnHKIt7",
      "execution_count": null,
      "outputs": [
        {
          "output_type": "display_data",
          "data": {
            "text/html": [
              "<div>\n",
              "<style scoped>\n",
              "    .dataframe tbody tr th:only-of-type {\n",
              "        vertical-align: middle;\n",
              "    }\n",
              "\n",
              "    .dataframe tbody tr th {\n",
              "        vertical-align: top;\n",
              "    }\n",
              "\n",
              "    .dataframe thead th {\n",
              "        text-align: right;\n",
              "    }\n",
              "</style>\n",
              "<table border=\"1\" class=\"dataframe\">\n",
              "  <thead>\n",
              "    <tr style=\"text-align: right;\">\n",
              "      <th>Churn Label</th>\n",
              "      <th>No</th>\n",
              "      <th>Yes</th>\n",
              "      <th>All</th>\n",
              "    </tr>\n",
              "    <tr>\n",
              "      <th>Streaming TV</th>\n",
              "      <th></th>\n",
              "      <th></th>\n",
              "      <th></th>\n",
              "    </tr>\n",
              "  </thead>\n",
              "  <tbody>\n",
              "    <tr>\n",
              "      <th>No</th>\n",
              "      <td>3281</td>\n",
              "      <td>1055</td>\n",
              "      <td>4336</td>\n",
              "    </tr>\n",
              "    <tr>\n",
              "      <th>Yes</th>\n",
              "      <td>1893</td>\n",
              "      <td>814</td>\n",
              "      <td>2707</td>\n",
              "    </tr>\n",
              "    <tr>\n",
              "      <th>All</th>\n",
              "      <td>5174</td>\n",
              "      <td>1869</td>\n",
              "      <td>7043</td>\n",
              "    </tr>\n",
              "  </tbody>\n",
              "</table>\n",
              "</div>"
            ],
            "text/plain": [
              "Churn Label     No   Yes   All\n",
              "Streaming TV                  \n",
              "No            3281  1055  4336\n",
              "Yes           1893   814  2707\n",
              "All           5174  1869  7043"
            ]
          },
          "metadata": {
            "tags": []
          }
        },
        {
          "output_type": "execute_result",
          "data": {
            "text/plain": [
              "(28.15613831361442,\n",
              " 1.1596260964887932e-05,\n",
              " 4,\n",
              " array([[3185.35624024, 1150.64375976, 4336.        ],\n",
              "        [1988.64375976,  718.35624024, 2707.        ],\n",
              "        [5174.        , 1869.        , 7043.        ]]))"
            ]
          },
          "metadata": {
            "tags": []
          },
          "execution_count": 53
        }
      ]
    },
    {
      "cell_type": "code",
      "metadata": {
        "colab": {
          "base_uri": "https://localhost:8080/",
          "height": 275
        },
        "id": "pTY5So4iKni0",
        "outputId": "6cfa614b-e3f4-49c7-8c7a-ed76209aa245"
      },
      "source": [
        "#chi square contingency\n",
        "stm_obs = pd.crosstab(df['Streaming Movies'],df['Churn Label'],margins=True)\n",
        "display(stm_obs)\n",
        "chi2_contingency(stm_obs)\n",
        "#result is reject H0 variable is independent, means tbere is a correlation (dependent)"
      ],
      "id": "pTY5So4iKni0",
      "execution_count": null,
      "outputs": [
        {
          "output_type": "display_data",
          "data": {
            "text/html": [
              "<div>\n",
              "<style scoped>\n",
              "    .dataframe tbody tr th:only-of-type {\n",
              "        vertical-align: middle;\n",
              "    }\n",
              "\n",
              "    .dataframe tbody tr th {\n",
              "        vertical-align: top;\n",
              "    }\n",
              "\n",
              "    .dataframe thead th {\n",
              "        text-align: right;\n",
              "    }\n",
              "</style>\n",
              "<table border=\"1\" class=\"dataframe\">\n",
              "  <thead>\n",
              "    <tr style=\"text-align: right;\">\n",
              "      <th>Churn Label</th>\n",
              "      <th>No</th>\n",
              "      <th>Yes</th>\n",
              "      <th>All</th>\n",
              "    </tr>\n",
              "    <tr>\n",
              "      <th>Streaming Movies</th>\n",
              "      <th></th>\n",
              "      <th></th>\n",
              "      <th></th>\n",
              "    </tr>\n",
              "  </thead>\n",
              "  <tbody>\n",
              "    <tr>\n",
              "      <th>No</th>\n",
              "      <td>3260</td>\n",
              "      <td>1051</td>\n",
              "      <td>4311</td>\n",
              "    </tr>\n",
              "    <tr>\n",
              "      <th>Yes</th>\n",
              "      <td>1914</td>\n",
              "      <td>818</td>\n",
              "      <td>2732</td>\n",
              "    </tr>\n",
              "    <tr>\n",
              "      <th>All</th>\n",
              "      <td>5174</td>\n",
              "      <td>1869</td>\n",
              "      <td>7043</td>\n",
              "    </tr>\n",
              "  </tbody>\n",
              "</table>\n",
              "</div>"
            ],
            "text/plain": [
              "Churn Label         No   Yes   All\n",
              "Streaming Movies                  \n",
              "No                3260  1051  4311\n",
              "Yes               1914   818  2732\n",
              "All               5174  1869  7043"
            ]
          },
          "metadata": {
            "tags": []
          }
        },
        {
          "output_type": "execute_result",
          "data": {
            "text/plain": [
              "(26.535871917964826,\n",
              " 2.4670035709610893e-05,\n",
              " 4,\n",
              " array([[3166.99048701, 1144.00951299, 4311.        ],\n",
              "        [2007.00951299,  724.99048701, 2732.        ],\n",
              "        [5174.        , 1869.        , 7043.        ]]))"
            ]
          },
          "metadata": {
            "tags": []
          },
          "execution_count": 54
        }
      ]
    },
    {
      "cell_type": "code",
      "metadata": {
        "colab": {
          "base_uri": "https://localhost:8080/",
          "height": 275
        },
        "id": "HUrRDdwHIqN7",
        "outputId": "6c723559-9cb7-4940-dd4d-b0bb7a8a0d2a"
      },
      "source": [
        "#chi square contingency\n",
        "stu_obs = pd.crosstab(df['Streaming Music'],df['Churn Label'],margins=True)\n",
        "display(stu_obs)\n",
        "chi2_contingency(stu_obs)\n",
        "#result is reject H0 variable is independent, means tbere is a correlation (dependent)\n",
        "#weak results"
      ],
      "id": "HUrRDdwHIqN7",
      "execution_count": null,
      "outputs": [
        {
          "output_type": "display_data",
          "data": {
            "text/html": [
              "<div>\n",
              "<style scoped>\n",
              "    .dataframe tbody tr th:only-of-type {\n",
              "        vertical-align: middle;\n",
              "    }\n",
              "\n",
              "    .dataframe tbody tr th {\n",
              "        vertical-align: top;\n",
              "    }\n",
              "\n",
              "    .dataframe thead th {\n",
              "        text-align: right;\n",
              "    }\n",
              "</style>\n",
              "<table border=\"1\" class=\"dataframe\">\n",
              "  <thead>\n",
              "    <tr style=\"text-align: right;\">\n",
              "      <th>Churn Label</th>\n",
              "      <th>No</th>\n",
              "      <th>Yes</th>\n",
              "      <th>All</th>\n",
              "    </tr>\n",
              "    <tr>\n",
              "      <th>Streaming Music</th>\n",
              "      <th></th>\n",
              "      <th></th>\n",
              "      <th></th>\n",
              "    </tr>\n",
              "  </thead>\n",
              "  <tbody>\n",
              "    <tr>\n",
              "      <th>No</th>\n",
              "      <td>3414</td>\n",
              "      <td>1141</td>\n",
              "      <td>4555</td>\n",
              "    </tr>\n",
              "    <tr>\n",
              "      <th>Yes</th>\n",
              "      <td>1760</td>\n",
              "      <td>728</td>\n",
              "      <td>2488</td>\n",
              "    </tr>\n",
              "    <tr>\n",
              "      <th>All</th>\n",
              "      <td>5174</td>\n",
              "      <td>1869</td>\n",
              "      <td>7043</td>\n",
              "    </tr>\n",
              "  </tbody>\n",
              "</table>\n",
              "</div>"
            ],
            "text/plain": [
              "Churn Label        No   Yes   All\n",
              "Streaming Music                  \n",
              "No               3414  1141  4555\n",
              "Yes              1760   728  2488\n",
              "All              5174  1869  7043"
            ]
          },
          "metadata": {
            "tags": []
          }
        },
        {
          "output_type": "execute_result",
          "data": {
            "text/plain": [
              "(14.636671272464014,\n",
              " 0.00551726261301943,\n",
              " 4,\n",
              " array([[3346.24023853, 1208.75976147, 4555.        ],\n",
              "        [1827.75976147,  660.24023853, 2488.        ],\n",
              "        [5174.        , 1869.        , 7043.        ]]))"
            ]
          },
          "metadata": {
            "tags": []
          },
          "execution_count": 55
        }
      ]
    },
    {
      "cell_type": "code",
      "metadata": {
        "colab": {
          "base_uri": "https://localhost:8080/",
          "height": 275
        },
        "id": "UWi_6cKPHkwv",
        "outputId": "f94f5ff9-40f8-428d-fc67-62869ad235db"
      },
      "source": [
        "#chi square contingency\n",
        "uda_obs = pd.crosstab(df['Unlimited Data'],df['Churn Label'],margins=True)\n",
        "display(uda_obs)\n",
        "chi2_contingency(uda_obs)\n",
        "#result is reject H0 variable is independent, means tbere is a correlation (dependent)"
      ],
      "id": "UWi_6cKPHkwv",
      "execution_count": null,
      "outputs": [
        {
          "output_type": "display_data",
          "data": {
            "text/html": [
              "<div>\n",
              "<style scoped>\n",
              "    .dataframe tbody tr th:only-of-type {\n",
              "        vertical-align: middle;\n",
              "    }\n",
              "\n",
              "    .dataframe tbody tr th {\n",
              "        vertical-align: top;\n",
              "    }\n",
              "\n",
              "    .dataframe thead th {\n",
              "        text-align: right;\n",
              "    }\n",
              "</style>\n",
              "<table border=\"1\" class=\"dataframe\">\n",
              "  <thead>\n",
              "    <tr style=\"text-align: right;\">\n",
              "      <th>Churn Label</th>\n",
              "      <th>No</th>\n",
              "      <th>Yes</th>\n",
              "      <th>All</th>\n",
              "    </tr>\n",
              "    <tr>\n",
              "      <th>Unlimited Data</th>\n",
              "      <th></th>\n",
              "      <th></th>\n",
              "      <th></th>\n",
              "    </tr>\n",
              "  </thead>\n",
              "  <tbody>\n",
              "    <tr>\n",
              "      <th>No</th>\n",
              "      <td>1931</td>\n",
              "      <td>367</td>\n",
              "      <td>2298</td>\n",
              "    </tr>\n",
              "    <tr>\n",
              "      <th>Yes</th>\n",
              "      <td>3243</td>\n",
              "      <td>1502</td>\n",
              "      <td>4745</td>\n",
              "    </tr>\n",
              "    <tr>\n",
              "      <th>All</th>\n",
              "      <td>5174</td>\n",
              "      <td>1869</td>\n",
              "      <td>7043</td>\n",
              "    </tr>\n",
              "  </tbody>\n",
              "</table>\n",
              "</div>"
            ],
            "text/plain": [
              "Churn Label       No   Yes   All\n",
              "Unlimited Data                  \n",
              "No              1931   367  2298\n",
              "Yes             3243  1502  4745\n",
              "All             5174  1869  7043"
            ]
          },
          "metadata": {
            "tags": []
          }
        },
        {
          "output_type": "execute_result",
          "data": {
            "text/plain": [
              "(195.35290590193162,\n",
              " 3.748599141190459e-41,\n",
              " 4,\n",
              " array([[1688.18003692,  609.81996308, 2298.        ],\n",
              "        [3485.81996308, 1259.18003692, 4745.        ],\n",
              "        [5174.        , 1869.        , 7043.        ]]))"
            ]
          },
          "metadata": {
            "tags": []
          },
          "execution_count": 56
        }
      ]
    },
    {
      "cell_type": "code",
      "metadata": {
        "colab": {
          "base_uri": "https://localhost:8080/",
          "height": 323
        },
        "id": "M1d7MKYuMFVO",
        "outputId": "850f5f86-e5f0-4f02-b34d-eccc203863c8"
      },
      "source": [
        "#chi square contingency\n",
        "ctr_obs = pd.crosstab(df['Contract'],df['Churn Label'],margins=True)\n",
        "display(ctr_obs)\n",
        "chi2_contingency(ctr_obs)\n",
        "#result is reject H0 variable is independent, means tbere is a correlation (dependent)"
      ],
      "id": "M1d7MKYuMFVO",
      "execution_count": null,
      "outputs": [
        {
          "output_type": "display_data",
          "data": {
            "text/html": [
              "<div>\n",
              "<style scoped>\n",
              "    .dataframe tbody tr th:only-of-type {\n",
              "        vertical-align: middle;\n",
              "    }\n",
              "\n",
              "    .dataframe tbody tr th {\n",
              "        vertical-align: top;\n",
              "    }\n",
              "\n",
              "    .dataframe thead th {\n",
              "        text-align: right;\n",
              "    }\n",
              "</style>\n",
              "<table border=\"1\" class=\"dataframe\">\n",
              "  <thead>\n",
              "    <tr style=\"text-align: right;\">\n",
              "      <th>Churn Label</th>\n",
              "      <th>No</th>\n",
              "      <th>Yes</th>\n",
              "      <th>All</th>\n",
              "    </tr>\n",
              "    <tr>\n",
              "      <th>Contract</th>\n",
              "      <th></th>\n",
              "      <th></th>\n",
              "      <th></th>\n",
              "    </tr>\n",
              "  </thead>\n",
              "  <tbody>\n",
              "    <tr>\n",
              "      <th>Month-to-Month</th>\n",
              "      <td>1955</td>\n",
              "      <td>1655</td>\n",
              "      <td>3610</td>\n",
              "    </tr>\n",
              "    <tr>\n",
              "      <th>One Year</th>\n",
              "      <td>1384</td>\n",
              "      <td>166</td>\n",
              "      <td>1550</td>\n",
              "    </tr>\n",
              "    <tr>\n",
              "      <th>Two Year</th>\n",
              "      <td>1835</td>\n",
              "      <td>48</td>\n",
              "      <td>1883</td>\n",
              "    </tr>\n",
              "    <tr>\n",
              "      <th>All</th>\n",
              "      <td>5174</td>\n",
              "      <td>1869</td>\n",
              "      <td>7043</td>\n",
              "    </tr>\n",
              "  </tbody>\n",
              "</table>\n",
              "</div>"
            ],
            "text/plain": [
              "Churn Label       No   Yes   All\n",
              "Contract                        \n",
              "Month-to-Month  1955  1655  3610\n",
              "One Year        1384   166  1550\n",
              "Two Year        1835    48  1883\n",
              "All             5174  1869  7043"
            ]
          },
          "metadata": {
            "tags": []
          }
        },
        {
          "output_type": "execute_result",
          "data": {
            "text/plain": [
              "(1445.2932428377585,\n",
              " 3.77210578006437e-309,\n",
              " 6,\n",
              " array([[2652.01476643,  957.98523357, 3610.        ],\n",
              "        [1138.67670027,  411.32329973, 1550.        ],\n",
              "        [1383.3085333 ,  499.6914667 , 1883.        ],\n",
              "        [5174.        , 1869.        , 7043.        ]]))"
            ]
          },
          "metadata": {
            "tags": []
          },
          "execution_count": 57
        }
      ]
    },
    {
      "cell_type": "code",
      "metadata": {
        "colab": {
          "base_uri": "https://localhost:8080/",
          "height": 275
        },
        "id": "d9viewxAHhNo",
        "outputId": "eba89536-ef29-44d9-e003-2f14611c890e"
      },
      "source": [
        "#chi square contingency\n",
        "plb_obs = pd.crosstab(df['Paperless Billing'],df['Churn Label'],margins=True)\n",
        "display(plb_obs)\n",
        "chi2_contingency(plb_obs)\n",
        "#result is reject H0 variable is independent, means tbere is a correlation (dependent)"
      ],
      "id": "d9viewxAHhNo",
      "execution_count": null,
      "outputs": [
        {
          "output_type": "display_data",
          "data": {
            "text/html": [
              "<div>\n",
              "<style scoped>\n",
              "    .dataframe tbody tr th:only-of-type {\n",
              "        vertical-align: middle;\n",
              "    }\n",
              "\n",
              "    .dataframe tbody tr th {\n",
              "        vertical-align: top;\n",
              "    }\n",
              "\n",
              "    .dataframe thead th {\n",
              "        text-align: right;\n",
              "    }\n",
              "</style>\n",
              "<table border=\"1\" class=\"dataframe\">\n",
              "  <thead>\n",
              "    <tr style=\"text-align: right;\">\n",
              "      <th>Churn Label</th>\n",
              "      <th>No</th>\n",
              "      <th>Yes</th>\n",
              "      <th>All</th>\n",
              "    </tr>\n",
              "    <tr>\n",
              "      <th>Paperless Billing</th>\n",
              "      <th></th>\n",
              "      <th></th>\n",
              "      <th></th>\n",
              "    </tr>\n",
              "  </thead>\n",
              "  <tbody>\n",
              "    <tr>\n",
              "      <th>No</th>\n",
              "      <td>2403</td>\n",
              "      <td>469</td>\n",
              "      <td>2872</td>\n",
              "    </tr>\n",
              "    <tr>\n",
              "      <th>Yes</th>\n",
              "      <td>2771</td>\n",
              "      <td>1400</td>\n",
              "      <td>4171</td>\n",
              "    </tr>\n",
              "    <tr>\n",
              "      <th>All</th>\n",
              "      <td>5174</td>\n",
              "      <td>1869</td>\n",
              "      <td>7043</td>\n",
              "    </tr>\n",
              "  </tbody>\n",
              "</table>\n",
              "</div>"
            ],
            "text/plain": [
              "Churn Label          No   Yes   All\n",
              "Paperless Billing                  \n",
              "No                 2403   469  2872\n",
              "Yes                2771  1400  4171\n",
              "All                5174  1869  7043"
            ]
          },
          "metadata": {
            "tags": []
          }
        },
        {
          "output_type": "execute_result",
          "data": {
            "text/plain": [
              "(259.1609742710177,\n",
              " 6.914929538933956e-55,\n",
              " 4,\n",
              " array([[2109.85773108,  762.14226892, 2872.        ],\n",
              "        [3064.14226892, 1106.85773108, 4171.        ],\n",
              "        [5174.        , 1869.        , 7043.        ]]))"
            ]
          },
          "metadata": {
            "tags": []
          },
          "execution_count": 58
        }
      ]
    },
    {
      "cell_type": "code",
      "metadata": {
        "colab": {
          "base_uri": "https://localhost:8080/",
          "height": 323
        },
        "id": "s09Zgq0ONXR2",
        "outputId": "e6cd267a-dff0-4258-9de1-3df4ff663fd2"
      },
      "source": [
        "#chi square contingency\n",
        "pmm_obs = pd.crosstab(df['Payment Method'],df['Churn Label'],margins=True)\n",
        "display(pmm_obs)\n",
        "chi2_contingency(pmm_obs)\n",
        "#result is reject H0 variable is independent, means tbere is a correlation (dependent)"
      ],
      "id": "s09Zgq0ONXR2",
      "execution_count": null,
      "outputs": [
        {
          "output_type": "display_data",
          "data": {
            "text/html": [
              "<div>\n",
              "<style scoped>\n",
              "    .dataframe tbody tr th:only-of-type {\n",
              "        vertical-align: middle;\n",
              "    }\n",
              "\n",
              "    .dataframe tbody tr th {\n",
              "        vertical-align: top;\n",
              "    }\n",
              "\n",
              "    .dataframe thead th {\n",
              "        text-align: right;\n",
              "    }\n",
              "</style>\n",
              "<table border=\"1\" class=\"dataframe\">\n",
              "  <thead>\n",
              "    <tr style=\"text-align: right;\">\n",
              "      <th>Churn Label</th>\n",
              "      <th>No</th>\n",
              "      <th>Yes</th>\n",
              "      <th>All</th>\n",
              "    </tr>\n",
              "    <tr>\n",
              "      <th>Payment Method</th>\n",
              "      <th></th>\n",
              "      <th></th>\n",
              "      <th></th>\n",
              "    </tr>\n",
              "  </thead>\n",
              "  <tbody>\n",
              "    <tr>\n",
              "      <th>Bank Withdrawal</th>\n",
              "      <td>2580</td>\n",
              "      <td>1329</td>\n",
              "      <td>3909</td>\n",
              "    </tr>\n",
              "    <tr>\n",
              "      <th>Credit Card</th>\n",
              "      <td>2351</td>\n",
              "      <td>398</td>\n",
              "      <td>2749</td>\n",
              "    </tr>\n",
              "    <tr>\n",
              "      <th>Mailed Check</th>\n",
              "      <td>243</td>\n",
              "      <td>142</td>\n",
              "      <td>385</td>\n",
              "    </tr>\n",
              "    <tr>\n",
              "      <th>All</th>\n",
              "      <td>5174</td>\n",
              "      <td>1869</td>\n",
              "      <td>7043</td>\n",
              "    </tr>\n",
              "  </tbody>\n",
              "</table>\n",
              "</div>"
            ],
            "text/plain": [
              "Churn Label        No   Yes   All\n",
              "Payment Method                   \n",
              "Bank Withdrawal  2580  1329  3909\n",
              "Credit Card      2351   398  2749\n",
              "Mailed Check      243   142   385\n",
              "All              5174  1869  7043"
            ]
          },
          "metadata": {
            "tags": []
          }
        },
        {
          "output_type": "execute_result",
          "data": {
            "text/plain": [
              "(337.83116120290356,\n",
              " 6.314615211394561e-70,\n",
              " 6,\n",
              " array([[2871.66917507, 1037.33082493, 3909.        ],\n",
              "        [2019.49822519,  729.50177481, 2749.        ],\n",
              "        [ 282.83259974,  102.16740026,  385.        ],\n",
              "        [5174.        , 1869.        , 7043.        ]]))"
            ]
          },
          "metadata": {
            "tags": []
          },
          "execution_count": 59
        }
      ]
    },
    {
      "cell_type": "code",
      "metadata": {
        "id": "xnap3QOmOEds",
        "colab": {
          "base_uri": "https://localhost:8080/"
        },
        "outputId": "7a656061-2858-4678-d944-ed2633bec2b0"
      },
      "source": [
        "#point biserial correlation, Pearson corr\n",
        "df['Monthly Charge'].corr(df['encoded_label'])\n",
        "#multicollinearity with total charges"
      ],
      "id": "xnap3QOmOEds",
      "execution_count": null,
      "outputs": [
        {
          "output_type": "execute_result",
          "data": {
            "text/plain": [
              "0.19335642223784683"
            ]
          },
          "metadata": {
            "tags": []
          },
          "execution_count": 36
        }
      ]
    },
    {
      "cell_type": "code",
      "metadata": {
        "id": "UUB_8MvpHhJu",
        "colab": {
          "base_uri": "https://localhost:8080/"
        },
        "outputId": "a5e02202-920f-48c2-ad23-fa94b2b0af37"
      },
      "source": [
        "#point biserial correlation, Pearson corr\n",
        "df['Total Charges'].corr(df['encoded_label'])"
      ],
      "id": "UUB_8MvpHhJu",
      "execution_count": null,
      "outputs": [
        {
          "output_type": "execute_result",
          "data": {
            "text/plain": [
              "-0.19854608810394525"
            ]
          },
          "metadata": {
            "tags": []
          },
          "execution_count": 37
        }
      ]
    },
    {
      "cell_type": "code",
      "metadata": {
        "id": "c3YDgcesHhFG",
        "colab": {
          "base_uri": "https://localhost:8080/"
        },
        "outputId": "463f592f-e29f-45a6-e4b1-a165da54949e"
      },
      "source": [
        "#point biserial correlation, Pearson corr\n",
        "df['Total Refunds'].corr(df['encoded_label'])"
      ],
      "id": "c3YDgcesHhFG",
      "execution_count": null,
      "outputs": [
        {
          "output_type": "execute_result",
          "data": {
            "text/plain": [
              "-0.03370933233112317"
            ]
          },
          "metadata": {
            "tags": []
          },
          "execution_count": 38
        }
      ]
    },
    {
      "cell_type": "code",
      "metadata": {
        "id": "K0oOLuHOHhBg",
        "colab": {
          "base_uri": "https://localhost:8080/"
        },
        "outputId": "c1d5fb0a-3381-448c-be11-036df591890e"
      },
      "source": [
        "#point biserial correlation, Pearson corr\n",
        "df['Total Revenue'].corr(df['encoded_label'])"
      ],
      "id": "K0oOLuHOHhBg",
      "execution_count": null,
      "outputs": [
        {
          "output_type": "execute_result",
          "data": {
            "text/plain": [
              "-0.22300280138238684"
            ]
          },
          "metadata": {
            "tags": []
          },
          "execution_count": 39
        }
      ]
    },
    {
      "cell_type": "code",
      "metadata": {
        "id": "wwtG2C3AHg9N",
        "colab": {
          "base_uri": "https://localhost:8080/"
        },
        "outputId": "e0000a03-d90b-4f58-fb58-2d279bde368b"
      },
      "source": [
        "#point biserial correlation, Pearson corr\n",
        "df['Satisfaction Score'].corr(df['encoded_label'])"
      ],
      "id": "wwtG2C3AHg9N",
      "execution_count": null,
      "outputs": [
        {
          "output_type": "execute_result",
          "data": {
            "text/plain": [
              "-0.7546490292381518"
            ]
          },
          "metadata": {
            "tags": []
          },
          "execution_count": 40
        }
      ]
    },
    {
      "cell_type": "markdown",
      "metadata": {
        "id": "1UzNhUeiGR5-"
      },
      "source": [
        "# Selected Data"
      ],
      "id": "1UzNhUeiGR5-"
    },
    {
      "cell_type": "code",
      "metadata": {
        "id": "_uhOCl03HgwZ",
        "colab": {
          "base_uri": "https://localhost:8080/"
        },
        "outputId": "f5fea687-9849-4406-a27a-4a783c6cf592"
      },
      "source": [
        "df = df[['Under 30','Married',\n",
        "         'Number of Dependents','Number of Referrals',\n",
        "         'Tenure in Months',\n",
        "         'Offer','Multiple Lines',\n",
        "         'Internet Service','Internet Type',\n",
        "         'Online Security','Online Backup',\n",
        "         'Device Protection Plan','Premium Tech Support',\n",
        "         'Streaming TV','Streaming Movies',\n",
        "         'Streaming Music','Unlimited Data',\n",
        "         'Contract','Paperless Billing',\n",
        "         'Payment Method','Total Charges',\n",
        "         'Total Revenue','Satisfaction Score',\n",
        "         'Churn Label']].copy()\n",
        "df.head()"
      ],
      "id": "_uhOCl03HgwZ",
      "execution_count": null,
      "outputs": [
        {
          "output_type": "execute_result",
          "data": {
            "text/html": [
              "<div>\n",
              "<style scoped>\n",
              "    .dataframe tbody tr th:only-of-type {\n",
              "        vertical-align: middle;\n",
              "    }\n",
              "\n",
              "    .dataframe tbody tr th {\n",
              "        vertical-align: top;\n",
              "    }\n",
              "\n",
              "    .dataframe thead th {\n",
              "        text-align: right;\n",
              "    }\n",
              "</style>\n",
              "<table border=\"1\" class=\"dataframe\">\n",
              "  <thead>\n",
              "    <tr style=\"text-align: right;\">\n",
              "      <th></th>\n",
              "      <th>Under 30</th>\n",
              "      <th>Married</th>\n",
              "      <th>Number of Dependents</th>\n",
              "      <th>Number of Referrals</th>\n",
              "      <th>Tenure in Months</th>\n",
              "      <th>Offer</th>\n",
              "      <th>Multiple Lines</th>\n",
              "      <th>Internet Service</th>\n",
              "      <th>Internet Type</th>\n",
              "      <th>Online Security</th>\n",
              "      <th>Online Backup</th>\n",
              "      <th>Device Protection Plan</th>\n",
              "      <th>Premium Tech Support</th>\n",
              "      <th>Streaming TV</th>\n",
              "      <th>Streaming Movies</th>\n",
              "      <th>Streaming Music</th>\n",
              "      <th>Unlimited Data</th>\n",
              "      <th>Contract</th>\n",
              "      <th>Paperless Billing</th>\n",
              "      <th>Payment Method</th>\n",
              "      <th>Total Charges</th>\n",
              "      <th>Total Revenue</th>\n",
              "      <th>Satisfaction Score</th>\n",
              "      <th>Churn Label</th>\n",
              "    </tr>\n",
              "  </thead>\n",
              "  <tbody>\n",
              "    <tr>\n",
              "      <th>0</th>\n",
              "      <td>No</td>\n",
              "      <td>No</td>\n",
              "      <td>0</td>\n",
              "      <td>0</td>\n",
              "      <td>1</td>\n",
              "      <td>None</td>\n",
              "      <td>No</td>\n",
              "      <td>Yes</td>\n",
              "      <td>DSL</td>\n",
              "      <td>No</td>\n",
              "      <td>No</td>\n",
              "      <td>Yes</td>\n",
              "      <td>No</td>\n",
              "      <td>No</td>\n",
              "      <td>Yes</td>\n",
              "      <td>No</td>\n",
              "      <td>No</td>\n",
              "      <td>Month-to-Month</td>\n",
              "      <td>Yes</td>\n",
              "      <td>Bank Withdrawal</td>\n",
              "      <td>39.65</td>\n",
              "      <td>59.65</td>\n",
              "      <td>3</td>\n",
              "      <td>Yes</td>\n",
              "    </tr>\n",
              "    <tr>\n",
              "      <th>1</th>\n",
              "      <td>No</td>\n",
              "      <td>Yes</td>\n",
              "      <td>1</td>\n",
              "      <td>1</td>\n",
              "      <td>8</td>\n",
              "      <td>Offer E</td>\n",
              "      <td>Yes</td>\n",
              "      <td>Yes</td>\n",
              "      <td>Fiber Optic</td>\n",
              "      <td>No</td>\n",
              "      <td>Yes</td>\n",
              "      <td>No</td>\n",
              "      <td>No</td>\n",
              "      <td>No</td>\n",
              "      <td>No</td>\n",
              "      <td>No</td>\n",
              "      <td>Yes</td>\n",
              "      <td>Month-to-Month</td>\n",
              "      <td>Yes</td>\n",
              "      <td>Credit Card</td>\n",
              "      <td>633.30</td>\n",
              "      <td>1024.10</td>\n",
              "      <td>3</td>\n",
              "      <td>Yes</td>\n",
              "    </tr>\n",
              "    <tr>\n",
              "      <th>2</th>\n",
              "      <td>No</td>\n",
              "      <td>No</td>\n",
              "      <td>3</td>\n",
              "      <td>0</td>\n",
              "      <td>18</td>\n",
              "      <td>Offer D</td>\n",
              "      <td>Yes</td>\n",
              "      <td>Yes</td>\n",
              "      <td>Fiber Optic</td>\n",
              "      <td>No</td>\n",
              "      <td>No</td>\n",
              "      <td>No</td>\n",
              "      <td>No</td>\n",
              "      <td>Yes</td>\n",
              "      <td>Yes</td>\n",
              "      <td>Yes</td>\n",
              "      <td>Yes</td>\n",
              "      <td>Month-to-Month</td>\n",
              "      <td>Yes</td>\n",
              "      <td>Bank Withdrawal</td>\n",
              "      <td>1752.55</td>\n",
              "      <td>1910.88</td>\n",
              "      <td>2</td>\n",
              "      <td>Yes</td>\n",
              "    </tr>\n",
              "    <tr>\n",
              "      <th>3</th>\n",
              "      <td>No</td>\n",
              "      <td>Yes</td>\n",
              "      <td>1</td>\n",
              "      <td>1</td>\n",
              "      <td>25</td>\n",
              "      <td>Offer C</td>\n",
              "      <td>No</td>\n",
              "      <td>Yes</td>\n",
              "      <td>Fiber Optic</td>\n",
              "      <td>No</td>\n",
              "      <td>Yes</td>\n",
              "      <td>Yes</td>\n",
              "      <td>No</td>\n",
              "      <td>Yes</td>\n",
              "      <td>Yes</td>\n",
              "      <td>No</td>\n",
              "      <td>Yes</td>\n",
              "      <td>Month-to-Month</td>\n",
              "      <td>Yes</td>\n",
              "      <td>Bank Withdrawal</td>\n",
              "      <td>2514.50</td>\n",
              "      <td>2995.07</td>\n",
              "      <td>2</td>\n",
              "      <td>Yes</td>\n",
              "    </tr>\n",
              "    <tr>\n",
              "      <th>4</th>\n",
              "      <td>No</td>\n",
              "      <td>Yes</td>\n",
              "      <td>1</td>\n",
              "      <td>1</td>\n",
              "      <td>37</td>\n",
              "      <td>Offer C</td>\n",
              "      <td>Yes</td>\n",
              "      <td>Yes</td>\n",
              "      <td>Fiber Optic</td>\n",
              "      <td>No</td>\n",
              "      <td>No</td>\n",
              "      <td>No</td>\n",
              "      <td>No</td>\n",
              "      <td>No</td>\n",
              "      <td>No</td>\n",
              "      <td>No</td>\n",
              "      <td>Yes</td>\n",
              "      <td>Month-to-Month</td>\n",
              "      <td>Yes</td>\n",
              "      <td>Bank Withdrawal</td>\n",
              "      <td>2868.15</td>\n",
              "      <td>3102.36</td>\n",
              "      <td>2</td>\n",
              "      <td>Yes</td>\n",
              "    </tr>\n",
              "  </tbody>\n",
              "</table>\n",
              "</div>"
            ],
            "text/plain": [
              "  Under 30 Married  ...  Satisfaction Score  Churn Label\n",
              "0       No      No  ...                   3          Yes\n",
              "1       No     Yes  ...                   3          Yes\n",
              "2       No      No  ...                   2          Yes\n",
              "3       No     Yes  ...                   2          Yes\n",
              "4       No     Yes  ...                   2          Yes\n",
              "\n",
              "[5 rows x 24 columns]"
            ]
          },
          "metadata": {
            "tags": []
          },
          "execution_count": 233
        }
      ]
    },
    {
      "cell_type": "code",
      "metadata": {
        "id": "qpI6fkqQHgsv",
        "colab": {
          "base_uri": "https://localhost:8080/"
        },
        "outputId": "c6cbb1e5-e2a8-40e7-ad00-454ebd76f6ba"
      },
      "source": [
        "df.info()"
      ],
      "id": "qpI6fkqQHgsv",
      "execution_count": null,
      "outputs": [
        {
          "output_type": "stream",
          "text": [
            "<class 'pandas.core.frame.DataFrame'>\n",
            "Int64Index: 7043 entries, 0 to 7042\n",
            "Data columns (total 24 columns):\n",
            " #   Column                  Non-Null Count  Dtype  \n",
            "---  ------                  --------------  -----  \n",
            " 0   Under 30                7043 non-null   object \n",
            " 1   Married                 7043 non-null   object \n",
            " 2   Number of Dependents    7043 non-null   int64  \n",
            " 3   Number of Referrals     7043 non-null   int64  \n",
            " 4   Tenure in Months        7043 non-null   int64  \n",
            " 5   Offer                   7043 non-null   object \n",
            " 6   Multiple Lines          7043 non-null   object \n",
            " 7   Internet Service        7043 non-null   object \n",
            " 8   Internet Type           7043 non-null   object \n",
            " 9   Online Security         7043 non-null   object \n",
            " 10  Online Backup           7043 non-null   object \n",
            " 11  Device Protection Plan  7043 non-null   object \n",
            " 12  Premium Tech Support    7043 non-null   object \n",
            " 13  Streaming TV            7043 non-null   object \n",
            " 14  Streaming Movies        7043 non-null   object \n",
            " 15  Streaming Music         7043 non-null   object \n",
            " 16  Unlimited Data          7043 non-null   object \n",
            " 17  Contract                7043 non-null   object \n",
            " 18  Paperless Billing       7043 non-null   object \n",
            " 19  Payment Method          7043 non-null   object \n",
            " 20  Total Charges           7043 non-null   float64\n",
            " 21  Total Revenue           7043 non-null   float64\n",
            " 22  Satisfaction Score      7043 non-null   int64  \n",
            " 23  Churn Label             7043 non-null   object \n",
            "dtypes: float64(2), int64(4), object(18)\n",
            "memory usage: 1.3+ MB\n"
          ],
          "name": "stdout"
        }
      ]
    },
    {
      "cell_type": "code",
      "metadata": {
        "id": "gjyVJS_PHgoC",
        "colab": {
          "base_uri": "https://localhost:8080/"
        },
        "outputId": "c500c518-50a5-4520-c8b5-705dc14cc0e7"
      },
      "source": [
        "round(df.describe(),2)"
      ],
      "id": "gjyVJS_PHgoC",
      "execution_count": null,
      "outputs": [
        {
          "output_type": "execute_result",
          "data": {
            "text/html": [
              "<div>\n",
              "<style scoped>\n",
              "    .dataframe tbody tr th:only-of-type {\n",
              "        vertical-align: middle;\n",
              "    }\n",
              "\n",
              "    .dataframe tbody tr th {\n",
              "        vertical-align: top;\n",
              "    }\n",
              "\n",
              "    .dataframe thead th {\n",
              "        text-align: right;\n",
              "    }\n",
              "</style>\n",
              "<table border=\"1\" class=\"dataframe\">\n",
              "  <thead>\n",
              "    <tr style=\"text-align: right;\">\n",
              "      <th></th>\n",
              "      <th>Number of Dependents</th>\n",
              "      <th>Number of Referrals</th>\n",
              "      <th>Tenure in Months</th>\n",
              "      <th>Total Charges</th>\n",
              "      <th>Total Revenue</th>\n",
              "      <th>Satisfaction Score</th>\n",
              "    </tr>\n",
              "  </thead>\n",
              "  <tbody>\n",
              "    <tr>\n",
              "      <th>count</th>\n",
              "      <td>7043.00</td>\n",
              "      <td>7043.00</td>\n",
              "      <td>7043.00</td>\n",
              "      <td>7043.00</td>\n",
              "      <td>7043.00</td>\n",
              "      <td>7043.00</td>\n",
              "    </tr>\n",
              "    <tr>\n",
              "      <th>mean</th>\n",
              "      <td>0.47</td>\n",
              "      <td>1.95</td>\n",
              "      <td>32.39</td>\n",
              "      <td>2280.38</td>\n",
              "      <td>3034.38</td>\n",
              "      <td>3.24</td>\n",
              "    </tr>\n",
              "    <tr>\n",
              "      <th>std</th>\n",
              "      <td>0.96</td>\n",
              "      <td>3.00</td>\n",
              "      <td>24.54</td>\n",
              "      <td>2266.22</td>\n",
              "      <td>2865.20</td>\n",
              "      <td>1.20</td>\n",
              "    </tr>\n",
              "    <tr>\n",
              "      <th>min</th>\n",
              "      <td>0.00</td>\n",
              "      <td>0.00</td>\n",
              "      <td>1.00</td>\n",
              "      <td>18.80</td>\n",
              "      <td>21.36</td>\n",
              "      <td>1.00</td>\n",
              "    </tr>\n",
              "    <tr>\n",
              "      <th>25%</th>\n",
              "      <td>0.00</td>\n",
              "      <td>0.00</td>\n",
              "      <td>9.00</td>\n",
              "      <td>400.15</td>\n",
              "      <td>605.61</td>\n",
              "      <td>3.00</td>\n",
              "    </tr>\n",
              "    <tr>\n",
              "      <th>50%</th>\n",
              "      <td>0.00</td>\n",
              "      <td>0.00</td>\n",
              "      <td>29.00</td>\n",
              "      <td>1394.55</td>\n",
              "      <td>2108.64</td>\n",
              "      <td>3.00</td>\n",
              "    </tr>\n",
              "    <tr>\n",
              "      <th>75%</th>\n",
              "      <td>0.00</td>\n",
              "      <td>3.00</td>\n",
              "      <td>55.00</td>\n",
              "      <td>3786.60</td>\n",
              "      <td>4801.15</td>\n",
              "      <td>4.00</td>\n",
              "    </tr>\n",
              "    <tr>\n",
              "      <th>max</th>\n",
              "      <td>9.00</td>\n",
              "      <td>11.00</td>\n",
              "      <td>72.00</td>\n",
              "      <td>8684.80</td>\n",
              "      <td>11979.34</td>\n",
              "      <td>5.00</td>\n",
              "    </tr>\n",
              "  </tbody>\n",
              "</table>\n",
              "</div>"
            ],
            "text/plain": [
              "       Number of Dependents  ...  Satisfaction Score\n",
              "count               7043.00  ...             7043.00\n",
              "mean                   0.47  ...                3.24\n",
              "std                    0.96  ...                1.20\n",
              "min                    0.00  ...                1.00\n",
              "25%                    0.00  ...                3.00\n",
              "50%                    0.00  ...                3.00\n",
              "75%                    0.00  ...                4.00\n",
              "max                    9.00  ...                5.00\n",
              "\n",
              "[8 rows x 6 columns]"
            ]
          },
          "metadata": {
            "tags": []
          },
          "execution_count": 235
        }
      ]
    },
    {
      "cell_type": "code",
      "metadata": {
        "id": "DyIbA4x8HgjQ",
        "colab": {
          "base_uri": "https://localhost:8080/"
        },
        "outputId": "c81b5a3b-7407-4b50-eaaa-8f1d677f0fea"
      },
      "source": [
        "df.describe(include='object').T"
      ],
      "id": "DyIbA4x8HgjQ",
      "execution_count": null,
      "outputs": [
        {
          "output_type": "execute_result",
          "data": {
            "text/html": [
              "<div>\n",
              "<style scoped>\n",
              "    .dataframe tbody tr th:only-of-type {\n",
              "        vertical-align: middle;\n",
              "    }\n",
              "\n",
              "    .dataframe tbody tr th {\n",
              "        vertical-align: top;\n",
              "    }\n",
              "\n",
              "    .dataframe thead th {\n",
              "        text-align: right;\n",
              "    }\n",
              "</style>\n",
              "<table border=\"1\" class=\"dataframe\">\n",
              "  <thead>\n",
              "    <tr style=\"text-align: right;\">\n",
              "      <th></th>\n",
              "      <th>count</th>\n",
              "      <th>unique</th>\n",
              "      <th>top</th>\n",
              "      <th>freq</th>\n",
              "    </tr>\n",
              "  </thead>\n",
              "  <tbody>\n",
              "    <tr>\n",
              "      <th>Under 30</th>\n",
              "      <td>7043</td>\n",
              "      <td>2</td>\n",
              "      <td>No</td>\n",
              "      <td>5642</td>\n",
              "    </tr>\n",
              "    <tr>\n",
              "      <th>Married</th>\n",
              "      <td>7043</td>\n",
              "      <td>2</td>\n",
              "      <td>No</td>\n",
              "      <td>3641</td>\n",
              "    </tr>\n",
              "    <tr>\n",
              "      <th>Offer</th>\n",
              "      <td>7043</td>\n",
              "      <td>6</td>\n",
              "      <td>None</td>\n",
              "      <td>3877</td>\n",
              "    </tr>\n",
              "    <tr>\n",
              "      <th>Multiple Lines</th>\n",
              "      <td>7043</td>\n",
              "      <td>2</td>\n",
              "      <td>No</td>\n",
              "      <td>4072</td>\n",
              "    </tr>\n",
              "    <tr>\n",
              "      <th>Internet Service</th>\n",
              "      <td>7043</td>\n",
              "      <td>2</td>\n",
              "      <td>Yes</td>\n",
              "      <td>5517</td>\n",
              "    </tr>\n",
              "    <tr>\n",
              "      <th>Internet Type</th>\n",
              "      <td>7043</td>\n",
              "      <td>4</td>\n",
              "      <td>Fiber Optic</td>\n",
              "      <td>3035</td>\n",
              "    </tr>\n",
              "    <tr>\n",
              "      <th>Online Security</th>\n",
              "      <td>7043</td>\n",
              "      <td>2</td>\n",
              "      <td>No</td>\n",
              "      <td>5024</td>\n",
              "    </tr>\n",
              "    <tr>\n",
              "      <th>Online Backup</th>\n",
              "      <td>7043</td>\n",
              "      <td>2</td>\n",
              "      <td>No</td>\n",
              "      <td>4614</td>\n",
              "    </tr>\n",
              "    <tr>\n",
              "      <th>Device Protection Plan</th>\n",
              "      <td>7043</td>\n",
              "      <td>2</td>\n",
              "      <td>No</td>\n",
              "      <td>4621</td>\n",
              "    </tr>\n",
              "    <tr>\n",
              "      <th>Premium Tech Support</th>\n",
              "      <td>7043</td>\n",
              "      <td>2</td>\n",
              "      <td>No</td>\n",
              "      <td>4999</td>\n",
              "    </tr>\n",
              "    <tr>\n",
              "      <th>Streaming TV</th>\n",
              "      <td>7043</td>\n",
              "      <td>2</td>\n",
              "      <td>No</td>\n",
              "      <td>4336</td>\n",
              "    </tr>\n",
              "    <tr>\n",
              "      <th>Streaming Movies</th>\n",
              "      <td>7043</td>\n",
              "      <td>2</td>\n",
              "      <td>No</td>\n",
              "      <td>4311</td>\n",
              "    </tr>\n",
              "    <tr>\n",
              "      <th>Streaming Music</th>\n",
              "      <td>7043</td>\n",
              "      <td>2</td>\n",
              "      <td>No</td>\n",
              "      <td>4555</td>\n",
              "    </tr>\n",
              "    <tr>\n",
              "      <th>Unlimited Data</th>\n",
              "      <td>7043</td>\n",
              "      <td>2</td>\n",
              "      <td>Yes</td>\n",
              "      <td>4745</td>\n",
              "    </tr>\n",
              "    <tr>\n",
              "      <th>Contract</th>\n",
              "      <td>7043</td>\n",
              "      <td>3</td>\n",
              "      <td>Month-to-Month</td>\n",
              "      <td>3610</td>\n",
              "    </tr>\n",
              "    <tr>\n",
              "      <th>Paperless Billing</th>\n",
              "      <td>7043</td>\n",
              "      <td>2</td>\n",
              "      <td>Yes</td>\n",
              "      <td>4171</td>\n",
              "    </tr>\n",
              "    <tr>\n",
              "      <th>Payment Method</th>\n",
              "      <td>7043</td>\n",
              "      <td>3</td>\n",
              "      <td>Bank Withdrawal</td>\n",
              "      <td>3909</td>\n",
              "    </tr>\n",
              "    <tr>\n",
              "      <th>Churn Label</th>\n",
              "      <td>7043</td>\n",
              "      <td>2</td>\n",
              "      <td>No</td>\n",
              "      <td>5174</td>\n",
              "    </tr>\n",
              "  </tbody>\n",
              "</table>\n",
              "</div>"
            ],
            "text/plain": [
              "                       count unique              top  freq\n",
              "Under 30                7043      2               No  5642\n",
              "Married                 7043      2               No  3641\n",
              "Offer                   7043      6             None  3877\n",
              "Multiple Lines          7043      2               No  4072\n",
              "Internet Service        7043      2              Yes  5517\n",
              "Internet Type           7043      4      Fiber Optic  3035\n",
              "Online Security         7043      2               No  5024\n",
              "Online Backup           7043      2               No  4614\n",
              "Device Protection Plan  7043      2               No  4621\n",
              "Premium Tech Support    7043      2               No  4999\n",
              "Streaming TV            7043      2               No  4336\n",
              "Streaming Movies        7043      2               No  4311\n",
              "Streaming Music         7043      2               No  4555\n",
              "Unlimited Data          7043      2              Yes  4745\n",
              "Contract                7043      3   Month-to-Month  3610\n",
              "Paperless Billing       7043      2              Yes  4171\n",
              "Payment Method          7043      3  Bank Withdrawal  3909\n",
              "Churn Label             7043      2               No  5174"
            ]
          },
          "metadata": {
            "tags": []
          },
          "execution_count": 236
        }
      ]
    },
    {
      "cell_type": "code",
      "metadata": {
        "id": "8dDCGwM-HgeD"
      },
      "source": [
        "numerical_features = ['Number of Dependents','Number of Referrals','Tenure in Months','Total Charges','Total Revenue']\n",
        "ordinal_features = ['Satisfaction Score','Contract']\n",
        "categorical_features = ['Under 30','Married','Offer','Multiple Lines','Internet Service','Internet Type',\n",
        "                        'Online Security','Online Backup','Device Protection Plan','Premium Tech Support',\n",
        "                        'Streaming TV','Streaming Movies','Streaming Music','Unlimited Data','Paperless Billing',\n",
        "                        'Payment Method']\n",
        "\n",
        "sat_score = [1,2,3,4,5]\n",
        "contract = ['Month-to-Month','One Year','Two Year']"
      ],
      "id": "8dDCGwM-HgeD",
      "execution_count": null,
      "outputs": []
    },
    {
      "cell_type": "code",
      "metadata": {
        "colab": {
          "base_uri": "https://localhost:8080/"
        },
        "id": "GQPHxojP12dz",
        "outputId": "23f47d71-8685-487b-e8c6-3b082770ef74"
      },
      "source": [
        "df['Churn Label'].value_counts()"
      ],
      "id": "GQPHxojP12dz",
      "execution_count": null,
      "outputs": [
        {
          "output_type": "execute_result",
          "data": {
            "text/plain": [
              "No     5174\n",
              "Yes    1869\n",
              "Name: Churn Label, dtype: int64"
            ]
          },
          "metadata": {
            "tags": []
          },
          "execution_count": 238
        }
      ]
    },
    {
      "cell_type": "code",
      "metadata": {
        "colab": {
          "base_uri": "https://localhost:8080/"
        },
        "id": "fJAJ63z41-dK",
        "outputId": "b2dd00ea-8212-40e3-f1cd-6d3e05a7aefa"
      },
      "source": [
        "round(df['Churn Label'].value_counts() * 100 / df['Churn Label'].value_counts().sum(),2)"
      ],
      "id": "fJAJ63z41-dK",
      "execution_count": null,
      "outputs": [
        {
          "output_type": "execute_result",
          "data": {
            "text/plain": [
              "No     73.46\n",
              "Yes    26.54\n",
              "Name: Churn Label, dtype: float64"
            ]
          },
          "metadata": {
            "tags": []
          },
          "execution_count": 239
        }
      ]
    },
    {
      "cell_type": "markdown",
      "metadata": {
        "id": "LBag261m2Q02"
      },
      "source": [
        "the class is imbalance need further re balance technique"
      ],
      "id": "LBag261m2Q02"
    },
    {
      "cell_type": "markdown",
      "metadata": {
        "id": "rTAH1KQmxBrE"
      },
      "source": [
        "# outliers inspection"
      ],
      "id": "rTAH1KQmxBrE"
    },
    {
      "cell_type": "code",
      "metadata": {
        "id": "WfCiiXS1HgX1"
      },
      "source": [
        "from outliers import smirnov_grubbs as grubbs"
      ],
      "id": "WfCiiXS1HgX1",
      "execution_count": null,
      "outputs": []
    },
    {
      "cell_type": "code",
      "metadata": {
        "id": "JsAi4AwzHgSg",
        "colab": {
          "base_uri": "https://localhost:8080/"
        },
        "outputId": "2b9b3971-6818-4146-c89d-c3abb66ddb5f"
      },
      "source": [
        "for i in numerical_features:\n",
        "    results = f'Feature {i} outliers: {grubbs.two_sided_test_outliers(df[i])}'\n",
        "    print(results)\n",
        "\n",
        "# number of dependents outlier is not considered as outliers"
      ],
      "id": "JsAi4AwzHgSg",
      "execution_count": null,
      "outputs": [
        {
          "output_type": "stream",
          "text": [
            "Feature Number of Dependents outliers: [9, 8, 7]\n",
            "Feature Number of Referrals outliers: []\n",
            "Feature Tenure in Months outliers: []\n",
            "Feature Total Charges outliers: []\n",
            "Feature Total Revenue outliers: []\n"
          ],
          "name": "stdout"
        }
      ]
    },
    {
      "cell_type": "markdown",
      "metadata": {
        "id": "qu8NQKkw1lOd"
      },
      "source": [
        "# pipelining"
      ],
      "id": "qu8NQKkw1lOd"
    },
    {
      "cell_type": "code",
      "metadata": {
        "id": "cPxf4MUg1o06"
      },
      "source": [
        "numerical_transform = Pipeline(steps=[\n",
        "                                      ('num_imputer',SimpleImputer(strategy='mean')),\n",
        "                                      ('scaler',StandardScaler())\n",
        "])\n",
        "\n",
        "categorical_transform = Pipeline(steps=[\n",
        "                                        ('cat_imputer',SimpleImputer(strategy='most_frequent')),\n",
        "                                        ('cat_encoder',OneHotEncoder(drop='first'))\n",
        "])\n",
        "\n",
        "ordinal_transform = Pipeline(steps=[\n",
        "                                    ('ord_imputer',SimpleImputer(strategy='most_frequent')),\n",
        "                                    ('ord_encoder',OrdinalEncoder(categories=[sat_score,contract]))\n",
        "])\n",
        "\n",
        "preprocess = ColumnTransformer(transformers=[\n",
        "                                      ('numerical',numerical_transform,numerical_features),\n",
        "                                      ('categorical',categorical_transform,categorical_features),\n",
        "                                      ('ordinal', ordinal_transform,ordinal_features)\n",
        "])\n",
        "\n",
        "model_pipeline = Pipeline(steps=[('preprocess',preprocess),\n",
        "                                 ('svm',SVC())])"
      ],
      "id": "cPxf4MUg1o06",
      "execution_count": null,
      "outputs": []
    },
    {
      "cell_type": "code",
      "metadata": {
        "id": "k4_j3x9RbZBO"
      },
      "source": [
        "X = df.drop('Churn Label',axis=1)\n",
        "y = df['Churn Label']\n",
        "X_train, X_test, y_train, y_test = train_test_split(X, y, test_size=0.10, random_state=42)"
      ],
      "id": "k4_j3x9RbZBO",
      "execution_count": null,
      "outputs": []
    },
    {
      "cell_type": "code",
      "metadata": {
        "colab": {
          "base_uri": "https://localhost:8080/"
        },
        "id": "KmKieJGsaY2P",
        "outputId": "cea596ce-9008-42e0-b7b8-bf417ddedb78"
      },
      "source": [
        "param_grid = {'svm__degree':[3,4],\n",
        "              'svm__C':[50,100,250],\n",
        "              'svm__class_weight':['balanced'],\n",
        "              'svm__gamma':[0.01]}\n",
        "\n",
        "model_search = GridSearchCV(model_pipeline,param_grid=param_grid,verbose=2)\n",
        "model_search.fit(X_train,y_train)"
      ],
      "id": "KmKieJGsaY2P",
      "execution_count": null,
      "outputs": [
        {
          "output_type": "stream",
          "text": [
            "Fitting 5 folds for each of 6 candidates, totalling 30 fits\n",
            "[CV] svm__C=50, svm__class_weight=balanced, svm__degree=3, svm__gamma=0.01 \n"
          ],
          "name": "stdout"
        },
        {
          "output_type": "stream",
          "text": [
            "[Parallel(n_jobs=1)]: Using backend SequentialBackend with 1 concurrent workers.\n"
          ],
          "name": "stderr"
        },
        {
          "output_type": "stream",
          "text": [
            "[CV]  svm__C=50, svm__class_weight=balanced, svm__degree=3, svm__gamma=0.01, total=   0.5s\n",
            "[CV] svm__C=50, svm__class_weight=balanced, svm__degree=3, svm__gamma=0.01 \n"
          ],
          "name": "stdout"
        },
        {
          "output_type": "stream",
          "text": [
            "[Parallel(n_jobs=1)]: Done   1 out of   1 | elapsed:    0.5s remaining:    0.0s\n"
          ],
          "name": "stderr"
        },
        {
          "output_type": "stream",
          "text": [
            "[CV]  svm__C=50, svm__class_weight=balanced, svm__degree=3, svm__gamma=0.01, total=   0.5s\n",
            "[CV] svm__C=50, svm__class_weight=balanced, svm__degree=3, svm__gamma=0.01 \n",
            "[CV]  svm__C=50, svm__class_weight=balanced, svm__degree=3, svm__gamma=0.01, total=   0.5s\n",
            "[CV] svm__C=50, svm__class_weight=balanced, svm__degree=3, svm__gamma=0.01 \n",
            "[CV]  svm__C=50, svm__class_weight=balanced, svm__degree=3, svm__gamma=0.01, total=   0.5s\n",
            "[CV] svm__C=50, svm__class_weight=balanced, svm__degree=3, svm__gamma=0.01 \n",
            "[CV]  svm__C=50, svm__class_weight=balanced, svm__degree=3, svm__gamma=0.01, total=   0.5s\n",
            "[CV] svm__C=50, svm__class_weight=balanced, svm__degree=4, svm__gamma=0.01 \n",
            "[CV]  svm__C=50, svm__class_weight=balanced, svm__degree=4, svm__gamma=0.01, total=   0.5s\n",
            "[CV] svm__C=50, svm__class_weight=balanced, svm__degree=4, svm__gamma=0.01 \n",
            "[CV]  svm__C=50, svm__class_weight=balanced, svm__degree=4, svm__gamma=0.01, total=   0.5s\n",
            "[CV] svm__C=50, svm__class_weight=balanced, svm__degree=4, svm__gamma=0.01 \n",
            "[CV]  svm__C=50, svm__class_weight=balanced, svm__degree=4, svm__gamma=0.01, total=   0.5s\n",
            "[CV] svm__C=50, svm__class_weight=balanced, svm__degree=4, svm__gamma=0.01 \n",
            "[CV]  svm__C=50, svm__class_weight=balanced, svm__degree=4, svm__gamma=0.01, total=   0.5s\n",
            "[CV] svm__C=50, svm__class_weight=balanced, svm__degree=4, svm__gamma=0.01 \n",
            "[CV]  svm__C=50, svm__class_weight=balanced, svm__degree=4, svm__gamma=0.01, total=   0.5s\n",
            "[CV] svm__C=100, svm__class_weight=balanced, svm__degree=3, svm__gamma=0.01 \n",
            "[CV]  svm__C=100, svm__class_weight=balanced, svm__degree=3, svm__gamma=0.01, total=   0.5s\n",
            "[CV] svm__C=100, svm__class_weight=balanced, svm__degree=3, svm__gamma=0.01 \n",
            "[CV]  svm__C=100, svm__class_weight=balanced, svm__degree=3, svm__gamma=0.01, total=   0.5s\n",
            "[CV] svm__C=100, svm__class_weight=balanced, svm__degree=3, svm__gamma=0.01 \n",
            "[CV]  svm__C=100, svm__class_weight=balanced, svm__degree=3, svm__gamma=0.01, total=   0.6s\n",
            "[CV] svm__C=100, svm__class_weight=balanced, svm__degree=3, svm__gamma=0.01 \n",
            "[CV]  svm__C=100, svm__class_weight=balanced, svm__degree=3, svm__gamma=0.01, total=   0.5s\n",
            "[CV] svm__C=100, svm__class_weight=balanced, svm__degree=3, svm__gamma=0.01 \n",
            "[CV]  svm__C=100, svm__class_weight=balanced, svm__degree=3, svm__gamma=0.01, total=   0.5s\n",
            "[CV] svm__C=100, svm__class_weight=balanced, svm__degree=4, svm__gamma=0.01 \n",
            "[CV]  svm__C=100, svm__class_weight=balanced, svm__degree=4, svm__gamma=0.01, total=   0.5s\n",
            "[CV] svm__C=100, svm__class_weight=balanced, svm__degree=4, svm__gamma=0.01 \n",
            "[CV]  svm__C=100, svm__class_weight=balanced, svm__degree=4, svm__gamma=0.01, total=   0.5s\n",
            "[CV] svm__C=100, svm__class_weight=balanced, svm__degree=4, svm__gamma=0.01 \n",
            "[CV]  svm__C=100, svm__class_weight=balanced, svm__degree=4, svm__gamma=0.01, total=   0.6s\n",
            "[CV] svm__C=100, svm__class_weight=balanced, svm__degree=4, svm__gamma=0.01 \n",
            "[CV]  svm__C=100, svm__class_weight=balanced, svm__degree=4, svm__gamma=0.01, total=   0.5s\n",
            "[CV] svm__C=100, svm__class_weight=balanced, svm__degree=4, svm__gamma=0.01 \n",
            "[CV]  svm__C=100, svm__class_weight=balanced, svm__degree=4, svm__gamma=0.01, total=   0.5s\n",
            "[CV] svm__C=250, svm__class_weight=balanced, svm__degree=3, svm__gamma=0.01 \n",
            "[CV]  svm__C=250, svm__class_weight=balanced, svm__degree=3, svm__gamma=0.01, total=   0.6s\n",
            "[CV] svm__C=250, svm__class_weight=balanced, svm__degree=3, svm__gamma=0.01 \n",
            "[CV]  svm__C=250, svm__class_weight=balanced, svm__degree=3, svm__gamma=0.01, total=   0.6s\n",
            "[CV] svm__C=250, svm__class_weight=balanced, svm__degree=3, svm__gamma=0.01 \n",
            "[CV]  svm__C=250, svm__class_weight=balanced, svm__degree=3, svm__gamma=0.01, total=   0.6s\n",
            "[CV] svm__C=250, svm__class_weight=balanced, svm__degree=3, svm__gamma=0.01 \n",
            "[CV]  svm__C=250, svm__class_weight=balanced, svm__degree=3, svm__gamma=0.01, total=   0.6s\n",
            "[CV] svm__C=250, svm__class_weight=balanced, svm__degree=3, svm__gamma=0.01 \n",
            "[CV]  svm__C=250, svm__class_weight=balanced, svm__degree=3, svm__gamma=0.01, total=   0.6s\n",
            "[CV] svm__C=250, svm__class_weight=balanced, svm__degree=4, svm__gamma=0.01 \n",
            "[CV]  svm__C=250, svm__class_weight=balanced, svm__degree=4, svm__gamma=0.01, total=   0.6s\n",
            "[CV] svm__C=250, svm__class_weight=balanced, svm__degree=4, svm__gamma=0.01 \n",
            "[CV]  svm__C=250, svm__class_weight=balanced, svm__degree=4, svm__gamma=0.01, total=   0.6s\n",
            "[CV] svm__C=250, svm__class_weight=balanced, svm__degree=4, svm__gamma=0.01 \n",
            "[CV]  svm__C=250, svm__class_weight=balanced, svm__degree=4, svm__gamma=0.01, total=   0.6s\n",
            "[CV] svm__C=250, svm__class_weight=balanced, svm__degree=4, svm__gamma=0.01 \n",
            "[CV]  svm__C=250, svm__class_weight=balanced, svm__degree=4, svm__gamma=0.01, total=   0.6s\n",
            "[CV] svm__C=250, svm__class_weight=balanced, svm__degree=4, svm__gamma=0.01 \n",
            "[CV]  svm__C=250, svm__class_weight=balanced, svm__degree=4, svm__gamma=0.01, total=   0.6s\n"
          ],
          "name": "stdout"
        },
        {
          "output_type": "stream",
          "text": [
            "[Parallel(n_jobs=1)]: Done  30 out of  30 | elapsed:   16.4s finished\n"
          ],
          "name": "stderr"
        },
        {
          "output_type": "execute_result",
          "data": {
            "text/plain": [
              "GridSearchCV(cv=None, error_score=nan,\n",
              "             estimator=Pipeline(memory=None,\n",
              "                                steps=[('preprocess',\n",
              "                                        ColumnTransformer(n_jobs=None,\n",
              "                                                          remainder='drop',\n",
              "                                                          sparse_threshold=0.3,\n",
              "                                                          transformer_weights=None,\n",
              "                                                          transformers=[('numerical',\n",
              "                                                                         Pipeline(memory=None,\n",
              "                                                                                  steps=[('num_imputer',\n",
              "                                                                                          SimpleImputer(add_indicator=False,\n",
              "                                                                                                        copy=True,\n",
              "                                                                                                        fill_value=None,\n",
              "                                                                                                        missing_values=nan,\n",
              "                                                                                                        strategy='mean',\n",
              "                                                                                                        ver...\n",
              "                                            degree=3, gamma='scale',\n",
              "                                            kernel='rbf', max_iter=-1,\n",
              "                                            probability=False,\n",
              "                                            random_state=None, shrinking=True,\n",
              "                                            tol=0.001, verbose=False))],\n",
              "                                verbose=False),\n",
              "             iid='deprecated', n_jobs=None,\n",
              "             param_grid={'svm__C': [50, 100, 250],\n",
              "                         'svm__class_weight': ['balanced'],\n",
              "                         'svm__degree': [3, 4], 'svm__gamma': [0.01]},\n",
              "             pre_dispatch='2*n_jobs', refit=True, return_train_score=False,\n",
              "             scoring=None, verbose=2)"
            ]
          },
          "metadata": {
            "tags": []
          },
          "execution_count": 259
        }
      ]
    },
    {
      "cell_type": "code",
      "metadata": {
        "colab": {
          "base_uri": "https://localhost:8080/"
        },
        "id": "qlTfqmSzaZpd",
        "outputId": "9af68582-59ba-4945-f2ef-1fde5b83dd29"
      },
      "source": [
        "model_search.best_estimator_"
      ],
      "id": "qlTfqmSzaZpd",
      "execution_count": null,
      "outputs": [
        {
          "output_type": "execute_result",
          "data": {
            "text/plain": [
              "Pipeline(memory=None,\n",
              "         steps=[('preprocess',\n",
              "                 ColumnTransformer(n_jobs=None, remainder='drop',\n",
              "                                   sparse_threshold=0.3,\n",
              "                                   transformer_weights=None,\n",
              "                                   transformers=[('numerical',\n",
              "                                                  Pipeline(memory=None,\n",
              "                                                           steps=[('num_imputer',\n",
              "                                                                   SimpleImputer(add_indicator=False,\n",
              "                                                                                 copy=True,\n",
              "                                                                                 fill_value=None,\n",
              "                                                                                 missing_values=nan,\n",
              "                                                                                 strategy='mean',\n",
              "                                                                                 verbose=0)),\n",
              "                                                                  ('scaler',\n",
              "                                                                   StandardScaler(copy=True,\n",
              "                                                                                  wit...\n",
              "                                                                                               'Year']],\n",
              "                                                                                  dtype=<class 'numpy.float64'>))],\n",
              "                                                           verbose=False),\n",
              "                                                  ['Satisfaction Score',\n",
              "                                                   'Contract'])],\n",
              "                                   verbose=False)),\n",
              "                ('svm',\n",
              "                 SVC(C=100, break_ties=False, cache_size=200,\n",
              "                     class_weight='balanced', coef0=0.0,\n",
              "                     decision_function_shape='ovr', degree=3, gamma=0.01,\n",
              "                     kernel='rbf', max_iter=-1, probability=False,\n",
              "                     random_state=None, shrinking=True, tol=0.001,\n",
              "                     verbose=False))],\n",
              "         verbose=False)"
            ]
          },
          "metadata": {
            "tags": []
          },
          "execution_count": 260
        }
      ]
    },
    {
      "cell_type": "code",
      "metadata": {
        "colab": {
          "base_uri": "https://localhost:8080/"
        },
        "id": "I-Gwxgo5b-tO",
        "outputId": "996e61a0-6dfc-4d04-82f7-a05a0a71c7b5"
      },
      "source": [
        "model_search.best_score_"
      ],
      "id": "I-Gwxgo5b-tO",
      "execution_count": null,
      "outputs": [
        {
          "output_type": "execute_result",
          "data": {
            "text/plain": [
              "0.9479337165962468"
            ]
          },
          "metadata": {
            "tags": []
          },
          "execution_count": 261
        }
      ]
    },
    {
      "cell_type": "code",
      "metadata": {
        "id": "Z6HW-exJcugF"
      },
      "source": [
        "y_pred = model_search.predict(X_test)"
      ],
      "id": "Z6HW-exJcugF",
      "execution_count": null,
      "outputs": []
    },
    {
      "cell_type": "code",
      "metadata": {
        "colab": {
          "base_uri": "https://localhost:8080/"
        },
        "id": "H3rC43D3c1r8",
        "outputId": "aeba08bb-c00d-4270-98df-3f6ef02d6b41"
      },
      "source": [
        "print(classification_report(y_test,y_pred))"
      ],
      "id": "H3rC43D3c1r8",
      "execution_count": null,
      "outputs": [
        {
          "output_type": "stream",
          "text": [
            "              precision    recall  f1-score   support\n",
            "\n",
            "          No       0.98      0.94      0.96       521\n",
            "         Yes       0.85      0.95      0.90       184\n",
            "\n",
            "    accuracy                           0.94       705\n",
            "   macro avg       0.92      0.95      0.93       705\n",
            "weighted avg       0.95      0.94      0.95       705\n",
            "\n"
          ],
          "name": "stdout"
        }
      ]
    },
    {
      "cell_type": "code",
      "metadata": {
        "colab": {
          "base_uri": "https://localhost:8080/",
          "height": 296
        },
        "id": "ppW4YEfCdcUW",
        "outputId": "a871e396-df15-4b37-d5d6-995dc3a64b1b"
      },
      "source": [
        "plot_confusion_matrix(model_search,X_test,y_test)"
      ],
      "id": "ppW4YEfCdcUW",
      "execution_count": null,
      "outputs": [
        {
          "output_type": "execute_result",
          "data": {
            "text/plain": [
              "<sklearn.metrics._plot.confusion_matrix.ConfusionMatrixDisplay at 0x7f35c811a550>"
            ]
          },
          "metadata": {
            "tags": []
          },
          "execution_count": 264
        },
        {
          "output_type": "display_data",
          "data": {
            "image/png": "[encoded data removed]",
            "text/plain": [
              "<Figure size 432x288 with 2 Axes>"
            ]
          },
          "metadata": {
            "tags": [],
            "needs_background": "light"
          }
        }
      ]
    },
    {
      "cell_type": "code",
      "metadata": {
        "colab": {
          "base_uri": "https://localhost:8080/",
          "height": 296
        },
        "id": "ehIx2f2PeGsG",
        "outputId": "9b090bd4-91cb-43f6-8a17-c4a2ac0fc791"
      },
      "source": [
        "plot_roc_curve(model_search,X_test,y_test)"
      ],
      "id": "ehIx2f2PeGsG",
      "execution_count": null,
      "outputs": [
        {
          "output_type": "execute_result",
          "data": {
            "text/plain": [
              "<sklearn.metrics._plot.roc_curve.RocCurveDisplay at 0x7f35c811ae10>"
            ]
          },
          "metadata": {
            "tags": []
          },
          "execution_count": 265
        },
        {
          "output_type": "display_data",
          "data": {
            "image/png": "[encoded data removed]",
            "text/plain": [
              "<Figure size 432x288 with 1 Axes>"
            ]
          },
          "metadata": {
            "tags": [],
            "needs_background": "light"
          }
        }
      ]
    },
    {
      "cell_type": "markdown",
      "metadata": {
        "id": "jm4ZzVogmMa3"
      },
      "source": [
        "# export and deploy"
      ],
      "id": "jm4ZzVogmMa3"
    },
    {
      "cell_type": "code",
      "metadata": {
        "id": "-k52kbU2l9GO"
      },
      "source": [
        "df.to_csv('feature_selected_telco.csv',index=False,index_label=False)"
      ],
      "id": "-k52kbU2l9GO",
      "execution_count": null,
      "outputs": []
    },
    {
      "cell_type": "code",
      "metadata": {
        "colab": {
          "base_uri": "https://localhost:8080/"
        },
        "id": "OAkwSAu8mhCv",
        "outputId": "a7465f5b-d9cb-463b-a78b-a294e3a12372"
      },
      "source": [
        "from joblib import dump\n",
        "\n",
        "dump(model_search,'telco_svm_95.joblib')"
      ],
      "id": "OAkwSAu8mhCv",
      "execution_count": null,
      "outputs": [
        {
          "output_type": "execute_result",
          "data": {
            "text/plain": [
              "['telco_svm_95.joblib']"
            ]
          },
          "metadata": {
            "tags": []
          },
          "execution_count": 268
        }
      ]
    }
  ]
}