{
  "nbformat": 4,
  "nbformat_minor": 0,
  "metadata": {
    "colab": {
      "name": "Untitled2.ipynb",
      "provenance": [],
      "collapsed_sections": []
    },
    "kernelspec": {
      "name": "python3",
      "display_name": "Python 3"
    },
    "language_info": {
      "name": "python"
    }
  },
  "cells": [
    {
      "cell_type": "markdown",
      "metadata": {
        "id": "Ujg06JNu4aCI"
      },
      "source": [
        "# workflow \n",
        "1. import necessary library in one single cell\n",
        "2. ingest data\n",
        "3. clean data\n",
        "4. choose y value\n",
        "5. set the datetime as index\n",
        "6. resample : up or down if necessary\n",
        "7. plot observed timeseries\n",
        "8. determine validation set\n",
        "9. decompose the observed series\n",
        "10. analyze the decomposed ts\n",
        "11. if necessary, make the data stationary which  satisfy the assumption:\n",
        "- data has same mean (no trend)\n",
        "- data has the same variance (no heteroscedasticity)\n",
        "- data should be in similiar covariance (somekind of wavelength)\n",
        "\n",
        "12. first approach : use differencing or timeseries(t) - lag(k)\n",
        "13. remove the heteroscedasticity using log transform\n",
        "14. assume the data is now stattionary, one's can :\n",
        "15. use ACF to determine MA order (q)\n",
        "16. use PACF to determine AR order (p)\n",
        "17. model the data using arima with known components\n",
        "18. evaluate the model prediction on validation set\n",
        "19. move forward to sarima model\n",
        "18. using arima residuals to get sarima components using acf pacf\n",
        "19. model sarima with known properties\n",
        "20. evaluate the sarima model\n",
        "21. assume the model us good, forecast to the out of observed data"
      ]
    },
    {
      "cell_type": "code",
      "metadata": {
        "colab": {
          "base_uri": "https://localhost:8080/"
        },
        "id": "q5-0meCD30UC",
        "outputId": "e29c8f90-8ef9-4ac1-a00e-c98cd928656f"
      },
      "source": [
        "import numpy as np\n",
        "import pandas as pd\n",
        "from matplotlib import pyplot as plt\n",
        "from statsmodels.tsa.holtwinters import ExponentialSmoothing,SimpleExpSmoothing,Holt,HoltWintersResults\n",
        "from scipy.stats import normaltest,boxcox\n",
        "from statsmodels.tsa.stattools import adfuller\n",
        "from statsmodels.tsa.seasonal import seasonal_decompose\n",
        "from sklearn.metrics import mean_squared_error as MSE\n",
        "from statsmodels.tsa.api import ARIMA,SARIMAX\n",
        "from statsmodels.graphics.tsaplots import plot_acf,plot_pacf"
      ],
      "execution_count": 1,
      "outputs": [
        {
          "output_type": "stream",
          "text": [
            "/usr/local/lib/python3.7/dist-packages/statsmodels/tools/_testing.py:19: FutureWarning: pandas.util.testing is deprecated. Use the functions in the public API at pandas.testing instead.\n",
            "  import pandas.util.testing as tm\n"
          ],
          "name": "stderr"
        }
      ]
    },
    {
      "cell_type": "code",
      "metadata": {
        "id": "9KLrDpnC4fAl"
      },
      "source": [
        "df_train = pd.read_csv(\"/content/Train_SU63ISt.csv\")\n",
        "df_test = pd.read_csv(\"/content/Test_0qrQsBZ.csv\")\n",
        "df_sample_submit = pd.read_csv(\"/content/sample_submission_LSeus50.csv\")"
      ],
      "execution_count": 2,
      "outputs": []
    },
    {
      "cell_type": "code",
      "metadata": {
        "colab": {
          "base_uri": "https://localhost:8080/"
        },
        "id": "I8qzXM8a4Ui3",
        "outputId": "6f7465be-283f-412b-f2d3-a75dafde1a27"
      },
      "source": [
        "df_train.info()"
      ],
      "execution_count": 3,
      "outputs": [
        {
          "output_type": "stream",
          "text": [
            "<class 'pandas.core.frame.DataFrame'>\n",
            "RangeIndex: 18288 entries, 0 to 18287\n",
            "Data columns (total 3 columns):\n",
            " #   Column    Non-Null Count  Dtype \n",
            "---  ------    --------------  ----- \n",
            " 0   ID        18288 non-null  int64 \n",
            " 1   Datetime  18288 non-null  object\n",
            " 2   Count     18288 non-null  int64 \n",
            "dtypes: int64(2), object(1)\n",
            "memory usage: 428.8+ KB\n"
          ],
          "name": "stdout"
        }
      ]
    },
    {
      "cell_type": "code",
      "metadata": {
        "colab": {
          "base_uri": "https://localhost:8080/",
          "height": 235
        },
        "id": "2p9HqZlP41Cw",
        "outputId": "fb8a6afa-6c5d-42da-f2c6-431b334d646e"
      },
      "source": [
        "df_train['Datetime'] = pd.to_datetime(df_train['Datetime'])\n",
        "df_train = df_train.set_index('Datetime')\n",
        "df_train.head()"
      ],
      "execution_count": 4,
      "outputs": [
        {
          "output_type": "execute_result",
          "data": {
            "text/html": [
              "<div>\n",
              "<style scoped>\n",
              "    .dataframe tbody tr th:only-of-type {\n",
              "        vertical-align: middle;\n",
              "    }\n",
              "\n",
              "    .dataframe tbody tr th {\n",
              "        vertical-align: top;\n",
              "    }\n",
              "\n",
              "    .dataframe thead th {\n",
              "        text-align: right;\n",
              "    }\n",
              "</style>\n",
              "<table border=\"1\" class=\"dataframe\">\n",
              "  <thead>\n",
              "    <tr style=\"text-align: right;\">\n",
              "      <th></th>\n",
              "      <th>ID</th>\n",
              "      <th>Count</th>\n",
              "    </tr>\n",
              "    <tr>\n",
              "      <th>Datetime</th>\n",
              "      <th></th>\n",
              "      <th></th>\n",
              "    </tr>\n",
              "  </thead>\n",
              "  <tbody>\n",
              "    <tr>\n",
              "      <th>2012-08-25 00:00:00</th>\n",
              "      <td>0</td>\n",
              "      <td>8</td>\n",
              "    </tr>\n",
              "    <tr>\n",
              "      <th>2012-08-25 01:00:00</th>\n",
              "      <td>1</td>\n",
              "      <td>2</td>\n",
              "    </tr>\n",
              "    <tr>\n",
              "      <th>2012-08-25 02:00:00</th>\n",
              "      <td>2</td>\n",
              "      <td>6</td>\n",
              "    </tr>\n",
              "    <tr>\n",
              "      <th>2012-08-25 03:00:00</th>\n",
              "      <td>3</td>\n",
              "      <td>2</td>\n",
              "    </tr>\n",
              "    <tr>\n",
              "      <th>2012-08-25 04:00:00</th>\n",
              "      <td>4</td>\n",
              "      <td>2</td>\n",
              "    </tr>\n",
              "  </tbody>\n",
              "</table>\n",
              "</div>"
            ],
            "text/plain": [
              "                     ID  Count\n",
              "Datetime                      \n",
              "2012-08-25 00:00:00   0      8\n",
              "2012-08-25 01:00:00   1      2\n",
              "2012-08-25 02:00:00   2      6\n",
              "2012-08-25 03:00:00   3      2\n",
              "2012-08-25 04:00:00   4      2"
            ]
          },
          "metadata": {
            "tags": []
          },
          "execution_count": 4
        }
      ]
    },
    {
      "cell_type": "code",
      "metadata": {
        "colab": {
          "base_uri": "https://localhost:8080/"
        },
        "id": "ZayDePhj5Syh",
        "outputId": "69e6dd03-bd44-4519-b0c0-e0c8d27d7abb"
      },
      "source": [
        "df_train.isnull().sum()"
      ],
      "execution_count": 5,
      "outputs": [
        {
          "output_type": "execute_result",
          "data": {
            "text/plain": [
              "ID       0\n",
              "Count    0\n",
              "dtype: int64"
            ]
          },
          "metadata": {
            "tags": []
          },
          "execution_count": 5
        }
      ]
    },
    {
      "cell_type": "code",
      "metadata": {
        "colab": {
          "base_uri": "https://localhost:8080/",
          "height": 80
        },
        "id": "W6NoaWDm5XHi",
        "outputId": "191c55c0-606f-4fad-8c44-79a484fc062a"
      },
      "source": [
        "df_train[df_train.duplicated()]"
      ],
      "execution_count": 6,
      "outputs": [
        {
          "output_type": "execute_result",
          "data": {
            "text/html": [
              "<div>\n",
              "<style scoped>\n",
              "    .dataframe tbody tr th:only-of-type {\n",
              "        vertical-align: middle;\n",
              "    }\n",
              "\n",
              "    .dataframe tbody tr th {\n",
              "        vertical-align: top;\n",
              "    }\n",
              "\n",
              "    .dataframe thead th {\n",
              "        text-align: right;\n",
              "    }\n",
              "</style>\n",
              "<table border=\"1\" class=\"dataframe\">\n",
              "  <thead>\n",
              "    <tr style=\"text-align: right;\">\n",
              "      <th></th>\n",
              "      <th>ID</th>\n",
              "      <th>Count</th>\n",
              "    </tr>\n",
              "    <tr>\n",
              "      <th>Datetime</th>\n",
              "      <th></th>\n",
              "      <th></th>\n",
              "    </tr>\n",
              "  </thead>\n",
              "  <tbody>\n",
              "  </tbody>\n",
              "</table>\n",
              "</div>"
            ],
            "text/plain": [
              "Empty DataFrame\n",
              "Columns: [ID, Count]\n",
              "Index: []"
            ]
          },
          "metadata": {
            "tags": []
          },
          "execution_count": 6
        }
      ]
    },
    {
      "cell_type": "code",
      "metadata": {
        "colab": {
          "base_uri": "https://localhost:8080/",
          "height": 294
        },
        "id": "rg8lygvt5bWH",
        "outputId": "71339356-1870-4ba9-d841-27c3603eef03"
      },
      "source": [
        "df_train.Count.plot()"
      ],
      "execution_count": 7,
      "outputs": [
        {
          "output_type": "execute_result",
          "data": {
            "text/plain": [
              "<matplotlib.axes._subplots.AxesSubplot at 0x7ff9f4c21f90>"
            ]
          },
          "metadata": {
            "tags": []
          },
          "execution_count": 7
        },
        {
          "output_type": "display_data",
          "data": {
            "image/png": "[encoded data removed]",
            "text/plain": [
              "<Figure size 432x288 with 1 Axes>"
            ]
          },
          "metadata": {
            "tags": [],
            "needs_background": "light"
          }
        }
      ]
    },
    {
      "cell_type": "code",
      "metadata": {
        "id": "JV0zK3XbABJ0"
      },
      "source": [
        "df_train['log1'] = np.log1p(df_train['Count'])"
      ],
      "execution_count": 8,
      "outputs": []
    },
    {
      "cell_type": "code",
      "metadata": {
        "colab": {
          "base_uri": "https://localhost:8080/",
          "height": 294
        },
        "id": "A_76orjjARMi",
        "outputId": "f3a68eb6-0990-4465-f993-92b4838d0b45"
      },
      "source": [
        "df_train.log1.plot()"
      ],
      "execution_count": 9,
      "outputs": [
        {
          "output_type": "execute_result",
          "data": {
            "text/plain": [
              "<matplotlib.axes._subplots.AxesSubplot at 0x7ff9f4a68310>"
            ]
          },
          "metadata": {
            "tags": []
          },
          "execution_count": 9
        },
        {
          "output_type": "display_data",
          "data": {
            "image/png": "[encoded data removed]",
            "text/plain": [
              "<Figure size 432x288 with 1 Axes>"
            ]
          },
          "metadata": {
            "tags": [],
            "needs_background": "light"
          }
        }
      ]
    },
    {
      "cell_type": "code",
      "metadata": {
        "colab": {
          "base_uri": "https://localhost:8080/"
        },
        "id": "T5RBmB7R5vRP",
        "outputId": "f2ff93fe-e7bf-4ee1-c910-40cee89d925b"
      },
      "source": [
        "#stationarity test\n",
        "stationarity = adfuller(df_train.Count)\n",
        "stationarity\n",
        "#data is not stationary "
      ],
      "execution_count": 10,
      "outputs": [
        {
          "output_type": "execute_result",
          "data": {
            "text/plain": [
              "(-4.456560536856826,\n",
              " 0.0002354046646766507,\n",
              " 45,\n",
              " 18242,\n",
              " {'1%': -3.430708525404171,\n",
              "  '10%': -2.5668543412994906,\n",
              "  '5%': -2.861698454786869},\n",
              " 181026.8337109476)"
            ]
          },
          "metadata": {
            "tags": []
          },
          "execution_count": 10
        }
      ]
    },
    {
      "cell_type": "code",
      "metadata": {
        "colab": {
          "base_uri": "https://localhost:8080/",
          "height": 294
        },
        "id": "zkTinCtv6DT3",
        "outputId": "1864b9df-8094-449e-9b9d-62087dfa433f"
      },
      "source": [
        "#differencing 1 lag\n",
        "df_train['diff1']= df_train['Count'].diff(1)\n",
        "df_train['diff1_log'] = df_train['log1'].diff(1)\n",
        "df_train.diff1_log.plot()"
      ],
      "execution_count": 11,
      "outputs": [
        {
          "output_type": "execute_result",
          "data": {
            "text/plain": [
              "<matplotlib.axes._subplots.AxesSubplot at 0x7ff9f4d8dd50>"
            ]
          },
          "metadata": {
            "tags": []
          },
          "execution_count": 11
        },
        {
          "output_type": "display_data",
          "data": {
            "image/png": "[encoded data removed]",
            "text/plain": [
              "<Figure size 432x288 with 1 Axes>"
            ]
          },
          "metadata": {
            "tags": [],
            "needs_background": "light"
          }
        }
      ]
    },
    {
      "cell_type": "code",
      "metadata": {
        "colab": {
          "base_uri": "https://localhost:8080/",
          "height": 450
        },
        "id": "02iJrWnt8kHC",
        "outputId": "141b2391-0b6f-4b60-9bbe-69267d3ebc95"
      },
      "source": [
        "val_set = df_train[int(len(df_train)*0.8):]\n",
        "val_start = \"2014-04-26 14:00:00\"\n",
        "val_end = \"2014-09-25 23:00:00\"\n",
        "val_set"
      ],
      "execution_count": 12,
      "outputs": [
        {
          "output_type": "execute_result",
          "data": {
            "text/html": [
              "<div>\n",
              "<style scoped>\n",
              "    .dataframe tbody tr th:only-of-type {\n",
              "        vertical-align: middle;\n",
              "    }\n",
              "\n",
              "    .dataframe tbody tr th {\n",
              "        vertical-align: top;\n",
              "    }\n",
              "\n",
              "    .dataframe thead th {\n",
              "        text-align: right;\n",
              "    }\n",
              "</style>\n",
              "<table border=\"1\" class=\"dataframe\">\n",
              "  <thead>\n",
              "    <tr style=\"text-align: right;\">\n",
              "      <th></th>\n",
              "      <th>ID</th>\n",
              "      <th>Count</th>\n",
              "      <th>log1</th>\n",
              "      <th>diff1</th>\n",
              "      <th>diff1_log</th>\n",
              "    </tr>\n",
              "    <tr>\n",
              "      <th>Datetime</th>\n",
              "      <th></th>\n",
              "      <th></th>\n",
              "      <th></th>\n",
              "      <th></th>\n",
              "      <th></th>\n",
              "    </tr>\n",
              "  </thead>\n",
              "  <tbody>\n",
              "    <tr>\n",
              "      <th>2014-04-26 14:00:00</th>\n",
              "      <td>14630</td>\n",
              "      <td>204</td>\n",
              "      <td>5.323010</td>\n",
              "      <td>-2.0</td>\n",
              "      <td>-0.009709</td>\n",
              "    </tr>\n",
              "    <tr>\n",
              "      <th>2014-04-26 15:00:00</th>\n",
              "      <td>14631</td>\n",
              "      <td>172</td>\n",
              "      <td>5.153292</td>\n",
              "      <td>-32.0</td>\n",
              "      <td>-0.169718</td>\n",
              "    </tr>\n",
              "    <tr>\n",
              "      <th>2014-04-26 16:00:00</th>\n",
              "      <td>14632</td>\n",
              "      <td>184</td>\n",
              "      <td>5.220356</td>\n",
              "      <td>12.0</td>\n",
              "      <td>0.067064</td>\n",
              "    </tr>\n",
              "    <tr>\n",
              "      <th>2014-04-26 17:00:00</th>\n",
              "      <td>14633</td>\n",
              "      <td>124</td>\n",
              "      <td>4.828314</td>\n",
              "      <td>-60.0</td>\n",
              "      <td>-0.392042</td>\n",
              "    </tr>\n",
              "    <tr>\n",
              "      <th>2014-04-26 18:00:00</th>\n",
              "      <td>14634</td>\n",
              "      <td>190</td>\n",
              "      <td>5.252273</td>\n",
              "      <td>66.0</td>\n",
              "      <td>0.423960</td>\n",
              "    </tr>\n",
              "    <tr>\n",
              "      <th>...</th>\n",
              "      <td>...</td>\n",
              "      <td>...</td>\n",
              "      <td>...</td>\n",
              "      <td>...</td>\n",
              "      <td>...</td>\n",
              "    </tr>\n",
              "    <tr>\n",
              "      <th>2014-09-25 19:00:00</th>\n",
              "      <td>18283</td>\n",
              "      <td>868</td>\n",
              "      <td>6.767343</td>\n",
              "      <td>188.0</td>\n",
              "      <td>0.243781</td>\n",
              "    </tr>\n",
              "    <tr>\n",
              "      <th>2014-09-25 20:00:00</th>\n",
              "      <td>18284</td>\n",
              "      <td>732</td>\n",
              "      <td>6.597146</td>\n",
              "      <td>-136.0</td>\n",
              "      <td>-0.170197</td>\n",
              "    </tr>\n",
              "    <tr>\n",
              "      <th>2014-09-25 21:00:00</th>\n",
              "      <td>18285</td>\n",
              "      <td>702</td>\n",
              "      <td>6.555357</td>\n",
              "      <td>-30.0</td>\n",
              "      <td>-0.041789</td>\n",
              "    </tr>\n",
              "    <tr>\n",
              "      <th>2014-09-25 22:00:00</th>\n",
              "      <td>18286</td>\n",
              "      <td>580</td>\n",
              "      <td>6.364751</td>\n",
              "      <td>-122.0</td>\n",
              "      <td>-0.190606</td>\n",
              "    </tr>\n",
              "    <tr>\n",
              "      <th>2014-09-25 23:00:00</th>\n",
              "      <td>18287</td>\n",
              "      <td>534</td>\n",
              "      <td>6.282267</td>\n",
              "      <td>-46.0</td>\n",
              "      <td>-0.082484</td>\n",
              "    </tr>\n",
              "  </tbody>\n",
              "</table>\n",
              "<p>3658 rows × 5 columns</p>\n",
              "</div>"
            ],
            "text/plain": [
              "                        ID  Count      log1  diff1  diff1_log\n",
              "Datetime                                                     \n",
              "2014-04-26 14:00:00  14630    204  5.323010   -2.0  -0.009709\n",
              "2014-04-26 15:00:00  14631    172  5.153292  -32.0  -0.169718\n",
              "2014-04-26 16:00:00  14632    184  5.220356   12.0   0.067064\n",
              "2014-04-26 17:00:00  14633    124  4.828314  -60.0  -0.392042\n",
              "2014-04-26 18:00:00  14634    190  5.252273   66.0   0.423960\n",
              "...                    ...    ...       ...    ...        ...\n",
              "2014-09-25 19:00:00  18283    868  6.767343  188.0   0.243781\n",
              "2014-09-25 20:00:00  18284    732  6.597146 -136.0  -0.170197\n",
              "2014-09-25 21:00:00  18285    702  6.555357  -30.0  -0.041789\n",
              "2014-09-25 22:00:00  18286    580  6.364751 -122.0  -0.190606\n",
              "2014-09-25 23:00:00  18287    534  6.282267  -46.0  -0.082484\n",
              "\n",
              "[3658 rows x 5 columns]"
            ]
          },
          "metadata": {
            "tags": []
          },
          "execution_count": 12
        }
      ]
    },
    {
      "cell_type": "code",
      "metadata": {
        "colab": {
          "base_uri": "https://localhost:8080/",
          "height": 499
        },
        "id": "kyaNZdLC9Q1A",
        "outputId": "6c92e0a9-bb43-41a9-bd2a-92b4e22da996"
      },
      "source": [
        "fig,(ax,ax2) = plt.subplots(1,2,figsize=(10,8))\n",
        "acf = plot_acf(df_train['diff1_log'][1:],ax=ax,lags=10)\n",
        "pacf =plot_pacf(df_train['diff1_log'][1:],ax=ax2,lags=10)"
      ],
      "execution_count": 13,
      "outputs": [
        {
          "output_type": "display_data",
          "data": {
            "image/png": "[encoded data removed]",
            "text/plain": [
              "<Figure size 720x576 with 2 Axes>"
            ]
          },
          "metadata": {
            "tags": [],
            "needs_background": "light"
          }
        }
      ]
    },
    {
      "cell_type": "code",
      "metadata": {
        "colab": {
          "base_uri": "https://localhost:8080/"
        },
        "id": "-MtTMIqL-DTq",
        "outputId": "22ccb984-9889-4909-c675-b2dd0e0d9599"
      },
      "source": [
        "#arima\n",
        "arima_model = ARIMA(df_train['Count'],order=(1,1,2)).fit()\n",
        "val_set['arima'] = arima_model.predict(start=val_start,end=val_end)\n",
        "arima_rmse = np.sqrt(MSE(val_set['Count'],val_set['arima']))\n",
        "print(f\"arima RMSE {arima_rmse}\")"
      ],
      "execution_count": 14,
      "outputs": [
        {
          "output_type": "stream",
          "text": [
            "/usr/local/lib/python3.7/dist-packages/statsmodels/tsa/base/tsa_model.py:219: ValueWarning: A date index has been provided, but it has no associated frequency information and so will be ignored when e.g. forecasting.\n",
            "  ' ignored when e.g. forecasting.', ValueWarning)\n",
            "/usr/local/lib/python3.7/dist-packages/statsmodels/tsa/base/tsa_model.py:219: ValueWarning: A date index has been provided, but it has no associated frequency information and so will be ignored when e.g. forecasting.\n",
            "  ' ignored when e.g. forecasting.', ValueWarning)\n"
          ],
          "name": "stderr"
        },
        {
          "output_type": "stream",
          "text": [
            "arima RMSE 398.02199665423484\n"
          ],
          "name": "stdout"
        },
        {
          "output_type": "stream",
          "text": [
            "/usr/local/lib/python3.7/dist-packages/ipykernel_launcher.py:3: SettingWithCopyWarning: \n",
            "A value is trying to be set on a copy of a slice from a DataFrame.\n",
            "Try using .loc[row_indexer,col_indexer] = value instead\n",
            "\n",
            "See the caveats in the documentation: https://pandas.pydata.org/pandas-docs/stable/user_guide/indexing.html#returning-a-view-versus-a-copy\n",
            "  This is separate from the ipykernel package so we can avoid doing imports until\n"
          ],
          "name": "stderr"
        }
      ]
    },
    {
      "cell_type": "code",
      "metadata": {
        "colab": {
          "base_uri": "https://localhost:8080/",
          "height": 294
        },
        "id": "J24fiCv2-sNc",
        "outputId": "ba54a4d5-fff8-47c1-f84a-b734c50ed9f4"
      },
      "source": [
        "df_train.Count.plot()\n",
        "val_set.Count.plot()\n",
        "val_set.arima.plot()"
      ],
      "execution_count": 15,
      "outputs": [
        {
          "output_type": "execute_result",
          "data": {
            "text/plain": [
              "<matplotlib.axes._subplots.AxesSubplot at 0x7ff9ec274cd0>"
            ]
          },
          "metadata": {
            "tags": []
          },
          "execution_count": 15
        },
        {
          "output_type": "display_data",
          "data": {
            "image/png": "[encoded data removed]",
            "text/plain": [
              "<Figure size 432x288 with 1 Axes>"
            ]
          },
          "metadata": {
            "tags": [],
            "needs_background": "light"
          }
        }
      ]
    },
    {
      "cell_type": "code",
      "metadata": {
        "colab": {
          "base_uri": "https://localhost:8080/",
          "height": 499
        },
        "id": "geBXl4xlCMHi",
        "outputId": "750b5db8-2b4b-44bd-a057-d63b9d923046"
      },
      "source": [
        "#searching sarima components\n",
        "fig,(ax,ax2) = plt.subplots(1,2,figsize=(10,8))\n",
        "acf = plot_acf(arima_model.resid,ax=ax,lags=10)\n",
        "pacf =plot_pacf(arima_model.resid,ax=ax2,lags=10)"
      ],
      "execution_count": 16,
      "outputs": [
        {
          "output_type": "display_data",
          "data": {
            "image/png": "[encoded data removed]",
            "text/plain": [
              "<Figure size 720x576 with 2 Axes>"
            ]
          },
          "metadata": {
            "tags": [],
            "needs_background": "light"
          }
        }
      ]
    },
    {
      "cell_type": "code",
      "metadata": {
        "colab": {
          "base_uri": "https://localhost:8080/"
        },
        "id": "cxr0ulIWClIs",
        "outputId": "821e0992-a29e-46b0-b133-14d4359161c4"
      },
      "source": [
        "sarima_model = SARIMAX(df_train['Count'],order=(2,1,1),seasonal_order=(1,1,1,24)).fit()\n",
        "val_set['sarima'] = sarima_model.predict(start=val_start,end=val_end)\n",
        "sarima_rmse= np.sqrt(MSE(val_set['Count'],val_set['sarima']))\n",
        "print(f\"sarim RMSE: {sarima_rmse}\")"
      ],
      "execution_count": 22,
      "outputs": [
        {
          "output_type": "stream",
          "text": [
            "/usr/local/lib/python3.7/dist-packages/statsmodels/tsa/base/tsa_model.py:219: ValueWarning: A date index has been provided, but it has no associated frequency information and so will be ignored when e.g. forecasting.\n",
            "  ' ignored when e.g. forecasting.', ValueWarning)\n"
          ],
          "name": "stderr"
        },
        {
          "output_type": "stream",
          "text": [
            "sarim RMSE: 53.81321993416196\n"
          ],
          "name": "stdout"
        },
        {
          "output_type": "stream",
          "text": [
            "/usr/local/lib/python3.7/dist-packages/ipykernel_launcher.py:2: SettingWithCopyWarning: \n",
            "A value is trying to be set on a copy of a slice from a DataFrame.\n",
            "Try using .loc[row_indexer,col_indexer] = value instead\n",
            "\n",
            "See the caveats in the documentation: https://pandas.pydata.org/pandas-docs/stable/user_guide/indexing.html#returning-a-view-versus-a-copy\n",
            "  \n"
          ],
          "name": "stderr"
        }
      ]
    },
    {
      "cell_type": "code",
      "metadata": {
        "colab": {
          "base_uri": "https://localhost:8080/",
          "height": 294
        },
        "id": "oD6hA-ioDRMz",
        "outputId": "fd9e0969-61e4-4c35-9ea2-b40de8e2b774"
      },
      "source": [
        "df_train.Count.plot()\n",
        "val_set.Count.plot()\n",
        "val_set.sarima.plot()"
      ],
      "execution_count": 23,
      "outputs": [
        {
          "output_type": "execute_result",
          "data": {
            "text/plain": [
              "<matplotlib.axes._subplots.AxesSubplot at 0x7ff9e9dc0ed0>"
            ]
          },
          "metadata": {
            "tags": []
          },
          "execution_count": 23
        },
        {
          "output_type": "display_data",
          "data": {
            "image/png": "[encoded data removed]",
            "text/plain": [
              "<Figure size 432x288 with 1 Axes>"
            ]
          },
          "metadata": {
            "tags": [],
            "needs_background": "light"
          }
        }
      ]
    },
    {
      "cell_type": "code",
      "metadata": {
        "colab": {
          "base_uri": "https://localhost:8080/",
          "height": 235
        },
        "id": "tUQr2VexEaMA",
        "outputId": "04c6be35-5c21-4fac-96e7-67dd0d7e944d"
      },
      "source": [
        "df_test['Datetime'] = pd.to_datetime(df_test['Datetime'])\n",
        "df_test = df_test.set_index(df_test['Datetime'])\n",
        "df_test.tail()"
      ],
      "execution_count": 19,
      "outputs": [
        {
          "output_type": "execute_result",
          "data": {
            "text/html": [
              "<div>\n",
              "<style scoped>\n",
              "    .dataframe tbody tr th:only-of-type {\n",
              "        vertical-align: middle;\n",
              "    }\n",
              "\n",
              "    .dataframe tbody tr th {\n",
              "        vertical-align: top;\n",
              "    }\n",
              "\n",
              "    .dataframe thead th {\n",
              "        text-align: right;\n",
              "    }\n",
              "</style>\n",
              "<table border=\"1\" class=\"dataframe\">\n",
              "  <thead>\n",
              "    <tr style=\"text-align: right;\">\n",
              "      <th></th>\n",
              "      <th>ID</th>\n",
              "      <th>Datetime</th>\n",
              "    </tr>\n",
              "    <tr>\n",
              "      <th>Datetime</th>\n",
              "      <th></th>\n",
              "      <th></th>\n",
              "    </tr>\n",
              "  </thead>\n",
              "  <tbody>\n",
              "    <tr>\n",
              "      <th>2015-04-26 19:00:00</th>\n",
              "      <td>23395</td>\n",
              "      <td>2015-04-26 19:00:00</td>\n",
              "    </tr>\n",
              "    <tr>\n",
              "      <th>2015-04-26 20:00:00</th>\n",
              "      <td>23396</td>\n",
              "      <td>2015-04-26 20:00:00</td>\n",
              "    </tr>\n",
              "    <tr>\n",
              "      <th>2015-04-26 21:00:00</th>\n",
              "      <td>23397</td>\n",
              "      <td>2015-04-26 21:00:00</td>\n",
              "    </tr>\n",
              "    <tr>\n",
              "      <th>2015-04-26 22:00:00</th>\n",
              "      <td>23398</td>\n",
              "      <td>2015-04-26 22:00:00</td>\n",
              "    </tr>\n",
              "    <tr>\n",
              "      <th>2015-04-26 23:00:00</th>\n",
              "      <td>23399</td>\n",
              "      <td>2015-04-26 23:00:00</td>\n",
              "    </tr>\n",
              "  </tbody>\n",
              "</table>\n",
              "</div>"
            ],
            "text/plain": [
              "                        ID            Datetime\n",
              "Datetime                                      \n",
              "2015-04-26 19:00:00  23395 2015-04-26 19:00:00\n",
              "2015-04-26 20:00:00  23396 2015-04-26 20:00:00\n",
              "2015-04-26 21:00:00  23397 2015-04-26 21:00:00\n",
              "2015-04-26 22:00:00  23398 2015-04-26 22:00:00\n",
              "2015-04-26 23:00:00  23399 2015-04-26 23:00:00"
            ]
          },
          "metadata": {
            "tags": []
          },
          "execution_count": 19
        }
      ]
    },
    {
      "cell_type": "code",
      "metadata": {
        "id": "hogYB5ZcMHlh"
      },
      "source": [
        "df_test.drop(\"Datetime\",axis=1,inplace=True)"
      ],
      "execution_count": 20,
      "outputs": []
    },
    {
      "cell_type": "code",
      "metadata": {
        "id": "PKCNpQ0uE0FJ"
      },
      "source": [
        "submit_start = \"2014-09-26 00:00:00\"\n",
        "submit_end = \"2015-04-26 23:00:00\""
      ],
      "execution_count": 24,
      "outputs": []
    },
    {
      "cell_type": "code",
      "metadata": {
        "colab": {
          "base_uri": "https://localhost:8080/"
        },
        "id": "jEnUFjK-DZjA",
        "outputId": "f5c4b04e-d1f2-437b-d456-e27faa4d0a87"
      },
      "source": [
        "pred= sarima_model.predict(start=18287,end=23398)\n",
        "len(pred.values)"
      ],
      "execution_count": 25,
      "outputs": [
        {
          "output_type": "stream",
          "text": [
            "/usr/local/lib/python3.7/dist-packages/statsmodels/tsa/base/tsa_model.py:576: ValueWarning: No supported index is available. Prediction results will be given with an integer index beginning at `start`.\n",
            "  ValueWarning)\n"
          ],
          "name": "stderr"
        },
        {
          "output_type": "execute_result",
          "data": {
            "text/plain": [
              "5112"
            ]
          },
          "metadata": {
            "tags": []
          },
          "execution_count": 25
        }
      ]
    },
    {
      "cell_type": "code",
      "metadata": {
        "colab": {
          "base_uri": "https://localhost:8080/",
          "height": 450
        },
        "id": "10tq-oaqRQoE",
        "outputId": "af8ad853-27c5-406c-97c5-cf6ecc56fddd"
      },
      "source": [
        "full_df = pd.concat([df_train,df_test],axis=0)\n",
        "full_df.iloc[18288:23400,1] = pred.values\n",
        "full_df"
      ],
      "execution_count": 26,
      "outputs": [
        {
          "output_type": "execute_result",
          "data": {
            "text/html": [
              "<div>\n",
              "<style scoped>\n",
              "    .dataframe tbody tr th:only-of-type {\n",
              "        vertical-align: middle;\n",
              "    }\n",
              "\n",
              "    .dataframe tbody tr th {\n",
              "        vertical-align: top;\n",
              "    }\n",
              "\n",
              "    .dataframe thead th {\n",
              "        text-align: right;\n",
              "    }\n",
              "</style>\n",
              "<table border=\"1\" class=\"dataframe\">\n",
              "  <thead>\n",
              "    <tr style=\"text-align: right;\">\n",
              "      <th></th>\n",
              "      <th>ID</th>\n",
              "      <th>Count</th>\n",
              "      <th>log1</th>\n",
              "      <th>diff1</th>\n",
              "      <th>diff1_log</th>\n",
              "    </tr>\n",
              "    <tr>\n",
              "      <th>Datetime</th>\n",
              "      <th></th>\n",
              "      <th></th>\n",
              "      <th></th>\n",
              "      <th></th>\n",
              "      <th></th>\n",
              "    </tr>\n",
              "  </thead>\n",
              "  <tbody>\n",
              "    <tr>\n",
              "      <th>2012-08-25 00:00:00</th>\n",
              "      <td>0</td>\n",
              "      <td>8.000000</td>\n",
              "      <td>2.197225</td>\n",
              "      <td>NaN</td>\n",
              "      <td>NaN</td>\n",
              "    </tr>\n",
              "    <tr>\n",
              "      <th>2012-08-25 01:00:00</th>\n",
              "      <td>1</td>\n",
              "      <td>2.000000</td>\n",
              "      <td>1.098612</td>\n",
              "      <td>-6.0</td>\n",
              "      <td>-1.098612</td>\n",
              "    </tr>\n",
              "    <tr>\n",
              "      <th>2012-08-25 02:00:00</th>\n",
              "      <td>2</td>\n",
              "      <td>6.000000</td>\n",
              "      <td>1.945910</td>\n",
              "      <td>4.0</td>\n",
              "      <td>0.847298</td>\n",
              "    </tr>\n",
              "    <tr>\n",
              "      <th>2012-08-25 03:00:00</th>\n",
              "      <td>3</td>\n",
              "      <td>2.000000</td>\n",
              "      <td>1.098612</td>\n",
              "      <td>-4.0</td>\n",
              "      <td>-0.847298</td>\n",
              "    </tr>\n",
              "    <tr>\n",
              "      <th>2012-08-25 04:00:00</th>\n",
              "      <td>4</td>\n",
              "      <td>2.000000</td>\n",
              "      <td>1.098612</td>\n",
              "      <td>0.0</td>\n",
              "      <td>0.000000</td>\n",
              "    </tr>\n",
              "    <tr>\n",
              "      <th>...</th>\n",
              "      <td>...</td>\n",
              "      <td>...</td>\n",
              "      <td>...</td>\n",
              "      <td>...</td>\n",
              "      <td>...</td>\n",
              "    </tr>\n",
              "    <tr>\n",
              "      <th>2015-04-26 19:00:00</th>\n",
              "      <td>23395</td>\n",
              "      <td>947.069085</td>\n",
              "      <td>NaN</td>\n",
              "      <td>NaN</td>\n",
              "      <td>NaN</td>\n",
              "    </tr>\n",
              "    <tr>\n",
              "      <th>2015-04-26 20:00:00</th>\n",
              "      <td>23396</td>\n",
              "      <td>1017.795466</td>\n",
              "      <td>NaN</td>\n",
              "      <td>NaN</td>\n",
              "      <td>NaN</td>\n",
              "    </tr>\n",
              "    <tr>\n",
              "      <th>2015-04-26 21:00:00</th>\n",
              "      <td>23397</td>\n",
              "      <td>958.410024</td>\n",
              "      <td>NaN</td>\n",
              "      <td>NaN</td>\n",
              "      <td>NaN</td>\n",
              "    </tr>\n",
              "    <tr>\n",
              "      <th>2015-04-26 22:00:00</th>\n",
              "      <td>23398</td>\n",
              "      <td>919.665740</td>\n",
              "      <td>NaN</td>\n",
              "      <td>NaN</td>\n",
              "      <td>NaN</td>\n",
              "    </tr>\n",
              "    <tr>\n",
              "      <th>2015-04-26 23:00:00</th>\n",
              "      <td>23399</td>\n",
              "      <td>901.451722</td>\n",
              "      <td>NaN</td>\n",
              "      <td>NaN</td>\n",
              "      <td>NaN</td>\n",
              "    </tr>\n",
              "  </tbody>\n",
              "</table>\n",
              "<p>23400 rows × 5 columns</p>\n",
              "</div>"
            ],
            "text/plain": [
              "                        ID        Count      log1  diff1  diff1_log\n",
              "Datetime                                                           \n",
              "2012-08-25 00:00:00      0     8.000000  2.197225    NaN        NaN\n",
              "2012-08-25 01:00:00      1     2.000000  1.098612   -6.0  -1.098612\n",
              "2012-08-25 02:00:00      2     6.000000  1.945910    4.0   0.847298\n",
              "2012-08-25 03:00:00      3     2.000000  1.098612   -4.0  -0.847298\n",
              "2012-08-25 04:00:00      4     2.000000  1.098612    0.0   0.000000\n",
              "...                    ...          ...       ...    ...        ...\n",
              "2015-04-26 19:00:00  23395   947.069085       NaN    NaN        NaN\n",
              "2015-04-26 20:00:00  23396  1017.795466       NaN    NaN        NaN\n",
              "2015-04-26 21:00:00  23397   958.410024       NaN    NaN        NaN\n",
              "2015-04-26 22:00:00  23398   919.665740       NaN    NaN        NaN\n",
              "2015-04-26 23:00:00  23399   901.451722       NaN    NaN        NaN\n",
              "\n",
              "[23400 rows x 5 columns]"
            ]
          },
          "metadata": {
            "tags": []
          },
          "execution_count": 26
        }
      ]
    },
    {
      "cell_type": "code",
      "metadata": {
        "colab": {
          "base_uri": "https://localhost:8080/",
          "height": 294
        },
        "id": "08OPga3PaACv",
        "outputId": "25ba7e8e-9f25-4e6d-fb54-cd16e634cccb"
      },
      "source": [
        "full_df['Count'].plot()"
      ],
      "execution_count": 27,
      "outputs": [
        {
          "output_type": "execute_result",
          "data": {
            "text/plain": [
              "<matplotlib.axes._subplots.AxesSubplot at 0x7ff9e9b8ac50>"
            ]
          },
          "metadata": {
            "tags": []
          },
          "execution_count": 27
        },
        {
          "output_type": "display_data",
          "data": {
            "image/png": "[encoded data removed]",
            "text/plain": [
              "<Figure size 432x288 with 1 Axes>"
            ]
          },
          "metadata": {
            "tags": [],
            "needs_background": "light"
          }
        }
      ]
    },
    {
      "cell_type": "code",
      "metadata": {
        "colab": {
          "base_uri": "https://localhost:8080/"
        },
        "id": "HQxA5Borahxj",
        "outputId": "cb1fec60-df1f-4ce4-bede-1bb3ef0ebe69"
      },
      "source": [
        "pred"
      ],
      "execution_count": 28,
      "outputs": [
        {
          "output_type": "execute_result",
          "data": {
            "text/plain": [
              "18287     616.599943\n",
              "18288     472.375167\n",
              "18289     360.388194\n",
              "18290     318.378737\n",
              "18291     257.964824\n",
              "            ...     \n",
              "23394     947.069085\n",
              "23395    1017.795466\n",
              "23396     958.410024\n",
              "23397     919.665740\n",
              "23398     901.451722\n",
              "Length: 5112, dtype: float64"
            ]
          },
          "metadata": {
            "tags": []
          },
          "execution_count": 28
        }
      ]
    },
    {
      "cell_type": "code",
      "metadata": {
        "colab": {
          "base_uri": "https://localhost:8080/",
          "height": 450
        },
        "id": "oyk5bf2K5feT",
        "outputId": "d7f0ad81-96f6-418e-e333-6327c127005e"
      },
      "source": [
        "df_test"
      ],
      "execution_count": 30,
      "outputs": [
        {
          "output_type": "execute_result",
          "data": {
            "text/html": [
              "<div>\n",
              "<style scoped>\n",
              "    .dataframe tbody tr th:only-of-type {\n",
              "        vertical-align: middle;\n",
              "    }\n",
              "\n",
              "    .dataframe tbody tr th {\n",
              "        vertical-align: top;\n",
              "    }\n",
              "\n",
              "    .dataframe thead th {\n",
              "        text-align: right;\n",
              "    }\n",
              "</style>\n",
              "<table border=\"1\" class=\"dataframe\">\n",
              "  <thead>\n",
              "    <tr style=\"text-align: right;\">\n",
              "      <th></th>\n",
              "      <th>ID</th>\n",
              "    </tr>\n",
              "    <tr>\n",
              "      <th>Datetime</th>\n",
              "      <th></th>\n",
              "    </tr>\n",
              "  </thead>\n",
              "  <tbody>\n",
              "    <tr>\n",
              "      <th>2014-09-26 00:00:00</th>\n",
              "      <td>18288</td>\n",
              "    </tr>\n",
              "    <tr>\n",
              "      <th>2014-09-26 01:00:00</th>\n",
              "      <td>18289</td>\n",
              "    </tr>\n",
              "    <tr>\n",
              "      <th>2014-09-26 02:00:00</th>\n",
              "      <td>18290</td>\n",
              "    </tr>\n",
              "    <tr>\n",
              "      <th>2014-09-26 03:00:00</th>\n",
              "      <td>18291</td>\n",
              "    </tr>\n",
              "    <tr>\n",
              "      <th>2014-09-26 04:00:00</th>\n",
              "      <td>18292</td>\n",
              "    </tr>\n",
              "    <tr>\n",
              "      <th>...</th>\n",
              "      <td>...</td>\n",
              "    </tr>\n",
              "    <tr>\n",
              "      <th>2015-04-26 19:00:00</th>\n",
              "      <td>23395</td>\n",
              "    </tr>\n",
              "    <tr>\n",
              "      <th>2015-04-26 20:00:00</th>\n",
              "      <td>23396</td>\n",
              "    </tr>\n",
              "    <tr>\n",
              "      <th>2015-04-26 21:00:00</th>\n",
              "      <td>23397</td>\n",
              "    </tr>\n",
              "    <tr>\n",
              "      <th>2015-04-26 22:00:00</th>\n",
              "      <td>23398</td>\n",
              "    </tr>\n",
              "    <tr>\n",
              "      <th>2015-04-26 23:00:00</th>\n",
              "      <td>23399</td>\n",
              "    </tr>\n",
              "  </tbody>\n",
              "</table>\n",
              "<p>5112 rows × 1 columns</p>\n",
              "</div>"
            ],
            "text/plain": [
              "                        ID\n",
              "Datetime                  \n",
              "2014-09-26 00:00:00  18288\n",
              "2014-09-26 01:00:00  18289\n",
              "2014-09-26 02:00:00  18290\n",
              "2014-09-26 03:00:00  18291\n",
              "2014-09-26 04:00:00  18292\n",
              "...                    ...\n",
              "2015-04-26 19:00:00  23395\n",
              "2015-04-26 20:00:00  23396\n",
              "2015-04-26 21:00:00  23397\n",
              "2015-04-26 22:00:00  23398\n",
              "2015-04-26 23:00:00  23399\n",
              "\n",
              "[5112 rows x 1 columns]"
            ]
          },
          "metadata": {
            "tags": []
          },
          "execution_count": 30
        }
      ]
    },
    {
      "cell_type": "code",
      "metadata": {
        "id": "UUJRShPv5RgC"
      },
      "source": [
        "submit_file = full_df[18288:23340].reset_index()[['ID','Count']].copy()\n",
        "submit_file.to_csv(\"Jetrail 7 months forecast.csv\",index=False,index_label=False)"
      ],
      "execution_count": 35,
      "outputs": []
    },
    {
      "cell_type": "code",
      "metadata": {
        "colab": {
          "base_uri": "https://localhost:8080/"
        },
        "id": "_vfFbeNBEiMO",
        "outputId": "5663c412-3971-4aa6-a9e4-3b16068daea3"
      },
      "source": [
        "df_sample_submit.info()"
      ],
      "execution_count": 29,
      "outputs": [
        {
          "output_type": "stream",
          "text": [
            "<class 'pandas.core.frame.DataFrame'>\n",
            "RangeIndex: 5112 entries, 0 to 5111\n",
            "Data columns (total 2 columns):\n",
            " #   Column  Non-Null Count  Dtype\n",
            "---  ------  --------------  -----\n",
            " 0   ID      5112 non-null   int64\n",
            " 1   Count   5112 non-null   int64\n",
            "dtypes: int64(2)\n",
            "memory usage: 80.0 KB\n"
          ],
          "name": "stdout"
        }
      ]
    },
    {
      "cell_type": "code",
      "metadata": {
        "colab": {
          "base_uri": "https://localhost:8080/",
          "height": 419
        },
        "id": "jDwomM4K6Xq6",
        "outputId": "afa2172b-ad8e-46ff-f8a0-c08d41455510"
      },
      "source": [
        "faa = pd.read_csv(\"Jetrail 7 months forecast.csv\")\n",
        "faa"
      ],
      "execution_count": 37,
      "outputs": [
        {
          "output_type": "execute_result",
          "data": {
            "text/html": [
              "<div>\n",
              "<style scoped>\n",
              "    .dataframe tbody tr th:only-of-type {\n",
              "        vertical-align: middle;\n",
              "    }\n",
              "\n",
              "    .dataframe tbody tr th {\n",
              "        vertical-align: top;\n",
              "    }\n",
              "\n",
              "    .dataframe thead th {\n",
              "        text-align: right;\n",
              "    }\n",
              "</style>\n",
              "<table border=\"1\" class=\"dataframe\">\n",
              "  <thead>\n",
              "    <tr style=\"text-align: right;\">\n",
              "      <th></th>\n",
              "      <th>ID</th>\n",
              "      <th>Count</th>\n",
              "    </tr>\n",
              "  </thead>\n",
              "  <tbody>\n",
              "    <tr>\n",
              "      <th>0</th>\n",
              "      <td>18288</td>\n",
              "      <td>616.599943</td>\n",
              "    </tr>\n",
              "    <tr>\n",
              "      <th>1</th>\n",
              "      <td>18289</td>\n",
              "      <td>472.375167</td>\n",
              "    </tr>\n",
              "    <tr>\n",
              "      <th>2</th>\n",
              "      <td>18290</td>\n",
              "      <td>360.388194</td>\n",
              "    </tr>\n",
              "    <tr>\n",
              "      <th>3</th>\n",
              "      <td>18291</td>\n",
              "      <td>318.378737</td>\n",
              "    </tr>\n",
              "    <tr>\n",
              "      <th>4</th>\n",
              "      <td>18292</td>\n",
              "      <td>257.964824</td>\n",
              "    </tr>\n",
              "    <tr>\n",
              "      <th>...</th>\n",
              "      <td>...</td>\n",
              "      <td>...</td>\n",
              "    </tr>\n",
              "    <tr>\n",
              "      <th>5047</th>\n",
              "      <td>23335</td>\n",
              "      <td>592.893699</td>\n",
              "    </tr>\n",
              "    <tr>\n",
              "      <th>5048</th>\n",
              "      <td>23336</td>\n",
              "      <td>649.804193</td>\n",
              "    </tr>\n",
              "    <tr>\n",
              "      <th>5049</th>\n",
              "      <td>23337</td>\n",
              "      <td>670.155014</td>\n",
              "    </tr>\n",
              "    <tr>\n",
              "      <th>5050</th>\n",
              "      <td>23338</td>\n",
              "      <td>770.925340</td>\n",
              "    </tr>\n",
              "    <tr>\n",
              "      <th>5051</th>\n",
              "      <td>23339</td>\n",
              "      <td>992.780971</td>\n",
              "    </tr>\n",
              "  </tbody>\n",
              "</table>\n",
              "<p>5052 rows × 2 columns</p>\n",
              "</div>"
            ],
            "text/plain": [
              "         ID       Count\n",
              "0     18288  616.599943\n",
              "1     18289  472.375167\n",
              "2     18290  360.388194\n",
              "3     18291  318.378737\n",
              "4     18292  257.964824\n",
              "...     ...         ...\n",
              "5047  23335  592.893699\n",
              "5048  23336  649.804193\n",
              "5049  23337  670.155014\n",
              "5050  23338  770.925340\n",
              "5051  23339  992.780971\n",
              "\n",
              "[5052 rows x 2 columns]"
            ]
          },
          "metadata": {
            "tags": []
          },
          "execution_count": 37
        }
      ]
    }
  ]
}