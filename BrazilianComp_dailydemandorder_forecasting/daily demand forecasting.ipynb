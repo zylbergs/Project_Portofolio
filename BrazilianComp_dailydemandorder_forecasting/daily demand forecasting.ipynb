{
 "cells": [
  {
   "cell_type": "code",
   "execution_count": 1,
   "metadata": {
    "colab": {
     "base_uri": "https://localhost:8080/"
    },
    "id": "df7xIzcmur_z",
    "outputId": "8a2a5203-19aa-4f23-e747-6db1992e0bc6"
   },
   "outputs": [
    {
     "name": "stderr",
     "output_type": "stream",
     "text": [
      "/usr/local/lib/python3.7/dist-packages/statsmodels/tools/_testing.py:19: FutureWarning: pandas.util.testing is deprecated. Use the functions in the public API at pandas.testing instead.\n",
      "  import pandas.util.testing as tm\n"
     ]
    }
   ],
   "source": [
    "import pandas as pd\n",
    "import numpy as np\n",
    "from statsmodels.tsa.seasonal import seasonal_decompose\n",
    "from statsmodels.tsa.stattools import adfuller\n",
    "import matplotlib.pyplot as plt\n",
    "from sklearn.preprocessing import StandardScaler\n",
    "from statsmodels.graphics.tsaplots import plot_acf,plot_pacf\n",
    "from statsmodels.tsa.api import SARIMAX,ARIMA\n",
    "from sklearn.metrics import mean_squared_error as MSE\n",
    "from pandas.tseries.offsets import DateOffset"
   ]
  },
  {
   "cell_type": "code",
   "execution_count": 2,
   "metadata": {
    "colab": {
     "base_uri": "https://localhost:8080/",
     "height": 238
    },
    "id": "NrjdG0HsuuDR",
    "outputId": "1c2635ef-ec9f-4113-b29b-b7feda4763ee"
   },
   "outputs": [
    {
     "data": {
      "text/html": [
       "<div>\n",
       "<style scoped>\n",
       "    .dataframe tbody tr th:only-of-type {\n",
       "        vertical-align: middle;\n",
       "    }\n",
       "\n",
       "    .dataframe tbody tr th {\n",
       "        vertical-align: top;\n",
       "    }\n",
       "\n",
       "    .dataframe thead th {\n",
       "        text-align: right;\n",
       "    }\n",
       "</style>\n",
       "<table border=\"1\" class=\"dataframe\">\n",
       "  <thead>\n",
       "    <tr style=\"text-align: right;\">\n",
       "      <th></th>\n",
       "      <th>Week of the month (first week, second, third, fourth or fifth week</th>\n",
       "      <th>Day of the week (Monday to Friday)</th>\n",
       "      <th>Non-urgent order</th>\n",
       "      <th>Urgent order</th>\n",
       "      <th>Order type A</th>\n",
       "      <th>Order type B</th>\n",
       "      <th>Order type C</th>\n",
       "      <th>Fiscal sector orders</th>\n",
       "      <th>Orders from the traffic controller sector</th>\n",
       "      <th>Banking orders (1)</th>\n",
       "      <th>Banking orders (2)</th>\n",
       "      <th>Banking orders (3)</th>\n",
       "      <th>Target (Total orders)</th>\n",
       "    </tr>\n",
       "  </thead>\n",
       "  <tbody>\n",
       "    <tr>\n",
       "      <th>0</th>\n",
       "      <td>1</td>\n",
       "      <td>4</td>\n",
       "      <td>316.307</td>\n",
       "      <td>223.270</td>\n",
       "      <td>61.543</td>\n",
       "      <td>175.586</td>\n",
       "      <td>302.448</td>\n",
       "      <td>0.000</td>\n",
       "      <td>65556</td>\n",
       "      <td>44914</td>\n",
       "      <td>188411</td>\n",
       "      <td>14793</td>\n",
       "      <td>539.577</td>\n",
       "    </tr>\n",
       "    <tr>\n",
       "      <th>1</th>\n",
       "      <td>1</td>\n",
       "      <td>5</td>\n",
       "      <td>128.633</td>\n",
       "      <td>96.042</td>\n",
       "      <td>38.058</td>\n",
       "      <td>56.037</td>\n",
       "      <td>130.580</td>\n",
       "      <td>0.000</td>\n",
       "      <td>40419</td>\n",
       "      <td>21399</td>\n",
       "      <td>89461</td>\n",
       "      <td>7679</td>\n",
       "      <td>224.675</td>\n",
       "    </tr>\n",
       "    <tr>\n",
       "      <th>2</th>\n",
       "      <td>1</td>\n",
       "      <td>6</td>\n",
       "      <td>43.651</td>\n",
       "      <td>84.375</td>\n",
       "      <td>21.826</td>\n",
       "      <td>25.125</td>\n",
       "      <td>82.461</td>\n",
       "      <td>1.386</td>\n",
       "      <td>11992</td>\n",
       "      <td>3452</td>\n",
       "      <td>21305</td>\n",
       "      <td>14947</td>\n",
       "      <td>129.412</td>\n",
       "    </tr>\n",
       "    <tr>\n",
       "      <th>3</th>\n",
       "      <td>2</td>\n",
       "      <td>2</td>\n",
       "      <td>171.297</td>\n",
       "      <td>127.667</td>\n",
       "      <td>41.542</td>\n",
       "      <td>113.294</td>\n",
       "      <td>162.284</td>\n",
       "      <td>18.156</td>\n",
       "      <td>49971</td>\n",
       "      <td>33703</td>\n",
       "      <td>69054</td>\n",
       "      <td>18423</td>\n",
       "      <td>317.120</td>\n",
       "    </tr>\n",
       "    <tr>\n",
       "      <th>4</th>\n",
       "      <td>2</td>\n",
       "      <td>3</td>\n",
       "      <td>90.532</td>\n",
       "      <td>113.526</td>\n",
       "      <td>37.679</td>\n",
       "      <td>56.618</td>\n",
       "      <td>116.220</td>\n",
       "      <td>6.459</td>\n",
       "      <td>48534</td>\n",
       "      <td>19646</td>\n",
       "      <td>16411</td>\n",
       "      <td>20257</td>\n",
       "      <td>210.517</td>\n",
       "    </tr>\n",
       "  </tbody>\n",
       "</table>\n",
       "</div>"
      ],
      "text/plain": [
       "   Week of the month (first week, second, third, fourth or fifth week  ...  Target (Total orders)\n",
       "0                                                  1                   ...                539.577\n",
       "1                                                  1                   ...                224.675\n",
       "2                                                  1                   ...                129.412\n",
       "3                                                  2                   ...                317.120\n",
       "4                                                  2                   ...                210.517\n",
       "\n",
       "[5 rows x 13 columns]"
      ]
     },
     "execution_count": 2,
     "metadata": {
      "tags": []
     },
     "output_type": "execute_result"
    }
   ],
   "source": [
    "df = pd.read_csv(\"/content/Daily_Demand_Forecasting_Orders.csv\",sep=';')\n",
    "df.head()"
   ]
  },
  {
   "cell_type": "code",
   "execution_count": 3,
   "metadata": {
    "colab": {
     "base_uri": "https://localhost:8080/"
    },
    "id": "hI_8pKbY3o9a",
    "outputId": "1641a25f-ac19-464e-a101-a875352f695e"
   },
   "outputs": [
    {
     "name": "stdout",
     "output_type": "stream",
     "text": [
      "<class 'pandas.core.frame.DataFrame'>\n",
      "RangeIndex: 60 entries, 0 to 59\n",
      "Data columns (total 13 columns):\n",
      " #   Column                                                              Non-Null Count  Dtype  \n",
      "---  ------                                                              --------------  -----  \n",
      " 0   Week of the month (first week, second, third, fourth or fifth week  60 non-null     int64  \n",
      " 1   Day of the week (Monday to Friday)                                  60 non-null     int64  \n",
      " 2   Non-urgent order                                                    60 non-null     float64\n",
      " 3   Urgent order                                                        60 non-null     float64\n",
      " 4   Order type A                                                        60 non-null     float64\n",
      " 5   Order type B                                                        60 non-null     float64\n",
      " 6   Order type C                                                        60 non-null     float64\n",
      " 7   Fiscal sector orders                                                60 non-null     float64\n",
      " 8   Orders from the traffic controller sector                           60 non-null     int64  \n",
      " 9   Banking orders (1)                                                  60 non-null     int64  \n",
      " 10  Banking orders (2)                                                  60 non-null     int64  \n",
      " 11  Banking orders (3)                                                  60 non-null     int64  \n",
      " 12  Target (Total orders)                                               60 non-null     float64\n",
      "dtypes: float64(7), int64(6)\n",
      "memory usage: 6.2 KB\n"
     ]
    }
   ],
   "source": [
    "df.info()"
   ]
  },
  {
   "cell_type": "code",
   "execution_count": 4,
   "metadata": {
    "colab": {
     "base_uri": "https://localhost:8080/"
    },
    "id": "MzXjpt094nNy",
    "outputId": "99f026cb-aa18-4374-8eac-c4d74418cff8"
   },
   "outputs": [
    {
     "data": {
      "text/plain": [
       "Week of the month (first week, second, third, fourth or fifth week    0\n",
       "Day of the week (Monday to Friday)                                    0\n",
       "Non-urgent order                                                      0\n",
       "Urgent order                                                          0\n",
       "Order type A                                                          0\n",
       "Order type B                                                          0\n",
       "Order type C                                                          0\n",
       "Fiscal sector orders                                                  0\n",
       "Orders from the traffic controller sector                             0\n",
       "Banking orders (1)                                                    0\n",
       "Banking orders (2)                                                    0\n",
       "Banking orders (3)                                                    0\n",
       "Target (Total orders)                                                 0\n",
       "dtype: int64"
      ]
     },
     "execution_count": 4,
     "metadata": {
      "tags": []
     },
     "output_type": "execute_result"
    }
   ],
   "source": [
    "df.isnull().sum()"
   ]
  },
  {
   "cell_type": "code",
   "execution_count": 5,
   "metadata": {
    "id": "SXQT_zW94qxo"
   },
   "outputs": [],
   "source": [
    "df = df.rename(columns={\n",
    "    \"Week of the month (first week, second, third, fourth or fifth week\":\"week_of_month\",\n",
    "    \"Day of the week (Monday to Friday)\":\"day_of_week\",\n",
    "    \"Target (Total orders)\":\"total_orders\",\n",
    "    \"Non-urgent order\":\"non_urgernt_order\",\n",
    "    \"Urgent order\":\"urgent_order\"\n",
    "})"
   ]
  },
  {
   "cell_type": "code",
   "execution_count": 6,
   "metadata": {
    "colab": {
     "base_uri": "https://localhost:8080/"
    },
    "id": "lmJN4JxZ6GmG",
    "outputId": "0fe840c3-c174-4a43-faad-21bd809c15c8"
   },
   "outputs": [
    {
     "data": {
      "text/plain": [
       "week_of_month\n",
       "1    2371.781\n",
       "2    3986.454\n",
       "3    4346.937\n",
       "4    4228.630\n",
       "5    3118.597\n",
       "Name: total_orders, dtype: float64"
      ]
     },
     "execution_count": 6,
     "metadata": {
      "tags": []
     },
     "output_type": "execute_result"
    }
   ],
   "source": [
    "df.groupby('week_of_month')['total_orders'].sum()"
   ]
  },
  {
   "cell_type": "code",
   "execution_count": 7,
   "metadata": {
    "colab": {
     "base_uri": "https://localhost:8080/",
     "height": 282
    },
    "id": "-W5Ei8og_h3F",
    "outputId": "818547c6-5a14-413e-a373-874f226676a1"
   },
   "outputs": [
    {
     "data": {
      "text/plain": [
       "<matplotlib.axes._subplots.AxesSubplot at 0x7fcfa9d13c10>"
      ]
     },
     "execution_count": 7,
     "metadata": {
      "tags": []
     },
     "output_type": "execute_result"
    },
    {
     "data": {
      "image/png": "[encoded data removed]",
      "text/plain": [
       "<Figure size 432x288 with 1 Axes>"
      ]
     },
     "metadata": {
      "needs_background": "light",
      "tags": []
     },
     "output_type": "display_data"
    }
   ],
   "source": [
    "month_1 = df.iloc[:39]\n",
    "month_2 = df.iloc[39:]\n",
    "agg_1 = month_1.groupby(['week_of_month'])[['non_urgernt_order','urgent_order']].sum()\n",
    "agg_2 = month_2.groupby(['week_of_month'])[['non_urgernt_order','urgent_order']].sum()\n",
    "agg_2.index = list(range(6,11))\n",
    "\n",
    "ready_ts_data = pd.concat([agg_1,agg_2],axis=0)\n",
    "#scale the data\n",
    "scale = StandardScaler()\n",
    "scale.fit(ready_ts_data)\n",
    "ready_ts_data_scld = pd.DataFrame(scale.transform(ready_ts_data))\n",
    "ready_ts_data_scld.columns = ['non_urgent_orders','urgent_orders']\n",
    "ready_ts_data_scld.plot()"
   ]
  },
  {
   "cell_type": "code",
   "execution_count": 8,
   "metadata": {
    "id": "3w3jLvNNJDkI"
   },
   "outputs": [],
   "source": [
    "#scaled data\n",
    "date = pd.date_range(start='2017/01/01',periods=10,freq='W')\n",
    "ready_ts_data_scld['date'] = date\n",
    "ready_ts_data_scld.set_index('date',inplace=True)\n",
    "orders_from_week_to_day = ready_ts_data_scld.resample('D')\n",
    "orders_from_week_to_day = orders_from_week_to_day.interpolate(method='spline',order=2)"
   ]
  },
  {
   "cell_type": "code",
   "execution_count": 9,
   "metadata": {
    "colab": {
     "base_uri": "https://localhost:8080/",
     "height": 235
    },
    "id": "czAYYyPYXqOK",
    "outputId": "00ff059f-4898-4add-a72b-2a2a4bf66a36"
   },
   "outputs": [
    {
     "data": {
      "text/html": [
       "<div>\n",
       "<style scoped>\n",
       "    .dataframe tbody tr th:only-of-type {\n",
       "        vertical-align: middle;\n",
       "    }\n",
       "\n",
       "    .dataframe tbody tr th {\n",
       "        vertical-align: top;\n",
       "    }\n",
       "\n",
       "    .dataframe thead th {\n",
       "        text-align: right;\n",
       "    }\n",
       "</style>\n",
       "<table border=\"1\" class=\"dataframe\">\n",
       "  <thead>\n",
       "    <tr style=\"text-align: right;\">\n",
       "      <th></th>\n",
       "      <th>non_urgernt_order</th>\n",
       "      <th>urgent_order</th>\n",
       "    </tr>\n",
       "    <tr>\n",
       "      <th>date</th>\n",
       "      <th></th>\n",
       "      <th></th>\n",
       "    </tr>\n",
       "  </thead>\n",
       "  <tbody>\n",
       "    <tr>\n",
       "      <th>2017-03-01</th>\n",
       "      <td>755.845897</td>\n",
       "      <td>516.855426</td>\n",
       "    </tr>\n",
       "    <tr>\n",
       "      <th>2017-03-02</th>\n",
       "      <td>784.288782</td>\n",
       "      <td>534.964090</td>\n",
       "    </tr>\n",
       "    <tr>\n",
       "      <th>2017-03-03</th>\n",
       "      <td>816.420259</td>\n",
       "      <td>559.903998</td>\n",
       "    </tr>\n",
       "    <tr>\n",
       "      <th>2017-03-04</th>\n",
       "      <td>852.240327</td>\n",
       "      <td>591.675147</td>\n",
       "    </tr>\n",
       "    <tr>\n",
       "      <th>2017-03-05</th>\n",
       "      <td>891.705000</td>\n",
       "      <td>630.342000</td>\n",
       "    </tr>\n",
       "  </tbody>\n",
       "</table>\n",
       "</div>"
      ],
      "text/plain": [
       "            non_urgernt_order  urgent_order\n",
       "date                                       \n",
       "2017-03-01         755.845897    516.855426\n",
       "2017-03-02         784.288782    534.964090\n",
       "2017-03-03         816.420259    559.903998\n",
       "2017-03-04         852.240327    591.675147\n",
       "2017-03-05         891.705000    630.342000"
      ]
     },
     "execution_count": 9,
     "metadata": {
      "tags": []
     },
     "output_type": "execute_result"
    }
   ],
   "source": [
    "#not scaled version\n",
    "ready_ts_data['date'] = date\n",
    "ready_ts_data.set_index('date',inplace=True)\n",
    "ready_ts_data = ready_ts_data.resample('D').interpolate(method='spline',order=2)\n",
    "ready_ts_data.tail()"
   ]
  },
  {
   "cell_type": "code",
   "execution_count": 10,
   "metadata": {
    "id": "05e7ALVM2Jng"
   },
   "outputs": [],
   "source": [
    "def run_sequence_plot(x, y, title, xlabel=\"time\", ylabel=\"series\"):\n",
    "    plt.plot(x, y, 'k-')\n",
    "    plt.title(title)\n",
    "    plt.xlabel(xlabel)\n",
    "    plt.ylabel(ylabel)\n",
    "    plt.grid(alpha=0.3);"
   ]
  },
  {
   "cell_type": "code",
   "execution_count": 11,
   "metadata": {
    "colab": {
     "base_uri": "https://localhost:8080/",
     "height": 331
    },
    "id": "8zC26A4v2K3p",
    "outputId": "bdb8a094-ed37-4f28-869b-8f28a3a1709d"
   },
   "outputs": [
    {
     "data": {
      "text/plain": [
       "<matplotlib.axes._subplots.AxesSubplot at 0x7fcfa9d40f50>"
      ]
     },
     "execution_count": 11,
     "metadata": {
      "tags": []
     },
     "output_type": "execute_result"
    },
    {
     "data": {
      "image/png": "[encoded data removed]",
      "text/plain": [
       "<Figure size 432x288 with 1 Axes>"
      ]
     },
     "metadata": {
      "needs_background": "light",
      "tags": []
     },
     "output_type": "display_data"
    }
   ],
   "source": [
    "orders_from_week_to_day.plot()"
   ]
  },
  {
   "cell_type": "code",
   "execution_count": 12,
   "metadata": {
    "colab": {
     "base_uri": "https://localhost:8080/"
    },
    "id": "YikEArSfyPRV",
    "outputId": "4be865ba-0d01-4edb-d271-a522f4954e7e"
   },
   "outputs": [
    {
     "name": "stdout",
     "output_type": "stream",
     "text": [
      "pvalue of non-urgent order: 1.2223592653039314e-10\n",
      "pvalue of urgent order: 0.11345961358264134\n"
     ]
    }
   ],
   "source": [
    "#checking the if the timeseries is a stationary or not\n",
    "adf, pvalue1, usedlag, nobs, critical_values, icbest = adfuller(orders_from_week_to_day['non_urgent_orders'],regression='ct')\n",
    "adf, pvalue2, usedlag, nobs, critical_values, icbest = adfuller(orders_from_week_to_day['urgent_orders'],regression='ct')\n",
    "\n",
    "print(\"pvalue of non-urgent order: {}\".format(pvalue1))\n",
    "print(\"pvalue of urgent order: {}\".format(pvalue2))\n",
    "#both of those timeseries are not stationary"
   ]
  },
  {
   "cell_type": "code",
   "execution_count": 13,
   "metadata": {
    "id": "SMex_JyL49iy"
   },
   "outputs": [],
   "source": [
    "decompose = seasonal_decompose(x=orders_from_week_to_day,model='additive',freq=7)\n",
    "data_trend = decompose.trend\n",
    "data_seas = decompose.seasonal\n",
    "data_res = decompose.resid"
   ]
  },
  {
   "cell_type": "code",
   "execution_count": 14,
   "metadata": {
    "colab": {
     "base_uri": "https://localhost:8080/",
     "height": 925
    },
    "id": "GlT8UGLrV4FB",
    "outputId": "7d01b4b2-4f5e-48a3-f31c-2cb2becfc22c"
   },
   "outputs": [
    {
     "data": {
      "text/plain": [
       "<matplotlib.axes._subplots.AxesSubplot at 0x7fcf9fa55150>"
      ]
     },
     "execution_count": 14,
     "metadata": {
      "tags": []
     },
     "output_type": "execute_result"
    },
    {
     "data": {
      "image/png": "[encoded data removed]",
      "text/plain": [
       "<Figure size 432x288 with 1 Axes>"
      ]
     },
     "metadata": {
      "needs_background": "light",
      "tags": []
     },
     "output_type": "display_data"
    },
    {
     "data": {
      "image/png": "[encoded data removed]",
      "text/plain": [
       "<Figure size 432x288 with 1 Axes>"
      ]
     },
     "metadata": {
      "needs_background": "light",
      "tags": []
     },
     "output_type": "display_data"
    },
    {
     "data": {
      "image/png": "[encoded data removed]",
      "text/plain": [
       "<Figure size 432x288 with 1 Axes>"
      ]
     },
     "metadata": {
      "needs_background": "light",
      "tags": []
     },
     "output_type": "display_data"
    }
   ],
   "source": [
    "data_trend.plot()\n",
    "data_seas.plot()\n",
    "data_res.plot()"
   ]
  },
  {
   "cell_type": "code",
   "execution_count": 15,
   "metadata": {
    "colab": {
     "base_uri": "https://localhost:8080/"
    },
    "id": "cdggM7SWYskL",
    "outputId": "ca97d752-7643-4625-c1e8-df491042148b"
   },
   "outputs": [
    {
     "name": "stdout",
     "output_type": "stream",
     "text": [
      "pvalue of non-urgent order: 6.200417514153924e-07\n",
      "pvalue of urgent order: 1.4598083294065348e-06\n"
     ]
    }
   ],
   "source": [
    "adf, pvalue_res1, usedlag, nobs, critical_values, icbest = adfuller(data_res['non_urgent_orders'][3:-3],regression='nc')\n",
    "adf, pvalue2_res2, usedlag, nobs, critical_values, icbest = adfuller(data_res['urgent_orders'][3:-3],regression='nc')\n",
    "\n",
    "print(\"pvalue of non-urgent order: {}\".format(pvalue_res1))\n",
    "print(\"pvalue of urgent order: {}\".format(pvalue2_res2))\n",
    "#both of those are stated as stationary, but the heterodasticity is undergo"
   ]
  },
  {
   "cell_type": "code",
   "execution_count": 16,
   "metadata": {
    "colab": {
     "base_uri": "https://localhost:8080/",
     "height": 331
    },
    "id": "mcT29khcaxkG",
    "outputId": "b3e8beca-1ab7-4b00-ee21-6b7a9cbad5ca"
   },
   "outputs": [
    {
     "data": {
      "text/plain": [
       "<matplotlib.axes._subplots.AxesSubplot at 0x7fcf9f8549d0>"
      ]
     },
     "execution_count": 16,
     "metadata": {
      "tags": []
     },
     "output_type": "execute_result"
    },
    {
     "data": {
      "image/png": "[encoded data removed]",
      "text/plain": [
       "<Figure size 432x288 with 1 Axes>"
      ]
     },
     "metadata": {
      "needs_background": "light",
      "tags": []
     },
     "output_type": "display_data"
    }
   ],
   "source": [
    "data_res_log = np.log(data_res+20)\n",
    "data_res_log.plot()\n",
    "#there is no difference on log transformer"
   ]
  },
  {
   "cell_type": "code",
   "execution_count": 17,
   "metadata": {
    "colab": {
     "base_uri": "https://localhost:8080/",
     "height": 550
    },
    "id": "KJc2jgFUdHYD",
    "outputId": "9589e34c-49c3-4f9e-f033-215e8d97e58d"
   },
   "outputs": [
    {
     "name": "stderr",
     "output_type": "stream",
     "text": [
      "/usr/local/lib/python3.7/dist-packages/statsmodels/regression/linear_model.py:1358: RuntimeWarning: invalid value encountered in sqrt\n",
      "  return rho, np.sqrt(sigmasq)\n",
      "No handles with labels found to put in legend.\n"
     ]
    },
    {
     "data": {
      "image/png": "[encoded data removed]",
      "text/plain": [
       "<Figure size 720x576 with 4 Axes>"
      ]
     },
     "metadata": {
      "needs_background": "light",
      "tags": []
     },
     "output_type": "display_data"
    }
   ],
   "source": [
    "# ACF and PACF plot to determine pdq\n",
    "fig = plt.figure(figsize=(10,8))\n",
    "ax1 = plt.subplot(221)\n",
    "fig = plot_pacf(data_res['urgent_orders'].dropna(),lags=10,ax=ax1)\n",
    "ax2 = plt.subplot(222)\n",
    "fig = plot_acf(data_res['urgent_orders'].dropna(),lags=10,ax=ax2)\n",
    "ax3= plt.subplot(223)\n",
    "fig = plot_pacf(data_res['non_urgent_orders'].dropna(),lags=10,ax=ax3)\n",
    "ax4= plt.subplot(224)\n",
    "fig = plot_acf(data_res['non_urgent_orders'].dropna(),lags=10,ax=ax4)\n",
    "plt.legend()\n",
    "plt.show()"
   ]
  },
  {
   "cell_type": "code",
   "execution_count": null,
   "metadata": {
    "id": "A_nLzUgOUVFU"
   },
   "outputs": [],
   "source": [
    "# we can conclude that \n",
    "# p = 1\n",
    "# d = 1\n",
    "# q = 0/1"
   ]
  },
  {
   "cell_type": "code",
   "execution_count": 18,
   "metadata": {
    "colab": {
     "base_uri": "https://localhost:8080/",
     "height": 309
    },
    "id": "toKXbTIjUhwp",
    "outputId": "3223d2ab-e321-41eb-b1f5-6194dda5b89c"
   },
   "outputs": [
    {
     "data": {
      "text/html": [
       "<table class=\"simpletable\">\n",
       "<caption>ARIMA Model Results</caption>\n",
       "<tr>\n",
       "  <th>Dep. Variable:</th>  <td>D.urgent_order</td>  <th>  No. Observations:  </th>    <td>63</td>   \n",
       "</tr>\n",
       "<tr>\n",
       "  <th>Model:</th>          <td>ARIMA(1, 1, 0)</td>  <th>  Log Likelihood     </th> <td>-253.214</td>\n",
       "</tr>\n",
       "<tr>\n",
       "  <th>Method:</th>             <td>css-mle</td>     <th>  S.D. of innovations</th>  <td>13.191</td> \n",
       "</tr>\n",
       "<tr>\n",
       "  <th>Date:</th>          <td>Sun, 18 Apr 2021</td> <th>  AIC                </th>  <td>512.429</td>\n",
       "</tr>\n",
       "<tr>\n",
       "  <th>Time:</th>              <td>21:11:15</td>     <th>  BIC                </th>  <td>518.858</td>\n",
       "</tr>\n",
       "<tr>\n",
       "  <th>Sample:</th>           <td>01-02-2017</td>    <th>  HQIC               </th>  <td>514.957</td>\n",
       "</tr>\n",
       "<tr>\n",
       "  <th></th>                 <td>- 03-05-2017</td>   <th>                     </th>     <td> </td>   \n",
       "</tr>\n",
       "</table>\n",
       "<table class=\"simpletable\">\n",
       "<tr>\n",
       "            <td></td>              <th>coef</th>     <th>std err</th>      <th>z</th>      <th>P>|z|</th>  <th>[0.025</th>    <th>0.975]</th>  \n",
       "</tr>\n",
       "<tr>\n",
       "  <th>const</th>                <td>   20.4750</td> <td>   34.776</td> <td>    0.589</td> <td> 0.558</td> <td>  -47.686</td> <td>   88.635</td>\n",
       "</tr>\n",
       "<tr>\n",
       "  <th>ar.L1.D.urgent_order</th> <td>    0.9630</td> <td>    0.028</td> <td>   34.700</td> <td> 0.000</td> <td>    0.909</td> <td>    1.017</td>\n",
       "</tr>\n",
       "</table>\n",
       "<table class=\"simpletable\">\n",
       "<caption>Roots</caption>\n",
       "<tr>\n",
       "    <td></td>   <th>            Real</th>  <th>         Imaginary</th> <th>         Modulus</th>  <th>        Frequency</th>\n",
       "</tr>\n",
       "<tr>\n",
       "  <th>AR.1</th> <td>           1.0384</td> <td>          +0.0000j</td> <td>           1.0384</td> <td>           0.0000</td>\n",
       "</tr>\n",
       "</table>"
      ],
      "text/plain": [
       "<class 'statsmodels.iolib.summary.Summary'>\n",
       "\"\"\"\n",
       "                             ARIMA Model Results                              \n",
       "==============================================================================\n",
       "Dep. Variable:         D.urgent_order   No. Observations:                   63\n",
       "Model:                 ARIMA(1, 1, 0)   Log Likelihood                -253.214\n",
       "Method:                       css-mle   S.D. of innovations             13.191\n",
       "Date:                Sun, 18 Apr 2021   AIC                            512.429\n",
       "Time:                        21:11:15   BIC                            518.858\n",
       "Sample:                    01-02-2017   HQIC                           514.957\n",
       "                         - 03-05-2017                                         \n",
       "========================================================================================\n",
       "                           coef    std err          z      P>|z|      [0.025      0.975]\n",
       "----------------------------------------------------------------------------------------\n",
       "const                   20.4750     34.776      0.589      0.558     -47.686      88.635\n",
       "ar.L1.D.urgent_order     0.9630      0.028     34.700      0.000       0.909       1.017\n",
       "                                    Roots                                    \n",
       "=============================================================================\n",
       "                  Real          Imaginary           Modulus         Frequency\n",
       "-----------------------------------------------------------------------------\n",
       "AR.1            1.0384           +0.0000j            1.0384            0.0000\n",
       "-----------------------------------------------------------------------------\n",
       "\"\"\""
      ]
     },
     "execution_count": 18,
     "metadata": {
      "tags": []
     },
     "output_type": "execute_result"
    }
   ],
   "source": [
    "#ARIMA MODEL\n",
    "arima_col1 = ARIMA(ready_ts_data['urgent_order'], order=(1,1,0))\n",
    "arima_col2 = ARIMA(ready_ts_data['non_urgernt_order'], order=(1,1,0))\n",
    "arima_fit_1 = arima_col1.fit()\n",
    "arima_fit_2 = arima_col2.fit()\n",
    "arima_fit_1.summary()"
   ]
  },
  {
   "cell_type": "code",
   "execution_count": 19,
   "metadata": {
    "colab": {
     "base_uri": "https://localhost:8080/",
     "height": 450
    },
    "id": "4jh4UhRJYkqm",
    "outputId": "bed7e255-e53c-453f-9cfd-efb5fdad3f8b"
   },
   "outputs": [
    {
     "data": {
      "text/html": [
       "<div>\n",
       "<style scoped>\n",
       "    .dataframe tbody tr th:only-of-type {\n",
       "        vertical-align: middle;\n",
       "    }\n",
       "\n",
       "    .dataframe tbody tr th {\n",
       "        vertical-align: top;\n",
       "    }\n",
       "\n",
       "    .dataframe thead th {\n",
       "        text-align: right;\n",
       "    }\n",
       "</style>\n",
       "<table border=\"1\" class=\"dataframe\">\n",
       "  <thead>\n",
       "    <tr style=\"text-align: right;\">\n",
       "      <th></th>\n",
       "      <th>non_urgernt_order</th>\n",
       "      <th>urgent_order</th>\n",
       "      <th>urgent_order_forecast</th>\n",
       "      <th>non_urgernt_order_forecast</th>\n",
       "    </tr>\n",
       "    <tr>\n",
       "      <th>date</th>\n",
       "      <th></th>\n",
       "      <th></th>\n",
       "      <th></th>\n",
       "      <th></th>\n",
       "    </tr>\n",
       "  </thead>\n",
       "  <tbody>\n",
       "    <tr>\n",
       "      <th>2017-01-01</th>\n",
       "      <td>1063.889000</td>\n",
       "      <td>860.443000</td>\n",
       "      <td>NaN</td>\n",
       "      <td>NaN</td>\n",
       "    </tr>\n",
       "    <tr>\n",
       "      <th>2017-01-02</th>\n",
       "      <td>1126.647832</td>\n",
       "      <td>921.155778</td>\n",
       "      <td>NaN</td>\n",
       "      <td>NaN</td>\n",
       "    </tr>\n",
       "    <tr>\n",
       "      <th>2017-01-03</th>\n",
       "      <td>1186.348326</td>\n",
       "      <td>972.798794</td>\n",
       "      <td>NaN</td>\n",
       "      <td>NaN</td>\n",
       "    </tr>\n",
       "    <tr>\n",
       "      <th>2017-01-04</th>\n",
       "      <td>1243.028573</td>\n",
       "      <td>1015.564120</td>\n",
       "      <td>NaN</td>\n",
       "      <td>NaN</td>\n",
       "    </tr>\n",
       "    <tr>\n",
       "      <th>2017-01-05</th>\n",
       "      <td>1296.688574</td>\n",
       "      <td>1049.451757</td>\n",
       "      <td>NaN</td>\n",
       "      <td>NaN</td>\n",
       "    </tr>\n",
       "    <tr>\n",
       "      <th>...</th>\n",
       "      <td>...</td>\n",
       "      <td>...</td>\n",
       "      <td>...</td>\n",
       "      <td>...</td>\n",
       "    </tr>\n",
       "    <tr>\n",
       "      <th>2017-03-01</th>\n",
       "      <td>755.845897</td>\n",
       "      <td>516.855426</td>\n",
       "      <td>5.039650</td>\n",
       "      <td>21.097556</td>\n",
       "    </tr>\n",
       "    <tr>\n",
       "      <th>2017-03-02</th>\n",
       "      <td>784.288782</td>\n",
       "      <td>534.964090</td>\n",
       "      <td>11.617963</td>\n",
       "      <td>24.652793</td>\n",
       "    </tr>\n",
       "    <tr>\n",
       "      <th>2017-03-03</th>\n",
       "      <td>816.420259</td>\n",
       "      <td>559.903998</td>\n",
       "      <td>18.196277</td>\n",
       "      <td>28.208030</td>\n",
       "    </tr>\n",
       "    <tr>\n",
       "      <th>2017-03-04</th>\n",
       "      <td>852.240327</td>\n",
       "      <td>591.675147</td>\n",
       "      <td>24.774591</td>\n",
       "      <td>31.763266</td>\n",
       "    </tr>\n",
       "    <tr>\n",
       "      <th>2017-03-05</th>\n",
       "      <td>891.705000</td>\n",
       "      <td>630.342000</td>\n",
       "      <td>31.352905</td>\n",
       "      <td>35.318503</td>\n",
       "    </tr>\n",
       "  </tbody>\n",
       "</table>\n",
       "<p>64 rows × 4 columns</p>\n",
       "</div>"
      ],
      "text/plain": [
       "            non_urgernt_order  ...  non_urgernt_order_forecast\n",
       "date                           ...                            \n",
       "2017-01-01        1063.889000  ...                         NaN\n",
       "2017-01-02        1126.647832  ...                         NaN\n",
       "2017-01-03        1186.348326  ...                         NaN\n",
       "2017-01-04        1243.028573  ...                         NaN\n",
       "2017-01-05        1296.688574  ...                         NaN\n",
       "...                       ...  ...                         ...\n",
       "2017-03-01         755.845897  ...                   21.097556\n",
       "2017-03-02         784.288782  ...                   24.652793\n",
       "2017-03-03         816.420259  ...                   28.208030\n",
       "2017-03-04         852.240327  ...                   31.763266\n",
       "2017-03-05         891.705000  ...                   35.318503\n",
       "\n",
       "[64 rows x 4 columns]"
      ]
     },
     "execution_count": 19,
     "metadata": {
      "tags": []
     },
     "output_type": "execute_result"
    }
   ],
   "source": [
    "ready_ts_data['urgent_order_forecast'] = arima_fit_1.predict(start=55,end=75)\n",
    "ready_ts_data['non_urgernt_order_forecast'] = arima_fit_2.predict(start=55,end=75)\n",
    "#prediction and actual\n",
    "ready_ts_data"
   ]
  },
  {
   "cell_type": "code",
   "execution_count": 43,
   "metadata": {
    "colab": {
     "base_uri": "https://localhost:8080/",
     "height": 331
    },
    "id": "xtCUs9X85Y-z",
    "outputId": "c4acad75-b048-4ee2-ae7e-b8ba06ead4a3"
   },
   "outputs": [
    {
     "data": {
      "text/plain": [
       "<matplotlib.axes._subplots.AxesSubplot at 0x7fcf64ed0150>"
      ]
     },
     "execution_count": 43,
     "metadata": {
      "tags": []
     },
     "output_type": "execute_result"
    },
    {
     "data": {
      "image/png": "[encoded data removed]",
      "text/plain": [
       "<Figure size 432x288 with 1 Axes>"
      ]
     },
     "metadata": {
      "needs_background": "light",
      "tags": []
     },
     "output_type": "display_data"
    }
   ],
   "source": [
    "ready_ts_data[['urgent_order','urgent_order_forecast']].plot()"
   ]
  },
  {
   "cell_type": "code",
   "execution_count": 20,
   "metadata": {
    "colab": {
     "base_uri": "https://localhost:8080/",
     "height": 423
    },
    "id": "Cg9NveRSZaQo",
    "outputId": "ae343df9-ce28-4005-a60f-87d8fd21749e"
   },
   "outputs": [
    {
     "data": {
      "text/html": [
       "<table class=\"simpletable\">\n",
       "<caption>Statespace Model Results</caption>\n",
       "<tr>\n",
       "  <th>Dep. Variable:</th>           <td>urgent_order</td>          <th>  No. Observations:  </th>    <td>64</td>   \n",
       "</tr>\n",
       "<tr>\n",
       "  <th>Model:</th>           <td>SARIMAX(1, 1, 0)x(1, 1, 0, 7)</td> <th>  Log Likelihood     </th> <td>-248.328</td>\n",
       "</tr>\n",
       "<tr>\n",
       "  <th>Date:</th>                  <td>Sun, 18 Apr 2021</td>        <th>  AIC                </th>  <td>502.655</td>\n",
       "</tr>\n",
       "<tr>\n",
       "  <th>Time:</th>                      <td>21:13:34</td>            <th>  BIC                </th>  <td>508.731</td>\n",
       "</tr>\n",
       "<tr>\n",
       "  <th>Sample:</th>                   <td>01-01-2017</td>           <th>  HQIC               </th>  <td>505.011</td>\n",
       "</tr>\n",
       "<tr>\n",
       "  <th></th>                         <td>- 03-05-2017</td>          <th>                     </th>     <td> </td>   \n",
       "</tr>\n",
       "<tr>\n",
       "  <th>Covariance Type:</th>              <td>opg</td>              <th>                     </th>     <td> </td>   \n",
       "</tr>\n",
       "</table>\n",
       "<table class=\"simpletable\">\n",
       "<tr>\n",
       "     <td></td>        <th>coef</th>     <th>std err</th>      <th>z</th>      <th>P>|z|</th>  <th>[0.025</th>    <th>0.975]</th>  \n",
       "</tr>\n",
       "<tr>\n",
       "  <th>ar.L1</th>   <td>    0.9563</td> <td>    0.045</td> <td>   21.089</td> <td> 0.000</td> <td>    0.867</td> <td>    1.045</td>\n",
       "</tr>\n",
       "<tr>\n",
       "  <th>ar.S.L7</th> <td>   -0.4518</td> <td>    0.141</td> <td>   -3.193</td> <td> 0.001</td> <td>   -0.729</td> <td>   -0.174</td>\n",
       "</tr>\n",
       "<tr>\n",
       "  <th>sigma2</th>  <td>  391.6649</td> <td>  125.679</td> <td>    3.116</td> <td> 0.002</td> <td>  145.338</td> <td>  637.992</td>\n",
       "</tr>\n",
       "</table>\n",
       "<table class=\"simpletable\">\n",
       "<tr>\n",
       "  <th>Ljung-Box (Q):</th>          <td>291.95</td> <th>  Jarque-Bera (JB):  </th> <td>2.90</td> \n",
       "</tr>\n",
       "<tr>\n",
       "  <th>Prob(Q):</th>                 <td>0.00</td>  <th>  Prob(JB):          </th> <td>0.23</td> \n",
       "</tr>\n",
       "<tr>\n",
       "  <th>Heteroskedasticity (H):</th>  <td>0.49</td>  <th>  Skew:              </th> <td>-0.06</td>\n",
       "</tr>\n",
       "<tr>\n",
       "  <th>Prob(H) (two-sided):</th>     <td>0.13</td>  <th>  Kurtosis:          </th> <td>1.89</td> \n",
       "</tr>\n",
       "</table><br/><br/>Warnings:<br/>[1] Covariance matrix calculated using the outer product of gradients (complex-step)."
      ],
      "text/plain": [
       "<class 'statsmodels.iolib.summary.Summary'>\n",
       "\"\"\"\n",
       "                                 Statespace Model Results                                \n",
       "=========================================================================================\n",
       "Dep. Variable:                      urgent_order   No. Observations:                   64\n",
       "Model:             SARIMAX(1, 1, 0)x(1, 1, 0, 7)   Log Likelihood                -248.328\n",
       "Date:                           Sun, 18 Apr 2021   AIC                            502.655\n",
       "Time:                                   21:13:34   BIC                            508.731\n",
       "Sample:                               01-01-2017   HQIC                           505.011\n",
       "                                    - 03-05-2017                                         \n",
       "Covariance Type:                             opg                                         \n",
       "==============================================================================\n",
       "                 coef    std err          z      P>|z|      [0.025      0.975]\n",
       "------------------------------------------------------------------------------\n",
       "ar.L1          0.9563      0.045     21.089      0.000       0.867       1.045\n",
       "ar.S.L7       -0.4518      0.141     -3.193      0.001      -0.729      -0.174\n",
       "sigma2       391.6649    125.679      3.116      0.002     145.338     637.992\n",
       "===================================================================================\n",
       "Ljung-Box (Q):                      291.95   Jarque-Bera (JB):                 2.90\n",
       "Prob(Q):                              0.00   Prob(JB):                         0.23\n",
       "Heteroskedasticity (H):               0.49   Skew:                            -0.06\n",
       "Prob(H) (two-sided):                  0.13   Kurtosis:                         1.89\n",
       "===================================================================================\n",
       "\n",
       "Warnings:\n",
       "[1] Covariance matrix calculated using the outer product of gradients (complex-step).\n",
       "\"\"\""
      ]
     },
     "execution_count": 20,
     "metadata": {
      "tags": []
     },
     "output_type": "execute_result"
    }
   ],
   "source": [
    "#SARIMA MODEL\n",
    "sarima_col1 = SARIMAX(ready_ts_data['urgent_order'], order=(1,1,0),seasonal_order=(1,1,0,7))\n",
    "sarima_col2 = SARIMAX(ready_ts_data['non_urgernt_order'], order=(1,1,0),seasonal_order=(1,1,0,7))\n",
    "\n",
    "#sarima 1 for urgent order\n",
    "sarima_fit_1 = sarima_col1.fit()\n",
    "#sarima 2 for non urgent order\n",
    "sarima_fit_2 = sarima_col2.fit()\n",
    "sarima_fit_1.summary()"
   ]
  },
  {
   "cell_type": "code",
   "execution_count": 21,
   "metadata": {
    "colab": {
     "base_uri": "https://localhost:8080/",
     "height": 331
    },
    "id": "WQS95NucehaC",
    "outputId": "d51bebfc-f897-46d9-cb2e-adb09c67956c"
   },
   "outputs": [
    {
     "data": {
      "text/plain": [
       "<matplotlib.axes._subplots.AxesSubplot at 0x7fcf9d484990>"
      ]
     },
     "execution_count": 21,
     "metadata": {
      "tags": []
     },
     "output_type": "execute_result"
    },
    {
     "data": {
      "image/png": "[encoded data removed]",
      "text/plain": [
       "<Figure size 432x288 with 1 Axes>"
      ]
     },
     "metadata": {
      "needs_background": "light",
      "tags": []
     },
     "output_type": "display_data"
    }
   ],
   "source": [
    "ready_ts_data['urgent_order_forecast_sarima'] = sarima_fit_1.predict(start=55,end=75)\n",
    "ready_ts_data['non_urgernt_order_forecast_sarima'] = sarima_fit_2.predict(start=55,end=75)\n",
    "ready_ts_data[['urgent_order','urgent_order_forecast_sarima']].plot()"
   ]
  },
  {
   "cell_type": "code",
   "execution_count": 22,
   "metadata": {
    "colab": {
     "base_uri": "https://localhost:8080/"
    },
    "id": "gZNVWlmWiHfc",
    "outputId": "7f4fd50f-71e2-4833-805f-e9e247e01755"
   },
   "outputs": [
    {
     "name": "stdout",
     "output_type": "stream",
     "text": [
      "the MSE of ARIMA model :337845.58800338535\n",
      "the MSE of SARIMA model :417.7806319328394\n"
     ]
    }
   ],
   "source": [
    "# evaluation matrix \n",
    "# evaluate on last 15 days\n",
    "ypred_15_day_arima = arima_fit_1.predict(start=46,end=len(ready_ts_data))\n",
    "ypred_15_day_sarima = sarima_fit_1.predict(start=46,end=len(ready_ts_data))\n",
    "ytrue = ready_ts_data[45:]['urgent_order']\n",
    "\n",
    "MSE_arima = MSE(ytrue,ypred_15_day_arima)\n",
    "MSE_sarima = MSE(ytrue,ypred_15_day_sarima)\n",
    "print(\"the MSE of ARIMA model :{}\".format(MSE_arima))\n",
    "print(\"the MSE of SARIMA model :{}\".format(MSE_sarima))"
   ]
  },
  {
   "cell_type": "code",
   "execution_count": 23,
   "metadata": {
    "id": "sJPI19WLk8zl"
   },
   "outputs": [],
   "source": [
    "#forecast on 19 days forward\n",
    "forecast_dataset = [ready_ts_data.index[-1] + DateOffset(days=x) for x in range(20)]\n",
    "#the index start from the next day of our most recent observation \n",
    "forecast_dataset = pd.DataFrame(index=forecast_dataset[1:], columns=ready_ts_data.columns)\n",
    "#concat on rows\n",
    "future_df = pd.concat([ready_ts_data,forecast_dataset])"
   ]
  },
  {
   "cell_type": "code",
   "execution_count": 24,
   "metadata": {
    "id": "TuHSCN0I5GbY"
   },
   "outputs": [],
   "source": [
    "#past data have 64 observation\n",
    "#future data have 83 observation with 19 to predict\n",
    "future_df['urgent_order_forecast_sarima'] = sarima_fit_1.predict(start=63,end=83,dynamic=True)\n",
    "future_df['non_urgernt_order_forecast_sarima'] = sarima_fit_2.predict(start=63,end=83,dynamic=True)"
   ]
  },
  {
   "cell_type": "code",
   "execution_count": 45,
   "metadata": {
    "id": "ApsYMUtn58MU"
   },
   "outputs": [],
   "source": [
    "#past data have 64 observation\n",
    "#future data have 83 observation with 19 to predict\n",
    "future_df['urgent_order_forecast'] = arima_fit_1.predict(start=63,end=83,dynamic=True)\n",
    "future_df['non_urgernt_order_forecast'] = arima_fit_2.predict(start=63,end=83,dynamic=True)"
   ]
  },
  {
   "cell_type": "code",
   "execution_count": 46,
   "metadata": {
    "colab": {
     "base_uri": "https://localhost:8080/",
     "height": 317
    },
    "id": "vPErfPa96MaF",
    "outputId": "b803d110-185b-4062-f071-cf20cc5659cf"
   },
   "outputs": [
    {
     "data": {
      "text/plain": [
       "<matplotlib.axes._subplots.AxesSubplot at 0x7fcf5da21e50>"
      ]
     },
     "execution_count": 46,
     "metadata": {
      "tags": []
     },
     "output_type": "execute_result"
    },
    {
     "data": {
      "image/png": "[encoded data removed]",
      "text/plain": [
       "<Figure size 432x288 with 1 Axes>"
      ]
     },
     "metadata": {
      "needs_background": "light",
      "tags": []
     },
     "output_type": "display_data"
    }
   ],
   "source": [
    "#plotting the forecasted data ARIMA model\n",
    "future_df[['urgent_order','urgent_order_forecast']].plot()"
   ]
  },
  {
   "cell_type": "code",
   "execution_count": 25,
   "metadata": {
    "colab": {
     "base_uri": "https://localhost:8080/",
     "height": 320
    },
    "id": "czCV8-dIErJ0",
    "outputId": "2c4042a1-1a0a-497c-9e5c-583300871105"
   },
   "outputs": [
    {
     "data": {
      "text/plain": [
       "<matplotlib.axes._subplots.AxesSubplot at 0x7fcfa8435250>"
      ]
     },
     "execution_count": 25,
     "metadata": {
      "tags": []
     },
     "output_type": "execute_result"
    },
    {
     "data": {
      "image/png": "[encoded data removed]",
      "text/plain": [
       "<Figure size 432x288 with 1 Axes>"
      ]
     },
     "metadata": {
      "needs_background": "light",
      "tags": []
     },
     "output_type": "display_data"
    }
   ],
   "source": [
    "#plotting the forecasted data with SARIMA model\n",
    "future_df[['urgent_order','urgent_order_forecast_sarima']].plot()"
   ]
  },
  {
   "cell_type": "code",
   "execution_count": 26,
   "metadata": {
    "colab": {
     "base_uri": "https://localhost:8080/",
     "height": 317
    },
    "id": "O7eYUxDxFPPu",
    "outputId": "e206c22d-be34-473e-e68b-dbb039d20ff9"
   },
   "outputs": [
    {
     "data": {
      "text/plain": [
       "<matplotlib.axes._subplots.AxesSubplot at 0x7fcf9fb8f310>"
      ]
     },
     "execution_count": 26,
     "metadata": {
      "tags": []
     },
     "output_type": "execute_result"
    },
    {
     "data": {
      "image/png": "[encoded data removed]",
      "text/plain": [
       "<Figure size 432x288 with 1 Axes>"
      ]
     },
     "metadata": {
      "needs_background": "light",
      "tags": []
     },
     "output_type": "display_data"
    }
   ],
   "source": [
    "#plotting the forecasted data\n",
    "future_df[['non_urgernt_order','non_urgernt_order_forecast_sarima']].plot()"
   ]
  },
  {
   "cell_type": "code",
   "execution_count": 30,
   "metadata": {
    "id": "GifAKjOkFfW3"
   },
   "outputs": [],
   "source": [
    "# deep learning model\n",
    "# create a function to provide LSTM input\n",
    "\n",
    "def input_sequence(timeseries, step):\n",
    "    X,y = [],[]\n",
    "    for each in range(len(timeseries) - 1):\n",
    "    #last index for output\n",
    "        y_ix = each + step\n",
    "      #prevent last index beyond series length\n",
    "        if y_ix > len(timeseries)-1 :\n",
    "            break\n",
    "        x_seq = timeseries[each : y_ix]\n",
    "        y_seq = timeseries[y_ix]\n",
    "        X.append(x_seq)\n",
    "        y.append(y_seq)\n",
    "    return np.array(X),np.array(y)"
   ]
  },
  {
   "cell_type": "code",
   "execution_count": 31,
   "metadata": {
    "id": "9YL86scMdhJl"
   },
   "outputs": [],
   "source": [
    "#due to lack of dataset observation we use 3 step\n",
    "trainX_urgent,trainy_urgent = input_sequence(ready_ts_data['urgent_order'][:51],3)\n",
    "testX_urgent,testy_urgent = input_sequence(ready_ts_data['urgent_order'][51:],3)\n",
    "\n",
    "trainX_nonurgent,trainy_nonurgent = input_sequence(ready_ts_data['non_urgernt_order'][:51],3)\n",
    "testX_nonurgent,testy_nonurgent = input_sequence(ready_ts_data['non_urgernt_order'][51:],3)"
   ]
  },
  {
   "cell_type": "code",
   "execution_count": 33,
   "metadata": {
    "colab": {
     "base_uri": "https://localhost:8080/"
    },
    "id": "o45gUimyWF6Y",
    "outputId": "03d4739f-77c6-4a55-b3fd-db5e5fe0e8a7"
   },
   "outputs": [
    {
     "name": "stdout",
     "output_type": "stream",
     "text": [
      "[860.443      921.15577802 972.79879364] 1015.5641198013147\n",
      "[ 921.15577802  972.79879364 1015.5641198 ] 1049.4517565048159\n",
      "[ 972.79879364 1015.5641198  1049.4517565 ] 1074.4617037510245\n",
      "[1015.5641198  1049.4517565  1074.46170375] 1090.593961539941\n",
      "[1049.4517565  1074.46170375 1090.59396154] 1098.742\n",
      "[1074.46170375 1090.59396154 1098.742     ] 1096.2254087458969\n",
      "[1090.59396154 1098.742      1096.22540875] 1085.7245981629364\n",
      "[1098.742      1096.22540875 1085.72459816] 1066.3460981226835\n",
      "[1096.22540875 1085.72459816 1066.34609812] 1040.626888388111\n",
      "[1085.72459816 1066.34609812 1040.62688839] 1023.7888475370535\n",
      "[1066.34609812 1040.62688839 1023.78884754] 1018.3689553324828\n",
      "[1040.62688839 1023.78884754 1018.36895533] 1022.597\n",
      "[1023.78884754 1018.36895533 1022.597     ] 1041.7836168628035\n",
      "[1018.36895533 1022.597      1041.78361686] 1070.6181705976946\n",
      "[1022.597      1041.78361686 1070.6181706 ] 1110.870872979073\n",
      "[1041.78361686 1070.6181706  1110.87087298] 1158.0788642267632\n",
      "[1070.6181706  1110.87087298 1158.07886423] 1185.4649856597098\n",
      "[1110.87087298 1158.07886423 1185.46498566] 1188.566377497738\n",
      "[1158.07886423 1185.46498566 1188.5663775 ] 1169.125\n",
      "[1185.46498566 1188.5663775  1169.125     ] 1121.9149723890373\n",
      "[1188.5663775  1169.125      1121.91497239] 1052.1621754423086\n",
      "[1169.125      1121.91497239 1052.16217544] 958.1246489006612\n",
      "[1121.91497239 1052.16217544  958.1246489 ] 843.6442753220521\n",
      "[1052.16217544  958.1246489   843.64427532] 731.7723500542259\n",
      "[958.1246489  843.64427532 731.77235005] 626.3507556551393\n",
      "[843.64427532 731.77235005 626.35075566] 527.012\n",
      "[731.77235005 626.35075566 527.012     ] 434.8585594631865\n",
      "[626.35075566 527.012      434.85855946] 348.78795767032\n",
      "[527.012      434.85855946 348.78795767] 269.16768674619357\n",
      "[434.85855946 348.78795767 269.16768675] 198.19399703593484\n",
      "[348.78795767 269.16768675 198.19399704] 149.04439061031096\n",
      "[269.16768675 198.19399704 149.04439061] 123.9151178144497\n",
      "[198.19399704 149.04439061 123.91511781] 121.697\n",
      "[149.04439061 123.91511781 121.697     ] 145.71757311201503\n",
      "[123.91511781 121.697      145.71757311] 192.64930120544162\n",
      "[121.697      145.71757311 192.64930121] 263.6013629286308\n",
      "[145.71757311 192.64930121 263.60136293] 353.9496619842808\n",
      "[192.64930121 263.60136293 353.94966198] 435.94962058858005\n",
      "[263.60136293 353.94966198 435.94962059] 504.97714244422696\n",
      "[353.94966198 435.94962059 504.97714244] 562.249\n",
      "[435.94962059 504.97714244 562.249     ] 604.1148759095631\n",
      "[504.97714244 562.249      604.11487591] 634.2250875192523\n",
      "[562.249      604.11487591 634.22508752] 651.362862380289\n",
      "[604.11487591 634.22508752 651.36286238] 656.5448377171093\n",
      "[634.22508752 651.36286238 656.54483772] 655.8708368763283\n",
      "[651.36286238 656.54483772 655.87083688] 650.3574970823825\n",
      "[656.54483772 655.87083688 650.35749708] 639.627\n",
      "[655.87083688 650.35749708 639.627     ] 624.8128006349954\n"
     ]
    }
   ],
   "source": [
    "for i in range(len(trainX_urgent)):\n",
    "    print(trainX_urgent[i],trainy_urgent[i])"
   ]
  },
  {
   "cell_type": "code",
   "execution_count": 34,
   "metadata": {
    "id": "hsaLmpcYU866"
   },
   "outputs": [],
   "source": [
    "# requuired library\n",
    "from tensorflow.keras.layers import Dense,LSTM\n",
    "from tensorflow.keras.models import Sequential\n",
    "import tensorflow as tf"
   ]
  },
  {
   "cell_type": "code",
   "execution_count": 35,
   "metadata": {
    "colab": {
     "base_uri": "https://localhost:8080/"
    },
    "id": "E-d8QCbBXD9C",
    "outputId": "5be84bae-c58b-4d9f-e706-9b21b8a4380c"
   },
   "outputs": [
    {
     "name": "stdout",
     "output_type": "stream",
     "text": [
      "Model: \"sequential\"\n",
      "_________________________________________________________________\n",
      "Layer (type)                 Output Shape              Param #   \n",
      "=================================================================\n",
      "lstm (LSTM)                  (None, 3, 100)            40800     \n",
      "_________________________________________________________________\n",
      "lstm_1 (LSTM)                (None, 50)                30200     \n",
      "_________________________________________________________________\n",
      "dense (Dense)                (None, 1)                 51        \n",
      "=================================================================\n",
      "Total params: 71,051\n",
      "Trainable params: 71,051\n",
      "Non-trainable params: 0\n",
      "_________________________________________________________________\n"
     ]
    }
   ],
   "source": [
    "lstm_model = Sequential()\n",
    "#the input shape is sequence length and number of feature\n",
    "lstm_model.add(LSTM(100,activation='relu', input_shape=(3,1),return_sequences=True))\n",
    "lstm_model.add(LSTM(50,activation='relu'))\n",
    "lstm_model.add(Dense(1))\n",
    "lstm_model.compile(optimizer='adam',loss='mse',metrics=[tf.keras.metrics.MeanSquaredError()])\n",
    "lstm_model.summary()"
   ]
  },
  {
   "cell_type": "code",
   "execution_count": 36,
   "metadata": {
    "colab": {
     "base_uri": "https://localhost:8080/"
    },
    "id": "7bmNTQDkdKbI",
    "outputId": "8db51a1e-52e1-4fdf-afb2-9f2957be72fd"
   },
   "outputs": [
    {
     "data": {
      "text/plain": [
       "(48, 3)"
      ]
     },
     "execution_count": 36,
     "metadata": {
      "tags": []
     },
     "output_type": "execute_result"
    }
   ],
   "source": [
    "trainX_urgent.shape"
   ]
  },
  {
   "cell_type": "code",
   "execution_count": 37,
   "metadata": {
    "colab": {
     "base_uri": "https://localhost:8080/"
    },
    "id": "k0Kf-yuiYx55",
    "outputId": "5c55fb35-2b24-4519-fbb8-05094b8fef45"
   },
   "outputs": [
    {
     "name": "stdout",
     "output_type": "stream",
     "text": [
      "Epoch 1/100\n",
      "3/3 [==============================] - 3s 360ms/step - loss: 734090.7969 - mean_squared_error: 734090.7969 - val_loss: 298477.6250 - val_mean_squared_error: 298477.6250\n",
      "Epoch 2/100\n",
      "3/3 [==============================] - 0s 25ms/step - loss: 683163.3125 - mean_squared_error: 683163.3125 - val_loss: 285450.9062 - val_mean_squared_error: 285450.9062\n",
      "Epoch 3/100\n",
      "3/3 [==============================] - 0s 26ms/step - loss: 675033.0781 - mean_squared_error: 675033.0781 - val_loss: 274995.5625 - val_mean_squared_error: 274995.5625\n",
      "Epoch 4/100\n",
      "3/3 [==============================] - 0s 23ms/step - loss: 638554.5938 - mean_squared_error: 638554.5938 - val_loss: 259051.0938 - val_mean_squared_error: 259051.0938\n",
      "Epoch 5/100\n",
      "3/3 [==============================] - 0s 26ms/step - loss: 579478.4219 - mean_squared_error: 579478.4219 - val_loss: 239883.3438 - val_mean_squared_error: 239883.3438\n",
      "Epoch 6/100\n",
      "3/3 [==============================] - 0s 24ms/step - loss: 519498.7891 - mean_squared_error: 519498.7891 - val_loss: 221616.4062 - val_mean_squared_error: 221616.4062\n",
      "Epoch 7/100\n",
      "3/3 [==============================] - 0s 30ms/step - loss: 514480.8906 - mean_squared_error: 514480.8906 - val_loss: 200488.9062 - val_mean_squared_error: 200488.9062\n",
      "Epoch 8/100\n",
      "3/3 [==============================] - 0s 27ms/step - loss: 441816.0469 - mean_squared_error: 441816.0469 - val_loss: 163833.7812 - val_mean_squared_error: 163833.7812\n",
      "Epoch 9/100\n",
      "3/3 [==============================] - 0s 26ms/step - loss: 359145.2891 - mean_squared_error: 359145.2891 - val_loss: 132513.0938 - val_mean_squared_error: 132513.0938\n",
      "Epoch 10/100\n",
      "3/3 [==============================] - 0s 25ms/step - loss: 277502.6875 - mean_squared_error: 277502.6875 - val_loss: 88263.6328 - val_mean_squared_error: 88263.6328\n",
      "Epoch 11/100\n",
      "3/3 [==============================] - 0s 24ms/step - loss: 204463.7891 - mean_squared_error: 204463.7891 - val_loss: 47562.9062 - val_mean_squared_error: 47562.9062\n",
      "Epoch 12/100\n",
      "3/3 [==============================] - 0s 30ms/step - loss: 122044.7305 - mean_squared_error: 122044.7422 - val_loss: 5430.8213 - val_mean_squared_error: 5430.8213\n",
      "Epoch 13/100\n",
      "3/3 [==============================] - 0s 30ms/step - loss: 30706.2822 - mean_squared_error: 30706.2822 - val_loss: 3454.8853 - val_mean_squared_error: 3454.8853\n",
      "Epoch 14/100\n",
      "3/3 [==============================] - 0s 25ms/step - loss: 23323.2285 - mean_squared_error: 23323.2285 - val_loss: 5280.2163 - val_mean_squared_error: 5280.2163\n",
      "Epoch 15/100\n",
      "3/3 [==============================] - 0s 25ms/step - loss: 22892.3193 - mean_squared_error: 22892.3193 - val_loss: 1857.9861 - val_mean_squared_error: 1857.9861\n",
      "Epoch 16/100\n",
      "3/3 [==============================] - 0s 25ms/step - loss: 12648.7317 - mean_squared_error: 12648.7317 - val_loss: 2170.6440 - val_mean_squared_error: 2170.6440\n",
      "Epoch 17/100\n",
      "3/3 [==============================] - 0s 28ms/step - loss: 12802.1057 - mean_squared_error: 12802.1057 - val_loss: 1992.3933 - val_mean_squared_error: 1992.3933\n",
      "Epoch 18/100\n",
      "3/3 [==============================] - 0s 29ms/step - loss: 11969.7559 - mean_squared_error: 11969.7559 - val_loss: 1829.5983 - val_mean_squared_error: 1829.5983\n",
      "Epoch 19/100\n",
      "3/3 [==============================] - 0s 27ms/step - loss: 10387.3535 - mean_squared_error: 10387.3535 - val_loss: 1353.9446 - val_mean_squared_error: 1353.9446\n",
      "Epoch 20/100\n",
      "3/3 [==============================] - 0s 26ms/step - loss: 10233.1748 - mean_squared_error: 10233.1748 - val_loss: 1433.2769 - val_mean_squared_error: 1433.2769\n",
      "Epoch 21/100\n",
      "3/3 [==============================] - 0s 29ms/step - loss: 8387.1641 - mean_squared_error: 8387.1641 - val_loss: 1494.4214 - val_mean_squared_error: 1494.4214\n",
      "Epoch 22/100\n",
      "3/3 [==============================] - 0s 30ms/step - loss: 7522.4095 - mean_squared_error: 7522.4095 - val_loss: 1600.1296 - val_mean_squared_error: 1600.1296\n",
      "Epoch 23/100\n",
      "3/3 [==============================] - 0s 30ms/step - loss: 6521.5885 - mean_squared_error: 6521.5885 - val_loss: 1496.9445 - val_mean_squared_error: 1496.9445\n",
      "Epoch 24/100\n",
      "3/3 [==============================] - 0s 27ms/step - loss: 6662.2834 - mean_squared_error: 6662.2832 - val_loss: 1053.7930 - val_mean_squared_error: 1053.7930\n",
      "Epoch 25/100\n",
      "3/3 [==============================] - 0s 27ms/step - loss: 5618.8406 - mean_squared_error: 5618.8406 - val_loss: 2050.4153 - val_mean_squared_error: 2050.4153\n",
      "Epoch 26/100\n",
      "3/3 [==============================] - 0s 29ms/step - loss: 5041.4810 - mean_squared_error: 5041.4810 - val_loss: 437.1190 - val_mean_squared_error: 437.1190\n",
      "Epoch 27/100\n",
      "3/3 [==============================] - 0s 29ms/step - loss: 4691.9506 - mean_squared_error: 4691.9506 - val_loss: 1610.0587 - val_mean_squared_error: 1610.0587\n",
      "Epoch 28/100\n",
      "3/3 [==============================] - 0s 26ms/step - loss: 5420.5413 - mean_squared_error: 5420.5413 - val_loss: 481.7157 - val_mean_squared_error: 481.7157\n",
      "Epoch 29/100\n",
      "3/3 [==============================] - 0s 25ms/step - loss: 5000.2621 - mean_squared_error: 5000.2621 - val_loss: 614.3503 - val_mean_squared_error: 614.3503\n",
      "Epoch 30/100\n",
      "3/3 [==============================] - 0s 26ms/step - loss: 4597.8996 - mean_squared_error: 4597.8996 - val_loss: 350.6892 - val_mean_squared_error: 350.6892\n",
      "Epoch 31/100\n",
      "3/3 [==============================] - 0s 25ms/step - loss: 4855.6953 - mean_squared_error: 4855.6953 - val_loss: 726.5806 - val_mean_squared_error: 726.5806\n",
      "Epoch 32/100\n",
      "3/3 [==============================] - 0s 28ms/step - loss: 3556.0654 - mean_squared_error: 3556.0654 - val_loss: 781.2712 - val_mean_squared_error: 781.2712\n",
      "Epoch 33/100\n",
      "3/3 [==============================] - 0s 28ms/step - loss: 3662.5314 - mean_squared_error: 3662.5314 - val_loss: 307.4473 - val_mean_squared_error: 307.4473\n",
      "Epoch 34/100\n",
      "3/3 [==============================] - 0s 28ms/step - loss: 2412.3361 - mean_squared_error: 2412.3361 - val_loss: 1781.9539 - val_mean_squared_error: 1781.9539\n",
      "Epoch 35/100\n",
      "3/3 [==============================] - 0s 27ms/step - loss: 2319.3845 - mean_squared_error: 2319.3845 - val_loss: 1176.4382 - val_mean_squared_error: 1176.4382\n",
      "Epoch 36/100\n",
      "3/3 [==============================] - 0s 32ms/step - loss: 2131.9649 - mean_squared_error: 2131.9649 - val_loss: 260.8963 - val_mean_squared_error: 260.8963\n",
      "Epoch 37/100\n",
      "3/3 [==============================] - 0s 27ms/step - loss: 1749.9148 - mean_squared_error: 1749.9148 - val_loss: 1401.2294 - val_mean_squared_error: 1401.2294\n",
      "Epoch 38/100\n",
      "3/3 [==============================] - 0s 28ms/step - loss: 2071.6932 - mean_squared_error: 2071.6932 - val_loss: 2301.5864 - val_mean_squared_error: 2301.5864\n",
      "Epoch 39/100\n",
      "3/3 [==============================] - 0s 26ms/step - loss: 2587.0708 - mean_squared_error: 2587.0709 - val_loss: 2115.4673 - val_mean_squared_error: 2115.4673\n",
      "Epoch 40/100\n",
      "3/3 [==============================] - 0s 25ms/step - loss: 2536.7764 - mean_squared_error: 2536.7764 - val_loss: 236.1975 - val_mean_squared_error: 236.1975\n",
      "Epoch 41/100\n",
      "3/3 [==============================] - 0s 27ms/step - loss: 8340.1722 - mean_squared_error: 8340.1722 - val_loss: 916.4064 - val_mean_squared_error: 916.4064\n",
      "Epoch 42/100\n",
      "3/3 [==============================] - 0s 27ms/step - loss: 3067.7199 - mean_squared_error: 3067.7199 - val_loss: 3888.1628 - val_mean_squared_error: 3888.1628\n",
      "Epoch 43/100\n",
      "3/3 [==============================] - 0s 26ms/step - loss: 7177.3523 - mean_squared_error: 7177.3523 - val_loss: 1511.6935 - val_mean_squared_error: 1511.6935\n",
      "Epoch 44/100\n",
      "3/3 [==============================] - 0s 27ms/step - loss: 5145.2101 - mean_squared_error: 5145.2104 - val_loss: 646.4655 - val_mean_squared_error: 646.4655\n",
      "Epoch 45/100\n",
      "3/3 [==============================] - 0s 27ms/step - loss: 2441.0198 - mean_squared_error: 2441.0198 - val_loss: 16543.4238 - val_mean_squared_error: 16543.4238\n",
      "Epoch 46/100\n",
      "3/3 [==============================] - 0s 26ms/step - loss: 25137.6841 - mean_squared_error: 25137.6841 - val_loss: 2218.4966 - val_mean_squared_error: 2218.4966\n",
      "Epoch 47/100\n",
      "3/3 [==============================] - 0s 32ms/step - loss: 6039.1632 - mean_squared_error: 6039.1632 - val_loss: 169.9758 - val_mean_squared_error: 169.9758\n",
      "Epoch 48/100\n",
      "3/3 [==============================] - 0s 27ms/step - loss: 2825.5406 - mean_squared_error: 2825.5404 - val_loss: 778.5988 - val_mean_squared_error: 778.5988\n",
      "Epoch 49/100\n",
      "3/3 [==============================] - 0s 26ms/step - loss: 4727.1228 - mean_squared_error: 4727.1228 - val_loss: 1183.7922 - val_mean_squared_error: 1183.7922\n",
      "Epoch 50/100\n",
      "3/3 [==============================] - 0s 25ms/step - loss: 2399.4384 - mean_squared_error: 2399.4384 - val_loss: 730.6598 - val_mean_squared_error: 730.6598\n",
      "Epoch 51/100\n",
      "3/3 [==============================] - 0s 28ms/step - loss: 3477.3103 - mean_squared_error: 3477.3103 - val_loss: 1111.4045 - val_mean_squared_error: 1111.4045\n",
      "Epoch 52/100\n",
      "3/3 [==============================] - 0s 25ms/step - loss: 2639.6614 - mean_squared_error: 2639.6614 - val_loss: 732.6045 - val_mean_squared_error: 732.6045\n",
      "Epoch 53/100\n",
      "3/3 [==============================] - 0s 27ms/step - loss: 2101.3622 - mean_squared_error: 2101.3622 - val_loss: 3205.8328 - val_mean_squared_error: 3205.8328\n",
      "Epoch 54/100\n",
      "3/3 [==============================] - 0s 26ms/step - loss: 2140.8967 - mean_squared_error: 2140.8967 - val_loss: 1957.1013 - val_mean_squared_error: 1957.1013\n",
      "Epoch 55/100\n",
      "3/3 [==============================] - 0s 26ms/step - loss: 3644.9112 - mean_squared_error: 3644.9112 - val_loss: 1070.8888 - val_mean_squared_error: 1070.8888\n",
      "Epoch 56/100\n",
      "3/3 [==============================] - 0s 28ms/step - loss: 3163.8202 - mean_squared_error: 3163.8202 - val_loss: 586.1460 - val_mean_squared_error: 586.1460\n",
      "Epoch 57/100\n",
      "3/3 [==============================] - 0s 25ms/step - loss: 1187.9763 - mean_squared_error: 1187.9763 - val_loss: 866.4398 - val_mean_squared_error: 866.4398\n",
      "Epoch 58/100\n",
      "3/3 [==============================] - 0s 29ms/step - loss: 1668.4329 - mean_squared_error: 1668.4329 - val_loss: 168.2050 - val_mean_squared_error: 168.2050\n",
      "Epoch 59/100\n",
      "3/3 [==============================] - 0s 31ms/step - loss: 996.3978 - mean_squared_error: 996.3978 - val_loss: 3062.4429 - val_mean_squared_error: 3062.4429\n",
      "Epoch 60/100\n",
      "3/3 [==============================] - 0s 28ms/step - loss: 4840.5554 - mean_squared_error: 4840.5553 - val_loss: 372.8542 - val_mean_squared_error: 372.8542\n",
      "Epoch 61/100\n",
      "3/3 [==============================] - 0s 31ms/step - loss: 1912.9226 - mean_squared_error: 1912.9226 - val_loss: 3612.2026 - val_mean_squared_error: 3612.2026\n",
      "Epoch 62/100\n",
      "3/3 [==============================] - 0s 29ms/step - loss: 2740.6812 - mean_squared_error: 2740.6812 - val_loss: 6601.7891 - val_mean_squared_error: 6601.7891\n",
      "Epoch 63/100\n",
      "3/3 [==============================] - 0s 27ms/step - loss: 3850.2264 - mean_squared_error: 3850.2264 - val_loss: 554.2960 - val_mean_squared_error: 554.2960\n",
      "Epoch 64/100\n",
      "3/3 [==============================] - 0s 27ms/step - loss: 1806.1005 - mean_squared_error: 1806.1005 - val_loss: 989.1804 - val_mean_squared_error: 989.1804\n",
      "Epoch 65/100\n",
      "3/3 [==============================] - 0s 27ms/step - loss: 1725.4582 - mean_squared_error: 1725.4582 - val_loss: 896.5467 - val_mean_squared_error: 896.5467\n",
      "Epoch 66/100\n",
      "3/3 [==============================] - 0s 28ms/step - loss: 1675.1460 - mean_squared_error: 1675.1460 - val_loss: 1751.6511 - val_mean_squared_error: 1751.6511\n",
      "Epoch 67/100\n",
      "3/3 [==============================] - 0s 26ms/step - loss: 1895.4843 - mean_squared_error: 1895.4843 - val_loss: 1234.2588 - val_mean_squared_error: 1234.2588\n",
      "Epoch 68/100\n",
      "3/3 [==============================] - 0s 27ms/step - loss: 3741.0180 - mean_squared_error: 3741.0179 - val_loss: 1814.6760 - val_mean_squared_error: 1814.6760\n",
      "Epoch 69/100\n",
      "3/3 [==============================] - 0s 28ms/step - loss: 3259.2979 - mean_squared_error: 3259.2979 - val_loss: 591.1117 - val_mean_squared_error: 591.1117\n",
      "Epoch 70/100\n",
      "3/3 [==============================] - 0s 25ms/step - loss: 2199.4197 - mean_squared_error: 2199.4197 - val_loss: 3132.2671 - val_mean_squared_error: 3132.2671\n",
      "Epoch 71/100\n",
      "3/3 [==============================] - 0s 26ms/step - loss: 2441.9980 - mean_squared_error: 2441.9980 - val_loss: 1446.5861 - val_mean_squared_error: 1446.5861\n",
      "Epoch 72/100\n",
      "3/3 [==============================] - 0s 28ms/step - loss: 2041.0403 - mean_squared_error: 2041.0403 - val_loss: 3501.1367 - val_mean_squared_error: 3501.1367\n",
      "Epoch 73/100\n",
      "3/3 [==============================] - 0s 31ms/step - loss: 3687.4315 - mean_squared_error: 3687.4315 - val_loss: 863.4429 - val_mean_squared_error: 863.4429\n",
      "Epoch 74/100\n",
      "3/3 [==============================] - 0s 28ms/step - loss: 5124.2429 - mean_squared_error: 5124.2433 - val_loss: 1394.0057 - val_mean_squared_error: 1394.0057\n",
      "Epoch 75/100\n",
      "3/3 [==============================] - 0s 25ms/step - loss: 5165.9484 - mean_squared_error: 5165.9485 - val_loss: 1416.3538 - val_mean_squared_error: 1416.3538\n",
      "Epoch 76/100\n",
      "3/3 [==============================] - 0s 30ms/step - loss: 4426.9749 - mean_squared_error: 4426.9749 - val_loss: 1392.9100 - val_mean_squared_error: 1392.9100\n",
      "Epoch 77/100\n",
      "3/3 [==============================] - 0s 26ms/step - loss: 4713.9708 - mean_squared_error: 4713.9712 - val_loss: 716.8107 - val_mean_squared_error: 716.8107\n",
      "Epoch 78/100\n",
      "3/3 [==============================] - 0s 25ms/step - loss: 2702.2474 - mean_squared_error: 2702.2474 - val_loss: 1302.0432 - val_mean_squared_error: 1302.0432\n",
      "Epoch 79/100\n",
      "3/3 [==============================] - 0s 26ms/step - loss: 1984.3809 - mean_squared_error: 1984.3809 - val_loss: 4053.0164 - val_mean_squared_error: 4053.0164\n",
      "Epoch 80/100\n",
      "3/3 [==============================] - 0s 28ms/step - loss: 2188.6439 - mean_squared_error: 2188.6439 - val_loss: 5977.2725 - val_mean_squared_error: 5977.2725\n",
      "Epoch 81/100\n",
      "3/3 [==============================] - 0s 26ms/step - loss: 2181.0064 - mean_squared_error: 2181.0064 - val_loss: 580.4405 - val_mean_squared_error: 580.4405\n",
      "Epoch 82/100\n",
      "3/3 [==============================] - 0s 27ms/step - loss: 2532.0665 - mean_squared_error: 2532.0665 - val_loss: 271.4525 - val_mean_squared_error: 271.4525\n",
      "Epoch 83/100\n",
      "3/3 [==============================] - 0s 27ms/step - loss: 1738.4036 - mean_squared_error: 1738.4036 - val_loss: 1552.4670 - val_mean_squared_error: 1552.4670\n",
      "Epoch 84/100\n",
      "3/3 [==============================] - 0s 28ms/step - loss: 2103.1247 - mean_squared_error: 2103.1247 - val_loss: 1819.9250 - val_mean_squared_error: 1819.9250\n",
      "Epoch 85/100\n",
      "3/3 [==============================] - 0s 28ms/step - loss: 1140.8782 - mean_squared_error: 1140.8782 - val_loss: 871.7948 - val_mean_squared_error: 871.7948\n",
      "Epoch 86/100\n",
      "3/3 [==============================] - 0s 26ms/step - loss: 2177.8354 - mean_squared_error: 2177.8354 - val_loss: 692.4620 - val_mean_squared_error: 692.4620\n",
      "Epoch 87/100\n",
      "3/3 [==============================] - 0s 27ms/step - loss: 1915.1222 - mean_squared_error: 1915.1220 - val_loss: 1280.7572 - val_mean_squared_error: 1280.7572\n",
      "Epoch 88/100\n",
      "3/3 [==============================] - 0s 27ms/step - loss: 1563.3007 - mean_squared_error: 1563.3006 - val_loss: 3524.4048 - val_mean_squared_error: 3524.4048\n",
      "Epoch 89/100\n",
      "3/3 [==============================] - 0s 28ms/step - loss: 3183.3056 - mean_squared_error: 3183.3056 - val_loss: 1927.4709 - val_mean_squared_error: 1927.4709\n",
      "Epoch 90/100\n",
      "3/3 [==============================] - 0s 29ms/step - loss: 1164.8647 - mean_squared_error: 1164.8647 - val_loss: 485.4203 - val_mean_squared_error: 485.4203\n",
      "Epoch 91/100\n",
      "3/3 [==============================] - 0s 32ms/step - loss: 2443.1974 - mean_squared_error: 2443.1975 - val_loss: 1749.8168 - val_mean_squared_error: 1749.8168\n",
      "Epoch 92/100\n",
      "3/3 [==============================] - 0s 27ms/step - loss: 1044.5417 - mean_squared_error: 1044.5416 - val_loss: 5883.9111 - val_mean_squared_error: 5883.9111\n",
      "Epoch 93/100\n",
      "3/3 [==============================] - 0s 27ms/step - loss: 1788.5524 - mean_squared_error: 1788.5524 - val_loss: 2824.9185 - val_mean_squared_error: 2824.9185\n",
      "Epoch 94/100\n",
      "3/3 [==============================] - 0s 27ms/step - loss: 928.3496 - mean_squared_error: 928.3496 - val_loss: 497.0143 - val_mean_squared_error: 497.0143\n",
      "Epoch 95/100\n",
      "3/3 [==============================] - 0s 28ms/step - loss: 934.8983 - mean_squared_error: 934.8983 - val_loss: 220.4603 - val_mean_squared_error: 220.4603\n",
      "Epoch 96/100\n",
      "3/3 [==============================] - 0s 27ms/step - loss: 855.0361 - mean_squared_error: 855.0361 - val_loss: 1321.9500 - val_mean_squared_error: 1321.9500\n",
      "Epoch 97/100\n",
      "3/3 [==============================] - 0s 28ms/step - loss: 598.3504 - mean_squared_error: 598.3504 - val_loss: 1690.6888 - val_mean_squared_error: 1690.6888\n",
      "Epoch 98/100\n",
      "3/3 [==============================] - 0s 29ms/step - loss: 525.2451 - mean_squared_error: 525.2451 - val_loss: 1148.4996 - val_mean_squared_error: 1148.4996\n",
      "Epoch 99/100\n",
      "3/3 [==============================] - 0s 27ms/step - loss: 422.5318 - mean_squared_error: 422.5318 - val_loss: 1589.0099 - val_mean_squared_error: 1589.0099\n",
      "Epoch 100/100\n",
      "3/3 [==============================] - 0s 26ms/step - loss: 366.6790 - mean_squared_error: 366.6790 - val_loss: 1534.2847 - val_mean_squared_error: 1534.2847\n"
     ]
    }
   ],
   "source": [
    "X_train_u = trainX_urgent.reshape(trainX_urgent.shape[0],trainX_urgent.shape[1],1)\n",
    "X_test_u = testX_urgent.reshape(testX_urgent.shape[0],testX_urgent.shape[1],1)\n",
    "\n",
    "history_u = lstm_model.fit(X_train_u,trainy_urgent,epochs=100,batch_size=20,validation_data=(X_test_u,testy_urgent))"
   ]
  },
  {
   "cell_type": "code",
   "execution_count": 38,
   "metadata": {
    "colab": {
     "base_uri": "https://localhost:8080/"
    },
    "id": "SFm1NPMsgRHz",
    "outputId": "85dcbce3-185a-43fa-afeb-ee096e7d062e"
   },
   "outputs": [
    {
     "data": {
      "text/plain": [
       "dict_keys(['loss', 'mean_squared_error', 'val_loss', 'val_mean_squared_error'])"
      ]
     },
     "execution_count": 38,
     "metadata": {
      "tags": []
     },
     "output_type": "execute_result"
    }
   ],
   "source": [
    "history_u.history.keys()"
   ]
  },
  {
   "cell_type": "code",
   "execution_count": 39,
   "metadata": {
    "colab": {
     "base_uri": "https://localhost:8080/"
    },
    "id": "LWuY1Q9Af3V2",
    "outputId": "b71b5a2c-6e3e-41e6-8081-59098cc23013"
   },
   "outputs": [
    {
     "data": {
      "text/plain": [
       "1534.28466796875"
      ]
     },
     "execution_count": 39,
     "metadata": {
      "tags": []
     },
     "output_type": "execute_result"
    }
   ],
   "source": [
    "history_u.history['val_loss'][-1]"
   ]
  },
  {
   "cell_type": "code",
   "execution_count": 40,
   "metadata": {
    "colab": {
     "base_uri": "https://localhost:8080/",
     "height": 282
    },
    "id": "UZKtXWkPhiYG",
    "outputId": "fe85a3c1-3ac3-4c98-8d45-2422455ad535"
   },
   "outputs": [
    {
     "data": {
      "text/plain": [
       "<matplotlib.legend.Legend at 0x7fcf620a6a10>"
      ]
     },
     "execution_count": 40,
     "metadata": {
      "tags": []
     },
     "output_type": "execute_result"
    },
    {
     "data": {
      "image/png": "[encoded data removed]",
      "text/plain": [
       "<Figure size 432x288 with 1 Axes>"
      ]
     },
     "metadata": {
      "needs_background": "light",
      "tags": []
     },
     "output_type": "display_data"
    }
   ],
   "source": [
    "fig,ax = plt.subplots()\n",
    "ax.plot(history_u.history[\"loss\"],'r', marker='.', label=\"Train Loss\")\n",
    "ax.plot(history_u.history[\"val_loss\"],'b', marker='.', label=\"Validation Loss\")\n",
    "ax.legend()"
   ]
  },
  {
   "cell_type": "code",
   "execution_count": 40,
   "metadata": {
    "id": "aFCt36ocjmRe"
   },
   "outputs": [],
   "source": []
  },
  {
   "cell_type": "code",
   "execution_count": 41,
   "metadata": {
    "id": "X_y5DvANkR_R"
   },
   "outputs": [],
   "source": [
    "#try to predict\n",
    "X_future = np.array([[771.232,519.894,655.442],\n",
    "                     [690.221,781.001,591.999]]).reshape(2,3,1)"
   ]
  },
  {
   "cell_type": "code",
   "execution_count": 42,
   "metadata": {
    "colab": {
     "base_uri": "https://localhost:8080/"
    },
    "id": "oHhyqW-Liece",
    "outputId": "16113e37-7e0e-4434-a07f-c592b1cdbdcf"
   },
   "outputs": [
    {
     "data": {
      "text/plain": [
       "array([[384.84726],\n",
       "       [633.77167]], dtype=float32)"
      ]
     },
     "execution_count": 42,
     "metadata": {
      "tags": []
     },
     "output_type": "execute_result"
    }
   ],
   "source": [
    "forecast_val_u = lstm_model.predict(X_future)\n",
    "forecast_val_u"
   ]
  }
 ],
 "metadata": {
  "colab": {
   "collapsed_sections": [],
   "name": "timeseries.ipynb",
   "provenance": []
  },
  "kernelspec": {
   "display_name": "Python 3",
   "language": "python",
   "name": "python3"
  },
  "language_info": {
   "codemirror_mode": {
    "name": "ipython",
    "version": 3
   },
   "file_extension": ".py",
   "mimetype": "text/x-python",
   "name": "python",
   "nbconvert_exporter": "python",
   "pygments_lexer": "ipython3",
   "version": "3.8.5"
  }
 },
 "nbformat": 4,
 "nbformat_minor": 4
}
