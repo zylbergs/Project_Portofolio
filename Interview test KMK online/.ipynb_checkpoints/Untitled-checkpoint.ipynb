{
 "cells": [
  {
   "cell_type": "code",
   "execution_count": 1,
   "metadata": {},
   "outputs": [],
   "source": [
    "%config Completer.use_jedi = False"
   ]
  },
  {
   "cell_type": "code",
   "execution_count": 2,
   "metadata": {},
   "outputs": [],
   "source": [
    "import pandas as pd\n",
    "import numpy as np\n",
    "from matplotlib import pyplot as plt\n",
    "import seaborn as sns"
   ]
  },
  {
   "cell_type": "code",
   "execution_count": 3,
   "metadata": {},
   "outputs": [],
   "source": [
    "from scipy.stats import contingency,ttest_ind,ttest_1samp,f_oneway,chi2_contingency\n",
    "from statsmodels.stats.multicomp import pairwise_tukeyhsd"
   ]
  },
  {
   "cell_type": "code",
   "execution_count": 4,
   "metadata": {},
   "outputs": [
    {
     "name": "stderr",
     "output_type": "stream",
     "text": [
      "b'Skipping line 23509: expected 41 fields, saw 43\\nSkipping line 36946: expected 41 fields, saw 42\\nSkipping line 43788: expected 41 fields, saw 42\\nSkipping line 45437: expected 41 fields, saw 49\\nSkipping line 52141: expected 41 fields, saw 42\\nSkipping line 73470: expected 41 fields, saw 42\\nSkipping line 75103: expected 41 fields, saw 42\\nSkipping line 87928: expected 41 fields, saw 42\\nSkipping line 98453: expected 41 fields, saw 42\\nSkipping line 98771: expected 41 fields, saw 42\\nSkipping line 101047: expected 41 fields, saw 42\\nSkipping line 104676: expected 41 fields, saw 42\\n'\n"
     ]
    }
   ],
   "source": [
    "df = pd.read_csv('sampling 1 plays.csv',error_bad_lines=False, low_memory=False)"
   ]
  },
  {
   "cell_type": "markdown",
   "metadata": {},
   "source": [
    "### EDA"
   ]
  },
  {
   "cell_type": "code",
   "execution_count": 5,
   "metadata": {},
   "outputs": [
    {
     "data": {
      "text/html": [
       "<div>\n",
       "<style scoped>\n",
       "    .dataframe tbody tr th:only-of-type {\n",
       "        vertical-align: middle;\n",
       "    }\n",
       "\n",
       "    .dataframe tbody tr th {\n",
       "        vertical-align: top;\n",
       "    }\n",
       "\n",
       "    .dataframe thead th {\n",
       "        text-align: right;\n",
       "    }\n",
       "</style>\n",
       "<table border=\"1\" class=\"dataframe\">\n",
       "  <thead>\n",
       "    <tr style=\"text-align: right;\">\n",
       "      <th></th>\n",
       "      <th>hash_content_id</th>\n",
       "      <th>hash_play_id</th>\n",
       "      <th>hash_visit_id</th>\n",
       "      <th>hash_watcher_id</th>\n",
       "      <th>hash_film_id</th>\n",
       "      <th>hash_event_id</th>\n",
       "      <th>is_login</th>\n",
       "      <th>playback_location</th>\n",
       "      <th>platform</th>\n",
       "      <th>play_time</th>\n",
       "      <th>...</th>\n",
       "      <th>app_version</th>\n",
       "      <th>city</th>\n",
       "      <th>play_duration</th>\n",
       "      <th>content_type</th>\n",
       "      <th>stream_type</th>\n",
       "      <th>title</th>\n",
       "      <th>category_name</th>\n",
       "      <th>film_title</th>\n",
       "      <th>season_name</th>\n",
       "      <th>genre_name</th>\n",
       "    </tr>\n",
       "  </thead>\n",
       "  <tbody>\n",
       "    <tr>\n",
       "      <th>0</th>\n",
       "      <td>0096dafb1049ee942e8e7cbad5abf4a46dc92e3995caac...</td>\n",
       "      <td>0162f124f5bd61592d9bca6aaa3b1b6097a00b62ef33c9...</td>\n",
       "      <td>27dfffe2bb74f8767caeb64ac4c92e9eaf4b11a28ef7e1...</td>\n",
       "      <td>e7c2138fd9d4047356066a01de46fc22ee9955a6fd6679...</td>\n",
       "      <td>NaN</td>\n",
       "      <td>c81bd64a212d3b5cb227499a6b4a3dc607748ae5133e48...</td>\n",
       "      <td>False</td>\n",
       "      <td>embed</td>\n",
       "      <td>web-mobile</td>\n",
       "      <td>2020-02-02T10:21:20.000Z</td>\n",
       "      <td>...</td>\n",
       "      <td>NaN</td>\n",
       "      <td>NaN</td>\n",
       "      <td>0</td>\n",
       "      <td>vod</td>\n",
       "      <td>NaN</td>\n",
       "      <td>Kiprah Eks Pemain Juventus yang Dikaitkan deng...</td>\n",
       "      <td>Sports</td>\n",
       "      <td>NaN</td>\n",
       "      <td>NaN</td>\n",
       "      <td>NaN</td>\n",
       "    </tr>\n",
       "    <tr>\n",
       "      <th>1</th>\n",
       "      <td>01ddda2f8667719625bd0afa58537fd95a166c93233b8b...</td>\n",
       "      <td>5f6c722782c919a9cb6254e94086462a6c34794dc741b6...</td>\n",
       "      <td>90b2b454e70a2c13cf9e8ca987d7c4f914c7d819532c5d...</td>\n",
       "      <td>d265ea2b8df584c51de3b2c6aebb6a0415384a18d1a148...</td>\n",
       "      <td>NaN</td>\n",
       "      <td>90a514e451e400c4c32ac42815920a66c500c1c2ea347d...</td>\n",
       "      <td>False</td>\n",
       "      <td>embed</td>\n",
       "      <td>web-mobile</td>\n",
       "      <td>2020-02-02T12:17:33.000Z</td>\n",
       "      <td>...</td>\n",
       "      <td>NaN</td>\n",
       "      <td>NaN</td>\n",
       "      <td>19</td>\n",
       "      <td>vod</td>\n",
       "      <td>NaN</td>\n",
       "      <td>Pindah ke Inter Milan, Christian Eriksen Jadi ...</td>\n",
       "      <td>Sports</td>\n",
       "      <td>NaN</td>\n",
       "      <td>NaN</td>\n",
       "      <td>NaN</td>\n",
       "    </tr>\n",
       "    <tr>\n",
       "      <th>2</th>\n",
       "      <td>01ddda2f8667719625bd0afa58537fd95a166c93233b8b...</td>\n",
       "      <td>66c32aa6aa6a63f7d85d1bd1b8b6b295477c88794888d8...</td>\n",
       "      <td>f79cab25855841a83e6aa01eccbf3d167491a868977b77...</td>\n",
       "      <td>d2585a4b468b7cdbebc053ffc5b49cebd58d6e738bccdd...</td>\n",
       "      <td>NaN</td>\n",
       "      <td>c278001db02102ece22d428b9235332856cba4754b63a0...</td>\n",
       "      <td>False</td>\n",
       "      <td>embed</td>\n",
       "      <td>web-mobile</td>\n",
       "      <td>2020-02-02T01:26:42.000Z</td>\n",
       "      <td>...</td>\n",
       "      <td>NaN</td>\n",
       "      <td>NaN</td>\n",
       "      <td>24</td>\n",
       "      <td>vod</td>\n",
       "      <td>NaN</td>\n",
       "      <td>Pindah ke Inter Milan, Christian Eriksen Jadi ...</td>\n",
       "      <td>Sports</td>\n",
       "      <td>NaN</td>\n",
       "      <td>NaN</td>\n",
       "      <td>NaN</td>\n",
       "    </tr>\n",
       "    <tr>\n",
       "      <th>3</th>\n",
       "      <td>01e34cb2658d0461f220bda493cb38427eef7de1e23e6e...</td>\n",
       "      <td>38976454aec1c7ff4ca0a35df8821db29227443352e705...</td>\n",
       "      <td>f23800acfeede429803cb2a1380ca7652067fb35d079a8...</td>\n",
       "      <td>bba3183af4f6c29d97dce6ee557561e3feef31d19ae9ab...</td>\n",
       "      <td>NaN</td>\n",
       "      <td>ed0731e9861306e6e26cf3cfb5a43da6b0e19af3ff3ff5...</td>\n",
       "      <td>False</td>\n",
       "      <td>embed</td>\n",
       "      <td>web-mobile</td>\n",
       "      <td>2020-02-02T13:45:05.000Z</td>\n",
       "      <td>...</td>\n",
       "      <td>NaN</td>\n",
       "      <td>NaN</td>\n",
       "      <td>0</td>\n",
       "      <td>vod</td>\n",
       "      <td>NaN</td>\n",
       "      <td>5 Kelebihan Mikel Arteta Menurut Pep Guardiola</td>\n",
       "      <td>Sports</td>\n",
       "      <td>NaN</td>\n",
       "      <td>NaN</td>\n",
       "      <td>NaN</td>\n",
       "    </tr>\n",
       "    <tr>\n",
       "      <th>4</th>\n",
       "      <td>01e34cb2658d0461f220bda493cb38427eef7de1e23e6e...</td>\n",
       "      <td>4b4ee4aa4c37519250aa6efbd78e789b40d976474a1c37...</td>\n",
       "      <td>b058895b6fce58bcfbd72bfd7a3dfa4ae01d094e21c976...</td>\n",
       "      <td>317ecdb779c3ba5bdc1818405aaafebcef35e9582c42e5...</td>\n",
       "      <td>NaN</td>\n",
       "      <td>3679f65950032d6bff1323df5b29292adad99918d616ae...</td>\n",
       "      <td>False</td>\n",
       "      <td>embed</td>\n",
       "      <td>web-desktop</td>\n",
       "      <td>2020-02-02T13:23:40.000Z</td>\n",
       "      <td>...</td>\n",
       "      <td>NaN</td>\n",
       "      <td>NaN</td>\n",
       "      <td>4</td>\n",
       "      <td>vod</td>\n",
       "      <td>NaN</td>\n",
       "      <td>5 Kelebihan Mikel Arteta Menurut Pep Guardiola</td>\n",
       "      <td>Sports</td>\n",
       "      <td>NaN</td>\n",
       "      <td>NaN</td>\n",
       "      <td>NaN</td>\n",
       "    </tr>\n",
       "  </tbody>\n",
       "</table>\n",
       "<p>5 rows × 41 columns</p>\n",
       "</div>"
      ],
      "text/plain": [
       "                                     hash_content_id  \\\n",
       "0  0096dafb1049ee942e8e7cbad5abf4a46dc92e3995caac...   \n",
       "1  01ddda2f8667719625bd0afa58537fd95a166c93233b8b...   \n",
       "2  01ddda2f8667719625bd0afa58537fd95a166c93233b8b...   \n",
       "3  01e34cb2658d0461f220bda493cb38427eef7de1e23e6e...   \n",
       "4  01e34cb2658d0461f220bda493cb38427eef7de1e23e6e...   \n",
       "\n",
       "                                        hash_play_id  \\\n",
       "0  0162f124f5bd61592d9bca6aaa3b1b6097a00b62ef33c9...   \n",
       "1  5f6c722782c919a9cb6254e94086462a6c34794dc741b6...   \n",
       "2  66c32aa6aa6a63f7d85d1bd1b8b6b295477c88794888d8...   \n",
       "3  38976454aec1c7ff4ca0a35df8821db29227443352e705...   \n",
       "4  4b4ee4aa4c37519250aa6efbd78e789b40d976474a1c37...   \n",
       "\n",
       "                                       hash_visit_id  \\\n",
       "0  27dfffe2bb74f8767caeb64ac4c92e9eaf4b11a28ef7e1...   \n",
       "1  90b2b454e70a2c13cf9e8ca987d7c4f914c7d819532c5d...   \n",
       "2  f79cab25855841a83e6aa01eccbf3d167491a868977b77...   \n",
       "3  f23800acfeede429803cb2a1380ca7652067fb35d079a8...   \n",
       "4  b058895b6fce58bcfbd72bfd7a3dfa4ae01d094e21c976...   \n",
       "\n",
       "                                     hash_watcher_id hash_film_id  \\\n",
       "0  e7c2138fd9d4047356066a01de46fc22ee9955a6fd6679...          NaN   \n",
       "1  d265ea2b8df584c51de3b2c6aebb6a0415384a18d1a148...          NaN   \n",
       "2  d2585a4b468b7cdbebc053ffc5b49cebd58d6e738bccdd...          NaN   \n",
       "3  bba3183af4f6c29d97dce6ee557561e3feef31d19ae9ab...          NaN   \n",
       "4  317ecdb779c3ba5bdc1818405aaafebcef35e9582c42e5...          NaN   \n",
       "\n",
       "                                       hash_event_id  is_login  \\\n",
       "0  c81bd64a212d3b5cb227499a6b4a3dc607748ae5133e48...     False   \n",
       "1  90a514e451e400c4c32ac42815920a66c500c1c2ea347d...     False   \n",
       "2  c278001db02102ece22d428b9235332856cba4754b63a0...     False   \n",
       "3  ed0731e9861306e6e26cf3cfb5a43da6b0e19af3ff3ff5...     False   \n",
       "4  3679f65950032d6bff1323df5b29292adad99918d616ae...     False   \n",
       "\n",
       "  playback_location     platform                 play_time  ... app_version  \\\n",
       "0             embed   web-mobile  2020-02-02T10:21:20.000Z  ...         NaN   \n",
       "1             embed   web-mobile  2020-02-02T12:17:33.000Z  ...         NaN   \n",
       "2             embed   web-mobile  2020-02-02T01:26:42.000Z  ...         NaN   \n",
       "3             embed   web-mobile  2020-02-02T13:45:05.000Z  ...         NaN   \n",
       "4             embed  web-desktop  2020-02-02T13:23:40.000Z  ...         NaN   \n",
       "\n",
       "  city  play_duration content_type  stream_type  \\\n",
       "0  NaN              0          vod          NaN   \n",
       "1  NaN             19          vod          NaN   \n",
       "2  NaN             24          vod          NaN   \n",
       "3  NaN              0          vod          NaN   \n",
       "4  NaN              4          vod          NaN   \n",
       "\n",
       "                                               title category_name film_title  \\\n",
       "0  Kiprah Eks Pemain Juventus yang Dikaitkan deng...        Sports        NaN   \n",
       "1  Pindah ke Inter Milan, Christian Eriksen Jadi ...        Sports        NaN   \n",
       "2  Pindah ke Inter Milan, Christian Eriksen Jadi ...        Sports        NaN   \n",
       "3     5 Kelebihan Mikel Arteta Menurut Pep Guardiola        Sports        NaN   \n",
       "4     5 Kelebihan Mikel Arteta Menurut Pep Guardiola        Sports        NaN   \n",
       "\n",
       "  season_name genre_name  \n",
       "0         NaN        NaN  \n",
       "1         NaN        NaN  \n",
       "2         NaN        NaN  \n",
       "3         NaN        NaN  \n",
       "4         NaN        NaN  \n",
       "\n",
       "[5 rows x 41 columns]"
      ]
     },
     "execution_count": 5,
     "metadata": {},
     "output_type": "execute_result"
    }
   ],
   "source": [
    "df.head()"
   ]
  },
  {
   "cell_type": "code",
   "execution_count": 6,
   "metadata": {},
   "outputs": [
    {
     "data": {
      "text/html": [
       "<div>\n",
       "<style scoped>\n",
       "    .dataframe tbody tr th:only-of-type {\n",
       "        vertical-align: middle;\n",
       "    }\n",
       "\n",
       "    .dataframe tbody tr th {\n",
       "        vertical-align: top;\n",
       "    }\n",
       "\n",
       "    .dataframe thead th {\n",
       "        text-align: right;\n",
       "    }\n",
       "</style>\n",
       "<table border=\"1\" class=\"dataframe\">\n",
       "  <thead>\n",
       "    <tr style=\"text-align: right;\">\n",
       "      <th></th>\n",
       "      <th>average_bitrate</th>\n",
       "      <th>total_bytes</th>\n",
       "      <th>buffer_duration</th>\n",
       "      <th>city</th>\n",
       "      <th>play_duration</th>\n",
       "    </tr>\n",
       "  </thead>\n",
       "  <tbody>\n",
       "    <tr>\n",
       "      <th>count</th>\n",
       "      <td>101865.000000</td>\n",
       "      <td>1.068110e+05</td>\n",
       "      <td>1.068110e+05</td>\n",
       "      <td>0.0</td>\n",
       "      <td>106811.000000</td>\n",
       "    </tr>\n",
       "    <tr>\n",
       "      <th>mean</th>\n",
       "      <td>199406.240230</td>\n",
       "      <td>7.765342e+07</td>\n",
       "      <td>2.272422e+05</td>\n",
       "      <td>NaN</td>\n",
       "      <td>425.431847</td>\n",
       "    </tr>\n",
       "    <tr>\n",
       "      <th>std</th>\n",
       "      <td>141397.648431</td>\n",
       "      <td>4.683612e+08</td>\n",
       "      <td>7.416347e+07</td>\n",
       "      <td>NaN</td>\n",
       "      <td>1541.638614</td>\n",
       "    </tr>\n",
       "    <tr>\n",
       "      <th>min</th>\n",
       "      <td>144.000000</td>\n",
       "      <td>0.000000e+00</td>\n",
       "      <td>0.000000e+00</td>\n",
       "      <td>NaN</td>\n",
       "      <td>0.000000</td>\n",
       "    </tr>\n",
       "    <tr>\n",
       "      <th>25%</th>\n",
       "      <td>633.000000</td>\n",
       "      <td>7.500000e+02</td>\n",
       "      <td>0.000000e+00</td>\n",
       "      <td>NaN</td>\n",
       "      <td>4.000000</td>\n",
       "    </tr>\n",
       "    <tr>\n",
       "      <th>50%</th>\n",
       "      <td>300000.000000</td>\n",
       "      <td>5.062500e+05</td>\n",
       "      <td>1.000000e+00</td>\n",
       "      <td>NaN</td>\n",
       "      <td>41.000000</td>\n",
       "    </tr>\n",
       "    <tr>\n",
       "      <th>75%</th>\n",
       "      <td>300000.000000</td>\n",
       "      <td>1.125000e+07</td>\n",
       "      <td>6.000000e+00</td>\n",
       "      <td>NaN</td>\n",
       "      <td>120.000000</td>\n",
       "    </tr>\n",
       "    <tr>\n",
       "      <th>max</th>\n",
       "      <td>300000.000000</td>\n",
       "      <td>3.092062e+10</td>\n",
       "      <td>2.423807e+10</td>\n",
       "      <td>NaN</td>\n",
       "      <td>82455.000000</td>\n",
       "    </tr>\n",
       "  </tbody>\n",
       "</table>\n",
       "</div>"
      ],
      "text/plain": [
       "       average_bitrate   total_bytes  buffer_duration  city  play_duration\n",
       "count    101865.000000  1.068110e+05     1.068110e+05   0.0  106811.000000\n",
       "mean     199406.240230  7.765342e+07     2.272422e+05   NaN     425.431847\n",
       "std      141397.648431  4.683612e+08     7.416347e+07   NaN    1541.638614\n",
       "min         144.000000  0.000000e+00     0.000000e+00   NaN       0.000000\n",
       "25%         633.000000  7.500000e+02     0.000000e+00   NaN       4.000000\n",
       "50%      300000.000000  5.062500e+05     1.000000e+00   NaN      41.000000\n",
       "75%      300000.000000  1.125000e+07     6.000000e+00   NaN     120.000000\n",
       "max      300000.000000  3.092062e+10     2.423807e+10   NaN   82455.000000"
      ]
     },
     "execution_count": 6,
     "metadata": {},
     "output_type": "execute_result"
    }
   ],
   "source": [
    "df.describe()"
   ]
  },
  {
   "cell_type": "code",
   "execution_count": 7,
   "metadata": {},
   "outputs": [],
   "source": [
    "#help(pd.to_datetime)"
   ]
  },
  {
   "cell_type": "code",
   "execution_count": 8,
   "metadata": {},
   "outputs": [],
   "source": [
    "df['play_time'] = pd.to_datetime(df['play_time'],yearfirst=True)\n",
    "df['end_time'] = pd.to_datetime(df['end_time'],yearfirst=True)\n",
    "\n",
    "# drop end time column, since it is not so useful"
   ]
  },
  {
   "cell_type": "code",
   "execution_count": 9,
   "metadata": {},
   "outputs": [],
   "source": [
    "df['average_bitrate'] = df['average_bitrate'].astype('int32',errors= 'ignore')"
   ]
  },
  {
   "cell_type": "code",
   "execution_count": 10,
   "metadata": {},
   "outputs": [
    {
     "data": {
      "text/plain": [
       "200-500    67633\n",
       "0-200      34232\n",
       "unknown     4946\n",
       "Name: bitrate_range, dtype: int64"
      ]
     },
     "execution_count": 10,
     "metadata": {},
     "output_type": "execute_result"
    }
   ],
   "source": [
    "df['bitrate_range'].value_counts()"
   ]
  },
  {
   "cell_type": "code",
   "execution_count": 11,
   "metadata": {},
   "outputs": [
    {
     "data": {
      "text/plain": [
       "dtype('int64')"
      ]
     },
     "execution_count": 11,
     "metadata": {},
     "output_type": "execute_result"
    }
   ],
   "source": [
    "df['total_bytes'].dtype"
   ]
  },
  {
   "cell_type": "code",
   "execution_count": 12,
   "metadata": {},
   "outputs": [
    {
     "data": {
      "text/plain": [
       "dtype('float64')"
      ]
     },
     "execution_count": 12,
     "metadata": {},
     "output_type": "execute_result"
    }
   ],
   "source": [
    "df['buffer_duration'].dtype"
   ]
  },
  {
   "cell_type": "code",
   "execution_count": 13,
   "metadata": {},
   "outputs": [
    {
     "data": {
      "text/plain": [
       "106811"
      ]
     },
     "execution_count": 13,
     "metadata": {},
     "output_type": "execute_result"
    }
   ],
   "source": [
    "df['referrer_group'].count()"
   ]
  },
  {
   "cell_type": "code",
   "execution_count": 14,
   "metadata": {},
   "outputs": [
    {
     "data": {
      "text/plain": [
       "101050"
      ]
     },
     "execution_count": 14,
     "metadata": {},
     "output_type": "execute_result"
    }
   ],
   "source": [
    "df['referrer'].count()\n",
    "# not that useful feature"
   ]
  },
  {
   "cell_type": "code",
   "execution_count": 15,
   "metadata": {},
   "outputs": [],
   "source": [
    "#df.completed.replace(True,'Completed',inplace=True)"
   ]
  },
  {
   "cell_type": "code",
   "execution_count": 16,
   "metadata": {},
   "outputs": [],
   "source": [
    "#df.completed.replace(False,'Not Completed',inplace=True)"
   ]
  },
  {
   "cell_type": "code",
   "execution_count": 17,
   "metadata": {},
   "outputs": [
    {
     "data": {
      "text/plain": [
       "False    51059\n",
       "True     16815\n",
       "Name: completed, dtype: int64"
      ]
     },
     "execution_count": 17,
     "metadata": {},
     "output_type": "execute_result"
    }
   ],
   "source": [
    "df['completed'].value_counts()"
   ]
  },
  {
   "cell_type": "code",
   "execution_count": 18,
   "metadata": {},
   "outputs": [
    {
     "data": {
      "text/plain": [
       "Youtube                66\n",
       "marketing               9\n",
       "avod                    8\n",
       "livestreaming           2\n",
       "partnership             1\n",
       "Digital%20Marketing     1\n",
       "Name: utm_source, dtype: int64"
      ]
     },
     "execution_count": 18,
     "metadata": {},
     "output_type": "execute_result"
    }
   ],
   "source": [
    "df['utm_source'].value_counts()\n",
    "# not so useful, consider dropping it"
   ]
  },
  {
   "cell_type": "code",
   "execution_count": 19,
   "metadata": {},
   "outputs": [
    {
     "data": {
      "text/plain": [
       "Youtube                66\n",
       "marketing               9\n",
       "avod                    8\n",
       "livestreaming           2\n",
       "partnership             1\n",
       "Digital%20Marketing     1\n",
       "Name: utm_source, dtype: int64"
      ]
     },
     "execution_count": 19,
     "metadata": {},
     "output_type": "execute_result"
    }
   ],
   "source": [
    "df['utm_source'].value_counts()"
   ]
  },
  {
   "cell_type": "code",
   "execution_count": 20,
   "metadata": {},
   "outputs": [
    {
     "data": {
      "text/plain": [
       "vidio-share        18\n",
       "vidio-app-share    10\n",
       "instagram           5\n",
       "twitter             2\n",
       "fbig                2\n",
       "%20kobe_bryant      1\n",
       "Name: utm_campaign, dtype: int64"
      ]
     },
     "execution_count": 20,
     "metadata": {},
     "output_type": "execute_result"
    }
   ],
   "source": [
    "df['utm_campaign'].value_counts()"
   ]
  },
  {
   "cell_type": "code",
   "execution_count": 21,
   "metadata": {},
   "outputs": [
    {
     "data": {
      "text/plain": [
       "array(['videojs', 'KmkExoVideoView', nan, 'kmkexoplayer'], dtype=object)"
      ]
     },
     "execution_count": 21,
     "metadata": {},
     "output_type": "execute_result"
    }
   ],
   "source": [
    "df['player_name'].unique()"
   ]
  },
  {
   "cell_type": "code",
   "execution_count": 22,
   "metadata": {},
   "outputs": [],
   "source": [
    "df['player_name'] = df['player_name'].astype('category',errors='ignore')"
   ]
  },
  {
   "cell_type": "code",
   "execution_count": 23,
   "metadata": {},
   "outputs": [
    {
     "data": {
      "text/plain": [
       "videojs            71961\n",
       "KmkExoVideoView    31582\n",
       "kmkexoplayer           1\n",
       "Name: player_name, dtype: int64"
      ]
     },
     "execution_count": 23,
     "metadata": {},
     "output_type": "execute_result"
    }
   ],
   "source": [
    "df['player_name'].value_counts()"
   ]
  },
  {
   "cell_type": "code",
   "execution_count": 24,
   "metadata": {},
   "outputs": [],
   "source": [
    "df['has_ad']= df['has_ad'].apply(lambda x: 1 if x ==True else 0)\n",
    "df['has_ad']=df['has_ad'].astype('category',errors='ignore')"
   ]
  },
  {
   "cell_type": "code",
   "execution_count": 25,
   "metadata": {},
   "outputs": [],
   "source": [
    "df['flash_version'].isnull().sum()\n",
    "df['flash_version']=df['flash_version'].astype('category',errors='ignore')"
   ]
  },
  {
   "cell_type": "code",
   "execution_count": 26,
   "metadata": {},
   "outputs": [],
   "source": [
    "df['os_name'].isnull().sum()\n",
    "df['os_name']=df['os_name'].astype('category',errors='ignore')"
   ]
  },
  {
   "cell_type": "code",
   "execution_count": 27,
   "metadata": {},
   "outputs": [],
   "source": [
    "df['os_version']=df['os_version'].astype('category',errors='ignore')"
   ]
  },
  {
   "cell_type": "code",
   "execution_count": 28,
   "metadata": {},
   "outputs": [],
   "source": [
    "df['browser_name']=df['browser_name'].astype('category',errors='ignore')"
   ]
  },
  {
   "cell_type": "code",
   "execution_count": 29,
   "metadata": {},
   "outputs": [],
   "source": [
    " df['browser_version']=df['browser_version'].astype('category',errors='ignore')"
   ]
  },
  {
   "cell_type": "code",
   "execution_count": 30,
   "metadata": {},
   "outputs": [],
   "source": [
    "df['app_name'] = df['app_name'].astype('category',errors='ignore')"
   ]
  },
  {
   "cell_type": "code",
   "execution_count": 31,
   "metadata": {},
   "outputs": [],
   "source": [
    "#df['autoplay'].replace(True, 1,inplace=True)\n",
    "#df['autoplay'].replace(False, 0,inplace=True)\n"
   ]
  },
  {
   "cell_type": "code",
   "execution_count": 32,
   "metadata": {},
   "outputs": [],
   "source": [
    "df['autoplay'] = df['autoplay'].astype('category',errors='ignore')"
   ]
  },
  {
   "cell_type": "code",
   "execution_count": 33,
   "metadata": {},
   "outputs": [],
   "source": [
    "df['is_premium']=df['is_premium'].astype('category',errors='ignore')"
   ]
  },
  {
   "cell_type": "code",
   "execution_count": 34,
   "metadata": {},
   "outputs": [],
   "source": [
    "df['app_version'] = df['app_version'].astype('category',errors='ignore')"
   ]
  },
  {
   "cell_type": "code",
   "execution_count": 35,
   "metadata": {},
   "outputs": [
    {
     "data": {
      "text/plain": [
       "106811"
      ]
     },
     "execution_count": 35,
     "metadata": {},
     "output_type": "execute_result"
    }
   ],
   "source": [
    "df['city'].isnull().sum()\n",
    "# -_-"
   ]
  },
  {
   "cell_type": "code",
   "execution_count": 36,
   "metadata": {
    "scrolled": true
   },
   "outputs": [
    {
     "name": "stdout",
     "output_type": "stream",
     "text": [
      "<class 'pandas.core.frame.DataFrame'>\n",
      "RangeIndex: 106811 entries, 0 to 106810\n",
      "Data columns (total 41 columns):\n",
      " #   Column             Non-Null Count   Dtype              \n",
      "---  ------             --------------   -----              \n",
      " 0   hash_content_id    106811 non-null  object             \n",
      " 1   hash_play_id       106811 non-null  object             \n",
      " 2   hash_visit_id      106811 non-null  object             \n",
      " 3   hash_watcher_id    106811 non-null  object             \n",
      " 4   hash_film_id       5818 non-null    object             \n",
      " 5   hash_event_id      106811 non-null  object             \n",
      " 6   is_login           106811 non-null  bool               \n",
      " 7   playback_location  106811 non-null  object             \n",
      " 8   platform           106811 non-null  object             \n",
      " 9   play_time          106811 non-null  datetime64[ns, UTC]\n",
      " 10  end_time           106811 non-null  datetime64[ns, UTC]\n",
      " 11  referrer           101050 non-null  object             \n",
      " 12  average_bitrate    101865 non-null  float64            \n",
      " 13  bitrate_range      106811 non-null  object             \n",
      " 14  total_bytes        106811 non-null  int64              \n",
      " 15  buffer_duration    106811 non-null  float64            \n",
      " 16  referrer_group     106811 non-null  object             \n",
      " 17  completed          67874 non-null   object             \n",
      " 18  utm_source         87 non-null      object             \n",
      " 19  utm_medium         87 non-null      object             \n",
      " 20  utm_campaign       38 non-null      object             \n",
      " 21  player_name        103544 non-null  category           \n",
      " 22  has_ad             106811 non-null  category           \n",
      " 23  flash_version      71961 non-null   category           \n",
      " 24  os_name            73086 non-null   category           \n",
      " 25  os_version         106406 non-null  category           \n",
      " 26  browser_name       73145 non-null   category           \n",
      " 27  browser_version    70773 non-null   category           \n",
      " 28  app_name           106811 non-null  category           \n",
      " 29  autoplay           67851 non-null   category           \n",
      " 30  is_premium         106811 non-null  category           \n",
      " 31  app_version        34682 non-null   category           \n",
      " 32  city               0 non-null       float64            \n",
      " 33  play_duration      106811 non-null  int64              \n",
      " 34  content_type       106811 non-null  object             \n",
      " 35  stream_type        38937 non-null   object             \n",
      " 36  title              106811 non-null  object             \n",
      " 37  category_name      67874 non-null   object             \n",
      " 38  film_title         5816 non-null    object             \n",
      " 39  season_name        5818 non-null    object             \n",
      " 40  genre_name         5225 non-null    object             \n",
      "dtypes: bool(1), category(11), datetime64[ns, UTC](2), float64(3), int64(2), object(22)\n",
      "memory usage: 25.1+ MB\n"
     ]
    }
   ],
   "source": [
    "df.info()"
   ]
  },
  {
   "cell_type": "code",
   "execution_count": 37,
   "metadata": {},
   "outputs": [],
   "source": [
    "df['content_type'] = df['content_type'].astype('category',errors='ignore')"
   ]
  },
  {
   "cell_type": "code",
   "execution_count": 38,
   "metadata": {},
   "outputs": [],
   "source": [
    "df['stream_type'].value_counts()\n",
    "df['stream_type'].isnull().sum()\n",
    "df['stream_type'] = df['stream_type'].astype('category',errors='ignore')"
   ]
  },
  {
   "cell_type": "code",
   "execution_count": 39,
   "metadata": {},
   "outputs": [
    {
     "data": {
      "text/plain": [
       "10162"
      ]
     },
     "execution_count": 39,
     "metadata": {},
     "output_type": "execute_result"
    }
   ],
   "source": [
    "df['title'].nunique()"
   ]
  },
  {
   "cell_type": "code",
   "execution_count": 40,
   "metadata": {},
   "outputs": [],
   "source": [
    "df['category_name'] = df['category_name'].astype('category',errors='ignore')"
   ]
  },
  {
   "cell_type": "code",
   "execution_count": 41,
   "metadata": {},
   "outputs": [
    {
     "data": {
      "text/plain": [
       "0         NaN\n",
       "1         NaN\n",
       "2         NaN\n",
       "3         NaN\n",
       "4         NaN\n",
       "         ... \n",
       "106806    NaN\n",
       "106807    NaN\n",
       "106808    NaN\n",
       "106809    NaN\n",
       "106810    NaN\n",
       "Name: film_title, Length: 106811, dtype: object"
      ]
     },
     "execution_count": 41,
     "metadata": {},
     "output_type": "execute_result"
    }
   ],
   "source": [
    "df['film_title']"
   ]
  },
  {
   "cell_type": "markdown",
   "metadata": {},
   "source": [
    "# Feature engineering"
   ]
  },
  {
   "cell_type": "code",
   "execution_count": 42,
   "metadata": {},
   "outputs": [],
   "source": [
    "# inspecting missing value in a percentage \n",
    "def missing_percentage(df):\n",
    "    number_na = df.isnull().sum() * 100 / len(df)\n",
    "    number_na = number_na[number_na > 0].sort_values()\n",
    "    return number_na"
   ]
  },
  {
   "cell_type": "code",
   "execution_count": 43,
   "metadata": {},
   "outputs": [],
   "source": [
    "missing_clm = missing_percentage(df)"
   ]
  },
  {
   "cell_type": "code",
   "execution_count": 44,
   "metadata": {},
   "outputs": [],
   "source": [
    "# treshold percentage of rows 1%"
   ]
  },
  {
   "cell_type": "code",
   "execution_count": 45,
   "metadata": {},
   "outputs": [
    {
     "data": {
      "image/png": "[encoded data removed]",
      "text/plain": [
       "<Figure size 750x600 with 1 Axes>"
      ]
     },
     "metadata": {
      "needs_background": "light"
     },
     "output_type": "display_data"
    }
   ],
   "source": [
    "plt.figure(figsize=(10,8),dpi=75)\n",
    "sns.barplot(x=missing_clm.index,y=missing_clm)\n",
    "plt.xticks(rotation=90)\n",
    "plt.ylabel('Percentage')\n",
    "plt.xlabel('Features')\n",
    "plt.show()"
   ]
  },
  {
   "cell_type": "code",
   "execution_count": 46,
   "metadata": {},
   "outputs": [
    {
     "data": {
      "image/png": "[encoded data removed]",
      "text/plain": [
       "<Figure size 750x600 with 1 Axes>"
      ]
     },
     "metadata": {
      "needs_background": "light"
     },
     "output_type": "display_data"
    }
   ],
   "source": [
    "plt.figure(figsize=(10,8),dpi=75)\n",
    "sns.barplot(x=missing_clm.index,y=missing_clm)\n",
    "plt.xticks(rotation=90)\n",
    "plt.ylabel('Percentage')\n",
    "plt.xlabel('Features')\n",
    "plt.ylim([0,1])\n",
    "plt.show()"
   ]
  },
  {
   "cell_type": "code",
   "execution_count": 47,
   "metadata": {},
   "outputs": [],
   "source": [
    "df = df.dropna(subset=['os_version'])"
   ]
  },
  {
   "cell_type": "code",
   "execution_count": 48,
   "metadata": {},
   "outputs": [],
   "source": [
    "missing_clm = missing_percentage(df)"
   ]
  },
  {
   "cell_type": "code",
   "execution_count": 49,
   "metadata": {},
   "outputs": [
    {
     "data": {
      "image/png": "[encoded data removed]",
      "text/plain": [
       "<Figure size 750x600 with 1 Axes>"
      ]
     },
     "metadata": {
      "needs_background": "light"
     },
     "output_type": "display_data"
    }
   ],
   "source": [
    "plt.figure(figsize=(10,8),dpi=75)\n",
    "sns.barplot(x=missing_clm.index,y=missing_clm)\n",
    "plt.xticks(rotation=90)\n",
    "plt.ylabel('Percentage')\n",
    "plt.xlabel('Features')\n",
    "plt.show()"
   ]
  },
  {
   "cell_type": "code",
   "execution_count": 55,
   "metadata": {},
   "outputs": [],
   "source": [
    "df['player_name'] = df['player_name'].fillna(df['player_name'].mode().iloc[0])"
   ]
  },
  {
   "cell_type": "code",
   "execution_count": 57,
   "metadata": {},
   "outputs": [],
   "source": [
    "df['average_bitrate'] = df['average_bitrate'].fillna(df['average_bitrate'].mean())"
   ]
  },
  {
   "cell_type": "code",
   "execution_count": 60,
   "metadata": {},
   "outputs": [],
   "source": [
    "df.drop(columns='referrer',axis=1,inplace=True)"
   ]
  },
  {
   "cell_type": "code",
   "execution_count": 63,
   "metadata": {},
   "outputs": [
    {
     "data": {
      "image/png": "[encoded data removed]",
      "text/plain": [
       "<Figure size 750x600 with 1 Axes>"
      ]
     },
     "metadata": {
      "needs_background": "light"
     },
     "output_type": "display_data"
    }
   ],
   "source": [
    "missing_clm = missing_percentage(df)\n",
    "\n",
    "plt.figure(figsize=(10,8),dpi=75)\n",
    "sns.barplot(x=missing_clm.index,y=missing_clm)\n",
    "plt.xticks(rotation=90)\n",
    "plt.ylabel('Percentage')\n",
    "plt.xlabel('Features')\n",
    "plt.show()"
   ]
  },
  {
   "cell_type": "code",
   "execution_count": 65,
   "metadata": {},
   "outputs": [],
   "source": [
    "missing_column = ['city','utm_campaign','utm_source','utm_medium','genre_name','film_title','season_name','hash_film_id']\n",
    "df.drop(columns=missing_column,axis=1,inplace=True)"
   ]
  },
  {
   "cell_type": "code",
   "execution_count": 79,
   "metadata": {},
   "outputs": [],
   "source": [
    "df['os_name'].fillna('Other',inplace=True)"
   ]
  },
  {
   "cell_type": "code",
   "execution_count": 82,
   "metadata": {},
   "outputs": [],
   "source": [
    "df['os_name'] = df['os_name'].astype('category')"
   ]
  },
  {
   "cell_type": "code",
   "execution_count": 86,
   "metadata": {},
   "outputs": [],
   "source": [
    "df['browser_name'] = df['browser_name'].astype('object')\n",
    "df['browser_name'].fillna('Other',inplace=True)"
   ]
  },
  {
   "cell_type": "code",
   "execution_count": 89,
   "metadata": {},
   "outputs": [],
   "source": [
    "df['flash_version'] = df['flash_version'].fillna(df['flash_version'].mode().iloc[0])"
   ]
  },
  {
   "cell_type": "code",
   "execution_count": 92,
   "metadata": {},
   "outputs": [],
   "source": [
    "df['browser_version'].fillna(df['browser_version'].mode().iloc[0],inplace=True)"
   ]
  },
  {
   "cell_type": "code",
   "execution_count": 95,
   "metadata": {},
   "outputs": [],
   "source": [
    "df['completed'].fillna(df['completed'].mode().iloc[0],inplace=True)"
   ]
  },
  {
   "cell_type": "code",
   "execution_count": 96,
   "metadata": {},
   "outputs": [
    {
     "data": {
      "image/png": "[encoded data removed]",
      "text/plain": [
       "<Figure size 750x600 with 1 Axes>"
      ]
     },
     "metadata": {
      "needs_background": "light"
     },
     "output_type": "display_data"
    }
   ],
   "source": [
    "missing_clm = missing_percentage(df)\n",
    "\n",
    "plt.figure(figsize=(10,8),dpi=75)\n",
    "sns.barplot(x=missing_clm.index,y=missing_clm)\n",
    "plt.xticks(rotation=90)\n",
    "plt.ylabel('Percentage')\n",
    "plt.xlabel('Features')\n",
    "plt.show()"
   ]
  },
  {
   "cell_type": "code",
   "execution_count": 98,
   "metadata": {},
   "outputs": [],
   "source": [
    "df['autoplay'].fillna(df['autoplay'].mode().iloc[0],inplace=True)"
   ]
  },
  {
   "cell_type": "code",
   "execution_count": 100,
   "metadata": {},
   "outputs": [],
   "source": [
    "df['category_name'].fillna(df['category_name'].mode().iloc[0],inplace=True)"
   ]
  },
  {
   "cell_type": "code",
   "execution_count": 104,
   "metadata": {},
   "outputs": [],
   "source": [
    "df['stream_type'] = df['stream_type'].astype('object')\n",
    "df['stream_type'].fillna('RadioStream',inplace=True)\n",
    "df['stream_type'] = df['stream_type'].astype('category')"
   ]
  },
  {
   "cell_type": "code",
   "execution_count": 107,
   "metadata": {},
   "outputs": [],
   "source": [
    "df['app_version'].value_counts()\n",
    "df['app_version'].fillna(df['app_version'].mode().iloc[0],inplace=True)"
   ]
  },
  {
   "cell_type": "code",
   "execution_count": 111,
   "metadata": {},
   "outputs": [
    {
     "name": "stdout",
     "output_type": "stream",
     "text": [
      "<class 'pandas.core.frame.DataFrame'>\n",
      "Int64Index: 106406 entries, 0 to 106810\n",
      "Data columns (total 32 columns):\n",
      " #   Column             Non-Null Count   Dtype              \n",
      "---  ------             --------------   -----              \n",
      " 0   hash_content_id    106406 non-null  object             \n",
      " 1   hash_play_id       106406 non-null  object             \n",
      " 2   hash_visit_id      106406 non-null  object             \n",
      " 3   hash_watcher_id    106406 non-null  object             \n",
      " 4   hash_event_id      106406 non-null  object             \n",
      " 5   is_login           106406 non-null  bool               \n",
      " 6   playback_location  106406 non-null  object             \n",
      " 7   platform           106406 non-null  object             \n",
      " 8   play_time          106406 non-null  datetime64[ns, UTC]\n",
      " 9   end_time           106406 non-null  datetime64[ns, UTC]\n",
      " 10  average_bitrate    106406 non-null  float64            \n",
      " 11  bitrate_range      106406 non-null  object             \n",
      " 12  total_bytes        106406 non-null  int64              \n",
      " 13  buffer_duration    106406 non-null  float64            \n",
      " 14  referrer_group     106406 non-null  object             \n",
      " 15  completed          106406 non-null  bool               \n",
      " 16  player_name        106406 non-null  category           \n",
      " 17  has_ad             106406 non-null  category           \n",
      " 18  flash_version      106406 non-null  category           \n",
      " 19  os_name            106406 non-null  category           \n",
      " 20  os_version         106406 non-null  category           \n",
      " 21  browser_name       106406 non-null  object             \n",
      " 22  browser_version    106406 non-null  category           \n",
      " 23  app_name           106406 non-null  category           \n",
      " 24  autoplay           106406 non-null  category           \n",
      " 25  is_premium         106406 non-null  category           \n",
      " 26  app_version        106406 non-null  category           \n",
      " 27  play_duration      106406 non-null  int64              \n",
      " 28  content_type       106406 non-null  category           \n",
      " 29  stream_type        106406 non-null  category           \n",
      " 30  title              106406 non-null  object             \n",
      " 31  category_name      106406 non-null  category           \n",
      "dtypes: bool(2), category(13), datetime64[ns, UTC](2), float64(2), int64(2), object(11)\n",
      "memory usage: 16.4+ MB\n"
     ]
    }
   ],
   "source": [
    "df.info()"
   ]
  }
 ],
 "metadata": {
  "kernelspec": {
   "display_name": "Python 3",
   "language": "python",
   "name": "python3"
  },
  "language_info": {
   "codemirror_mode": {
    "name": "ipython",
    "version": 3
   },
   "file_extension": ".py",
   "mimetype": "text/x-python",
   "name": "python",
   "nbconvert_exporter": "python",
   "pygments_lexer": "ipython3",
   "version": "3.8.5"
  }
 },
 "nbformat": 4,
 "nbformat_minor": 4
}
