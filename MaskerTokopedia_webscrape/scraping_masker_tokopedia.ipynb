{
  "nbformat": 4,
  "nbformat_minor": 0,
  "metadata": {
    "colab": {
      "name": "scraping masker tokopedia ",
      "provenance": [],
      "collapsed_sections": []
    },
    "kernelspec": {
      "display_name": "Python 3",
      "name": "python3"
    },
    "language_info": {
      "name": "python"
    }
  },
  "cells": [
    {
      "cell_type": "code",
      "metadata": {
        "colab": {
          "base_uri": "https://localhost:8080/"
        },
        "id": "lJVp3aqSCPFB",
        "outputId": "19a9c7f5-3aed-4c56-dd6a-c5e551113d8f"
      },
      "source": [
        "!pip install -U selenium"
      ],
      "execution_count": null,
      "outputs": [
        {
          "output_type": "stream",
          "text": [
            "Collecting selenium\n",
            "\u001b[?25l  Downloading https://files.pythonhosted.org/packages/80/d6/4294f0b4bce4de0abf13e17190289f9d0613b0a44e5dd6a7f5ca98459853/selenium-3.141.0-py2.py3-none-any.whl (904kB)\n",
            "\u001b[K     |████████████████████████████████| 911kB 3.9MB/s \n",
            "\u001b[?25hRequirement already satisfied, skipping upgrade: urllib3 in /usr/local/lib/python3.7/dist-packages (from selenium) (1.24.3)\n",
            "Installing collected packages: selenium\n",
            "Successfully installed selenium-3.141.0\n"
          ],
          "name": "stdout"
        }
      ]
    },
    {
      "cell_type": "code",
      "metadata": {
        "id": "hN3ftyxrQ4aA"
      },
      "source": [
        "import re\n",
        "import pandas as pd\n",
        "from bs4 import BeautifulSoup\n",
        "import lxml\n",
        "import selenium\n",
        "from selenium import webdriver\n",
        "from selenium.webdriver.common.by import By\n",
        "from selenium.webdriver.common.keys import Keys\n",
        "from selenium.webdriver.support import expected_conditions as EC\n",
        "from selenium.webdriver.support.ui import WebDriverWait\n",
        "import requests\n",
        "import time\n",
        "import numpy as np\n",
        "import itertools\n",
        "import sys"
      ],
      "execution_count": null,
      "outputs": []
    },
    {
      "cell_type": "code",
      "metadata": {
        "colab": {
          "base_uri": "https://localhost:8080/"
        },
        "id": "7vObv_rtC2Q3",
        "outputId": "5cddf26d-ff69-42ce-83b6-33327495e019"
      },
      "source": [
        "!apt-get update # to update ubuntu to correctly run apt install\n",
        "!apt install chromium-chromedriver\n",
        "!cp /usr/lib/chromium-browser/chromedriver /usr/bin\n"
      ],
      "execution_count": null,
      "outputs": [
        {
          "output_type": "stream",
          "text": [
            "\r0% [Working]\r            \rGet:1 http://security.ubuntu.com/ubuntu bionic-security InRelease [88.7 kB]\n",
            "\r0% [Connecting to archive.ubuntu.com (91.189.88.142)] [1 InRelease 14.2 kB/88.7\r0% [Waiting for headers] [Waiting for headers] [Waiting for headers] [Waiting f\r                                                                               \rIgn:2 https://developer.download.nvidia.com/compute/cuda/repos/ubuntu1804/x86_64  InRelease\n",
            "\r0% [Waiting for headers] [Waiting for headers] [Waiting for headers] [Waiting f\r0% [1 InRelease gpgv 88.7 kB] [Waiting for headers] [Waiting for headers] [Wait\r                                                                               \rGet:3 https://cloud.r-project.org/bin/linux/ubuntu bionic-cran40/ InRelease [3,626 B]\n",
            "\r0% [1 InRelease gpgv 88.7 kB] [Waiting for headers] [3 InRelease 3,626 B/3,626 \r0% [1 InRelease gpgv 88.7 kB] [Waiting for headers] [Waiting for headers] [Wait\r                                                                               \rIgn:4 https://developer.download.nvidia.com/compute/machine-learning/repos/ubuntu1804/x86_64  InRelease\n",
            "\r                                                                               \r0% [1 InRelease gpgv 88.7 kB] [Waiting for headers] [Waiting for headers]\r                                                                         \rHit:5 http://archive.ubuntu.com/ubuntu bionic InRelease\n",
            "Get:6 http://ppa.launchpad.net/c2d4u.team/c2d4u4.0+/ubuntu bionic InRelease [15.9 kB]\n",
            "Get:7 https://developer.download.nvidia.com/compute/cuda/repos/ubuntu1804/x86_64  Release [697 B]\n",
            "Hit:8 https://developer.download.nvidia.com/compute/machine-learning/repos/ubuntu1804/x86_64  Release\n",
            "Get:9 https://developer.download.nvidia.com/compute/cuda/repos/ubuntu1804/x86_64  Release.gpg [836 B]\n",
            "Get:10 http://archive.ubuntu.com/ubuntu bionic-updates InRelease [88.7 kB]\n",
            "Hit:11 http://ppa.launchpad.net/cran/libgit2/ubuntu bionic InRelease\n",
            "Get:12 http://security.ubuntu.com/ubuntu bionic-security/universe amd64 Packages [1,412 kB]\n",
            "Get:13 http://archive.ubuntu.com/ubuntu bionic-backports InRelease [74.6 kB]\n",
            "Get:14 http://security.ubuntu.com/ubuntu bionic-security/restricted amd64 Packages [423 kB]\n",
            "Get:15 http://security.ubuntu.com/ubuntu bionic-security/main amd64 Packages [2,152 kB]\n",
            "Hit:16 http://ppa.launchpad.net/deadsnakes/ppa/ubuntu bionic InRelease\n",
            "Get:17 http://ppa.launchpad.net/graphics-drivers/ppa/ubuntu bionic InRelease [21.3 kB]\n",
            "Get:18 https://cloud.r-project.org/bin/linux/ubuntu bionic-cran40/ Packages [60.9 kB]\n",
            "Ign:20 https://developer.download.nvidia.com/compute/cuda/repos/ubuntu1804/x86_64  Packages\n",
            "Get:20 https://developer.download.nvidia.com/compute/cuda/repos/ubuntu1804/x86_64  Packages [798 kB]\n",
            "Get:21 http://ppa.launchpad.net/c2d4u.team/c2d4u4.0+/ubuntu bionic/main Sources [1,769 kB]\n",
            "Get:22 http://archive.ubuntu.com/ubuntu bionic-updates/main amd64 Packages [2,583 kB]\n",
            "Get:23 http://ppa.launchpad.net/c2d4u.team/c2d4u4.0+/ubuntu bionic/main amd64 Packages [905 kB]\n",
            "Get:24 http://archive.ubuntu.com/ubuntu bionic-updates/universe amd64 Packages [2,183 kB]\n",
            "Get:25 http://archive.ubuntu.com/ubuntu bionic-updates/restricted amd64 Packages [452 kB]\n",
            "Get:26 http://ppa.launchpad.net/graphics-drivers/ppa/ubuntu bionic/main amd64 Packages [41.5 kB]\n",
            "Fetched 13.1 MB in 4s (3,464 kB/s)\n",
            "Reading package lists... Done\n",
            "Reading package lists... Done\n",
            "Building dependency tree       \n",
            "Reading state information... Done\n",
            "The following package was automatically installed and is no longer required:\n",
            "  libnvidia-common-460\n",
            "Use 'apt autoremove' to remove it.\n",
            "The following additional packages will be installed:\n",
            "  chromium-browser chromium-browser-l10n chromium-codecs-ffmpeg-extra\n",
            "Suggested packages:\n",
            "  webaccounts-chromium-extension unity-chromium-extension\n",
            "The following NEW packages will be installed:\n",
            "  chromium-browser chromium-browser-l10n chromium-chromedriver\n",
            "  chromium-codecs-ffmpeg-extra\n",
            "0 upgraded, 4 newly installed, 0 to remove and 79 not upgraded.\n",
            "Need to get 86.6 MB of archives.\n",
            "After this operation, 300 MB of additional disk space will be used.\n",
            "Get:1 http://archive.ubuntu.com/ubuntu bionic-updates/universe amd64 chromium-codecs-ffmpeg-extra amd64 90.0.4430.93-0ubuntu0.18.04.1 [1,128 kB]\n",
            "Get:2 http://archive.ubuntu.com/ubuntu bionic-updates/universe amd64 chromium-browser amd64 90.0.4430.93-0ubuntu0.18.04.1 [76.9 MB]\n",
            "Get:3 http://archive.ubuntu.com/ubuntu bionic-updates/universe amd64 chromium-browser-l10n all 90.0.4430.93-0ubuntu0.18.04.1 [3,853 kB]\n",
            "Get:4 http://archive.ubuntu.com/ubuntu bionic-updates/universe amd64 chromium-chromedriver amd64 90.0.4430.93-0ubuntu0.18.04.1 [4,743 kB]\n",
            "Fetched 86.6 MB in 4s (23.4 MB/s)\n",
            "Selecting previously unselected package chromium-codecs-ffmpeg-extra.\n",
            "(Reading database ... 160706 files and directories currently installed.)\n",
            "Preparing to unpack .../chromium-codecs-ffmpeg-extra_90.0.4430.93-0ubuntu0.18.04.1_amd64.deb ...\n",
            "Unpacking chromium-codecs-ffmpeg-extra (90.0.4430.93-0ubuntu0.18.04.1) ...\n",
            "Selecting previously unselected package chromium-browser.\n",
            "Preparing to unpack .../chromium-browser_90.0.4430.93-0ubuntu0.18.04.1_amd64.deb ...\n",
            "Unpacking chromium-browser (90.0.4430.93-0ubuntu0.18.04.1) ...\n",
            "Selecting previously unselected package chromium-browser-l10n.\n",
            "Preparing to unpack .../chromium-browser-l10n_90.0.4430.93-0ubuntu0.18.04.1_all.deb ...\n",
            "Unpacking chromium-browser-l10n (90.0.4430.93-0ubuntu0.18.04.1) ...\n",
            "Selecting previously unselected package chromium-chromedriver.\n",
            "Preparing to unpack .../chromium-chromedriver_90.0.4430.93-0ubuntu0.18.04.1_amd64.deb ...\n",
            "Unpacking chromium-chromedriver (90.0.4430.93-0ubuntu0.18.04.1) ...\n",
            "Setting up chromium-codecs-ffmpeg-extra (90.0.4430.93-0ubuntu0.18.04.1) ...\n",
            "Setting up chromium-browser (90.0.4430.93-0ubuntu0.18.04.1) ...\n",
            "update-alternatives: using /usr/bin/chromium-browser to provide /usr/bin/x-www-browser (x-www-browser) in auto mode\n",
            "update-alternatives: using /usr/bin/chromium-browser to provide /usr/bin/gnome-www-browser (gnome-www-browser) in auto mode\n",
            "Setting up chromium-chromedriver (90.0.4430.93-0ubuntu0.18.04.1) ...\n",
            "Setting up chromium-browser-l10n (90.0.4430.93-0ubuntu0.18.04.1) ...\n",
            "Processing triggers for man-db (2.8.3-2ubuntu0.1) ...\n",
            "Processing triggers for hicolor-icon-theme (0.17-2) ...\n",
            "Processing triggers for mime-support (3.60ubuntu1) ...\n",
            "Processing triggers for libc-bin (2.27-3ubuntu1.2) ...\n",
            "/sbin/ldconfig.real: /usr/local/lib/python3.7/dist-packages/ideep4py/lib/libmkldnn.so.0 is not a symbolic link\n",
            "\n",
            "cp: '/usr/lib/chromium-browser/chromedriver' and '/usr/bin/chromedriver' are the same file\n"
          ],
          "name": "stdout"
        }
      ]
    },
    {
      "cell_type": "code",
      "metadata": {
        "id": "WnPDXkpuNzS7"
      },
      "source": [
        "sys.path.insert(0,'/usr/lib/chromium-browser/chromedriver')\n",
        "chrome_options = webdriver.ChromeOptions()\n",
        "chrome_options.add_argument('--headless')\n",
        "chrome_options.add_argument('--no-sandbox')\n",
        "chrome_options.add_argument('--disable-dev-shm-usage')\n",
        "chrome_options.add_argument(f'user-agent=Mozilla/5.0 (Windows NT 10.0; Win64; x64) AppleWebKit/537.36 (KHTML, like Gecko) Chrome/79.0.3945.79 Safari/537.36')"
      ],
      "execution_count": null,
      "outputs": []
    },
    {
      "cell_type": "code",
      "metadata": {
        "id": "0h6K0raHdVf5"
      },
      "source": [
        "driver = webdriver.Chrome('chromedriver',options=chrome_options)\n",
        "url = \"https://www.tokopedia.com/search?st=product&q=masker%20n95&navsource=home\"\n",
        "driver.get(url)\n",
        "elements_small = driver.find_elements_by_class_name('css-18c4yhp')\n",
        "driver.execute_script(\"return arguments[0].scrollIntoView();\", elements_small[-1])\n",
        "time.sleep(3)\n",
        "\n",
        "soup = BeautifulSoup(driver.page_source,'lxml')\n",
        "base_div = soup.find_all('div',{'class':'css-jza1fo'})\n",
        "name = []\n",
        "price = []\n",
        "rating = []\n",
        "for i in base_div:\n",
        "    nam = i.find_all('div',class_='css-18c4yhp')\n",
        "    pri = i.find_all('div',class_='css-rhd610')\n",
        "    rat = i.find_all('span',class_='css-etd83i')\n",
        "    for j,k,l in zip(nam,pri,rat):\n",
        "        name.append(j.text)\n",
        "        price.append(k.text)\n",
        "        if not l:\n",
        "            l = 'Null'\n",
        "        else:\n",
        "            l = l.text\n",
        "        rating.append(l)\n",
        "\n",
        "#price_class = base_div.find_all('div',class_='css-rhd610')\n",
        "#storeLoc_class = base_div.find_all('span',class_='css-4pwgpi')\n",
        "#rating_data = base_div.find_all('span',class_='css-etd83i')"
      ],
      "execution_count": null,
      "outputs": []
    },
    {
      "cell_type": "code",
      "metadata": {
        "colab": {
          "base_uri": "https://localhost:8080/"
        },
        "id": "7mY6JlaXOsmN",
        "outputId": "beceef54-58f7-46ad-d1d0-742b424c6d4e"
      },
      "source": [
        "print(len(name))\n",
        "print(len(price))\n",
        "print(len(rating))"
      ],
      "execution_count": null,
      "outputs": [
        {
          "output_type": "stream",
          "text": [
            "79\n",
            "79\n",
            "79\n"
          ],
          "name": "stdout"
        }
      ]
    },
    {
      "cell_type": "code",
      "metadata": {
        "id": "F4toqlagr3TQ"
      },
      "source": [
        "def scrape_tokopedia(url, export_csv=False, csv_name=None, csv_path=None, g_colabs=True, source=False):\n",
        "    import os\n",
        "    chrome_options = webdriver.ChromeOptions()\n",
        "    #run chrome w/o GUI\n",
        "    chrome_options.add_argument('--headless')\n",
        "    #no sandbox feature ONLY for trusted sites\n",
        "    chrome_options.add_argument('--no-sandbox')\n",
        "    #disable use RAM for temp storage\n",
        "    chrome_options.add_argument('--disable-dev-shm-usage')\n",
        "    #header argument\n",
        "    chrome_options.add_argument(f'user-agent=Mozilla/5.0 (Windows NT 10.0; Win64; x64) AppleWebKit/537.36 (KHTML, like Gecko) Chrome/79.0.3945.79 Safari/537.36')\n",
        "    \n",
        "    if g_colabs == True:\n",
        "        driver = webdriver.Chrome('chromedriver',options= chrome_options)\n",
        "    else:\n",
        "        driver = webdriver.Chrome()\n",
        "    \n",
        "    #request source code\n",
        "    driver.get(url)\n",
        "    #initial name before scroll\n",
        "    elements1 = driver.find_elements_by_class_name('css-18c4yhp')\n",
        "    #simulate scroll down\n",
        "    driver.execute_script(\"return arguments[0].scrollIntoView();\", elements1[-1])\n",
        "    time.sleep(3)\n",
        "    #all data should be complete in the first page\n",
        "    source = BeautifulSoup(driver.page_source,features='lxml')\n",
        "        \n",
        "    #base source code\n",
        "    base_div = source.find_all('div',class_='css-jza1fo')\n",
        "    name = []\n",
        "    price = []\n",
        "    rating = []\n",
        "    sold = []\n",
        "    for i in base_div:\n",
        "        #name container\n",
        "        nam = i.find_all('div',class_='css-18c4yhp')\n",
        "        #price container\n",
        "        pri = i.find_all('div',class_='css-rhd610')\n",
        "        #rating container\n",
        "        rat = i.find_all('span',class_='css-etd83i')\n",
        "        #sold info container\n",
        "        sol = i.find_all('span',class_='css-1kgbcz0')\n",
        "        for j,k,l,m in zip(nam,pri,rat,sol):\n",
        "            name.append(j.text)\n",
        "            price.append(k.text)\n",
        "            if not l and m:\n",
        "                l = 'Null'\n",
        "                m = 'Null'\n",
        "            else:\n",
        "                l = l.text\n",
        "                m = m.text\n",
        "            rating.append(l)\n",
        "            sold.append(m)\n",
        "        \n",
        "    df = pd.DataFrame({'Nama Produk':np.array(name),\n",
        "                    'Harga_IDR':np.array(price),\n",
        "                    'Rating':np.array(rating),\n",
        "                    'Terjual':np.array(sold)})\n",
        "        \n",
        "    if export_csv == True:\n",
        "        if csv_path is None:\n",
        "            #current working directory\n",
        "            temp_path = os.getcwd()\n",
        "            df.to_csv(str(temp_path)+'/'+str(csv_name),index_label=False)          \n",
        "        else:\n",
        "            df.to_csv(csv_path,index_label=False)\n",
        "    \n",
        "    if source == True:\n",
        "        return source,df\n",
        "    else:\n",
        "        return df"
      ],
      "execution_count": null,
      "outputs": []
    },
    {
      "cell_type": "code",
      "metadata": {
        "id": "d8pU9GsCtZMd"
      },
      "source": [
        "df = scrape_tokopedia(\"https://www.tokopedia.com/search?st=product&q=masker%20n95&navsource=home\",export_csv=True,csv_name='masker n95.csv')"
      ],
      "execution_count": null,
      "outputs": []
    },
    {
      "cell_type": "code",
      "metadata": {
        "colab": {
          "base_uri": "https://localhost:8080/",
          "height": 198
        },
        "id": "mY1s4lldMWKT",
        "outputId": "78b86b6d-2df9-467e-d62e-c6f71b1fd5a6"
      },
      "source": [
        "df.head()"
      ],
      "execution_count": null,
      "outputs": [
        {
          "output_type": "execute_result",
          "data": {
            "text/html": [
              "<div>\n",
              "<style scoped>\n",
              "    .dataframe tbody tr th:only-of-type {\n",
              "        vertical-align: middle;\n",
              "    }\n",
              "\n",
              "    .dataframe tbody tr th {\n",
              "        vertical-align: top;\n",
              "    }\n",
              "\n",
              "    .dataframe thead th {\n",
              "        text-align: right;\n",
              "    }\n",
              "</style>\n",
              "<table border=\"1\" class=\"dataframe\">\n",
              "  <thead>\n",
              "    <tr style=\"text-align: right;\">\n",
              "      <th></th>\n",
              "      <th>Nama Produk</th>\n",
              "      <th>Harga_IDR</th>\n",
              "      <th>Rating</th>\n",
              "      <th>Terjual</th>\n",
              "    </tr>\n",
              "  </thead>\n",
              "  <tbody>\n",
              "    <tr>\n",
              "      <th>0</th>\n",
              "      <td>Masker 3M N95 1870+ AURA Original 1 Box isi 20...</td>\n",
              "      <td>Rp355.000</td>\n",
              "      <td>4.8</td>\n",
              "      <td>Terjual 277</td>\n",
              "    </tr>\n",
              "    <tr>\n",
              "      <th>1</th>\n",
              "      <td>masker n95 3m respirator valve 9501V /9001V or...</td>\n",
              "      <td>Rp17.000</td>\n",
              "      <td>4.9</td>\n",
              "      <td>Terjual 13 rb</td>\n",
              "    </tr>\n",
              "    <tr>\n",
              "      <th>2</th>\n",
              "      <td>MASKER N95/ 3M / 1860 USA - USA</td>\n",
              "      <td>Rp175.000</td>\n",
              "      <td>4.7</td>\n",
              "      <td>Terjual 233</td>\n",
              "    </tr>\n",
              "    <tr>\n",
              "      <th>3</th>\n",
              "      <td>masker 3M 8210/masker N95</td>\n",
              "      <td>Rp240.000</td>\n",
              "      <td>4.9</td>\n",
              "      <td>Terjual 1,0 rb</td>\n",
              "    </tr>\n",
              "    <tr>\n",
              "      <th>4</th>\n",
              "      <td>Masker KN95 Masker 5 Ply N95 Masker KN 95 Mask...</td>\n",
              "      <td>Rp1.000</td>\n",
              "      <td>4.9</td>\n",
              "      <td>Terjual 40 rb</td>\n",
              "    </tr>\n",
              "  </tbody>\n",
              "</table>\n",
              "</div>"
            ],
            "text/plain": [
              "                                         Nama Produk  ...         Terjual\n",
              "0  Masker 3M N95 1870+ AURA Original 1 Box isi 20...  ...     Terjual 277\n",
              "1  masker n95 3m respirator valve 9501V /9001V or...  ...   Terjual 13 rb\n",
              "2                    MASKER N95/ 3M / 1860 USA - USA  ...     Terjual 233\n",
              "3                          masker 3M 8210/masker N95  ...  Terjual 1,0 rb\n",
              "4  Masker KN95 Masker 5 Ply N95 Masker KN 95 Mask...  ...   Terjual 40 rb\n",
              "\n",
              "[5 rows x 4 columns]"
            ]
          },
          "metadata": {
            "tags": []
          },
          "execution_count": 32
        }
      ]
    },
    {
      "cell_type": "code",
      "metadata": {
        "colab": {
          "base_uri": "https://localhost:8080/"
        },
        "id": "L1DCy7TDAPlM",
        "outputId": "7e717768-90aa-442f-d10b-ff5df58d29a4"
      },
      "source": [
        "df.info()"
      ],
      "execution_count": null,
      "outputs": [
        {
          "output_type": "stream",
          "text": [
            "<class 'pandas.core.frame.DataFrame'>\n",
            "RangeIndex: 79 entries, 0 to 78\n",
            "Data columns (total 4 columns):\n",
            " #   Column       Non-Null Count  Dtype \n",
            "---  ------       --------------  ----- \n",
            " 0   Nama Produk  79 non-null     object\n",
            " 1   Harga_IDR    79 non-null     object\n",
            " 2   Rating       79 non-null     object\n",
            " 3   Terjual      79 non-null     object\n",
            "dtypes: object(4)\n",
            "memory usage: 2.6+ KB\n"
          ],
          "name": "stdout"
        }
      ]
    },
    {
      "cell_type": "code",
      "metadata": {
        "colab": {
          "background_save": true
        },
        "id": "FtKPFoySMYt5"
      },
      "source": [
        "for i in range(2,25):\n",
        "    data = scrape_tokopedia(f'https://www.tokopedia.com/search?navsource=home&page={i}&q=masker%20n95&st=product')\n",
        "    df = df.append(data,ignore_index=False).reset_index(drop=True)"
      ],
      "execution_count": null,
      "outputs": []
    },
    {
      "cell_type": "code",
      "metadata": {
        "colab": {
          "base_uri": "https://localhost:8080/",
          "height": 407
        },
        "id": "2HvwSzr9NEiK",
        "outputId": "1ad9b204-d9d8-426a-c1fa-ecb9da1b7eac"
      },
      "source": [
        "df"
      ],
      "execution_count": null,
      "outputs": [
        {
          "output_type": "execute_result",
          "data": {
            "text/html": [
              "<div>\n",
              "<style scoped>\n",
              "    .dataframe tbody tr th:only-of-type {\n",
              "        vertical-align: middle;\n",
              "    }\n",
              "\n",
              "    .dataframe tbody tr th {\n",
              "        vertical-align: top;\n",
              "    }\n",
              "\n",
              "    .dataframe thead th {\n",
              "        text-align: right;\n",
              "    }\n",
              "</style>\n",
              "<table border=\"1\" class=\"dataframe\">\n",
              "  <thead>\n",
              "    <tr style=\"text-align: right;\">\n",
              "      <th></th>\n",
              "      <th>Nama Produk</th>\n",
              "      <th>Harga_IDR</th>\n",
              "      <th>Rating</th>\n",
              "      <th>Terjual</th>\n",
              "    </tr>\n",
              "  </thead>\n",
              "  <tbody>\n",
              "    <tr>\n",
              "      <th>0</th>\n",
              "      <td>Masker 3M N95 1870+ AURA Original 1 Box isi 20...</td>\n",
              "      <td>Rp355.000</td>\n",
              "      <td>4.8</td>\n",
              "      <td>Terjual 277</td>\n",
              "    </tr>\n",
              "    <tr>\n",
              "      <th>1</th>\n",
              "      <td>masker n95 3m respirator valve 9501V /9001V or...</td>\n",
              "      <td>Rp17.000</td>\n",
              "      <td>4.9</td>\n",
              "      <td>Terjual 13 rb</td>\n",
              "    </tr>\n",
              "    <tr>\n",
              "      <th>2</th>\n",
              "      <td>MASKER N95/ 3M / 1860 USA - USA</td>\n",
              "      <td>Rp175.000</td>\n",
              "      <td>4.7</td>\n",
              "      <td>Terjual 233</td>\n",
              "    </tr>\n",
              "    <tr>\n",
              "      <th>3</th>\n",
              "      <td>masker 3M 8210/masker N95</td>\n",
              "      <td>Rp240.000</td>\n",
              "      <td>4.9</td>\n",
              "      <td>Terjual 1,0 rb</td>\n",
              "    </tr>\n",
              "    <tr>\n",
              "      <th>4</th>\n",
              "      <td>Masker KN95 Masker 5 Ply N95 Masker KN 95 Mask...</td>\n",
              "      <td>Rp1.000</td>\n",
              "      <td>4.9</td>\n",
              "      <td>Terjual 40 rb</td>\n",
              "    </tr>\n",
              "    <tr>\n",
              "      <th>...</th>\n",
              "      <td>...</td>\n",
              "      <td>...</td>\n",
              "      <td>...</td>\n",
              "      <td>...</td>\n",
              "    </tr>\n",
              "    <tr>\n",
              "      <th>602</th>\n",
              "      <td>Masker KN95 Mas N95 Surgical 5ply KN N 95 pack...</td>\n",
              "      <td>Rp3.599</td>\n",
              "      <td>4.8</td>\n",
              "      <td>Terjual 33</td>\n",
              "    </tr>\n",
              "    <tr>\n",
              "      <th>603</th>\n",
              "      <td>MASKER 3M N95 9010 PUTIH MURAH</td>\n",
              "      <td>Rp55.000</td>\n",
              "      <td>5.0</td>\n",
              "      <td>Terjual 2</td>\n",
              "    </tr>\n",
              "    <tr>\n",
              "      <th>604</th>\n",
              "      <td>Filter Masker 3M 5N11CN Niosh N95 per Box isi ...</td>\n",
              "      <td>Rp90.000</td>\n",
              "      <td>5.0</td>\n",
              "      <td>Terjual 47</td>\n",
              "    </tr>\n",
              "    <tr>\n",
              "      <th>605</th>\n",
              "      <td>Masker N95 3M 9501V+ Original | Earloop Eceran...</td>\n",
              "      <td>Rp18.000</td>\n",
              "      <td>5.0</td>\n",
              "      <td>Terjual 245</td>\n",
              "    </tr>\n",
              "    <tr>\n",
              "      <th>606</th>\n",
              "      <td>Masker 3M 9542 KN95 Carbon Black N95 Headloop ...</td>\n",
              "      <td>Rp29.900</td>\n",
              "      <td>5.0</td>\n",
              "      <td>Terjual 1,4 rb</td>\n",
              "    </tr>\n",
              "  </tbody>\n",
              "</table>\n",
              "<p>607 rows × 4 columns</p>\n",
              "</div>"
            ],
            "text/plain": [
              "                                           Nama Produk  ...         Terjual\n",
              "0    Masker 3M N95 1870+ AURA Original 1 Box isi 20...  ...     Terjual 277\n",
              "1    masker n95 3m respirator valve 9501V /9001V or...  ...   Terjual 13 rb\n",
              "2                      MASKER N95/ 3M / 1860 USA - USA  ...     Terjual 233\n",
              "3                            masker 3M 8210/masker N95  ...  Terjual 1,0 rb\n",
              "4    Masker KN95 Masker 5 Ply N95 Masker KN 95 Mask...  ...   Terjual 40 rb\n",
              "..                                                 ...  ...             ...\n",
              "602  Masker KN95 Mas N95 Surgical 5ply KN N 95 pack...  ...      Terjual 33\n",
              "603                     MASKER 3M N95 9010 PUTIH MURAH  ...       Terjual 2\n",
              "604  Filter Masker 3M 5N11CN Niosh N95 per Box isi ...  ...      Terjual 47\n",
              "605  Masker N95 3M 9501V+ Original | Earloop Eceran...  ...     Terjual 245\n",
              "606  Masker 3M 9542 KN95 Carbon Black N95 Headloop ...  ...  Terjual 1,4 rb\n",
              "\n",
              "[607 rows x 4 columns]"
            ]
          },
          "metadata": {
            "tags": []
          },
          "execution_count": 42
        }
      ]
    }
  ]
}